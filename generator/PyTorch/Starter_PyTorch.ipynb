{
 "cells": [
  {
   "cell_type": "code",
   "execution_count": 18,
   "metadata": {},
   "outputs": [
    {
     "name": "stdout",
     "output_type": "stream",
     "text": [
      "The autoreload extension is already loaded. To reload it, use:\n",
      "  %reload_ext autoreload\n",
      "cuda\n"
     ]
    }
   ],
   "source": [
    "%load_ext autoreload\n",
    "%autoreload 2\n",
    "\n",
    "import os\n",
    "import datetime as dt\n",
    "\n",
    "import numpy as np\n",
    "import matplotlib.pyplot as plt\n",
    "\n",
    "import torch\n",
    "import torch.nn as nn\n",
    "\n",
    "import models\n",
    "import encoders\n",
    "import decoders\n",
    "from training import train, test, checkpoint, main_wandb, main_simple\n",
    "from dataloaders import load_data, make_loaders, append_SOS\n",
    "import utils\n",
    "\n",
    "import sys\n",
    "sys.path.insert(0, '/scratch/users/udemir15/ELEC491/bassline_transcription')\n",
    "from utilities import *\n",
    "\n",
    "from bassline_transcriber.transcription import NN_output_to_MIDI_file\n",
    "\n",
    "SEED = 27\n",
    "\n",
    "np.random.seed(SEED)\n",
    "torch.manual_seed(SEED)\n",
    "torch.cuda.manual_seed(SEED)\n",
    "torch.backends.cudnn.deterministic = True\n",
    "\n",
    "device = torch.device(\"cuda\" if torch.cuda.is_available() else \"cpu\")\n",
    "print(device)"
   ]
  },
  {
   "cell_type": "code",
   "execution_count": 17,
   "metadata": {
    "scrolled": true
   },
   "outputs": [
    {
     "name": "stdout",
     "output_type": "stream",
     "text": [
      "SOS token added.\n",
      "Number of classes: 27\n",
      "Sequence Length: 65\n",
      "Number of data points: 4020\n"
     ]
    }
   ],
   "source": [
    "M = 8\n",
    "\n",
    "data_params = {'dataset_path': '/scratch/users/udemir15/ELEC491/bassline_transcription/data/datasets/[28, 51]',\n",
    "               'dataset_name': 'TechHouse_bassline_representations_4020',\n",
    "               'scale_type': 'min',\n",
    "               'M': M}\n",
    "\n",
    "X, titles = load_data(data_params, True)\n",
    "\n",
    "K = int(X.max()+1) # Number of classes, assumes consecutive [0,max] inclusive\n",
    "sequence_length = X.shape[1]\n",
    "\n",
    "print('Number of classes: {}\\nSequence Length: {}'.format(K, sequence_length))\n",
    "print('Number of data points: {}'.format(X.shape[0]))"
   ]
  },
  {
   "cell_type": "markdown",
   "metadata": {},
   "source": [
    "frequencies = torch.tensor(np.unique(X, return_counts=True)).to(device)\n",
    "cross_entropy_weights = frequencies[1].max() / frequencies[1]\n",
    "cross_entropy_weights /= cross_entropy_weights.sum()\n",
    "print('Cross entropy weights:\\n{}\\n'.format(cross_entropy_weights))\n",
    "cross_entropy_weights = torch.FloatTensor(1 / (frequencies[1] / frequencies[1].max())).to(device)\n",
    "print(cross_entropy_weights)"
   ]
  },
  {
   "cell_type": "code",
   "execution_count": null,
   "metadata": {},
   "outputs": [],
   "source": [
    "train_params = {'batch_size': 32,\n",
    "               'N_epochs': 150,\n",
    "               'lr': 5e-4,\n",
    "               'teacher_forcing_ratio': 0.75}\n",
    "\n",
    "decoder_hidden_size = 64\n",
    "\n",
    "encoder_params = {'input_size': K,\n",
    "                  'embedding_size': 12,\n",
    "                  'hidden_size': 64,\n",
    "                  'output_size': decoder_hidden_size}\n",
    "\n",
    "decoder_params = {'output_size': K,\n",
    "                  'embedding_size': encoder_params['embedding_size'],\n",
    "                  'hidden_size': decoder_hidden_size}\n",
    "\n",
    "params = {'data': data_params,\n",
    "          'encoder': encoder_params,\n",
    "          'decoder':decoder_params, \n",
    "          'training':train_params}\n",
    "\n",
    "project_name = 'seq2seq_gru_attention'\n",
    "\n",
    "encoder = encoders.BidirectionalGRUEncoder(**encoder_params).to(device)\n",
    "decoder = decoders.GRUDecoderWithAttention(**decoder_params).to(device)\n",
    "\n",
    "model = models.Seq2SeqGRUWithAttention(encoder, decoder, device)\n",
    "\n",
    "print(model)\n",
    "print('Number of parameters: {}\\n'.format(sum([parameter.numel() for parameter in model.parameters()])))\n",
    "\n",
    "criterion = nn.CrossEntropyLoss(reduction='mean')\n",
    "optimizer = torch.optim.Adam(model.parameters(), lr=train_params['lr'])\n",
    "\n",
    "train_loader, test_loader = make_loaders(X, train_params['batch_size'])\n",
    "\n",
    "#main_wandb(model, criterion, optimizer, device, train_loader, test_loader, params, project_name)\n",
    "main_simple(model, criterion, optimizer, device, train_loader, test_loader, params)"
   ]
  },
  {
   "cell_type": "code",
   "execution_count": null,
   "metadata": {},
   "outputs": [],
   "source": [
    "def display_attention(sentence, translation, attention):\n",
    "    \n",
    "    fig = plt.figure(figsize=(10,10))\n",
    "    ax = fig.add_subplot(111)\n",
    "    \n",
    "    attention = attention.squeeze(1).cpu().detach().numpy()\n",
    "    a\n",
    "    cax = ax.matshow(attention, cmap='bone')\n",
    "   \n",
    "    ax.tick_params(labelsize=15)\n",
    "    \n",
    "    #x_ticks = [''] + ['<sos>'] + [t.lower() for t in sentence] + ['<eos>']\n",
    "    #y_ticks = [''] + translation\n",
    "     \n",
    "    #ax.set_xticklabels(x_ticks, rotation=45)\n",
    "    #ax.set_yticklabels(y_ticks)\n",
    "\n",
    "    #ax.xaxis.set_major_locator(ticker.MultipleLocator(1))\n",
    "    #ax.yaxis.set_major_locator(ticker.MultipleLocator(1))\n",
    "\n",
    "    plt.show()\n",
    "    plt.close()"
   ]
  },
  {
   "cell_type": "markdown",
   "metadata": {},
   "source": [
    "reconstruction, attention = reconstruct_bassline(model, bassline)"
   ]
  },
  {
   "cell_type": "code",
   "execution_count": null,
   "metadata": {},
   "outputs": [],
   "source": [
    "test_loss, test_acc = test(model, test_loader, criterion, device)\n",
    "samples = model.sample()\n",
    "\n",
    "for epoch in tqdm(range(train_params['N_epochs'])):\n",
    "\n",
    "    train_loss, train_acc = train(model, train_loader, optimizer, criterion, device)\n",
    "    validation_loss, validation_acc = test(model, validation_loader, criterion, device)\n",
    "    \n",
    "    model.decoder.update_teacher_forcing_ratio(decoder_params['teacher_forcing_ratio']/train_params['N_epochs'])\n",
    "    \n",
    "    if epoch+1 % 5:\n",
    "        print('Epoch: {}, train_loss: {:.6f}, acc: {:.3f}'.format(epoch+1, train_loss, train_acc))\n",
    "\n",
    "test_loss, test_acc = test(model, test_loader, criterion, device)\n",
    "print('Test Loss After Training: {:.6f}'.format(test_loss))"
   ]
  },
  {
   "cell_type": "code",
   "execution_count": null,
   "metadata": {},
   "outputs": [],
   "source": []
  },
  {
   "cell_type": "code",
   "execution_count": 7,
   "metadata": {},
   "outputs": [],
   "source": [
    "x = torch.load('model_checkpoints/03_06__22_55.pt')"
   ]
  },
  {
   "cell_type": "code",
   "execution_count": 11,
   "metadata": {},
   "outputs": [],
   "source": [
    "state_dict = utils.load_state_dict('03_06__22_55')"
   ]
  },
  {
   "cell_type": "code",
   "execution_count": null,
   "metadata": {},
   "outputs": [],
   "source": [
    "model = TheModelClass(*args, **kwargs)\n",
    "model.load_state_dict(torch.load(PATH))\n",
    "model.eval()"
   ]
  },
  {
   "cell_type": "markdown",
   "metadata": {},
   "source": [
    "# Simple Models"
   ]
  },
  {
   "cell_type": "code",
   "execution_count": null,
   "metadata": {},
   "outputs": [],
   "source": [
    "K"
   ]
  },
  {
   "cell_type": "code",
   "execution_count": null,
   "metadata": {},
   "outputs": [],
   "source": [
    "train_params = {'batch_size': 64,\n",
    "               'N_epochs': 150,\n",
    "               'lr': 5e-4,\n",
    "               'teacher_forcing_ratio': 0.75}\n",
    "\n",
    "encoder_params = {'input_size': K,\n",
    "                  'embedding_size': 12,\n",
    "                  'hidden_size': 16,\n",
    "                  'n_layers': 1}\n",
    "\n",
    "decoder_params = {'output_size': K,\n",
    "                  'embedding_size': encoder_params['embedding_size'],\n",
    "                  'hidden_size': encoder_params['hidden_size'],\n",
    "                 'n_layers': encoder_params['n_layers']}\n",
    "\n",
    "params = {'data': data_params,\n",
    "          'encoder': encoder_params,\n",
    "          'decoder':decoder_params, \n",
    "          'training':train_params}\n",
    "\n",
    "project_name = 'seq2seq_gru_simple'"
   ]
  },
  {
   "cell_type": "code",
   "execution_count": null,
   "metadata": {
    "scrolled": true
   },
   "outputs": [],
   "source": [
    "with open('Seq2SeqGRUSimple_params.json', 'w') as outfile:\n",
    "    json.dump(params, outfile, indent=4)"
   ]
  },
  {
   "cell_type": "code",
   "execution_count": null,
   "metadata": {},
   "outputs": [],
   "source": [
    "encoder = encoders.GRUEncoder(**encoder_params)\n",
    "decoder = decoders.SimpleGRUDecoder(**decoder_params)\n",
    "model = models.Seq2SeqGRUSimple(encoder, decoder, device).to(device)\n",
    "\n",
    "print(model)\n",
    "print('Number of parameters: {}\\n'.format(sum([parameter.numel() for parameter in model.parameters()])))\n",
    "\n",
    "criterion = nn.CrossEntropyLoss(reduction='mean')\n",
    "optimizer = torch.optim.Adam(model.parameters(), lr=train_params['lr'])\n",
    "\n",
    "train_loader, test_loader = make_loaders(X, train_params['batch_size'])"
   ]
  },
  {
   "cell_type": "code",
   "execution_count": null,
   "metadata": {},
   "outputs": [],
   "source": [
    "#main_simple(model, criterion, optimizer, device, train_loader, test_loader, params)\n",
    "main_wandb(model, criterion, optimizer, device, train_loader, test_loader, params, project_name)"
   ]
  },
  {
   "cell_type": "code",
   "execution_count": null,
   "metadata": {},
   "outputs": [],
   "source": [
    "#encoder = encoders.LSTMEncoder(**encoder_params)\n",
    "#decoder = decoders.SimpleLSTMDecoder(**decoder_params)\n",
    "#model = models.Seq2SeqLSTM(encoder, decoder, device).to(device)\n",
    "\n",
    "project_name = 'seq2seq_lstm_simple'"
   ]
  },
  {
   "cell_type": "markdown",
   "metadata": {},
   "source": [
    "encoder = encoders.GRUEncoder(**encoder_params)\n",
    "decoder = decoders.GRUDecoder(**decoder_params)\n",
    "model = models.Seq2SeqGRU(encoder, decoder, device).to(device)\n",
    "\n",
    "project_name = 'seq2seq_gru'"
   ]
  }
 ],
 "metadata": {
  "kernelspec": {
   "display_name": "Python 3",
   "language": "python",
   "name": "python3"
  },
  "language_info": {
   "codemirror_mode": {
    "name": "ipython",
    "version": 3
   },
   "file_extension": ".py",
   "mimetype": "text/x-python",
   "name": "python",
   "nbconvert_exporter": "python",
   "pygments_lexer": "ipython3",
   "version": "3.7.6"
  }
 },
 "nbformat": 4,
 "nbformat_minor": 5
}
