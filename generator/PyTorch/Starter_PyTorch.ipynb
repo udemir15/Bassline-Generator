{
 "cells": [
  {
   "cell_type": "markdown",
   "metadata": {},
   "source": [
    "!pip install editdistance"
   ]
  },
  {
   "cell_type": "code",
   "execution_count": 4,
   "metadata": {},
   "outputs": [
    {
     "name": "stdout",
     "output_type": "stream",
     "text": [
      "The autoreload extension is already loaded. To reload it, use:\n",
      "  %reload_ext autoreload\n",
      "cuda\n"
     ]
    }
   ],
   "source": [
    "%load_ext autoreload\n",
    "%autoreload 2\n",
    "\n",
    "import os\n",
    "import datetime as dt\n",
    "\n",
    "import numpy as np\n",
    "from tqdm import tqdm\n",
    "import matplotlib.pyplot as plt\n",
    "\n",
    "import torch\n",
    "import torch.nn as nn\n",
    "\n",
    "import models\n",
    "import encoders\n",
    "import decoders\n",
    "from training import train, test, checkpoint, main_wandb, main_simple\n",
    "from dataloaders import load_data, make_loaders, append_SOS\n",
    "\n",
    "\n",
    "SEED = 27\n",
    "\n",
    "np.random.seed(SEED)\n",
    "torch.manual_seed(SEED)\n",
    "torch.cuda.manual_seed(SEED)\n",
    "torch.backends.cudnn.deterministic = True\n",
    "\n",
    "device = torch.device(\"cuda\" if torch.cuda.is_available() else \"cpu\")\n",
    "print(device)"
   ]
  },
  {
   "cell_type": "code",
   "execution_count": 5,
   "metadata": {
    "scrolled": true
   },
   "outputs": [
    {
     "name": "stdout",
     "output_type": "stream",
     "text": [
      "Number of classes: 27\n",
      "Sequence Length: 65\n",
      "Number of data points: 4421\n"
     ]
    }
   ],
   "source": [
    "M = 8\n",
    "\n",
    "data_params = {'dataset_path': '/scratch/users/udemir15/ELEC491/bassline_transcription/data/datasets/[28, 51]',\n",
    "               'dataset_name': 'TechHouse_bassline_representations',\n",
    "               'scale_type': 'min',\n",
    "               'M': M}\n",
    "\n",
    "X, titles = load_data(data_params)\n",
    "X = append_SOS(X)\n",
    "\n",
    "K = X.max()+1 # Number of classes, assumes consecutive [0,max] inclusive\n",
    "sequence_length = X.shape[1]\n",
    "\n",
    "print('Number of classes: {}\\nSequence Length: {}'.format(K, sequence_length))\n",
    "print('Number of data points: {}'.format(X.shape[0]))"
   ]
  },
  {
   "cell_type": "code",
   "execution_count": null,
   "metadata": {},
   "outputs": [],
   "source": [
    "X.shape"
   ]
  },
  {
   "cell_type": "markdown",
   "metadata": {},
   "source": [
    "X = X[:8]"
   ]
  },
  {
   "cell_type": "markdown",
   "metadata": {},
   "source": [
    "frequencies = torch.tensor(np.unique(X, return_counts=True)).to(device)\n",
    "cross_entropy_weights = frequencies[1].max() / frequencies[1]\n",
    "cross_entropy_weights /= cross_entropy_weights.sum()\n",
    "print('Cross entropy weights:\\n{}\\n'.format(cross_entropy_weights))\n",
    "cross_entropy_weights = torch.FloatTensor(1 / (frequencies[1] / frequencies[1].max())).to(device)\n",
    "print(cross_entropy_weights)"
   ]
  },
  {
   "cell_type": "markdown",
   "metadata": {},
   "source": [
    "#encoder = encoders.LSTMEncoder(**encoder_params)\n",
    "#decoder = decoders.SimpleLSTMDecoder(**decoder_params)\n",
    "#model = models.Seq2SeqLSTM(encoder, decoder, device).to(device)\n",
    "\n",
    "encoder = encoders.GRUEncoder(**encoder_params)\n",
    "decoder = decoders.SimpleGRUDecoder(**decoder_params)\n",
    "model = models.Seq2SeqGRU(encoder, decoder, device).to(device)\n",
    "\n",
    "project_name = 'seq2seq_gru_simple'"
   ]
  },
  {
   "cell_type": "markdown",
   "metadata": {},
   "source": [
    "encoder = encoders.GRUEncoder(**encoder_params)\n",
    "decoder = decoders.GRUDecoder(**decoder_params)\n",
    "model = models.Seq2SeqGRU(encoder, decoder, device).to(device)\n",
    "\n",
    "project_name = 'seq2seq_gru'"
   ]
  },
  {
   "cell_type": "code",
   "execution_count": 28,
   "metadata": {
    "scrolled": true
   },
   "outputs": [
    {
     "name": "stdout",
     "output_type": "stream",
     "text": [
      "Seq2SeqGRUWithAttention(\n",
      "  (encoder): BidirectionalGRUEncoder(\n",
      "    (embedding): Embedding(27, 12)\n",
      "    (rnn): GRU(12, 64, batch_first=True, bidirectional=True)\n",
      "    (fc): Linear(in_features=128, out_features=64, bias=True)\n",
      "  )\n",
      "  (decoder): GRUDecoderWithAttention(\n",
      "    (attention): Attention(\n",
      "      (attn): Linear(in_features=91, out_features=64, bias=True)\n",
      "      (v): Linear(in_features=64, out_features=1, bias=False)\n",
      "    )\n",
      "    (embedding): Embedding(27, 12)\n",
      "    (rnn): GRU(39, 64, batch_first=True)\n",
      "    (fc_out): Linear(in_features=103, out_features=27, bias=True)\n",
      "  )\n",
      ")\n",
      "Number of parameters: 67776\n",
      "\n"
     ]
    },
    {
     "data": {
      "text/html": [
       "\n",
       "                Tracking run with wandb version 0.10.30<br/>\n",
       "                Syncing run <strong style=\"color:#cdcd00\">06_06__11_06</strong> to <a href=\"https://wandb.ai\" target=\"_blank\">Weights & Biases</a> <a href=\"https://docs.wandb.com/integrations/jupyter.html\" target=\"_blank\">(Documentation)</a>.<br/>\n",
       "                Project page: <a href=\"https://wandb.ai/nbg/seq2seq_gru_attention\" target=\"_blank\">https://wandb.ai/nbg/seq2seq_gru_attention</a><br/>\n",
       "                Run page: <a href=\"https://wandb.ai/nbg/seq2seq_gru_attention/runs/20q69rs4\" target=\"_blank\">https://wandb.ai/nbg/seq2seq_gru_attention/runs/20q69rs4</a><br/>\n",
       "                Run data is saved locally in <code>/scratch/users/udemir15/ELEC491/Bassline-Generator/generator/PyTorch/wandb/run-20210606_110637-20q69rs4</code><br/><br/>\n",
       "            "
      ],
      "text/plain": [
       "<IPython.core.display.HTML object>"
      ]
     },
     "metadata": {},
     "output_type": "display_data"
    },
    {
     "name": "stderr",
     "output_type": "stream",
     "text": [
      "\r",
      "  0%|          | 0/150 [00:00<?, ?it/s]"
     ]
    },
    {
     "name": "stdout",
     "output_type": "stream",
     "text": [
      "\n",
      "Before Training:\n",
      "Test Loss: 3.3426, Test Accuracy: 0.0120\n",
      "\n",
      "Sample:\n",
      "tensor([ 8,  0, 18, 10,  2, 24, 24, 24, 24, 24, 24, 24, 24, 24, 24, 24, 24, 24,\n",
      "        24, 24, 24, 24, 24, 24, 24, 24, 24, 24, 24, 24, 24, 24, 24, 24, 24, 24,\n",
      "        24, 24, 24, 24, 24, 24, 24, 24, 24, 24, 24, 24, 24, 24, 24, 24, 24, 24,\n",
      "        24, 24, 24, 24, 24, 24, 24, 24, 24,  7], device='cuda:0')\n",
      "\n"
     ]
    },
    {
     "name": "stderr",
     "output_type": "stream",
     "text": [
      "\r",
      "  1%|          | 1/150 [00:18<45:15, 18.23s/it]"
     ]
    },
    {
     "name": "stdout",
     "output_type": "stream",
     "text": [
      "Epoch: 0, train_loss: 2.310966, val_loss: 2.058720\n",
      "Sample:\n",
      "tensor([ 1, 26, 26, 26, 26, 26, 26, 26, 26, 26, 26, 26, 26, 26, 26, 26, 26, 26,\n",
      "        26, 26, 26, 26, 26, 26, 26, 26, 26, 26, 26, 26, 26, 26, 26, 26, 26, 26,\n",
      "        26, 26, 26, 26, 26, 26, 26, 26, 26, 26, 26, 26, 26, 26, 26, 26, 26, 26,\n",
      "        26, 26, 26, 26, 26, 26, 26, 26, 26, 26], device='cuda:0')\n"
     ]
    },
    {
     "name": "stderr",
     "output_type": "stream",
     "text": [
      " 17%|█▋        | 26/150 [05:42<26:55, 13.03s/it]"
     ]
    },
    {
     "name": "stdout",
     "output_type": "stream",
     "text": [
      "Epoch: 25, train_loss: 1.468580, val_loss: 1.758923\n"
     ]
    },
    {
     "name": "stderr",
     "output_type": "stream",
     "text": [
      " 34%|███▍      | 51/150 [11:04<21:15, 12.88s/it]"
     ]
    },
    {
     "name": "stdout",
     "output_type": "stream",
     "text": [
      "Epoch: 50, train_loss: 1.364143, val_loss: 1.773943\n",
      "Sample:\n",
      "tensor([ 1, 14, 14, 26, 14, 14, 14, 14, 14, 14, 14, 14,  1, 14, 14, 14,  1, 14,\n",
      "        14, 14,  1, 14, 14, 14,  1, 14, 14, 26, 14,  1, 14, 14,  1, 14, 14, 26,\n",
      "        14,  1, 14, 26,  1, 14, 14, 26,  1, 14, 14, 26,  1, 14, 26, 14,  1, 14,\n",
      "        26, 14,  1, 14, 26, 14,  1, 14, 26, 14], device='cuda:0')\n"
     ]
    },
    {
     "name": "stderr",
     "output_type": "stream",
     "text": [
      " 51%|█████     | 76/150 [16:26<15:51, 12.86s/it]"
     ]
    },
    {
     "name": "stdout",
     "output_type": "stream",
     "text": [
      "Epoch: 75, train_loss: 1.300270, val_loss: 1.784129\n"
     ]
    },
    {
     "name": "stderr",
     "output_type": "stream",
     "text": [
      " 67%|██████▋   | 101/150 [21:46<10:28, 12.83s/it]"
     ]
    },
    {
     "name": "stdout",
     "output_type": "stream",
     "text": [
      "Epoch: 100, train_loss: 1.354468, val_loss: 1.576984\n",
      "Sample:\n",
      "tensor([ 1, 14, 14, 14, 14, 14, 14, 14, 14, 14, 14, 14, 14, 14, 14, 14, 14, 14,\n",
      "        14, 14, 14, 14, 14, 14, 14, 14, 14, 14, 14, 14, 14, 14, 14, 14, 14, 14,\n",
      "        14, 26, 14, 14, 14,  1, 14, 14, 14, 14, 14,  1, 14, 14, 14, 26, 14, 14,\n",
      "        26,  1, 14, 14, 26, 14, 14,  1, 26, 14], device='cuda:0')\n"
     ]
    },
    {
     "name": "stderr",
     "output_type": "stream",
     "text": [
      " 84%|████████▍ | 126/150 [27:07<05:00, 12.53s/it]"
     ]
    },
    {
     "name": "stdout",
     "output_type": "stream",
     "text": [
      "Epoch: 125, train_loss: 1.337963, val_loss: 1.507991\n"
     ]
    },
    {
     "name": "stderr",
     "output_type": "stream",
     "text": [
      "100%|██████████| 150/150 [32:05<00:00, 12.84s/it]\n"
     ]
    },
    {
     "name": "stdout",
     "output_type": "stream",
     "text": [
      "\n",
      "After Training:\n"
     ]
    },
    {
     "data": {
      "text/html": [
       "<br/>Waiting for W&B process to finish, PID 95275<br/>Program failed with code 1.  Press ctrl-c to abort syncing."
      ],
      "text/plain": [
       "<IPython.core.display.HTML object>"
      ]
     },
     "metadata": {},
     "output_type": "display_data"
    },
    {
     "data": {
      "application/vnd.jupyter.widget-view+json": {
       "model_id": "",
       "version_major": 2,
       "version_minor": 0
      },
      "text/plain": [
       "VBox(children=(Label(value=' 0.00MB of 0.00MB uploaded (0.00MB deduped)\\r'), FloatProgress(value=1.0, max=1.0)…"
      ]
     },
     "metadata": {},
     "output_type": "display_data"
    },
    {
     "data": {
      "text/html": [
       "Find user logs for this run at: <code>/scratch/users/udemir15/ELEC491/Bassline-Generator/generator/PyTorch/wandb/run-20210606_110637-20q69rs4/logs/debug.log</code>"
      ],
      "text/plain": [
       "<IPython.core.display.HTML object>"
      ]
     },
     "metadata": {},
     "output_type": "display_data"
    },
    {
     "data": {
      "text/html": [
       "Find internal logs for this run at: <code>/scratch/users/udemir15/ELEC491/Bassline-Generator/generator/PyTorch/wandb/run-20210606_110637-20q69rs4/logs/debug-internal.log</code>"
      ],
      "text/plain": [
       "<IPython.core.display.HTML object>"
      ]
     },
     "metadata": {},
     "output_type": "display_data"
    },
    {
     "data": {
      "text/html": [
       "<h3>Run summary:</h3><br/><style>\n",
       "    table.wandb td:nth-child(1) { padding: 0 10px; text-align: right }\n",
       "    </style><table class=\"wandb\">\n",
       "<tr><td>test_loss</td><td>3.34261</td></tr><tr><td>test_accuracy</td><td>0.01204</td></tr><tr><td>_runtime</td><td>1938</td></tr><tr><td>_timestamp</td><td>1622968735</td></tr><tr><td>_step</td><td>153</td></tr><tr><td>train_loss</td><td>1.30147</td></tr><tr><td>train_accuracy</td><td>0.53201</td></tr><tr><td>validation_loss</td><td>1.48734</td></tr><tr><td>validation_acc</td><td>0.45483</td></tr><tr><td>teacher_forcing_ratio</td><td>0.29122</td></tr></table>"
      ],
      "text/plain": [
       "<IPython.core.display.HTML object>"
      ]
     },
     "metadata": {},
     "output_type": "display_data"
    },
    {
     "data": {
      "text/html": [
       "<h3>Run history:</h3><br/><style>\n",
       "    table.wandb td:nth-child(1) { padding: 0 10px; text-align: right }\n",
       "    </style><table class=\"wandb\">\n",
       "<tr><td>test_loss</td><td>▁</td></tr><tr><td>test_accuracy</td><td>▁</td></tr><tr><td>_runtime</td><td>▁▁▁▁▂▂▂▂▂▃▃▃▃▃▃▄▄▄▄▄▅▅▅▅▅▅▆▆▆▆▆▇▇▇▇▇▇███</td></tr><tr><td>_timestamp</td><td>▁▁▁▁▂▂▂▂▂▃▃▃▃▃▃▄▄▄▄▄▅▅▅▅▅▅▆▆▆▆▆▇▇▇▇▇▇███</td></tr><tr><td>_step</td><td>▁▁▁▁▂▂▂▂▂▃▃▃▃▃▃▄▄▄▄▄▅▅▅▅▅▅▆▆▆▆▆▇▇▇▇▇▇███</td></tr><tr><td>train_loss</td><td>█▇▅▄▄▃▃▃▂▂▂▂▂▂▂▁▁▁▁▁▁▁▁▁▁▂▂▂▂▂▂▂▁▁▁▁▁▁▁▁</td></tr><tr><td>train_accuracy</td><td>▁▂▃▄▄▅▅▆▆▆▇▇▇▇▇▇▇█████▇▇▇▆▆▆▆▆▆▆▆▆▆▆▆▇▇▇</td></tr><tr><td>validation_loss</td><td>█▇▆▅▅▅▄▅▅▅▅▅▅▅▅▅▅▅▅▅▅▅▄▃▃▃▂▂▂▁▂▁▁▁▁▁▁▁▁▁</td></tr><tr><td>validation_acc</td><td>▄▅▄▅▅▅▄▃▂▂▃▂▂▂▁▁▂▂▂▂▂▂▃▄▅▅▅▆▆▇▇▇▇███████</td></tr><tr><td>teacher_forcing_ratio</td><td>█████████████████████▇▆▅▄▃▃▂▁▁▁▁▁▁▁▁▁▁▁▁</td></tr></table><br/>"
      ],
      "text/plain": [
       "<IPython.core.display.HTML object>"
      ]
     },
     "metadata": {},
     "output_type": "display_data"
    },
    {
     "data": {
      "text/html": [
       "Synced 6 W&B file(s), 1 media file(s), 0 artifact file(s) and 0 other file(s)"
      ],
      "text/plain": [
       "<IPython.core.display.HTML object>"
      ]
     },
     "metadata": {},
     "output_type": "display_data"
    },
    {
     "data": {
      "text/html": [
       "\n",
       "                    <br/>Synced <strong style=\"color:#cdcd00\">06_06__11_06</strong>: <a href=\"https://wandb.ai/nbg/seq2seq_gru_attention/runs/20q69rs4\" target=\"_blank\">https://wandb.ai/nbg/seq2seq_gru_attention/runs/20q69rs4</a><br/>\n",
       "                "
      ],
      "text/plain": [
       "<IPython.core.display.HTML object>"
      ]
     },
     "metadata": {},
     "output_type": "display_data"
    },
    {
     "ename": "IndexError",
     "evalue": "tuple index out of range",
     "output_type": "error",
     "traceback": [
      "\u001b[0;31m---------------------------------------------------------------------------\u001b[0m",
      "\u001b[0;31mIndexError\u001b[0m                                Traceback (most recent call last)",
      "\u001b[0;32m<ipython-input-28-5cf716f9782c>\u001b[0m in \u001b[0;36m<module>\u001b[0;34m\u001b[0m\n\u001b[1;32m     36\u001b[0m \u001b[0mtrain_loader\u001b[0m\u001b[0;34m,\u001b[0m \u001b[0mvalidation_loader\u001b[0m\u001b[0;34m,\u001b[0m \u001b[0mtest_loader\u001b[0m \u001b[0;34m=\u001b[0m \u001b[0mmake_loaders\u001b[0m\u001b[0;34m(\u001b[0m\u001b[0mX\u001b[0m\u001b[0;34m,\u001b[0m \u001b[0mtrain_params\u001b[0m\u001b[0;34m)\u001b[0m\u001b[0;34m\u001b[0m\u001b[0;34m\u001b[0m\u001b[0m\n\u001b[1;32m     37\u001b[0m \u001b[0;34m\u001b[0m\u001b[0m\n\u001b[0;32m---> 38\u001b[0;31m \u001b[0mmain_wandb\u001b[0m\u001b[0;34m(\u001b[0m\u001b[0mmodel\u001b[0m\u001b[0;34m,\u001b[0m \u001b[0mcriterion\u001b[0m\u001b[0;34m,\u001b[0m \u001b[0moptimizer\u001b[0m\u001b[0;34m,\u001b[0m \u001b[0mdevice\u001b[0m\u001b[0;34m,\u001b[0m \u001b[0mtrain_loader\u001b[0m\u001b[0;34m,\u001b[0m \u001b[0mvalidation_loader\u001b[0m\u001b[0;34m,\u001b[0m \u001b[0mtest_loader\u001b[0m\u001b[0;34m,\u001b[0m \u001b[0mparams\u001b[0m\u001b[0;34m,\u001b[0m \u001b[0mproject_name\u001b[0m\u001b[0;34m)\u001b[0m\u001b[0;34m\u001b[0m\u001b[0;34m\u001b[0m\u001b[0m\n\u001b[0m\u001b[1;32m     39\u001b[0m \u001b[0;31m#main_simple(model, criterion, optimizer, device, train_loader, validation_loader, test_loader, params)\u001b[0m\u001b[0;34m\u001b[0m\u001b[0;34m\u001b[0m\u001b[0;34m\u001b[0m\u001b[0m\n",
      "\u001b[0;32m/scratch/users/udemir15/ELEC491/Bassline-Generator/generator/PyTorch/training.py\u001b[0m in \u001b[0;36mmain_wandb\u001b[0;34m(model, criterion, optimizer, device, train_loader, validation_loader, test_loader, params, project)\u001b[0m\n\u001b[1;32m     70\u001b[0m         \u001b[0msamples\u001b[0m \u001b[0;34m=\u001b[0m \u001b[0mmodel\u001b[0m\u001b[0;34m.\u001b[0m\u001b[0msample\u001b[0m\u001b[0;34m(\u001b[0m\u001b[0;34m)\u001b[0m\u001b[0;34m\u001b[0m\u001b[0;34m\u001b[0m\u001b[0m\n\u001b[1;32m     71\u001b[0m         \u001b[0mprint\u001b[0m\u001b[0;34m(\u001b[0m\u001b[0;34m'\\nAfter Training:'\u001b[0m\u001b[0;34m)\u001b[0m\u001b[0;34m\u001b[0m\u001b[0;34m\u001b[0m\u001b[0m\n\u001b[0;32m---> 72\u001b[0;31m         \u001b[0mprint\u001b[0m\u001b[0;34m(\u001b[0m\u001b[0;34m'Test Loss: {:.4f}, Test Accuracy: {:.4f} {}'\u001b[0m\u001b[0;34m.\u001b[0m\u001b[0mformat\u001b[0m\u001b[0;34m(\u001b[0m\u001b[0mtest_loss\u001b[0m\u001b[0;34m,\u001b[0m \u001b[0mtest_acc\u001b[0m\u001b[0;34m)\u001b[0m\u001b[0;34m)\u001b[0m\u001b[0;34m\u001b[0m\u001b[0;34m\u001b[0m\u001b[0m\n\u001b[0m\u001b[1;32m     73\u001b[0m         \u001b[0mprint\u001b[0m\u001b[0;34m(\u001b[0m\u001b[0;34m'\\nSample:\\n{}\\n'\u001b[0m\u001b[0;34m.\u001b[0m\u001b[0mformat\u001b[0m\u001b[0;34m(\u001b[0m\u001b[0msamples\u001b[0m\u001b[0;34m[\u001b[0m\u001b[0;36m0\u001b[0m\u001b[0;34m]\u001b[0m\u001b[0;34m)\u001b[0m\u001b[0;34m)\u001b[0m\u001b[0;34m\u001b[0m\u001b[0;34m\u001b[0m\u001b[0m\n\u001b[1;32m     74\u001b[0m         \u001b[0mwandb\u001b[0m\u001b[0;34m.\u001b[0m\u001b[0mlog\u001b[0m\u001b[0;34m(\u001b[0m\u001b[0;34m{\u001b[0m\u001b[0;34m'test_loss'\u001b[0m\u001b[0;34m:\u001b[0m \u001b[0mtest_loss\u001b[0m\u001b[0;34m,\u001b[0m \u001b[0;34m'test_accuracy'\u001b[0m\u001b[0;34m:\u001b[0m \u001b[0mtest_acc\u001b[0m\u001b[0;34m,\u001b[0m \u001b[0;34m'samples'\u001b[0m\u001b[0;34m:\u001b[0m \u001b[0msamples\u001b[0m\u001b[0;34m}\u001b[0m\u001b[0;34m)\u001b[0m\u001b[0;34m\u001b[0m\u001b[0;34m\u001b[0m\u001b[0m\n",
      "\u001b[0;31mIndexError\u001b[0m: tuple index out of range"
     ]
    }
   ],
   "source": [
    "train_params = {'batch_size': 32,\n",
    "               'N_epochs': 150,\n",
    "               'lr': 5e-4,\n",
    "               'teacher_forcing_ratio': 0.75}\n",
    "\n",
    "decoder_hidden_size = 64\n",
    "\n",
    "encoder_params = {'input_size': K,\n",
    "                  'embedding_size': 12,\n",
    "                  'hidden_size': 64,\n",
    "                  'output_size': decoder_hidden_size}\n",
    "\n",
    "decoder_params = {'output_size': K,\n",
    "                  'embedding_size': encoder_params['embedding_size'],\n",
    "                  #'encoder_hidden_size': encoder_params['hidden_size'],\n",
    "                  'hidden_size': decoder_hidden_size}\n",
    "\n",
    "params = {'data': data_params,\n",
    "          'encoder': encoder_params,\n",
    "          'decoder':decoder_params, \n",
    "          'training':train_params}\n",
    "\n",
    "project_name = 'seq2seq_gru_attention'\n",
    "\n",
    "encoder = encoders.BidirectionalGRUEncoder(**encoder_params).to(device)\n",
    "decoder = decoders.GRUDecoderWithAttention(**decoder_params).to(device)\n",
    "\n",
    "model = models.Seq2SeqGRUWithAttention(encoder, decoder, device)\n",
    "\n",
    "print(model)\n",
    "print('Number of parameters: {}\\n'.format(sum([parameter.numel() for parameter in model.parameters()])))\n",
    "\n",
    "criterion = nn.CrossEntropyLoss(reduction='mean')\n",
    "optimizer = torch.optim.Adam(model.parameters(), lr=train_params['lr'])\n",
    "\n",
    "train_loader, validation_loader, test_loader = make_loaders(X, train_params)\n",
    "\n",
    "main_wandb(model, criterion, optimizer, device, train_loader, validation_loader, test_loader, params, project_name)\n",
    "#main_simple(model, criterion, optimizer, device, train_loader, validation_loader, test_loader, params)"
   ]
  },
  {
   "cell_type": "code",
   "execution_count": null,
   "metadata": {},
   "outputs": [],
   "source": [
    "def display_attention(sentence, translation, attention):\n",
    "    \n",
    "    fig = plt.figure(figsize=(10,10))\n",
    "    ax = fig.add_subplot(111)\n",
    "    \n",
    "    attention = attention.squeeze(1).cpu().detach().numpy()\n",
    "    a\n",
    "    cax = ax.matshow(attention, cmap='bone')\n",
    "   \n",
    "    ax.tick_params(labelsize=15)\n",
    "    \n",
    "    #x_ticks = [''] + ['<sos>'] + [t.lower() for t in sentence] + ['<eos>']\n",
    "    #y_ticks = [''] + translation\n",
    "     \n",
    "    #ax.set_xticklabels(x_ticks, rotation=45)\n",
    "    #ax.set_yticklabels(y_ticks)\n",
    "\n",
    "    #ax.xaxis.set_major_locator(ticker.MultipleLocator(1))\n",
    "    #ax.yaxis.set_major_locator(ticker.MultipleLocator(1))\n",
    "\n",
    "    plt.show()\n",
    "    plt.close()"
   ]
  },
  {
   "cell_type": "code",
   "execution_count": null,
   "metadata": {},
   "outputs": [],
   "source": [
    "bassline = next(iter(train_loader))[0].to(device)"
   ]
  },
  {
   "cell_type": "code",
   "execution_count": null,
   "metadata": {},
   "outputs": [],
   "source": [
    "reconstruction, attention = reconstruct_bassline(model, bassline)"
   ]
  },
  {
   "cell_type": "code",
   "execution_count": null,
   "metadata": {},
   "outputs": [],
   "source": [
    "i=6\n",
    "display_attention(bassline[i], reconstruction[i], attention[i])"
   ]
  },
  {
   "cell_type": "code",
   "execution_count": null,
   "metadata": {},
   "outputs": [],
   "source": [
    "out, att = model(trg, trg, 0, True)"
   ]
  },
  {
   "cell_type": "code",
   "execution_count": null,
   "metadata": {},
   "outputs": [],
   "source": [
    "len(att)"
   ]
  },
  {
   "cell_type": "code",
   "execution_count": null,
   "metadata": {
    "scrolled": false
   },
   "outputs": [],
   "source": [
    "att[0].shape"
   ]
  },
  {
   "cell_type": "code",
   "execution_count": null,
   "metadata": {},
   "outputs": [],
   "source": [
    "test_loss, test_acc = test(model, test_loader, criterion, device)\n",
    "samples = model.sample()\n",
    "\n",
    "for epoch in tqdm(range(train_params['N_epochs'])):\n",
    "\n",
    "    train_loss, train_acc = train(model, train_loader, optimizer, criterion, device)\n",
    "    validation_loss, validation_acc = test(model, validation_loader, criterion, device)\n",
    "    \n",
    "    model.decoder.update_teacher_forcing_ratio(decoder_params['teacher_forcing_ratio']/train_params['N_epochs'])\n",
    "    \n",
    "    if epoch+1 % 5:\n",
    "        print('Epoch: {}, train_loss: {:.6f}, acc: {:.3f}'.format(epoch+1, train_loss, train_acc))\n",
    "\n",
    "test_loss, test_acc = test(model, test_loader, criterion, device)\n",
    "print('Test Loss After Training: {:.6f}'.format(test_loss))"
   ]
  },
  {
   "cell_type": "code",
   "execution_count": null,
   "metadata": {},
   "outputs": [],
   "source": []
  },
  {
   "cell_type": "code",
   "execution_count": null,
   "metadata": {},
   "outputs": [],
   "source": [
    "encoder_params = {'input_size': K,\n",
    "                  'embedding_size': 16,\n",
    "                  'hidden_size': 256,\n",
    "                  'n_layers': 1}\n",
    "\n",
    "train_params = {'batch_size': 32,\n",
    "               'N_epochs': 150,\n",
    "               'lr': 5e-4}"
   ]
  },
  {
   "cell_type": "code",
   "execution_count": null,
   "metadata": {},
   "outputs": [],
   "source": [
    "input_size  =K\n",
    "embedding_size = 12\n",
    "enc_hidden_size = 128\n",
    "dec_hidden_size = 100\n",
    "\n",
    "model = encoders.BidirectionalGRUEncoder(input_size, dec_hidden_size, embedding_size, enc_hidden_size)"
   ]
  },
  {
   "cell_type": "code",
   "execution_count": null,
   "metadata": {},
   "outputs": [],
   "source": [
    "train_loader, validation_loader, test_loader = make_loaders(X, train_params)\n",
    "\n",
    "batch = next(iter(train_loader))[0]"
   ]
  },
  {
   "cell_type": "code",
   "execution_count": null,
   "metadata": {},
   "outputs": [],
   "source": [
    "outputs, hidden = model(batch)"
   ]
  },
  {
   "cell_type": "code",
   "execution_count": null,
   "metadata": {},
   "outputs": [],
   "source": [
    "att = decoders.Attention(enc_hidden_size, dec_hidden_size)"
   ]
  }
 ],
 "metadata": {
  "kernelspec": {
   "display_name": "Python 3",
   "language": "python",
   "name": "python3"
  },
  "language_info": {
   "codemirror_mode": {
    "name": "ipython",
    "version": 3
   },
   "file_extension": ".py",
   "mimetype": "text/x-python",
   "name": "python",
   "nbconvert_exporter": "python",
   "pygments_lexer": "ipython3",
   "version": "3.7.6"
  }
 },
 "nbformat": 4,
 "nbformat_minor": 5
}
