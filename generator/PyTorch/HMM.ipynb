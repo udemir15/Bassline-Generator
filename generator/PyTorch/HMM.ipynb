{
 "cells": [
  {
   "cell_type": "markdown",
   "metadata": {},
   "source": [
    "!pip install editdistance"
   ]
  },
  {
   "cell_type": "code",
   "execution_count": 21,
   "metadata": {},
   "outputs": [
    {
     "name": "stdout",
     "output_type": "stream",
     "text": [
      "The autoreload extension is already loaded. To reload it, use:\n",
      "  %reload_ext autoreload\n",
      "cuda\n"
     ]
    }
   ],
   "source": [
    "%load_ext autoreload\n",
    "%autoreload 2\n",
    "\n",
    "import os, sys\n",
    "import datetime as dt\n",
    "\n",
    "import numpy as np\n",
    "from tqdm import tqdm\n",
    "import matplotlib.pyplot as plt\n",
    "\n",
    "import torch\n",
    "import torch.nn as nn\n",
    "\n",
    "import models\n",
    "import encoders\n",
    "import decoders\n",
    "#from training import train, test, checkpoint, main_wandb, main_simple\n",
    "from dataloaders import load_data, make_loaders, append_SOS\n",
    "\n",
    "\n",
    "project_dir = '/scratch/users/udemir15/ELEC491/bassline_transcription'\n",
    "sys.path.insert(0, project_dir)\n",
    "\n",
    "from utilities import *\n",
    "\n",
    "from bassline_transcriber.transcription import decode_NN_output\n",
    "from MIDI_output import create_MIDI_file\n",
    "\n",
    "\n",
    "SEED = 27\n",
    "\n",
    "np.random.seed(SEED)\n",
    "torch.manual_seed(SEED)\n",
    "torch.cuda.manual_seed(SEED)\n",
    "torch.backends.cudnn.deterministic = True\n",
    "\n",
    "device = torch.device(\"cuda\" if torch.cuda.is_available() else \"cpu\")\n",
    "print(device)"
   ]
  },
  {
   "cell_type": "code",
   "execution_count": 54,
   "metadata": {},
   "outputs": [],
   "source": [
    "from utilities import *"
   ]
  },
  {
   "cell_type": "markdown",
   "metadata": {},
   "source": [
    "!pip install hmmlearn"
   ]
  },
  {
   "cell_type": "code",
   "execution_count": 29,
   "metadata": {
    "scrolled": true
   },
   "outputs": [
    {
     "name": "stdout",
     "output_type": "stream",
     "text": [
      "Number of classes: 26\n",
      "Sequence Length: 64\n",
      "Number of data points: 4421\n"
     ]
    }
   ],
   "source": [
    "M = 8\n",
    "\n",
    "data_params = {'dataset_path': '/scratch/users/udemir15/ELEC491/bassline_transcription/data/datasets/[28, 51]',\n",
    "               'dataset_name': 'TechHouse_bassline_representations',\n",
    "               'scale_type': 'min',\n",
    "               'M': M}\n",
    "\n",
    "X, titles = load_data(data_params)\n",
    "\n",
    "K = X.max()+1 # Number of classes, assumes consecutive [0,max] inclusive\n",
    "sequence_length = X.shape[1]\n",
    "\n",
    "print('Number of classes: {}\\nSequence Length: {}'.format(K, sequence_length))\n",
    "print('Number of data points: {}'.format(X.shape[0]))"
   ]
  },
  {
   "cell_type": "code",
   "execution_count": 7,
   "metadata": {},
   "outputs": [
    {
     "data": {
      "text/plain": [
       "(4350, 128)"
      ]
     },
     "execution_count": 7,
     "metadata": {},
     "output_type": "execute_result"
    }
   ],
   "source": [
    "X.shape"
   ]
  },
  {
   "cell_type": "code",
   "execution_count": 4,
   "metadata": {},
   "outputs": [],
   "source": [
    "from hmmlearn.hmm import MultinomialHMM\n",
    "from sklearn.metrics import silhouette_score\n",
    "##silhouette_score(X,pred)"
   ]
  },
  {
   "cell_type": "code",
   "execution_count": 65,
   "metadata": {},
   "outputs": [],
   "source": [
    "hmm = MultinomialHMM(25, n_iter=100, verbose=True)"
   ]
  },
  {
   "cell_type": "code",
   "execution_count": 66,
   "metadata": {},
   "outputs": [
    {
     "name": "stderr",
     "output_type": "stream",
     "text": [
      "         1     -925755.9588             +nan\n",
      "         2     -577224.3674     +348531.5914\n",
      "         3     -576055.5558       +1168.8116\n",
      "         4     -574771.9979       +1283.5580\n",
      "         5     -573116.5109       +1655.4870\n",
      "         6     -570873.8142       +2242.6967\n",
      "         7     -567803.3213       +3070.4929\n",
      "         8     -563780.8777       +4022.4436\n",
      "         9     -559230.7354       +4550.1423\n",
      "        10     -555183.1357       +4047.5997\n",
      "        11     -552321.1427       +2861.9930\n",
      "        12     -550442.5702       +1878.5725\n",
      "        13     -549049.7636       +1392.8067\n",
      "        14     -547815.4249       +1234.3387\n",
      "        15     -546598.7601       +1216.6648\n",
      "        16     -545360.3313       +1238.4287\n",
      "        17     -544111.7170       +1248.6144\n",
      "        18     -542889.4274       +1222.2896\n",
      "        19     -541730.8003       +1158.6270\n",
      "        20     -540647.5808       +1083.2196\n",
      "        21     -539606.7829       +1040.7979\n",
      "        22     -538528.4237       +1078.3592\n",
      "        23     -537301.9819       +1226.4418\n",
      "        24     -535823.0360       +1478.9459\n",
      "        25     -534053.0970       +1769.9390\n",
      "        26     -532077.9439       +1975.1530\n",
      "        27     -530090.3111       +1987.6329\n",
      "        28     -528269.7780       +1820.5331\n",
      "        29     -526681.9475       +1587.8305\n",
      "        30     -525297.5557       +1384.3918\n",
      "        31     -524065.8496       +1231.7061\n",
      "        32     -522956.5144       +1109.3352\n",
      "        33     -521961.5564        +994.9580\n",
      "        34     -521081.9927        +879.5637\n",
      "        35     -520317.0897        +764.9029\n",
      "        36     -519660.5294        +656.5603\n",
      "        37     -519101.1026        +559.4268\n",
      "        38     -518624.9009        +476.2017\n",
      "        39     -518217.3639        +407.5370\n",
      "        40     -517864.6388        +352.7252\n",
      "        41     -517554.2492        +310.3896\n",
      "        42     -517275.2800        +278.9691\n",
      "        43     -517018.3204        +256.9596\n",
      "        44     -516775.3895        +242.9309\n",
      "        45     -516540.0469        +235.3425\n",
      "        46     -516307.8158        +232.2311\n",
      "        47     -516076.8020        +231.0138\n",
      "        48     -515847.9781        +228.8239\n",
      "        49     -515624.5017        +223.4764\n",
      "        50     -515410.2113        +214.2904\n",
      "        51     -515208.3218        +201.8895\n",
      "        52     -515020.9497        +187.3722\n",
      "        53     -514849.1011        +171.8486\n",
      "        54     -514692.6679        +156.4332\n",
      "        55     -514550.4622        +142.2057\n",
      "        56     -514420.4526        +130.0096\n",
      "        57     -514300.1591        +120.2935\n",
      "        58     -514187.0352        +113.1239\n",
      "        59     -514078.7233        +108.3119\n",
      "        60     -513973.1707        +105.5526\n",
      "        61     -513868.6457        +104.5250\n",
      "        62     -513763.6980        +104.9477\n",
      "        63     -513657.0952        +106.6027\n",
      "        64     -513547.7541        +109.3412\n",
      "        65     -513434.6754        +113.0787\n",
      "        66     -513316.8896        +117.7858\n",
      "        67     -513193.4177        +123.4720\n",
      "        68     -513063.2568        +130.1608\n",
      "        69     -512925.4085        +137.8484\n",
      "        70     -512778.9681        +146.4404\n",
      "        71     -512623.2956        +155.6725\n",
      "        72     -512458.2506        +165.0450\n",
      "        73     -512284.4165        +173.8341\n",
      "        74     -512103.1816        +181.2349\n",
      "        75     -511916.5647        +186.6169\n",
      "        76     -511726.7890        +189.7758\n",
      "        77     -511535.7430        +191.0459\n",
      "        78     -511344.5228        +191.2202\n",
      "        79     -511153.1970        +191.3258\n",
      "        80     -510960.8225        +192.3745\n",
      "        81     -510765.6177        +195.2048\n",
      "        82     -510565.1453        +200.4724\n",
      "        83     -510356.3861        +208.7592\n",
      "        84     -510135.6563        +220.7298\n",
      "        85     -509898.3753        +237.2810\n",
      "        86     -509638.7277        +259.6476\n",
      "        87     -509349.3111        +289.4165\n",
      "        88     -509020.9759        +328.3353\n",
      "        89     -508643.2849        +377.6910\n",
      "        90     -508206.3413        +436.9436\n",
      "        91     -507704.7295        +501.6119\n",
      "        92     -507142.9105        +561.8190\n",
      "        93     -506538.0245        +604.8859\n",
      "        94     -505914.4889        +623.5357\n",
      "        95     -505291.2300        +623.2589\n",
      "        96     -504671.4545        +619.7755\n",
      "        97     -504042.9556        +628.4989\n",
      "        98     -503387.2781        +655.6775\n",
      "        99     -502691.0088        +696.2693\n"
     ]
    },
    {
     "name": "stdout",
     "output_type": "stream",
     "text": [
      "True\n",
      "ConvergenceMonitor(\n",
      "    history=[-925755.9587753956, -577224.3674038842, -576055.5558279086, -574771.9978633412, -573116.5109050425, -570873.8142064767, -567803.3213031514, -563780.8776677409, -559230.7353753791, -555183.1356528824, -552321.1426871789, -550442.5702367916, -549049.7635746846, -547815.424891451, -546598.7600616371, -545360.3313426548, -544111.7169911034, -542889.4273623001, -541730.8003302331, -540647.5807712049, -539606.7828883288, -538528.4236706565, -537301.9818854539, -535823.0359678883, -534053.0969608193, -532077.9439363109, -530090.3110788506, -528269.778014226, -526681.9475412602, -525297.5557430293, -524065.8496330399, -522956.51443790866, -521961.55640456046, -521081.99266018503, -520317.0897436258, -519660.52943938755, -519101.1026222488, -518624.900895018, -518217.3639250089, -517864.63875888044, -517554.24915838725, -517275.28003189445, -517018.32038554037, -516775.38947405847, -516540.046940825, -516307.81581619085, -516076.8019885993, -515847.9781097559, -515624.5017270118, -515410.21128793707, -515208.32182050776, -515020.94965682796, -514849.1010509732, -514692.6678765447, -514550.46219843463, -514420.4526372386, -514300.1591108582, -514187.03519268305, -514078.72330729984, -513973.1707071195, -513868.6456832515, -513763.69798254577, -513657.0952391086, -513547.75406263664, -513434.67537808116, -513316.8896238169, -513193.41765074997, -513063.2568482426, -512925.40849007474, -512778.968096909, -512623.2955896164, -512458.25058461376, -512284.41649346694, -512103.18160689797, -511916.56470891094, -511726.78895618, -511535.7430148098, -511344.5228424941, -511153.19702235, -510960.8224817329, -510765.61771704984, -510565.14531980065, -510356.3860851013, -510135.65625884617, -509898.3752910987, -509638.7276551915, -509349.3111477481, -509020.97587331577, -508643.28489058965, -508206.3413371142, -507704.72945190064, -507142.9104622053, -506538.02452165185, -505914.488866336, -505291.2299517509, -504671.4544926209, -504042.9555880491, -503387.2780585278, -502691.0087529231, -501952.65841798973],\n",
      "    iter=100,\n",
      "    n_iter=100,\n",
      "    tol=0.01,\n",
      "    verbose=True,\n",
      ")\n"
     ]
    },
    {
     "name": "stderr",
     "output_type": "stream",
     "text": [
      "       100     -501952.6584        +738.3503\n"
     ]
    }
   ],
   "source": [
    "hmm.fit(X.reshape(-1,1), [64]*X.shape[0])\n",
    "\n",
    "print(hmm.monitor_.converged)\n",
    "\n",
    "print(hmm.monitor_)"
   ]
  },
  {
   "cell_type": "code",
   "execution_count": 56,
   "metadata": {},
   "outputs": [
    {
     "data": {
      "text/plain": [
       "True"
      ]
     },
     "execution_count": 56,
     "metadata": {},
     "output_type": "execute_result"
    }
   ],
   "source": [
    "hmm.monitor_.converged"
   ]
  },
  {
   "cell_type": "markdown",
   "metadata": {},
   "source": [
    "pred = hmm.predict(X)"
   ]
  },
  {
   "cell_type": "code",
   "execution_count": 48,
   "metadata": {},
   "outputs": [
    {
     "data": {
      "text/plain": [
       "ConvergenceMonitor(\n",
       "    history=[-900547.9834174844, -577580.7960102715, -576574.2808935986, -575581.3656861598, -574378.9234676844, -572663.6231316498, -570063.5901780436, -566322.3389531954, -561772.5935705422, -557467.7335203668],\n",
       "    iter=10,\n",
       "    n_iter=10,\n",
       "    tol=0.01,\n",
       "    verbose=False,\n",
       ")"
      ]
     },
     "execution_count": 48,
     "metadata": {},
     "output_type": "execute_result"
    }
   ],
   "source": []
  },
  {
   "cell_type": "code",
   "execution_count": 62,
   "metadata": {},
   "outputs": [
    {
     "name": "stdout",
     "output_type": "stream",
     "text": [
      "HMM OUTPUT:\n",
      "[ 0 25  6 11  7 16 25 25 10 25  0 25 25 25 25  6  0 12 25 25  0 25  8  0\n",
      " 25  9 25 25  0 16 25 25 13  0 25  9 25  0 25  8  0  2 25 25 25 25 25 20\n",
      " 25  0  0 25 21 11 25 21 25 25 25  0  0 25 25 21]\n",
      "\n",
      "CODE:\n",
      "[  0 100  33  38  34  43 100 100  37 100   0 100 100 100 100  33   0  39\n",
      " 100 100   0 100  35   0 100  36 100 100   0  43 100 100  40   0 100  36\n",
      " 100   0 100  35   0  29 100 100 100 100 100  47 100   0   0 100  48  38\n",
      " 100  48 100 100 100   0   0 100 100  48]\n",
      "\n",
      "SIL: 0, SUS: 100\n",
      "\n",
      "        Bar 0            Bar 1        \n",
      "Beat 0: [  0 100  33  38]   [  0  39 100 100]\n",
      "Beat 1: [ 34  43 100 100]   [  0 100  35   0]\n",
      "Beat 2: [ 37 100   0 100]   [100  36 100 100]\n",
      "Beat 3: [100 100 100  33]   [  0  43 100 100]\n",
      "\n",
      "        Bar 2            Bar 3        \n",
      "Beat 0: [ 40   0 100  36]   [100   0   0 100]\n",
      "Beat 1: [100   0 100  35]   [ 48  38 100  48]\n",
      "Beat 2: [  0  29 100 100]   [100 100 100   0]\n",
      "Beat 3: [100 100 100  47]   [  0 100 100  48]\n",
      "SIL: 0, SUS: 100\n",
      "\n",
      "       Beat 0           Beat 1       \n",
      "Bar 0: [  0 100  33  38]   [ 34  43 100 100]\n",
      "Bar 1: [  0  39 100 100]   [  0 100  35   0]\n",
      "Bar 2: [ 40   0 100  36]   [100   0 100  35]\n",
      "Bar 3: [100   0   0 100]   [ 48  38 100  48]\n",
      "\n",
      "       Beat 2           Beat 3       \n",
      "Bar 0: [ 37 100   0 100]   [100 100 100  33]\n",
      "Bar 1: [100  36 100 100]   [  0  43 100 100]\n",
      "Bar 2: [  0  29 100 100]   [100 100 100  47]\n",
      "Bar 3: [100 100 100   0]   [  0 100 100  48]\n"
     ]
    }
   ],
   "source": [
    "code = hmm.sample(64)[0].flatten()\n",
    "print('HMM OUTPUT:\\n{}'.format(code))\n",
    "midi_number_array = code_to_MIDI(code)\n",
    "print('\\nCODE:\\n{}\\n'.format(midi_number_array))\n",
    "\n",
    "print_beat_matrix(midi_number_array, M, SIL=0, SUS=100)\n",
    "print_transposed_beat_matrix(midi_number_array, M, SIL=0, SUS=100)"
   ]
  },
  {
   "cell_type": "code",
   "execution_count": 59,
   "metadata": {},
   "outputs": [],
   "source": [
    "midi_array = decode_NN_output(code_to_MIDI(bassline), 8, M, sustain_code=SUSTAIN_CODE)\n",
    "\n",
    "BPM = 125 \n",
    "\n",
    "create_MIDI_file(midi_array, BPM, 'lol5', midi_dir[str(M)])"
   ]
  },
  {
   "cell_type": "code",
   "execution_count": 23,
   "metadata": {},
   "outputs": [
    {
     "data": {
      "text/plain": [
       "-573585.5920598782"
      ]
     },
     "execution_count": 23,
     "metadata": {},
     "output_type": "execute_result"
    }
   ],
   "source": [
    "hmm.score(X.reshape(-1,1), [64]*X.shape[0])"
   ]
  },
  {
   "cell_type": "code",
   "execution_count": 25,
   "metadata": {},
   "outputs": [],
   "source": [
    "directories = get_directories(project_dir+'/data/directories.json')\n",
    "\n",
    "midi_dir = directories['midi']['generated']\n",
    "\n",
    "SUSTAIN = 25 \n",
    "SILENCE = 0\n",
    "\n",
    "#SOS = None\n",
    "MAX_NOTE = 51 \n",
    "MIN_NOTE = 28\n",
    "\n",
    "SILENCE_CODE = 0\n",
    "SUSTAIN_CODE = 100\n",
    "\n",
    "def code_to_MIDI(code):\n",
    "    # takes code in the form silence, note,..., sustain\n",
    "    X = code.copy()\n",
    "    \n",
    "    X[X!=0] += MIN_NOTE-1\n",
    "    \n",
    "    X[X==X.max()] = 100 # max will be the sustain\n",
    "        \n",
    "    return X"
   ]
  },
  {
   "cell_type": "code",
   "execution_count": 25,
   "metadata": {},
   "outputs": [
    {
     "name": "stdout",
     "output_type": "stream",
     "text": [
      "SIL: 0, SUS: 25\n",
      "\n",
      "        Bar 0            Bar 1        \n",
      "Beat 0: [ 0  9  6 25]   [ 0 15 25 11]\n",
      "Beat 1: [13  0  8  0]   [25 23 25 13]\n",
      "Beat 2: [25  0 17 25]   [25 15  0 25]\n",
      "Beat 3: [ 9 25  9 12]   [ 0 14 25 25]\n",
      "\n",
      "        Bar 2            Bar 3        \n",
      "Beat 0: [ 0  5 25 25]   [ 0 25  0 25]\n",
      "Beat 1: [25 25 12 25]   [ 0  0 25  0]\n",
      "Beat 2: [25  4 25 25]   [25  0  9 12]\n",
      "Beat 3: [21  0 25  9]   [25 21 25 25]\n"
     ]
    }
   ],
   "source": [
    "print_beat_matrix(bassline, M, SIL=0, SUS=25)"
   ]
  },
  {
   "cell_type": "code",
   "execution_count": 20,
   "metadata": {},
   "outputs": [],
   "source": [
    "def print_transposed_beat_matrix(representation, M, SIL=1, SUS=26, N_bars=4):\n",
    "    representation = representation.reshape((N_bars,4, 4*(8//M)))       \n",
    "    ppb = 32//M # points per beat, 32 comes from the pYIN frame size\n",
    "    tab = 2*ppb + (ppb-1)+ 2 # pretty print\n",
    "    print('SIL: {}, SUS: {}'.format(SIL, SUS))\n",
    "    for i in range(N_bars//2):\n",
    "        print('\\n{:>7}{:<{}}  {:<{}}'.format(' ','Beat {}'.format(2*i), tab+2, 'Beat {}'.format(2*i+1), tab))\n",
    "        for j in range(4):\n",
    "            print('Bar {}: {}   {}'.format(j, representation[j,2*i,:], representation[j,2*i+1,:]))\n",
    "            \n",
    "def print_beat_matrix(representation, M, SIL=1, SUS=26, N_bars=4):    \n",
    "    representation = representation.reshape((N_bars,4, 4*(8//M)))       \n",
    "    ppb = 32//M # points per beat, 32 comes from the pYIN frame size\n",
    "    tab = 2*ppb + (ppb-1)+ 2 # pretty print\n",
    "    print('SIL: {}, SUS: {}'.format(SIL, SUS))\n",
    "    for i in range(N_bars//2):\n",
    "        print('\\n{:>8}{:<{}}  {:<{}}'.format(' ','Bar {}'.format(2*i), tab+2, 'Bar {}'.format(2*i+1), tab))\n",
    "        for j in range(4):\n",
    "            print('Beat {}: {}   {}'.format(j, representation[2*i,j,:], representation[2*i+1,j,:]))"
   ]
  }
 ],
 "metadata": {
  "kernelspec": {
   "display_name": "Python 3",
   "language": "python",
   "name": "python3"
  },
  "language_info": {
   "codemirror_mode": {
    "name": "ipython",
    "version": 3
   },
   "file_extension": ".py",
   "mimetype": "text/x-python",
   "name": "python",
   "nbconvert_exporter": "python",
   "pygments_lexer": "ipython3",
   "version": "3.7.6"
  }
 },
 "nbformat": 4,
 "nbformat_minor": 5
}
