{
 "cells": [
  {
   "cell_type": "code",
   "execution_count": 3,
   "metadata": {},
   "outputs": [],
   "source": [
    "import os\n",
    "import sys\n",
    "import numpy as np\n",
    "import pandas as pd\n",
    "import matplotlib.pyplot as plt\n",
    "import pdb\n",
    "import tensorflow as tf\n",
    "import tensorflow.keras as keras\n",
    "from tensorflow.keras import backend as K\n",
    "from tensorflow.keras.backend import argmax, cast\n",
    "from tensorflow.keras.models import Sequential, Model, load_model\n",
    "from tensorflow.keras import layers\n",
    "from tensorflow.keras.layers import Dense, LSTM, GRU, Input, Embedding, RepeatVector, Reshape, Conv1D, MaxPooling1D, UpSampling1D, Bidirectional, Lambda, Flatten\n",
    "from tensorflow.keras.optimizers import Adam\n",
    "from sklearn.preprocessing import MinMaxScaler, StandardScaler\n",
    "from sklearn.metrics import mean_squared_error, accuracy_score\n",
    "from tensorflow.keras.callbacks import ReduceLROnPlateau, ModelCheckpoint\n",
    "from tensorflow.keras.layers import BatchNormalization\n",
    "from tensorflow.keras.regularizers import l2\n",
    "from tensorflow.keras.callbacks import TensorBoard\n",
    "from tensorflow.keras.utils import to_categorical\n",
    "from sklearn.impute import SimpleImputer\n",
    "from sklearn.model_selection import train_test_split\n",
    "import wandb\n",
    "from wandb.keras import WandbCallback"
   ]
  },
  {
   "cell_type": "code",
   "execution_count": 4,
   "metadata": {},
   "outputs": [],
   "source": [
    "M = 8\n",
    "\n",
    "minor_df = pd.read_csv(f\"Datasets/datasets/traxsource_0-5000_bassline_representations_min_M{M}.csv\", header=None)\n",
    "major_df = pd.read_csv(f\"Datasets/datasets/traxsource_0-5000_bassline_representations_maj_M{M}.csv\", header=None)"
   ]
  },
  {
   "cell_type": "code",
   "execution_count": 5,
   "metadata": {},
   "outputs": [
    {
     "data": {
      "text/plain": [
       "((3859, 65), (409, 65))"
      ]
     },
     "execution_count": 5,
     "metadata": {},
     "output_type": "execute_result"
    }
   ],
   "source": [
    "minor_df.shape, major_df.shape"
   ]
  },
  {
   "cell_type": "code",
   "execution_count": 6,
   "metadata": {},
   "outputs": [],
   "source": [
    "all_data = pd.concat((minor_df.iloc[:,1:].astype(int), major_df.iloc[:,1:].astype(int)))\n",
    "minor_data = minor_df.values[:,1:].astype(int)\n",
    "major_data = major_df.values[:,1:].astype(int)"
   ]
  },
  {
   "cell_type": "code",
   "execution_count": 7,
   "metadata": {},
   "outputs": [
    {
     "data": {
      "text/plain": [
       "array([[ 0, 37, 37, ..., 37, 37, 24],\n",
       "       [ 0, 37, 37, ..., 37, 37, 12],\n",
       "       [ 0, 12, 37, ...,  7, 37, 10],\n",
       "       ...,\n",
       "       [ 0, 12,  0, ...,  0, 37, 24],\n",
       "       [ 0, 37, 14, ..., 19,  0, 10],\n",
       "       [ 0, 37, 37, ..., 37, 37, 26]])"
      ]
     },
     "execution_count": 7,
     "metadata": {},
     "output_type": "execute_result"
    }
   ],
   "source": [
    "minor_data"
   ]
  },
  {
   "cell_type": "code",
   "execution_count": 8,
   "metadata": {},
   "outputs": [],
   "source": [
    "notes = np.unique(all_data)\n",
    "vocab = np.arange(len(notes))\n",
    "\n",
    "n2v_mapping = dict(zip(notes, vocab))\n",
    "v2n_mapping = dict(zip(vocab, notes))\n",
    "\n",
    "vocab_size = len(n2v_mapping)\n",
    "\n",
    "def replace_with_dict(ar, dic):\n",
    "    # Extract out keys and values\n",
    "    k = np.array(list(dic.keys()))\n",
    "    v = np.array(list(dic.values()))\n",
    "\n",
    "    # Get argsort indices\n",
    "    sidx = k.argsort()\n",
    "\n",
    "    # Drop the magic bomb with searchsorted to get the corresponding\n",
    "    # places for a in keys (using sorter since a is not necessarily sorted).\n",
    "    # Then trace it back to original order with indexing into sidx\n",
    "    # Finally index into values for desired output.\n",
    "    return v[sidx[np.searchsorted(k,ar,sorter=sidx)]]\n",
    "\n",
    "minor_data = replace_with_dict(minor_data, n2v_mapping).astype(int)\n",
    "major_data = replace_with_dict(major_data, n2v_mapping).astype(int)"
   ]
  },
  {
   "cell_type": "code",
   "execution_count": 9,
   "metadata": {},
   "outputs": [],
   "source": [
    "X_train, X_test, y_train, y_test = train_test_split(minor_data, minor_data, test_size=0.2, random_state=42)"
   ]
  },
  {
   "cell_type": "code",
   "execution_count": 10,
   "metadata": {},
   "outputs": [],
   "source": [
    "num_train = X_train.shape[0]\n",
    "num_test = X_test.shape[0]\n",
    "timesteps = X_train.shape[1]"
   ]
  },
  {
   "cell_type": "code",
   "execution_count": 11,
   "metadata": {},
   "outputs": [],
   "source": [
    "#def replace_continue(arr, cont_token):\n",
    "#    for r in arr:\n",
    "#        for idx, el in enumerate(r[1:]):\n",
    "#            if el == cont_token:\n",
    "#                r[idx + 1] = r[idx]\n",
    "#\n",
    "#cont_token = 35\n",
    "#\n",
    "#\n",
    "#replace_continue(X_train, cont_token)\n",
    "#replace_continue(y_train, cont_token)\n",
    "#replace_continue(X_test, cont_token)\n",
    "#replace_continue(y_test, cont_token)"
   ]
  },
  {
   "cell_type": "code",
   "execution_count": 12,
   "metadata": {},
   "outputs": [],
   "source": [
    "def one_hot_encode(arr, encode_length):\n",
    "    return np.eye(encode_length)[arr.astype(np.uint)]"
   ]
  },
  {
   "cell_type": "code",
   "execution_count": 13,
   "metadata": {},
   "outputs": [],
   "source": [
    "y_train = one_hot_encode(y_train, vocab_size)\n",
    "y_test = one_hot_encode(y_test, vocab_size)"
   ]
  },
  {
   "cell_type": "markdown",
   "metadata": {},
   "source": [
    "## Model 1: Embedding-LSTM Encoder, LSTM-Dense Decoder"
   ]
  },
  {
   "cell_type": "code",
   "execution_count": 12,
   "metadata": {},
   "outputs": [
    {
     "name": "stderr",
     "output_type": "stream",
     "text": [
      "wandb: Currently logged in as: udemir15 (use `wandb login --relogin` to force relogin)\n"
     ]
    },
    {
     "data": {
      "text/html": [
       "\n",
       "                Tracking run with wandb version 0.10.30<br/>\n",
       "                Syncing run <strong style=\"color:#cdcd00\">bumbling-monkey-3</strong> to <a href=\"https://wandb.ai\" target=\"_blank\">Weights & Biases</a> <a href=\"https://docs.wandb.com/integrations/jupyter.html\" target=\"_blank\">(Documentation)</a>.<br/>\n",
       "                Project page: <a href=\"https://wandb.ai/nbg/Keras_runs\" target=\"_blank\">https://wandb.ai/nbg/Keras_runs</a><br/>\n",
       "                Run page: <a href=\"https://wandb.ai/nbg/Keras_runs/runs/7qstfi85\" target=\"_blank\">https://wandb.ai/nbg/Keras_runs/runs/7qstfi85</a><br/>\n",
       "                Run data is saved locally in <code>/scratch/users/udemir15/Bassline-Generator/generator/wandb/run-20210523_165709-7qstfi85</code><br/><br/>\n",
       "            "
      ],
      "text/plain": [
       "<IPython.core.display.HTML object>"
      ]
     },
     "metadata": {},
     "output_type": "display_data"
    },
    {
     "data": {
      "text/html": [
       "<h1>Run(7qstfi85)</h1><iframe src=\"https://wandb.ai/nbg/Keras_runs/runs/7qstfi85\" style=\"border:none;width:100%;height:400px\"></iframe>"
      ],
      "text/plain": [
       "<wandb.sdk.wandb_run.Run at 0x2ba25c9d2b10>"
      ]
     },
     "execution_count": 12,
     "metadata": {},
     "output_type": "execute_result"
    }
   ],
   "source": [
    "wandb.init(project='Keras_runs', entity='nbg')"
   ]
  },
  {
   "cell_type": "code",
   "execution_count": 13,
   "metadata": {},
   "outputs": [],
   "source": [
    "name = 'NBG_lstm'"
   ]
  },
  {
   "cell_type": "code",
   "execution_count": 14,
   "metadata": {},
   "outputs": [],
   "source": [
    "#timesteps = 64  # Length of your sequences\n",
    "embed_size = 32\n",
    "latent_dim = 256\n",
    "dropout = 0\n",
    "\n",
    "inputs = Input(shape=(timesteps,))\n",
    "embedded = Embedding(vocab_size, embed_size)(inputs)\n",
    "#encoded = LSTM(latent_dim, return_sequences=True, dropout=dropout)(embedded)\n",
    "encoded = LSTM(latent_dim, dropout=dropout)(embedded)\n",
    "\n",
    "decoded = RepeatVector(timesteps)(encoded)\n",
    "#decoded = LSTM(latent_dim, return_sequences=True, dropout=dropout)(decoded)\n",
    "decoded = LSTM(latent_dim, return_sequences=True, dropout=dropout)(decoded)\n",
    "decoded = Dense(vocab_size, activation='softmax')(decoded)\n",
    "#decoded = argmax(decoded, axis=-1)\n",
    "#decoded = cast(decoded, float)\n",
    "#decoded = Reshape((decoded.shape[1], -1))(decoded)\n",
    "\n",
    "sequence_autoencoder = Model(inputs, decoded)"
   ]
  },
  {
   "cell_type": "code",
   "execution_count": 15,
   "metadata": {
    "scrolled": false
   },
   "outputs": [
    {
     "name": "stdout",
     "output_type": "stream",
     "text": [
      "Model: \"model\"\n",
      "_________________________________________________________________\n",
      "Layer (type)                 Output Shape              Param #   \n",
      "=================================================================\n",
      "input_1 (InputLayer)         [(None, 64)]              0         \n",
      "_________________________________________________________________\n",
      "embedding (Embedding)        (None, 64, 32)            1216      \n",
      "_________________________________________________________________\n",
      "lstm (LSTM)                  (None, 256)               295936    \n",
      "_________________________________________________________________\n",
      "repeat_vector (RepeatVector) (None, 64, 256)           0         \n",
      "_________________________________________________________________\n",
      "lstm_1 (LSTM)                (None, 64, 256)           525312    \n",
      "_________________________________________________________________\n",
      "dense (Dense)                (None, 64, 38)            9766      \n",
      "=================================================================\n",
      "Total params: 832,230\n",
      "Trainable params: 832,230\n",
      "Non-trainable params: 0\n",
      "_________________________________________________________________\n"
     ]
    }
   ],
   "source": [
    "sequence_autoencoder.summary()"
   ]
  },
  {
   "cell_type": "code",
   "execution_count": 16,
   "metadata": {},
   "outputs": [],
   "source": [
    "encoder = Model(inputs, encoded)\n",
    "# This is our encoded (32-dimensional) input\n",
    "encoded_input = Input(shape=(latent_dim,))\n",
    "# Retrieve the last layer of the autoencoder model\n",
    "decoder_layers = sequence_autoencoder.layers[-3:]\n",
    "decoded_input = decoder_layers[0](encoded_input)\n",
    "for decoder_layer in decoder_layers[1:]:\n",
    "    decoded_input = decoder_layer(decoded_input)\n",
    "# Create the decoder model\n",
    "decoder = Model(encoded_input, decoded_input)"
   ]
  },
  {
   "cell_type": "code",
   "execution_count": 17,
   "metadata": {},
   "outputs": [
    {
     "name": "stdout",
     "output_type": "stream",
     "text": [
      "Model: \"model_1\"\n",
      "_________________________________________________________________\n",
      "Layer (type)                 Output Shape              Param #   \n",
      "=================================================================\n",
      "input_1 (InputLayer)         [(None, 64)]              0         \n",
      "_________________________________________________________________\n",
      "embedding (Embedding)        (None, 64, 32)            1216      \n",
      "_________________________________________________________________\n",
      "lstm (LSTM)                  (None, 256)               295936    \n",
      "=================================================================\n",
      "Total params: 297,152\n",
      "Trainable params: 297,152\n",
      "Non-trainable params: 0\n",
      "_________________________________________________________________\n"
     ]
    }
   ],
   "source": [
    "encoder.summary()"
   ]
  },
  {
   "cell_type": "code",
   "execution_count": 18,
   "metadata": {},
   "outputs": [
    {
     "name": "stdout",
     "output_type": "stream",
     "text": [
      "Model: \"model_2\"\n",
      "_________________________________________________________________\n",
      "Layer (type)                 Output Shape              Param #   \n",
      "=================================================================\n",
      "input_2 (InputLayer)         [(None, 256)]             0         \n",
      "_________________________________________________________________\n",
      "repeat_vector (RepeatVector) (None, 64, 256)           0         \n",
      "_________________________________________________________________\n",
      "lstm_1 (LSTM)                (None, 64, 256)           525312    \n",
      "_________________________________________________________________\n",
      "dense (Dense)                (None, 64, 38)            9766      \n",
      "=================================================================\n",
      "Total params: 535,078\n",
      "Trainable params: 535,078\n",
      "Non-trainable params: 0\n",
      "_________________________________________________________________\n"
     ]
    }
   ],
   "source": [
    "decoder.summary()"
   ]
  },
  {
   "cell_type": "code",
   "execution_count": 19,
   "metadata": {},
   "outputs": [],
   "source": [
    "learning_rate = 5e-3\n",
    "epochs = 100\n",
    "batch_size = 32\n",
    "wandb.config.learning_rate = learning_rate\n",
    "wandb.config.epochs = epochs\n",
    "wandb.config.batch_size = batch_size\n",
    "wandb.config.model = name\n",
    "\n",
    "mc = ModelCheckpoint(f'Models/{name}.hdf5', monitor='val_loss')\n",
    "\n",
    "optimizer = Adam(learning_rate=learning_rate)\n",
    "\n",
    "sequence_autoencoder.compile(optimizer, loss='categorical_crossentropy')"
   ]
  },
  {
   "cell_type": "code",
   "execution_count": 20,
   "metadata": {},
   "outputs": [
    {
     "data": {
      "text/plain": [
       "{'learning_rate': 0.005, 'epochs': 100, 'batch_size': 32, 'model': 'NBG_lstm'}"
      ]
     },
     "execution_count": 20,
     "metadata": {},
     "output_type": "execute_result"
    }
   ],
   "source": [
    "wandb.config"
   ]
  },
  {
   "cell_type": "code",
   "execution_count": 22,
   "metadata": {
    "scrolled": true
   },
   "outputs": [
    {
     "name": "stdout",
     "output_type": "stream",
     "text": [
      "Epoch 1/100\n",
      "97/97 [==============================] - 8s 24ms/step - loss: 2.2310 - val_loss: 1.9224\n",
      "Epoch 2/100\n",
      "97/97 [==============================] - 1s 15ms/step - loss: 1.9374 - val_loss: 1.8408\n",
      "Epoch 3/100\n",
      "97/97 [==============================] - 1s 14ms/step - loss: 1.8269 - val_loss: 1.6880\n",
      "Epoch 4/100\n",
      "97/97 [==============================] - 1s 14ms/step - loss: 1.6794 - val_loss: 1.6212\n",
      "Epoch 5/100\n",
      "97/97 [==============================] - 1s 13ms/step - loss: 1.6113 - val_loss: 1.5569\n",
      "Epoch 6/100\n",
      "97/97 [==============================] - 1s 13ms/step - loss: 1.5436 - val_loss: 1.5130\n",
      "Epoch 7/100\n",
      "97/97 [==============================] - 1s 14ms/step - loss: 1.5024 - val_loss: 1.4817\n",
      "Epoch 8/100\n",
      "97/97 [==============================] - 1s 13ms/step - loss: 1.4607 - val_loss: 1.4572\n",
      "Epoch 9/100\n",
      "97/97 [==============================] - 1s 13ms/step - loss: 1.4485 - val_loss: 1.4305\n",
      "Epoch 10/100\n",
      "97/97 [==============================] - 1s 14ms/step - loss: 1.4468 - val_loss: 1.4359\n",
      "Epoch 11/100\n",
      "97/97 [==============================] - 1s 12ms/step - loss: 1.4331 - val_loss: 1.4165\n",
      "Epoch 12/100\n",
      "97/97 [==============================] - 1s 15ms/step - loss: 1.4058 - val_loss: 1.4083\n",
      "Epoch 13/100\n",
      "97/97 [==============================] - 1s 13ms/step - loss: 1.3857 - val_loss: 1.3928\n",
      "Epoch 14/100\n",
      "97/97 [==============================] - 1s 14ms/step - loss: 1.3758 - val_loss: 1.3876\n",
      "Epoch 15/100\n",
      "97/97 [==============================] - 2s 16ms/step - loss: 1.3594 - val_loss: 1.3774\n",
      "Epoch 16/100\n",
      "97/97 [==============================] - 1s 12ms/step - loss: 1.3663 - val_loss: 1.4302\n",
      "Epoch 17/100\n",
      "97/97 [==============================] - 1s 12ms/step - loss: 1.3949 - val_loss: 1.3823\n",
      "Epoch 18/100\n",
      "97/97 [==============================] - 1s 13ms/step - loss: 1.3571 - val_loss: 1.3696\n",
      "Epoch 19/100\n",
      "97/97 [==============================] - 1s 14ms/step - loss: 1.3458 - val_loss: 1.4022\n",
      "Epoch 20/100\n",
      "97/97 [==============================] - 1s 13ms/step - loss: 1.3684 - val_loss: 1.3476\n",
      "Epoch 21/100\n",
      "97/97 [==============================] - 1s 14ms/step - loss: 1.3094 - val_loss: 1.3240\n",
      "Epoch 22/100\n",
      "97/97 [==============================] - 1s 14ms/step - loss: 1.2872 - val_loss: 1.2952\n",
      "Epoch 23/100\n",
      "97/97 [==============================] - 1s 13ms/step - loss: 1.2880 - val_loss: 1.2862\n",
      "Epoch 24/100\n",
      "97/97 [==============================] - 1s 12ms/step - loss: 1.2698 - val_loss: 1.2835\n",
      "Epoch 25/100\n",
      "97/97 [==============================] - 1s 11ms/step - loss: 1.2299 - val_loss: 1.2530\n",
      "Epoch 26/100\n",
      "97/97 [==============================] - 1s 12ms/step - loss: 1.2367 - val_loss: 1.2433\n",
      "Epoch 27/100\n",
      "97/97 [==============================] - 1s 14ms/step - loss: 1.2049 - val_loss: 1.2521\n",
      "Epoch 28/100\n",
      "97/97 [==============================] - 1s 13ms/step - loss: 1.2040 - val_loss: 1.2890\n",
      "Epoch 29/100\n",
      "97/97 [==============================] - 1s 13ms/step - loss: 1.2395 - val_loss: 1.2382\n",
      "Epoch 30/100\n",
      "97/97 [==============================] - 1s 13ms/step - loss: 1.1867 - val_loss: 1.2285\n",
      "Epoch 31/100\n",
      "97/97 [==============================] - 1s 14ms/step - loss: 1.2147 - val_loss: 1.2362\n",
      "Epoch 32/100\n",
      "97/97 [==============================] - 1s 15ms/step - loss: 1.1996 - val_loss: 1.2170\n",
      "Epoch 33/100\n",
      "97/97 [==============================] - 1s 12ms/step - loss: 1.1746 - val_loss: 1.2321\n",
      "Epoch 34/100\n",
      "97/97 [==============================] - 1s 13ms/step - loss: 1.1577 - val_loss: 1.2402\n",
      "Epoch 35/100\n",
      "97/97 [==============================] - 1s 12ms/step - loss: 1.1634 - val_loss: 1.2078\n",
      "Epoch 36/100\n",
      "97/97 [==============================] - 1s 12ms/step - loss: 1.1303 - val_loss: 1.2078\n",
      "Epoch 37/100\n",
      "97/97 [==============================] - 1s 13ms/step - loss: 1.1197 - val_loss: 1.2174\n",
      "Epoch 38/100\n",
      "97/97 [==============================] - 1s 13ms/step - loss: 1.1286 - val_loss: 1.2238\n",
      "Epoch 39/100\n",
      "97/97 [==============================] - 1s 13ms/step - loss: 1.1050 - val_loss: 1.2083\n",
      "Epoch 40/100\n",
      "97/97 [==============================] - 1s 12ms/step - loss: 1.0925 - val_loss: 1.2174\n",
      "Epoch 41/100\n",
      "97/97 [==============================] - 1s 13ms/step - loss: 1.1188 - val_loss: 1.2272\n",
      "Epoch 42/100\n",
      "97/97 [==============================] - 1s 13ms/step - loss: 1.1278 - val_loss: 1.2443\n",
      "Epoch 43/100\n",
      "97/97 [==============================] - 1s 11ms/step - loss: 1.1246 - val_loss: 1.2151\n",
      "Epoch 44/100\n",
      "97/97 [==============================] - 1s 11ms/step - loss: 1.0776 - val_loss: 1.2270\n",
      "Epoch 45/100\n",
      "97/97 [==============================] - 1s 12ms/step - loss: 1.0795 - val_loss: 1.3403\n",
      "Epoch 46/100\n",
      "97/97 [==============================] - 1s 12ms/step - loss: 1.2497 - val_loss: 1.2580\n",
      "Epoch 47/100\n",
      "97/97 [==============================] - 1s 12ms/step - loss: 1.1193 - val_loss: 1.2365\n",
      "Epoch 48/100\n",
      "97/97 [==============================] - 1s 12ms/step - loss: 1.0975 - val_loss: 1.2323\n",
      "Epoch 49/100\n",
      "97/97 [==============================] - 1s 12ms/step - loss: 1.0642 - val_loss: 1.2274\n",
      "Epoch 50/100\n",
      "97/97 [==============================] - 1s 12ms/step - loss: 1.0582 - val_loss: 1.2332\n",
      "Epoch 51/100\n",
      "97/97 [==============================] - 1s 12ms/step - loss: 1.0390 - val_loss: 1.2417\n",
      "Epoch 52/100\n",
      "97/97 [==============================] - 1s 13ms/step - loss: 1.0089 - val_loss: 1.2498\n",
      "Epoch 53/100\n",
      "97/97 [==============================] - 1s 13ms/step - loss: 0.9982 - val_loss: 1.2378\n",
      "Epoch 54/100\n",
      "97/97 [==============================] - 1s 14ms/step - loss: 0.9673 - val_loss: 1.2493\n",
      "Epoch 55/100\n",
      "97/97 [==============================] - 1s 13ms/step - loss: 0.9549 - val_loss: 1.2693\n",
      "Epoch 56/100\n",
      "97/97 [==============================] - 1s 13ms/step - loss: 0.9391 - val_loss: 1.2906\n",
      "Epoch 57/100\n",
      "97/97 [==============================] - 1s 12ms/step - loss: 1.0058 - val_loss: 1.2777\n",
      "Epoch 58/100\n",
      "97/97 [==============================] - 1s 12ms/step - loss: 0.9628 - val_loss: 1.2724\n",
      "Epoch 59/100\n",
      "97/97 [==============================] - 1s 12ms/step - loss: 0.9346 - val_loss: 1.2967\n",
      "Epoch 60/100\n",
      "97/97 [==============================] - 1s 12ms/step - loss: 1.0242 - val_loss: 1.2745\n",
      "Epoch 61/100\n",
      "97/97 [==============================] - 1s 12ms/step - loss: 0.9583 - val_loss: 1.2936\n",
      "Epoch 62/100\n",
      "97/97 [==============================] - 1s 12ms/step - loss: 0.9477 - val_loss: 1.2958\n",
      "Epoch 63/100\n",
      "97/97 [==============================] - 1s 13ms/step - loss: 0.9425 - val_loss: 1.2999\n",
      "Epoch 64/100\n",
      "97/97 [==============================] - 1s 12ms/step - loss: 0.9723 - val_loss: 1.2917\n",
      "Epoch 65/100\n",
      "97/97 [==============================] - 1s 13ms/step - loss: 1.0209 - val_loss: 1.2981\n",
      "Epoch 66/100\n",
      "97/97 [==============================] - 1s 12ms/step - loss: 1.1213 - val_loss: 1.3160\n",
      "Epoch 67/100\n",
      "97/97 [==============================] - 1s 12ms/step - loss: 1.0536 - val_loss: 1.2804\n",
      "Epoch 68/100\n",
      "97/97 [==============================] - 1s 13ms/step - loss: 0.9769 - val_loss: 1.2791\n",
      "Epoch 69/100\n",
      "97/97 [==============================] - 1s 12ms/step - loss: 0.9364 - val_loss: 1.2907\n",
      "Epoch 70/100\n",
      "97/97 [==============================] - 1s 12ms/step - loss: 0.9034 - val_loss: 1.3023\n",
      "Epoch 71/100\n",
      "97/97 [==============================] - 1s 12ms/step - loss: 0.8901 - val_loss: 1.3144\n",
      "Epoch 72/100\n",
      "97/97 [==============================] - 1s 13ms/step - loss: 0.8862 - val_loss: 1.3269\n",
      "Epoch 73/100\n",
      "97/97 [==============================] - 1s 12ms/step - loss: 0.9054 - val_loss: 1.3279\n",
      "Epoch 74/100\n",
      "97/97 [==============================] - 1s 12ms/step - loss: 0.8769 - val_loss: 1.3367\n",
      "Epoch 75/100\n",
      "97/97 [==============================] - 1s 12ms/step - loss: 0.8593 - val_loss: 1.3537\n",
      "Epoch 76/100\n",
      "97/97 [==============================] - 1s 12ms/step - loss: 1.0038 - val_loss: 1.3372\n",
      "Epoch 77/100\n",
      "97/97 [==============================] - 1s 12ms/step - loss: 0.9418 - val_loss: 1.3393\n",
      "Epoch 78/100\n",
      "97/97 [==============================] - 1s 12ms/step - loss: 0.8820 - val_loss: 1.3541\n",
      "Epoch 79/100\n",
      "97/97 [==============================] - 1s 12ms/step - loss: 0.8488 - val_loss: 1.3622\n",
      "Epoch 80/100\n",
      "97/97 [==============================] - 1s 13ms/step - loss: 0.8323 - val_loss: 1.3689\n",
      "Epoch 81/100\n",
      "97/97 [==============================] - 1s 13ms/step - loss: 0.8186 - val_loss: 1.4012\n",
      "Epoch 82/100\n",
      "97/97 [==============================] - 1s 12ms/step - loss: 0.8139 - val_loss: 1.3977\n",
      "Epoch 83/100\n",
      "97/97 [==============================] - 1s 12ms/step - loss: 0.8060 - val_loss: 1.4223\n",
      "Epoch 84/100\n",
      "97/97 [==============================] - 1s 12ms/step - loss: 0.8023 - val_loss: 1.4048\n",
      "Epoch 85/100\n",
      "97/97 [==============================] - 1s 12ms/step - loss: 0.8432 - val_loss: 1.4362\n",
      "Epoch 86/100\n",
      "97/97 [==============================] - 1s 14ms/step - loss: 0.8965 - val_loss: 1.3970\n",
      "Epoch 87/100\n",
      "97/97 [==============================] - 1s 12ms/step - loss: 0.8269 - val_loss: 1.4045\n",
      "Epoch 88/100\n",
      "97/97 [==============================] - 1s 12ms/step - loss: 0.7985 - val_loss: 1.4230\n",
      "Epoch 89/100\n",
      "97/97 [==============================] - 1s 13ms/step - loss: 0.7913 - val_loss: 1.4300\n",
      "Epoch 90/100\n",
      "97/97 [==============================] - 1s 13ms/step - loss: 0.8237 - val_loss: 1.4032\n",
      "Epoch 91/100\n",
      "97/97 [==============================] - 1s 12ms/step - loss: 0.9283 - val_loss: 1.3973\n",
      "Epoch 92/100\n",
      "97/97 [==============================] - 1s 12ms/step - loss: 0.8601 - val_loss: 1.3962\n",
      "Epoch 93/100\n",
      "97/97 [==============================] - 1s 12ms/step - loss: 0.8569 - val_loss: 1.3949\n",
      "Epoch 94/100\n",
      "97/97 [==============================] - 1s 12ms/step - loss: 0.8733 - val_loss: 1.4148\n",
      "Epoch 95/100\n",
      "97/97 [==============================] - 1s 12ms/step - loss: 0.8189 - val_loss: 1.4159\n",
      "Epoch 96/100\n",
      "97/97 [==============================] - 1s 14ms/step - loss: 0.7794 - val_loss: 1.4359\n",
      "Epoch 97/100\n",
      "97/97 [==============================] - 1s 12ms/step - loss: 0.7627 - val_loss: 1.4534\n",
      "Epoch 98/100\n",
      "97/97 [==============================] - 1s 12ms/step - loss: 0.9155 - val_loss: 1.4093\n",
      "Epoch 99/100\n",
      "97/97 [==============================] - 1s 12ms/step - loss: 0.8935 - val_loss: 1.4091\n",
      "Epoch 100/100\n",
      "97/97 [==============================] - 1s 13ms/step - loss: 0.8066 - val_loss: 1.4231\n"
     ]
    }
   ],
   "source": [
    "hist = sequence_autoencoder.fit(X_train, y_train,\n",
    "                epochs=epochs,\n",
    "                batch_size=batch_size,\n",
    "                shuffle=True,\n",
    "                validation_data=(X_test, y_test),\n",
    "                callbacks=[mc, WandbCallback()])"
   ]
  },
  {
   "cell_type": "code",
   "execution_count": 23,
   "metadata": {
    "scrolled": true
   },
   "outputs": [
    {
     "data": {
      "image/png": "[encoded data removed]",
      "text/plain": [
       "<Figure size 1440x432 with 1 Axes>"
      ]
     },
     "metadata": {
      "needs_background": "light"
     },
     "output_type": "display_data"
    }
   ],
   "source": [
    "plt.figure(figsize=(20, 6))\n",
    "\n",
    "plt.plot(hist.history['loss'], label='training')\n",
    "plt.plot(hist.history['val_loss'], label='testing')\n",
    "plt.legend()\n",
    "\n",
    "plt.savefig(f'figures/{name}', dpi=400)"
   ]
  },
  {
   "cell_type": "code",
   "execution_count": 24,
   "metadata": {},
   "outputs": [],
   "source": [
    "sequence_autoencoder = load_model(f'Models/{name}.hdf5')"
   ]
  },
  {
   "cell_type": "code",
   "execution_count": 25,
   "metadata": {
    "scrolled": true
   },
   "outputs": [
    {
     "data": {
      "text/plain": [
       "0.686771137026239"
      ]
     },
     "execution_count": 25,
     "metadata": {},
     "output_type": "execute_result"
    }
   ],
   "source": [
    "preds = sequence_autoencoder.predict(X_train).argmax(axis=-1)\n",
    "accuracy_score(y_train.argmax(-1).reshape(-1), preds.reshape(-1))"
   ]
  },
  {
   "cell_type": "code",
   "execution_count": 26,
   "metadata": {},
   "outputs": [
    {
     "data": {
      "text/plain": [
       "0.5255424222797928"
      ]
     },
     "execution_count": 26,
     "metadata": {},
     "output_type": "execute_result"
    }
   ],
   "source": [
    "preds = sequence_autoencoder.predict(X_test).argmax(axis=-1)\n",
    "accuracy_score(y_test.argmax(-1).reshape(-1), preds.reshape(-1))"
   ]
  },
  {
   "cell_type": "markdown",
   "metadata": {},
   "source": [
    "## Model 2: Embedding-BiLSTM-BiLSTM Encoder, LSTM-Dense Decoder"
   ]
  },
  {
   "cell_type": "code",
   "execution_count": 27,
   "metadata": {},
   "outputs": [
    {
     "data": {
      "text/html": [
       "Finishing last run (ID:7qstfi85) before initializing another..."
      ],
      "text/plain": [
       "<IPython.core.display.HTML object>"
      ]
     },
     "metadata": {},
     "output_type": "display_data"
    },
    {
     "data": {
      "text/html": [
       "<br/>Waiting for W&B process to finish, PID 206711<br/>Program ended successfully."
      ],
      "text/plain": [
       "<IPython.core.display.HTML object>"
      ]
     },
     "metadata": {},
     "output_type": "display_data"
    },
    {
     "data": {
      "application/vnd.jupyter.widget-view+json": {
       "model_id": "",
       "version_major": 2,
       "version_minor": 0
      },
      "text/plain": [
       "VBox(children=(Label(value=' 9.57MB of 9.57MB uploaded (0.00MB deduped)\\r'), FloatProgress(value=1.0, max=1.0)…"
      ]
     },
     "metadata": {},
     "output_type": "display_data"
    },
    {
     "data": {
      "text/html": [
       "Find user logs for this run at: <code>/scratch/users/udemir15/Bassline-Generator/generator/wandb/run-20210523_165709-7qstfi85/logs/debug.log</code>"
      ],
      "text/plain": [
       "<IPython.core.display.HTML object>"
      ]
     },
     "metadata": {},
     "output_type": "display_data"
    },
    {
     "data": {
      "text/html": [
       "Find internal logs for this run at: <code>/scratch/users/udemir15/Bassline-Generator/generator/wandb/run-20210523_165709-7qstfi85/logs/debug-internal.log</code>"
      ],
      "text/plain": [
       "<IPython.core.display.HTML object>"
      ]
     },
     "metadata": {},
     "output_type": "display_data"
    },
    {
     "data": {
      "text/html": [
       "<h3>Run summary:</h3><br/><style>\n",
       "    table.wandb td:nth-child(1) { padding: 0 10px; text-align: right }\n",
       "    </style><table class=\"wandb\">\n",
       "<tr><td>epoch</td><td>99</td></tr><tr><td>loss</td><td>0.80655</td></tr><tr><td>val_loss</td><td>1.42312</td></tr><tr><td>_runtime</td><td>319</td></tr><tr><td>_timestamp</td><td>1621778549</td></tr><tr><td>_step</td><td>99</td></tr><tr><td>best_val_loss</td><td>1.20776</td></tr><tr><td>best_epoch</td><td>35</td></tr></table>"
      ],
      "text/plain": [
       "<IPython.core.display.HTML object>"
      ]
     },
     "metadata": {},
     "output_type": "display_data"
    },
    {
     "data": {
      "text/html": [
       "<h3>Run history:</h3><br/><style>\n",
       "    table.wandb td:nth-child(1) { padding: 0 10px; text-align: right }\n",
       "    </style><table class=\"wandb\">\n",
       "<tr><td>epoch</td><td>▁▁▁▁▂▂▂▂▂▃▃▃▃▃▃▄▄▄▄▄▅▅▅▅▅▅▆▆▆▆▆▇▇▇▇▇▇███</td></tr><tr><td>loss</td><td>█▇▅▅▅▄▄▄▄▄▄▃▃▃▃▃▃▃▃▃▂▂▂▂▂▂▂▂▂▂▂▁▁▁▁▁▁▁▁▁</td></tr><tr><td>val_loss</td><td>█▆▄▃▃▃▃▃▂▂▁▂▁▁▁▁▁▁▁▁▁▁▂▂▂▂▂▂▂▂▂▃▃▃▃▃▃▃▃▃</td></tr><tr><td>_runtime</td><td>▁▁▁▂▂▂▂▂▃▃▃▃▃▄▄▄▄▄▄▅▅▅▅▅▅▆▆▆▆▆▆▇▇▇▇▇▇███</td></tr><tr><td>_timestamp</td><td>▁▁▁▂▂▂▂▂▃▃▃▃▃▄▄▄▄▄▄▅▅▅▅▅▅▆▆▆▆▆▆▇▇▇▇▇▇███</td></tr><tr><td>_step</td><td>▁▁▁▁▂▂▂▂▂▃▃▃▃▃▃▄▄▄▄▄▅▅▅▅▅▅▆▆▆▆▆▇▇▇▇▇▇███</td></tr></table><br/>"
      ],
      "text/plain": [
       "<IPython.core.display.HTML object>"
      ]
     },
     "metadata": {},
     "output_type": "display_data"
    },
    {
     "data": {
      "text/html": [
       "Synced 6 W&B file(s), 1 media file(s), 0 artifact file(s) and 1 other file(s)"
      ],
      "text/plain": [
       "<IPython.core.display.HTML object>"
      ]
     },
     "metadata": {},
     "output_type": "display_data"
    },
    {
     "data": {
      "text/html": [
       "\n",
       "                    <br/>Synced <strong style=\"color:#cdcd00\">bumbling-monkey-3</strong>: <a href=\"https://wandb.ai/nbg/Keras_runs/runs/7qstfi85\" target=\"_blank\">https://wandb.ai/nbg/Keras_runs/runs/7qstfi85</a><br/>\n",
       "                "
      ],
      "text/plain": [
       "<IPython.core.display.HTML object>"
      ]
     },
     "metadata": {},
     "output_type": "display_data"
    },
    {
     "data": {
      "text/html": [
       "...Successfully finished last run (ID:7qstfi85). Initializing new run:<br/><br/>"
      ],
      "text/plain": [
       "<IPython.core.display.HTML object>"
      ]
     },
     "metadata": {},
     "output_type": "display_data"
    },
    {
     "data": {
      "text/html": [
       "\n",
       "                Tracking run with wandb version 0.10.30<br/>\n",
       "                Syncing run <strong style=\"color:#cdcd00\">zesty-universe-4</strong> to <a href=\"https://wandb.ai\" target=\"_blank\">Weights & Biases</a> <a href=\"https://docs.wandb.com/integrations/jupyter.html\" target=\"_blank\">(Documentation)</a>.<br/>\n",
       "                Project page: <a href=\"https://wandb.ai/nbg/Keras_runs\" target=\"_blank\">https://wandb.ai/nbg/Keras_runs</a><br/>\n",
       "                Run page: <a href=\"https://wandb.ai/nbg/Keras_runs/runs/3tnzvpqu\" target=\"_blank\">https://wandb.ai/nbg/Keras_runs/runs/3tnzvpqu</a><br/>\n",
       "                Run data is saved locally in <code>/scratch/users/udemir15/Bassline-Generator/generator/wandb/run-20210523_170234-3tnzvpqu</code><br/><br/>\n",
       "            "
      ],
      "text/plain": [
       "<IPython.core.display.HTML object>"
      ]
     },
     "metadata": {},
     "output_type": "display_data"
    },
    {
     "data": {
      "text/html": [
       "<h1>Run(3tnzvpqu)</h1><iframe src=\"https://wandb.ai/nbg/Keras_runs/runs/3tnzvpqu\" style=\"border:none;width:100%;height:400px\"></iframe>"
      ],
      "text/plain": [
       "<wandb.sdk.wandb_run.Run at 0x2ba2d0182c50>"
      ]
     },
     "execution_count": 27,
     "metadata": {},
     "output_type": "execute_result"
    }
   ],
   "source": [
    "wandb.init(project='Keras_runs', entity='nbg')"
   ]
  },
  {
   "cell_type": "code",
   "execution_count": 28,
   "metadata": {},
   "outputs": [],
   "source": [
    "name = 'NBG_bilstm_stacked'"
   ]
  },
  {
   "cell_type": "code",
   "execution_count": 29,
   "metadata": {},
   "outputs": [],
   "source": [
    "#timesteps = 64  # Length of your sequences\n",
    "embed_size = 16\n",
    "latent_dim = 256\n",
    "dropout = 0\n",
    "\n",
    "inputs = Input(shape=(timesteps,))\n",
    "embedded = Embedding(vocab_size, embed_size)(inputs)\n",
    "encoded = Bidirectional(LSTM(latent_dim, return_sequences=True, dropout=dropout))(embedded)\n",
    "encoded = Bidirectional(LSTM(latent_dim, dropout=dropout))(embedded)\n",
    "\n",
    "decoded = RepeatVector(timesteps)(encoded)\n",
    "#decoded = LSTM(latent_dim, return_sequences=True, dropout=dropout)(decoded)\n",
    "decoded = LSTM(latent_dim, return_sequences=True, dropout=dropout)(decoded)\n",
    "decoded = Dense(vocab_size, activation='softmax')(decoded)\n",
    "#decoded = argmax(decoded, axis=-1)\n",
    "#decoded = cast(decoded, float)\n",
    "#decoded = Reshape((decoded.shape[1], -1))(decoded)\n",
    "\n",
    "sequence_autoencoder = Model(inputs, decoded)"
   ]
  },
  {
   "cell_type": "code",
   "execution_count": 30,
   "metadata": {
    "scrolled": false
   },
   "outputs": [
    {
     "name": "stdout",
     "output_type": "stream",
     "text": [
      "Model: \"model_3\"\n",
      "_________________________________________________________________\n",
      "Layer (type)                 Output Shape              Param #   \n",
      "=================================================================\n",
      "input_3 (InputLayer)         [(None, 64)]              0         \n",
      "_________________________________________________________________\n",
      "embedding_1 (Embedding)      (None, 64, 16)            608       \n",
      "_________________________________________________________________\n",
      "bidirectional_1 (Bidirection (None, 512)               559104    \n",
      "_________________________________________________________________\n",
      "repeat_vector_1 (RepeatVecto (None, 64, 512)           0         \n",
      "_________________________________________________________________\n",
      "lstm_4 (LSTM)                (None, 64, 256)           787456    \n",
      "_________________________________________________________________\n",
      "dense_1 (Dense)              (None, 64, 38)            9766      \n",
      "=================================================================\n",
      "Total params: 1,356,934\n",
      "Trainable params: 1,356,934\n",
      "Non-trainable params: 0\n",
      "_________________________________________________________________\n"
     ]
    }
   ],
   "source": [
    "sequence_autoencoder.summary()"
   ]
  },
  {
   "cell_type": "code",
   "execution_count": 31,
   "metadata": {},
   "outputs": [],
   "source": [
    "encoder = Model(inputs, encoded)\n",
    "# This is our encoded (32-dimensional) input\n",
    "encoded_input = Input(shape=(2*latent_dim,))\n",
    "# Retrieve the last layer of the autoencoder model\n",
    "decoder_layers = sequence_autoencoder.layers[-3:]\n",
    "decoded_input = decoder_layers[0](encoded_input)\n",
    "for decoder_layer in decoder_layers[1:]:\n",
    "    decoded_input = decoder_layer(decoded_input)\n",
    "# Create the decoder model\n",
    "decoder = Model(encoded_input, decoded_input)"
   ]
  },
  {
   "cell_type": "code",
   "execution_count": 32,
   "metadata": {},
   "outputs": [
    {
     "name": "stdout",
     "output_type": "stream",
     "text": [
      "Model: \"model_4\"\n",
      "_________________________________________________________________\n",
      "Layer (type)                 Output Shape              Param #   \n",
      "=================================================================\n",
      "input_3 (InputLayer)         [(None, 64)]              0         \n",
      "_________________________________________________________________\n",
      "embedding_1 (Embedding)      (None, 64, 16)            608       \n",
      "_________________________________________________________________\n",
      "bidirectional_1 (Bidirection (None, 512)               559104    \n",
      "=================================================================\n",
      "Total params: 559,712\n",
      "Trainable params: 559,712\n",
      "Non-trainable params: 0\n",
      "_________________________________________________________________\n"
     ]
    }
   ],
   "source": [
    "encoder.summary()"
   ]
  },
  {
   "cell_type": "code",
   "execution_count": 33,
   "metadata": {},
   "outputs": [
    {
     "name": "stdout",
     "output_type": "stream",
     "text": [
      "Model: \"model_5\"\n",
      "_________________________________________________________________\n",
      "Layer (type)                 Output Shape              Param #   \n",
      "=================================================================\n",
      "input_4 (InputLayer)         [(None, 512)]             0         \n",
      "_________________________________________________________________\n",
      "repeat_vector_1 (RepeatVecto (None, 64, 512)           0         \n",
      "_________________________________________________________________\n",
      "lstm_4 (LSTM)                (None, 64, 256)           787456    \n",
      "_________________________________________________________________\n",
      "dense_1 (Dense)              (None, 64, 38)            9766      \n",
      "=================================================================\n",
      "Total params: 797,222\n",
      "Trainable params: 797,222\n",
      "Non-trainable params: 0\n",
      "_________________________________________________________________\n"
     ]
    }
   ],
   "source": [
    "decoder.summary()"
   ]
  },
  {
   "cell_type": "code",
   "execution_count": 34,
   "metadata": {},
   "outputs": [],
   "source": [
    "learning_rate = 5e-3\n",
    "epochs = 100\n",
    "batch_size = 32\n",
    "wandb.config.learning_rate = learning_rate\n",
    "wandb.config.epochs = epochs\n",
    "wandb.config.batch_size = batch_size\n",
    "wandb.config.model = name\n",
    "\n",
    "mc = ModelCheckpoint(f'Models/{name}.hdf5', monitor='val_loss')\n",
    "\n",
    "optimizer = Adam(learning_rate=learning_rate)\n",
    "\n",
    "sequence_autoencoder.compile(optimizer, loss='categorical_crossentropy')"
   ]
  },
  {
   "cell_type": "code",
   "execution_count": 36,
   "metadata": {
    "scrolled": true
   },
   "outputs": [
    {
     "name": "stdout",
     "output_type": "stream",
     "text": [
      "Epoch 1/100\n",
      "97/97 [==============================] - 6s 31ms/step - loss: 2.2115 - val_loss: 1.9052\n",
      "Epoch 2/100\n",
      "97/97 [==============================] - 2s 23ms/step - loss: 1.8821 - val_loss: 1.7987\n",
      "Epoch 3/100\n",
      "97/97 [==============================] - 2s 20ms/step - loss: 1.7955 - val_loss: 1.6757\n",
      "Epoch 4/100\n",
      "97/97 [==============================] - 2s 18ms/step - loss: 1.8636 - val_loss: 1.9517\n",
      "Epoch 5/100\n",
      "97/97 [==============================] - 2s 16ms/step - loss: 1.9748 - val_loss: 1.9349\n",
      "Epoch 6/100\n",
      "97/97 [==============================] - 2s 17ms/step - loss: 1.9674 - val_loss: 1.9329\n",
      "Epoch 7/100\n",
      "97/97 [==============================] - 2s 17ms/step - loss: 1.9582 - val_loss: 1.9346\n",
      "Epoch 8/100\n",
      "97/97 [==============================] - 2s 19ms/step - loss: 1.9687 - val_loss: 1.9306\n",
      "Epoch 9/100\n",
      "97/97 [==============================] - 2s 16ms/step - loss: 1.9627 - val_loss: 1.9367\n",
      "Epoch 10/100\n",
      "97/97 [==============================] - 2s 17ms/step - loss: 1.9612 - val_loss: 1.9272\n",
      "Epoch 11/100\n",
      "97/97 [==============================] - 2s 19ms/step - loss: 1.9652 - val_loss: 1.9298\n",
      "Epoch 12/100\n",
      "97/97 [==============================] - 2s 17ms/step - loss: 1.9531 - val_loss: 1.9329\n",
      "Epoch 13/100\n",
      "97/97 [==============================] - 2s 16ms/step - loss: 1.9616 - val_loss: 1.9320\n",
      "Epoch 14/100\n",
      "97/97 [==============================] - 1s 15ms/step - loss: 1.9699 - val_loss: 1.9250\n",
      "Epoch 15/100\n",
      "97/97 [==============================] - 2s 18ms/step - loss: 1.9621 - val_loss: 1.9299\n",
      "Epoch 16/100\n",
      "97/97 [==============================] - 2s 16ms/step - loss: 1.9515 - val_loss: 1.9327\n",
      "Epoch 17/100\n",
      "97/97 [==============================] - 2s 16ms/step - loss: 1.9552 - val_loss: 1.9273\n",
      "Epoch 18/100\n",
      "97/97 [==============================] - 2s 16ms/step - loss: 1.9569 - val_loss: 1.9316\n",
      "Epoch 19/100\n",
      "97/97 [==============================] - 2s 18ms/step - loss: 1.9473 - val_loss: 1.9270\n",
      "Epoch 20/100\n",
      "97/97 [==============================] - 2s 17ms/step - loss: 1.9532 - val_loss: 1.9291\n",
      "Epoch 21/100\n",
      "97/97 [==============================] - 2s 19ms/step - loss: 1.9570 - val_loss: 1.9373\n",
      "Epoch 22/100\n",
      "97/97 [==============================] - 2s 17ms/step - loss: 1.9563 - val_loss: 1.9296\n",
      "Epoch 23/100\n",
      "97/97 [==============================] - 2s 16ms/step - loss: 1.9560 - val_loss: 1.9267\n",
      "Epoch 24/100\n",
      "97/97 [==============================] - 2s 16ms/step - loss: 1.9466 - val_loss: 1.9285\n",
      "Epoch 25/100\n",
      "97/97 [==============================] - 2s 16ms/step - loss: 1.9527 - val_loss: 1.9282\n",
      "Epoch 26/100\n",
      "97/97 [==============================] - 2s 16ms/step - loss: 1.9540 - val_loss: 1.9329\n",
      "Epoch 27/100\n",
      "97/97 [==============================] - 1s 15ms/step - loss: 1.9417 - val_loss: 1.9419\n",
      "Epoch 28/100\n",
      "97/97 [==============================] - 2s 16ms/step - loss: 1.9663 - val_loss: 1.9319\n",
      "Epoch 29/100\n",
      "97/97 [==============================] - 1s 15ms/step - loss: 1.9538 - val_loss: 1.9321\n",
      "Epoch 30/100\n",
      "97/97 [==============================] - 2s 18ms/step - loss: 1.9482 - val_loss: 1.9288\n",
      "Epoch 31/100\n",
      "97/97 [==============================] - 2s 18ms/step - loss: 1.9522 - val_loss: 1.9322\n",
      "Epoch 32/100\n",
      "97/97 [==============================] - 2s 16ms/step - loss: 1.9490 - val_loss: 1.9313\n",
      "Epoch 33/100\n",
      "97/97 [==============================] - 2s 18ms/step - loss: 1.9528 - val_loss: 1.9259\n",
      "Epoch 34/100\n",
      "97/97 [==============================] - 2s 17ms/step - loss: 1.9655 - val_loss: 1.9298\n",
      "Epoch 35/100\n",
      "97/97 [==============================] - 2s 19ms/step - loss: 1.9556 - val_loss: 1.9303\n",
      "Epoch 36/100\n",
      "97/97 [==============================] - 2s 19ms/step - loss: 1.9553 - val_loss: 1.9349\n",
      "Epoch 37/100\n",
      "97/97 [==============================] - 2s 21ms/step - loss: 1.9430 - val_loss: 1.9320\n",
      "Epoch 38/100\n",
      "97/97 [==============================] - 2s 17ms/step - loss: 1.9527 - val_loss: 1.9282\n",
      "Epoch 39/100\n",
      "97/97 [==============================] - 2s 16ms/step - loss: 1.9555 - val_loss: 1.9271\n",
      "Epoch 40/100\n",
      "97/97 [==============================] - 2s 16ms/step - loss: 1.9636 - val_loss: 1.9276\n",
      "Epoch 41/100\n",
      "97/97 [==============================] - 2s 18ms/step - loss: 1.9506 - val_loss: 1.9325\n",
      "Epoch 42/100\n",
      "97/97 [==============================] - 2s 16ms/step - loss: 1.9627 - val_loss: 1.9340\n",
      "Epoch 43/100\n",
      "97/97 [==============================] - 2s 16ms/step - loss: 1.9503 - val_loss: 1.9250\n",
      "Epoch 44/100\n",
      "97/97 [==============================] - 2s 16ms/step - loss: 1.9498 - val_loss: 1.9333\n",
      "Epoch 45/100\n",
      "97/97 [==============================] - 2s 16ms/step - loss: 1.9610 - val_loss: 1.9309\n",
      "Epoch 46/100\n",
      "97/97 [==============================] - 2s 18ms/step - loss: 1.9489 - val_loss: 1.9286\n",
      "Epoch 47/100\n",
      "97/97 [==============================] - 2s 17ms/step - loss: 1.9526 - val_loss: 1.9294\n",
      "Epoch 48/100\n",
      "97/97 [==============================] - 2s 17ms/step - loss: 1.9592 - val_loss: 1.9310\n",
      "Epoch 49/100\n",
      "97/97 [==============================] - 2s 16ms/step - loss: 1.9546 - val_loss: 1.9245\n",
      "Epoch 50/100\n",
      "97/97 [==============================] - 2s 17ms/step - loss: 1.9557 - val_loss: 1.9280\n",
      "Epoch 51/100\n",
      "97/97 [==============================] - 2s 17ms/step - loss: 1.9560 - val_loss: 1.9275\n",
      "Epoch 52/100\n",
      "97/97 [==============================] - 2s 22ms/step - loss: 1.9577 - val_loss: 1.9331\n",
      "Epoch 53/100\n",
      "97/97 [==============================] - 2s 20ms/step - loss: 1.9539 - val_loss: 1.9268\n",
      "Epoch 54/100\n",
      "97/97 [==============================] - 2s 18ms/step - loss: 1.9463 - val_loss: 1.9296\n",
      "Epoch 55/100\n",
      "97/97 [==============================] - 2s 19ms/step - loss: 1.9429 - val_loss: 1.9282\n",
      "Epoch 56/100\n",
      "97/97 [==============================] - 2s 16ms/step - loss: 1.9536 - val_loss: 1.9293\n",
      "Epoch 57/100\n",
      "97/97 [==============================] - 1s 15ms/step - loss: 1.9551 - val_loss: 1.9300\n",
      "Epoch 58/100\n",
      "97/97 [==============================] - 2s 16ms/step - loss: 1.9514 - val_loss: 1.9330\n",
      "Epoch 59/100\n",
      "97/97 [==============================] - 2s 17ms/step - loss: 1.9684 - val_loss: 1.9276\n",
      "Epoch 60/100\n",
      "97/97 [==============================] - 2s 16ms/step - loss: 1.9574 - val_loss: 1.9292\n",
      "Epoch 61/100\n",
      "97/97 [==============================] - 2s 16ms/step - loss: 1.9574 - val_loss: 1.9303\n",
      "Epoch 62/100\n",
      "97/97 [==============================] - 2s 17ms/step - loss: 1.9513 - val_loss: 1.9276\n",
      "Epoch 63/100\n",
      "97/97 [==============================] - 2s 17ms/step - loss: 1.9535 - val_loss: 1.9294\n",
      "Epoch 64/100\n",
      "97/97 [==============================] - 2s 19ms/step - loss: 1.9444 - val_loss: 1.9268\n",
      "Epoch 65/100\n",
      "97/97 [==============================] - 2s 21ms/step - loss: 1.9596 - val_loss: 1.9277\n",
      "Epoch 66/100\n",
      "97/97 [==============================] - 2s 18ms/step - loss: 1.9359 - val_loss: 1.9247\n",
      "Epoch 67/100\n",
      "97/97 [==============================] - 2s 18ms/step - loss: 1.9524 - val_loss: 1.9281\n",
      "Epoch 68/100\n",
      "97/97 [==============================] - 2s 17ms/step - loss: 1.9454 - val_loss: 1.9385\n",
      "Epoch 69/100\n",
      "97/97 [==============================] - 2s 16ms/step - loss: 1.9644 - val_loss: 1.9292\n",
      "Epoch 70/100\n",
      "97/97 [==============================] - 2s 16ms/step - loss: 1.9432 - val_loss: 1.9300\n",
      "Epoch 71/100\n",
      "97/97 [==============================] - 2s 17ms/step - loss: 1.9499 - val_loss: 1.9266\n",
      "Epoch 72/100\n",
      "97/97 [==============================] - 2s 17ms/step - loss: 1.9624 - val_loss: 1.9274\n",
      "Epoch 73/100\n",
      "97/97 [==============================] - 2s 16ms/step - loss: 1.9561 - val_loss: 1.9265\n",
      "Epoch 74/100\n",
      "97/97 [==============================] - 2s 16ms/step - loss: 1.9529 - val_loss: 1.9273\n",
      "Epoch 75/100\n",
      "97/97 [==============================] - 2s 17ms/step - loss: 1.9518 - val_loss: 1.9300\n",
      "Epoch 76/100\n",
      "97/97 [==============================] - 2s 16ms/step - loss: 1.9499 - val_loss: 1.9316\n",
      "Epoch 77/100\n",
      "97/97 [==============================] - 2s 16ms/step - loss: 1.9527 - val_loss: 1.9289\n",
      "Epoch 78/100\n",
      "97/97 [==============================] - 2s 16ms/step - loss: 1.9484 - val_loss: 1.9285\n",
      "Epoch 79/100\n",
      "97/97 [==============================] - 2s 16ms/step - loss: 1.9463 - val_loss: 1.9337\n",
      "Epoch 80/100\n",
      "97/97 [==============================] - 2s 16ms/step - loss: 1.9546 - val_loss: 1.9286\n",
      "Epoch 81/100\n",
      "97/97 [==============================] - 2s 16ms/step - loss: 1.9618 - val_loss: 1.9321\n",
      "Epoch 82/100\n",
      "97/97 [==============================] - 2s 16ms/step - loss: 1.9502 - val_loss: 1.9261\n",
      "Epoch 83/100\n",
      "97/97 [==============================] - 2s 19ms/step - loss: 1.9478 - val_loss: 1.9269\n",
      "Epoch 84/100\n",
      "97/97 [==============================] - 2s 18ms/step - loss: 1.9526 - val_loss: 1.9314\n",
      "Epoch 85/100\n",
      "97/97 [==============================] - 2s 18ms/step - loss: 1.9640 - val_loss: 1.9245\n",
      "Epoch 86/100\n",
      "97/97 [==============================] - 2s 18ms/step - loss: 1.9506 - val_loss: 1.9344\n",
      "Epoch 87/100\n",
      "97/97 [==============================] - 2s 19ms/step - loss: 1.9621 - val_loss: 1.9323\n",
      "Epoch 88/100\n",
      "97/97 [==============================] - 2s 17ms/step - loss: 1.9431 - val_loss: 1.9278\n",
      "Epoch 89/100\n",
      "97/97 [==============================] - 2s 19ms/step - loss: 1.9532 - val_loss: 1.9291\n",
      "Epoch 90/100\n",
      "97/97 [==============================] - 2s 17ms/step - loss: 1.9553 - val_loss: 1.9280\n",
      "Epoch 91/100\n",
      "97/97 [==============================] - 2s 16ms/step - loss: 1.9580 - val_loss: 1.9294\n",
      "Epoch 92/100\n",
      "97/97 [==============================] - 2s 17ms/step - loss: 1.9454 - val_loss: 1.9317\n",
      "Epoch 93/100\n",
      "97/97 [==============================] - 2s 16ms/step - loss: 1.9453 - val_loss: 1.9366\n",
      "Epoch 94/100\n",
      "97/97 [==============================] - 2s 16ms/step - loss: 1.9531 - val_loss: 1.9328\n",
      "Epoch 95/100\n",
      "97/97 [==============================] - 2s 17ms/step - loss: 1.9452 - val_loss: 1.9306\n",
      "Epoch 96/100\n",
      "97/97 [==============================] - 2s 16ms/step - loss: 1.9554 - val_loss: 1.9295\n",
      "Epoch 97/100\n",
      "97/97 [==============================] - 2s 19ms/step - loss: 1.9591 - val_loss: 1.9297\n",
      "Epoch 98/100\n",
      "97/97 [==============================] - 2s 16ms/step - loss: 1.9485 - val_loss: 1.9280\n",
      "Epoch 99/100\n",
      "97/97 [==============================] - 2s 18ms/step - loss: 1.9508 - val_loss: 1.9273\n",
      "Epoch 100/100\n",
      "97/97 [==============================] - 2s 16ms/step - loss: 1.9468 - val_loss: 1.9277\n"
     ]
    }
   ],
   "source": [
    "hist = sequence_autoencoder.fit(X_train, y_train,\n",
    "                epochs=epochs,\n",
    "                batch_size=batch_size,\n",
    "                shuffle=True,\n",
    "                validation_data=(X_test, y_test),\n",
    "                callbacks=[mc, WandbCallback()])"
   ]
  },
  {
   "cell_type": "code",
   "execution_count": 37,
   "metadata": {
    "scrolled": true
   },
   "outputs": [
    {
     "data": {
      "image/png": "[encoded data removed]",
      "text/plain": [
       "<Figure size 1440x432 with 1 Axes>"
      ]
     },
     "metadata": {
      "needs_background": "light"
     },
     "output_type": "display_data"
    }
   ],
   "source": [
    "plt.figure(figsize=(20, 6))\n",
    "\n",
    "plt.plot(hist.history['loss'], label='training')\n",
    "plt.plot(hist.history['val_loss'], label='testing')\n",
    "plt.legend()\n",
    "\n",
    "plt.savefig(f'figures/{name}', dpi=400)"
   ]
  },
  {
   "cell_type": "code",
   "execution_count": 38,
   "metadata": {},
   "outputs": [],
   "source": [
    "sequence_autoencoder = load_model(f'Models/{name}.hdf5')"
   ]
  },
  {
   "cell_type": "code",
   "execution_count": 39,
   "metadata": {},
   "outputs": [
    {
     "data": {
      "text/plain": [
       "0.46820841431810817"
      ]
     },
     "execution_count": 39,
     "metadata": {},
     "output_type": "execute_result"
    }
   ],
   "source": [
    "preds = sequence_autoencoder.predict(X_train).argmax(axis=-1)\n",
    "accuracy_score(y_train.argmax(-1).reshape(-1), preds.reshape(-1))"
   ]
  },
  {
   "cell_type": "code",
   "execution_count": 40,
   "metadata": {},
   "outputs": [
    {
     "data": {
      "text/plain": [
       "0.4697215025906736"
      ]
     },
     "execution_count": 40,
     "metadata": {},
     "output_type": "execute_result"
    }
   ],
   "source": [
    "preds = sequence_autoencoder.predict(X_test).argmax(axis=-1)\n",
    "accuracy_score(y_test.argmax(-1).reshape(-1), preds.reshape(-1))"
   ]
  },
  {
   "cell_type": "markdown",
   "metadata": {},
   "source": [
    "## Model 3 Embedding-GRU Encoder GRU-Dense Decoder"
   ]
  },
  {
   "cell_type": "code",
   "execution_count": 41,
   "metadata": {},
   "outputs": [
    {
     "data": {
      "text/html": [
       "Finishing last run (ID:3tnzvpqu) before initializing another..."
      ],
      "text/plain": [
       "<IPython.core.display.HTML object>"
      ]
     },
     "metadata": {},
     "output_type": "display_data"
    },
    {
     "data": {
      "text/html": [
       "<br/>Waiting for W&B process to finish, PID 207275<br/>Program ended successfully."
      ],
      "text/plain": [
       "<IPython.core.display.HTML object>"
      ]
     },
     "metadata": {},
     "output_type": "display_data"
    },
    {
     "data": {
      "application/vnd.jupyter.widget-view+json": {
       "model_id": "",
       "version_major": 2,
       "version_minor": 0
      },
      "text/plain": [
       "VBox(children=(Label(value=' 15.59MB of 15.59MB uploaded (0.00MB deduped)\\r'), FloatProgress(value=1.0, max=1.…"
      ]
     },
     "metadata": {},
     "output_type": "display_data"
    },
    {
     "data": {
      "text/html": [
       "Find user logs for this run at: <code>/scratch/users/udemir15/Bassline-Generator/generator/wandb/run-20210523_170234-3tnzvpqu/logs/debug.log</code>"
      ],
      "text/plain": [
       "<IPython.core.display.HTML object>"
      ]
     },
     "metadata": {},
     "output_type": "display_data"
    },
    {
     "data": {
      "text/html": [
       "Find internal logs for this run at: <code>/scratch/users/udemir15/Bassline-Generator/generator/wandb/run-20210523_170234-3tnzvpqu/logs/debug-internal.log</code>"
      ],
      "text/plain": [
       "<IPython.core.display.HTML object>"
      ]
     },
     "metadata": {},
     "output_type": "display_data"
    },
    {
     "data": {
      "text/html": [
       "<h3>Run summary:</h3><br/><style>\n",
       "    table.wandb td:nth-child(1) { padding: 0 10px; text-align: right }\n",
       "    </style><table class=\"wandb\">\n",
       "<tr><td>epoch</td><td>99</td></tr><tr><td>loss</td><td>1.95211</td></tr><tr><td>val_loss</td><td>1.92773</td></tr><tr><td>_runtime</td><td>649</td></tr><tr><td>_timestamp</td><td>1621779207</td></tr><tr><td>_step</td><td>99</td></tr><tr><td>best_val_loss</td><td>1.6757</td></tr><tr><td>best_epoch</td><td>2</td></tr></table>"
      ],
      "text/plain": [
       "<IPython.core.display.HTML object>"
      ]
     },
     "metadata": {},
     "output_type": "display_data"
    },
    {
     "data": {
      "text/html": [
       "<h3>Run history:</h3><br/><style>\n",
       "    table.wandb td:nth-child(1) { padding: 0 10px; text-align: right }\n",
       "    </style><table class=\"wandb\">\n",
       "<tr><td>epoch</td><td>▁▁▁▁▂▂▂▂▂▃▃▃▃▃▃▄▄▄▄▄▅▅▅▅▅▅▆▆▆▆▆▇▇▇▇▇▇███</td></tr><tr><td>loss</td><td>█▁▆▆▆▆▆▆▆▆▆▆▆▆▆▆▆▆▆▆▆▆▆▆▆▆▆▆▆▆▆▆▆▆▆▆▆▆▆▆</td></tr><tr><td>val_loss</td><td>▇▁██████████████████████████████████████</td></tr><tr><td>_runtime</td><td>▁▁▁▂▂▂▂▂▂▃▃▃▃▃▃▄▄▄▄▄▅▅▅▅▅▅▆▆▆▆▆▆▇▇▇▇▇███</td></tr><tr><td>_timestamp</td><td>▁▁▁▂▂▂▂▂▂▃▃▃▃▃▃▄▄▄▄▄▅▅▅▅▅▅▆▆▆▆▆▆▇▇▇▇▇███</td></tr><tr><td>_step</td><td>▁▁▁▁▂▂▂▂▂▃▃▃▃▃▃▄▄▄▄▄▅▅▅▅▅▅▆▆▆▆▆▇▇▇▇▇▇███</td></tr></table><br/>"
      ],
      "text/plain": [
       "<IPython.core.display.HTML object>"
      ]
     },
     "metadata": {},
     "output_type": "display_data"
    },
    {
     "data": {
      "text/html": [
       "Synced 6 W&B file(s), 1 media file(s), 0 artifact file(s) and 1 other file(s)"
      ],
      "text/plain": [
       "<IPython.core.display.HTML object>"
      ]
     },
     "metadata": {},
     "output_type": "display_data"
    },
    {
     "data": {
      "text/html": [
       "\n",
       "                    <br/>Synced <strong style=\"color:#cdcd00\">zesty-universe-4</strong>: <a href=\"https://wandb.ai/nbg/Keras_runs/runs/3tnzvpqu\" target=\"_blank\">https://wandb.ai/nbg/Keras_runs/runs/3tnzvpqu</a><br/>\n",
       "                "
      ],
      "text/plain": [
       "<IPython.core.display.HTML object>"
      ]
     },
     "metadata": {},
     "output_type": "display_data"
    },
    {
     "data": {
      "text/html": [
       "...Successfully finished last run (ID:3tnzvpqu). Initializing new run:<br/><br/>"
      ],
      "text/plain": [
       "<IPython.core.display.HTML object>"
      ]
     },
     "metadata": {},
     "output_type": "display_data"
    },
    {
     "data": {
      "text/html": [
       "\n",
       "                Tracking run with wandb version 0.10.30<br/>\n",
       "                Syncing run <strong style=\"color:#cdcd00\">noble-shadow-5</strong> to <a href=\"https://wandb.ai\" target=\"_blank\">Weights & Biases</a> <a href=\"https://docs.wandb.com/integrations/jupyter.html\" target=\"_blank\">(Documentation)</a>.<br/>\n",
       "                Project page: <a href=\"https://wandb.ai/nbg/Keras_runs\" target=\"_blank\">https://wandb.ai/nbg/Keras_runs</a><br/>\n",
       "                Run page: <a href=\"https://wandb.ai/nbg/Keras_runs/runs/1nwyjde6\" target=\"_blank\">https://wandb.ai/nbg/Keras_runs/runs/1nwyjde6</a><br/>\n",
       "                Run data is saved locally in <code>/scratch/users/udemir15/Bassline-Generator/generator/wandb/run-20210523_171331-1nwyjde6</code><br/><br/>\n",
       "            "
      ],
      "text/plain": [
       "<IPython.core.display.HTML object>"
      ]
     },
     "metadata": {},
     "output_type": "display_data"
    },
    {
     "data": {
      "text/html": [
       "<h1>Run(1nwyjde6)</h1><iframe src=\"https://wandb.ai/nbg/Keras_runs/runs/1nwyjde6\" style=\"border:none;width:100%;height:400px\"></iframe>"
      ],
      "text/plain": [
       "<wandb.sdk.wandb_run.Run at 0x2ba2d188b990>"
      ]
     },
     "execution_count": 41,
     "metadata": {},
     "output_type": "execute_result"
    }
   ],
   "source": [
    "wandb.init(project='Keras_runs', entity='nbg')"
   ]
  },
  {
   "cell_type": "code",
   "execution_count": 42,
   "metadata": {},
   "outputs": [],
   "source": [
    "name = 'NBG_gru'"
   ]
  },
  {
   "cell_type": "code",
   "execution_count": 43,
   "metadata": {},
   "outputs": [],
   "source": [
    "#timesteps = 64  # Length of your sequences\n",
    "embed_size = 32\n",
    "latent_dim = 256\n",
    "dropout = 0\n",
    "\n",
    "inputs = Input(shape=(timesteps,))\n",
    "embedded = Embedding(vocab_size, embed_size)(inputs)\n",
    "#encoded = LSTM(latent_dim, return_sequences=True, dropout=dropout)(embedded)\n",
    "encoded = GRU(latent_dim, dropout=dropout)(embedded)\n",
    "\n",
    "decoded = RepeatVector(timesteps)(encoded)\n",
    "#decoded = LSTM(latent_dim, return_sequences=True, dropout=dropout)(decoded)\n",
    "decoded = GRU(latent_dim, return_sequences=True, dropout=dropout)(decoded)\n",
    "decoded = Dense(vocab_size, activation='softmax')(decoded)\n",
    "#decoded = argmax(decoded, axis=-1)\n",
    "#decoded = cast(decoded, float)\n",
    "#decoded = Reshape((decoded.shape[1], -1))(decoded)\n",
    "\n",
    "sequence_autoencoder = Model(inputs, decoded)"
   ]
  },
  {
   "cell_type": "code",
   "execution_count": 44,
   "metadata": {},
   "outputs": [
    {
     "name": "stdout",
     "output_type": "stream",
     "text": [
      "Model: \"model_6\"\n",
      "_________________________________________________________________\n",
      "Layer (type)                 Output Shape              Param #   \n",
      "=================================================================\n",
      "input_5 (InputLayer)         [(None, 64)]              0         \n",
      "_________________________________________________________________\n",
      "embedding_2 (Embedding)      (None, 64, 32)            1216      \n",
      "_________________________________________________________________\n",
      "gru (GRU)                    (None, 256)               222720    \n",
      "_________________________________________________________________\n",
      "repeat_vector_2 (RepeatVecto (None, 64, 256)           0         \n",
      "_________________________________________________________________\n",
      "gru_1 (GRU)                  (None, 64, 256)           394752    \n",
      "_________________________________________________________________\n",
      "dense_2 (Dense)              (None, 64, 38)            9766      \n",
      "=================================================================\n",
      "Total params: 628,454\n",
      "Trainable params: 628,454\n",
      "Non-trainable params: 0\n",
      "_________________________________________________________________\n"
     ]
    }
   ],
   "source": [
    "sequence_autoencoder.summary()"
   ]
  },
  {
   "cell_type": "code",
   "execution_count": 45,
   "metadata": {},
   "outputs": [],
   "source": [
    "encoder = Model(inputs, encoded)\n",
    "# This is our encoded (32-dimensional) input\n",
    "encoded_input = Input(shape=(latent_dim,))\n",
    "# Retrieve the last layer of the autoencoder model\n",
    "decoder_layers = sequence_autoencoder.layers[-3:]\n",
    "decoded_input = decoder_layers[0](encoded_input)\n",
    "for decoder_layer in decoder_layers[1:]:\n",
    "    decoded_input = decoder_layer(decoded_input)\n",
    "# Create the decoder model\n",
    "decoder = Model(encoded_input, decoded_input)"
   ]
  },
  {
   "cell_type": "code",
   "execution_count": 46,
   "metadata": {},
   "outputs": [
    {
     "name": "stdout",
     "output_type": "stream",
     "text": [
      "Model: \"model_7\"\n",
      "_________________________________________________________________\n",
      "Layer (type)                 Output Shape              Param #   \n",
      "=================================================================\n",
      "input_5 (InputLayer)         [(None, 64)]              0         \n",
      "_________________________________________________________________\n",
      "embedding_2 (Embedding)      (None, 64, 32)            1216      \n",
      "_________________________________________________________________\n",
      "gru (GRU)                    (None, 256)               222720    \n",
      "=================================================================\n",
      "Total params: 223,936\n",
      "Trainable params: 223,936\n",
      "Non-trainable params: 0\n",
      "_________________________________________________________________\n"
     ]
    }
   ],
   "source": [
    "encoder.summary()"
   ]
  },
  {
   "cell_type": "code",
   "execution_count": 47,
   "metadata": {},
   "outputs": [
    {
     "name": "stdout",
     "output_type": "stream",
     "text": [
      "Model: \"model_8\"\n",
      "_________________________________________________________________\n",
      "Layer (type)                 Output Shape              Param #   \n",
      "=================================================================\n",
      "input_6 (InputLayer)         [(None, 256)]             0         \n",
      "_________________________________________________________________\n",
      "repeat_vector_2 (RepeatVecto (None, 64, 256)           0         \n",
      "_________________________________________________________________\n",
      "gru_1 (GRU)                  (None, 64, 256)           394752    \n",
      "_________________________________________________________________\n",
      "dense_2 (Dense)              (None, 64, 38)            9766      \n",
      "=================================================================\n",
      "Total params: 404,518\n",
      "Trainable params: 404,518\n",
      "Non-trainable params: 0\n",
      "_________________________________________________________________\n"
     ]
    }
   ],
   "source": [
    "decoder.summary()"
   ]
  },
  {
   "cell_type": "code",
   "execution_count": 48,
   "metadata": {},
   "outputs": [],
   "source": [
    "learning_rate = 5e-3\n",
    "epochs = 100\n",
    "batch_size = 32\n",
    "wandb.config.learning_rate = learning_rate\n",
    "wandb.config.epochs = epochs\n",
    "wandb.config.batch_size = batch_size\n",
    "wandb.config.model = name\n",
    "\n",
    "mc = ModelCheckpoint(f'Models/{name}.hdf5', monitor='val_loss')\n",
    "\n",
    "optimizer = Adam(learning_rate=learning_rate)\n",
    "\n",
    "sequence_autoencoder.compile(optimizer, loss='categorical_crossentropy')"
   ]
  },
  {
   "cell_type": "code",
   "execution_count": 50,
   "metadata": {
    "scrolled": true
   },
   "outputs": [
    {
     "name": "stdout",
     "output_type": "stream",
     "text": [
      "Epoch 1/100\n",
      " 5/97 [>.............................] - ETA: 7s - loss: 3.3130 WARNING:tensorflow:Callback method `on_train_batch_end` is slow compared to the batch time (batch time: 0.0167s vs `on_train_batch_end` time: 0.0403s). Check your callbacks.\n",
      "97/97 [==============================] - 5s 25ms/step - loss: 2.2368 - val_loss: 1.7472\n",
      "Epoch 2/100\n",
      "97/97 [==============================] - 2s 18ms/step - loss: 1.6990 - val_loss: 1.5855\n",
      "Epoch 3/100\n",
      "97/97 [==============================] - 1s 14ms/step - loss: 1.5627 - val_loss: 1.4964\n",
      "Epoch 4/100\n",
      "97/97 [==============================] - 1s 14ms/step - loss: 1.4840 - val_loss: 1.4545\n",
      "Epoch 5/100\n",
      "97/97 [==============================] - 1s 12ms/step - loss: 1.4461 - val_loss: 1.4338\n",
      "Epoch 6/100\n",
      "97/97 [==============================] - 1s 12ms/step - loss: 1.4251 - val_loss: 1.4145\n",
      "Epoch 7/100\n",
      "97/97 [==============================] - 1s 11ms/step - loss: 1.4108 - val_loss: 1.4016\n",
      "Epoch 8/100\n",
      "97/97 [==============================] - 1s 12ms/step - loss: 1.4000 - val_loss: 1.4005\n",
      "Epoch 9/100\n",
      "97/97 [==============================] - 1s 14ms/step - loss: 1.3866 - val_loss: 1.3868\n",
      "Epoch 10/100\n",
      "97/97 [==============================] - 1s 13ms/step - loss: 1.3941 - val_loss: 1.3931\n",
      "Epoch 11/100\n",
      "97/97 [==============================] - 1s 11ms/step - loss: 1.3902 - val_loss: 1.3747\n",
      "Epoch 12/100\n",
      "97/97 [==============================] - 1s 14ms/step - loss: 1.3646 - val_loss: 1.3760\n",
      "Epoch 13/100\n",
      "97/97 [==============================] - 1s 12ms/step - loss: 1.3751 - val_loss: 1.3760\n",
      "Epoch 14/100\n",
      "97/97 [==============================] - 1s 11ms/step - loss: 1.3623 - val_loss: 1.3588\n",
      "Epoch 15/100\n",
      "97/97 [==============================] - 1s 13ms/step - loss: 1.3526 - val_loss: 1.3658\n",
      "Epoch 16/100\n",
      "97/97 [==============================] - 1s 13ms/step - loss: 1.3491 - val_loss: 1.3650\n",
      "Epoch 17/100\n",
      "97/97 [==============================] - 1s 13ms/step - loss: 1.3475 - val_loss: 1.3528\n",
      "Epoch 18/100\n",
      "97/97 [==============================] - 1s 13ms/step - loss: 1.3609 - val_loss: 1.3808\n",
      "Epoch 19/100\n",
      "97/97 [==============================] - 1s 12ms/step - loss: 1.3716 - val_loss: 1.3530\n",
      "Epoch 20/100\n",
      "97/97 [==============================] - 1s 13ms/step - loss: 1.3401 - val_loss: 1.3455\n",
      "Epoch 21/100\n",
      "97/97 [==============================] - 1s 13ms/step - loss: 1.3302 - val_loss: 1.3409\n",
      "Epoch 22/100\n",
      "97/97 [==============================] - 1s 13ms/step - loss: 1.3409 - val_loss: 1.4194\n",
      "Epoch 23/100\n",
      "97/97 [==============================] - 1s 13ms/step - loss: 1.3951 - val_loss: 1.3441\n",
      "Epoch 24/100\n",
      "97/97 [==============================] - 1s 13ms/step - loss: 1.3540 - val_loss: 1.3440\n",
      "Epoch 25/100\n",
      "97/97 [==============================] - 1s 13ms/step - loss: 1.3252 - val_loss: 1.3385\n",
      "Epoch 26/100\n",
      "97/97 [==============================] - 1s 13ms/step - loss: 1.3143 - val_loss: 1.3365\n",
      "Epoch 27/100\n",
      "97/97 [==============================] - 1s 14ms/step - loss: 1.3213 - val_loss: 1.3166\n",
      "Epoch 28/100\n",
      "97/97 [==============================] - 1s 12ms/step - loss: 1.4975 - val_loss: 1.4027\n",
      "Epoch 29/100\n",
      "97/97 [==============================] - 1s 11ms/step - loss: 1.3750 - val_loss: 1.3620\n",
      "Epoch 30/100\n",
      "97/97 [==============================] - 1s 13ms/step - loss: 1.4441 - val_loss: 1.3870\n",
      "Epoch 31/100\n",
      "97/97 [==============================] - 1s 13ms/step - loss: 1.4176 - val_loss: 1.4152\n",
      "Epoch 32/100\n",
      "97/97 [==============================] - 1s 11ms/step - loss: 1.3986 - val_loss: 1.3785\n",
      "Epoch 33/100\n",
      "97/97 [==============================] - 1s 11ms/step - loss: 1.3747 - val_loss: 1.3652\n",
      "Epoch 34/100\n",
      "97/97 [==============================] - 1s 15ms/step - loss: 1.3661 - val_loss: 1.3671\n",
      "Epoch 35/100\n",
      "97/97 [==============================] - 1s 12ms/step - loss: 1.3568 - val_loss: 1.3540\n",
      "Epoch 36/100\n",
      "97/97 [==============================] - 1s 13ms/step - loss: 1.3527 - val_loss: 1.3785\n",
      "Epoch 37/100\n",
      "97/97 [==============================] - 1s 13ms/step - loss: 1.3612 - val_loss: 1.3491\n",
      "Epoch 38/100\n",
      "97/97 [==============================] - 1s 12ms/step - loss: 1.3314 - val_loss: 1.3436\n",
      "Epoch 39/100\n",
      "97/97 [==============================] - 1s 11ms/step - loss: 1.3371 - val_loss: 1.3393\n",
      "Epoch 40/100\n",
      "97/97 [==============================] - 1s 14ms/step - loss: 1.3275 - val_loss: 1.3466\n",
      "Epoch 41/100\n",
      "97/97 [==============================] - 1s 12ms/step - loss: 1.3272 - val_loss: 1.3322\n",
      "Epoch 42/100\n",
      "97/97 [==============================] - 1s 11ms/step - loss: 1.3291 - val_loss: 1.3300\n",
      "Epoch 43/100\n",
      "97/97 [==============================] - 1s 12ms/step - loss: 1.3426 - val_loss: 1.3321\n",
      "Epoch 44/100\n",
      "97/97 [==============================] - 1s 11ms/step - loss: 1.3221 - val_loss: 1.3298\n",
      "Epoch 45/100\n",
      "97/97 [==============================] - 1s 13ms/step - loss: 1.3203 - val_loss: 1.3368\n",
      "Epoch 46/100\n",
      "97/97 [==============================] - 1s 14ms/step - loss: 1.3160 - val_loss: 1.3230\n",
      "Epoch 47/100\n",
      "97/97 [==============================] - 1s 13ms/step - loss: 1.3181 - val_loss: 1.3251\n",
      "Epoch 48/100\n",
      "97/97 [==============================] - 1s 13ms/step - loss: 1.3031 - val_loss: 1.3175\n",
      "Epoch 49/100\n",
      "97/97 [==============================] - 1s 13ms/step - loss: 1.3034 - val_loss: 1.3321\n",
      "Epoch 50/100\n",
      "97/97 [==============================] - 2s 17ms/step - loss: 1.3071 - val_loss: 1.3286\n",
      "Epoch 51/100\n",
      "97/97 [==============================] - 1s 12ms/step - loss: 1.4755 - val_loss: 1.5168\n",
      "Epoch 52/100\n",
      "97/97 [==============================] - 1s 11ms/step - loss: 1.4893 - val_loss: 1.4351\n",
      "Epoch 53/100\n",
      "97/97 [==============================] - 1s 11ms/step - loss: 1.4131 - val_loss: 1.4001\n",
      "Epoch 54/100\n",
      "97/97 [==============================] - 1s 11ms/step - loss: 1.3883 - val_loss: 1.4098\n",
      "Epoch 55/100\n",
      "97/97 [==============================] - 1s 11ms/step - loss: 1.4080 - val_loss: 1.3985\n",
      "Epoch 56/100\n",
      "97/97 [==============================] - 1s 11ms/step - loss: 1.3919 - val_loss: 1.3755\n",
      "Epoch 57/100\n",
      "97/97 [==============================] - 1s 11ms/step - loss: 1.3697 - val_loss: 1.3734\n",
      "Epoch 58/100\n",
      "97/97 [==============================] - 1s 12ms/step - loss: 1.3623 - val_loss: 1.3650\n",
      "Epoch 59/100\n",
      "97/97 [==============================] - 1s 12ms/step - loss: 1.3733 - val_loss: 1.3572\n",
      "Epoch 60/100\n",
      "97/97 [==============================] - 1s 13ms/step - loss: 1.3504 - val_loss: 1.3559\n",
      "Epoch 61/100\n",
      "97/97 [==============================] - 1s 12ms/step - loss: 1.3766 - val_loss: 1.3647\n",
      "Epoch 62/100\n",
      "97/97 [==============================] - 1s 11ms/step - loss: 1.3613 - val_loss: 1.3604\n",
      "Epoch 63/100\n",
      "97/97 [==============================] - 1s 12ms/step - loss: 1.3449 - val_loss: 1.3529\n",
      "Epoch 64/100\n",
      "97/97 [==============================] - 1s 12ms/step - loss: 1.3670 - val_loss: 1.3742\n",
      "Epoch 65/100\n",
      "97/97 [==============================] - 1s 12ms/step - loss: 1.3610 - val_loss: 1.3584\n",
      "Epoch 66/100\n",
      "97/97 [==============================] - 1s 12ms/step - loss: 1.3416 - val_loss: 1.3460\n",
      "Epoch 67/100\n",
      "97/97 [==============================] - 1s 12ms/step - loss: 1.3288 - val_loss: 1.3443\n",
      "Epoch 68/100\n",
      "97/97 [==============================] - 1s 11ms/step - loss: 1.3271 - val_loss: 1.3342\n",
      "Epoch 69/100\n",
      "97/97 [==============================] - 1s 11ms/step - loss: 1.3315 - val_loss: 1.3400\n",
      "Epoch 70/100\n",
      "97/97 [==============================] - 1s 12ms/step - loss: 1.4060 - val_loss: 1.4623\n",
      "Epoch 71/100\n",
      "97/97 [==============================] - 1s 12ms/step - loss: 1.4267 - val_loss: 1.3960\n",
      "Epoch 72/100\n",
      "97/97 [==============================] - 1s 12ms/step - loss: 1.3883 - val_loss: 1.3863\n",
      "Epoch 73/100\n",
      "97/97 [==============================] - 1s 11ms/step - loss: 1.3773 - val_loss: 1.3813\n",
      "Epoch 74/100\n",
      "97/97 [==============================] - 1s 14ms/step - loss: 1.3648 - val_loss: 1.3741\n",
      "Epoch 75/100\n",
      "97/97 [==============================] - 1s 13ms/step - loss: 1.3664 - val_loss: 1.3667\n",
      "Epoch 76/100\n",
      "97/97 [==============================] - 2s 16ms/step - loss: 1.3565 - val_loss: 1.3672\n",
      "Epoch 77/100\n",
      "97/97 [==============================] - 1s 13ms/step - loss: 1.3418 - val_loss: 1.3589\n",
      "Epoch 78/100\n",
      "97/97 [==============================] - 1s 13ms/step - loss: 1.3568 - val_loss: 1.3570\n",
      "Epoch 79/100\n",
      "97/97 [==============================] - 1s 11ms/step - loss: 1.3568 - val_loss: 1.3541\n"
     ]
    },
    {
     "name": "stdout",
     "output_type": "stream",
     "text": [
      "Epoch 80/100\n",
      "97/97 [==============================] - 1s 13ms/step - loss: 1.3433 - val_loss: 1.3596\n",
      "Epoch 81/100\n",
      "97/97 [==============================] - 1s 13ms/step - loss: 1.3498 - val_loss: 1.3548\n",
      "Epoch 82/100\n",
      "97/97 [==============================] - 1s 12ms/step - loss: 1.3471 - val_loss: 1.3444\n",
      "Epoch 83/100\n",
      "97/97 [==============================] - 1s 11ms/step - loss: 1.3371 - val_loss: 1.3433\n",
      "Epoch 84/100\n",
      "97/97 [==============================] - 1s 13ms/step - loss: 1.3367 - val_loss: 1.3456\n",
      "Epoch 85/100\n",
      "97/97 [==============================] - 1s 12ms/step - loss: 1.3268 - val_loss: 1.4296\n",
      "Epoch 86/100\n",
      "97/97 [==============================] - 1s 14ms/step - loss: 1.3904 - val_loss: 1.3585\n",
      "Epoch 87/100\n",
      "97/97 [==============================] - 1s 12ms/step - loss: 1.3503 - val_loss: 1.3413\n",
      "Epoch 88/100\n",
      "97/97 [==============================] - 1s 11ms/step - loss: 1.3332 - val_loss: 1.3483\n",
      "Epoch 89/100\n",
      "97/97 [==============================] - 1s 11ms/step - loss: 1.3510 - val_loss: 1.3328\n",
      "Epoch 90/100\n",
      "97/97 [==============================] - 1s 11ms/step - loss: 1.3264 - val_loss: 1.3277\n",
      "Epoch 91/100\n",
      "97/97 [==============================] - 1s 11ms/step - loss: 1.3068 - val_loss: 1.3278\n",
      "Epoch 92/100\n",
      "97/97 [==============================] - 1s 12ms/step - loss: 1.3311 - val_loss: 1.3271\n",
      "Epoch 93/100\n",
      "97/97 [==============================] - 1s 12ms/step - loss: 1.3177 - val_loss: 1.3309\n",
      "Epoch 94/100\n",
      "97/97 [==============================] - 1s 12ms/step - loss: 1.3123 - val_loss: 1.3179\n",
      "Epoch 95/100\n",
      "97/97 [==============================] - 1s 12ms/step - loss: 1.3061 - val_loss: 1.3214\n",
      "Epoch 96/100\n",
      "97/97 [==============================] - 1s 11ms/step - loss: 1.3549 - val_loss: 1.3915\n",
      "Epoch 97/100\n",
      "97/97 [==============================] - 1s 11ms/step - loss: 1.3721 - val_loss: 1.3567\n",
      "Epoch 98/100\n",
      "97/97 [==============================] - 1s 12ms/step - loss: 1.3450 - val_loss: 1.3426\n",
      "Epoch 99/100\n",
      "97/97 [==============================] - 1s 12ms/step - loss: 1.3236 - val_loss: 1.3198\n",
      "Epoch 100/100\n",
      "97/97 [==============================] - 1s 12ms/step - loss: 1.3519 - val_loss: 1.3284\n"
     ]
    }
   ],
   "source": [
    "hist = sequence_autoencoder.fit(X_train, y_train,\n",
    "                epochs=epochs,\n",
    "                batch_size=batch_size,\n",
    "                shuffle=True,\n",
    "                validation_data=(X_test, y_test),\n",
    "                callbacks=[mc, WandbCallback()])"
   ]
  },
  {
   "cell_type": "code",
   "execution_count": 51,
   "metadata": {
    "scrolled": false
   },
   "outputs": [
    {
     "data": {
      "image/png": "[encoded data removed]",
      "text/plain": [
       "<Figure size 1440x432 with 1 Axes>"
      ]
     },
     "metadata": {
      "needs_background": "light"
     },
     "output_type": "display_data"
    }
   ],
   "source": [
    "plt.figure(figsize=(20, 6))\n",
    "\n",
    "plt.plot(hist.history['loss'], label='training')\n",
    "plt.plot(hist.history['val_loss'], label='testing')\n",
    "plt.legend()\n",
    "\n",
    "plt.savefig(f'figures/{name}', dpi=400)"
   ]
  },
  {
   "cell_type": "code",
   "execution_count": 52,
   "metadata": {},
   "outputs": [],
   "source": [
    "sequence_autoencoder = load_model(f'Models/{name}.hdf5')"
   ]
  },
  {
   "cell_type": "code",
   "execution_count": 53,
   "metadata": {},
   "outputs": [
    {
     "data": {
      "text/plain": [
       "0.5053956106252024"
      ]
     },
     "execution_count": 53,
     "metadata": {},
     "output_type": "execute_result"
    }
   ],
   "source": [
    "preds = sequence_autoencoder.predict(X_train).argmax(axis=-1)\n",
    "accuracy_score(y_train.argmax(-1).reshape(-1), preds.reshape(-1))"
   ]
  },
  {
   "cell_type": "code",
   "execution_count": 54,
   "metadata": {},
   "outputs": [
    {
     "data": {
      "text/plain": [
       "0.50390625"
      ]
     },
     "execution_count": 54,
     "metadata": {},
     "output_type": "execute_result"
    }
   ],
   "source": [
    "preds = sequence_autoencoder.predict(X_test).argmax(axis=-1)\n",
    "accuracy_score(y_test.argmax(-1).reshape(-1), preds.reshape(-1))"
   ]
  },
  {
   "cell_type": "markdown",
   "metadata": {},
   "source": [
    "## Model 4: Embedding-Conv1D-MaxPooling1D-Conv1D-MaxPooling1D-Conv1D Encoder Conv1D-Upsampling1D-Conv1D-Upsampling1D-Conv1D-Dense Decoder"
   ]
  },
  {
   "cell_type": "code",
   "execution_count": 12,
   "metadata": {},
   "outputs": [
    {
     "name": "stderr",
     "output_type": "stream",
     "text": [
      "wandb: Currently logged in as: raraz15 (use `wandb login --relogin` to force relogin)\n"
     ]
    },
    {
     "data": {
      "text/html": [
       "\n",
       "                Tracking run with wandb version 0.10.30<br/>\n",
       "                Syncing run <strong style=\"color:#cdcd00\">eternal-meadow-10</strong> to <a href=\"https://wandb.ai\" target=\"_blank\">Weights & Biases</a> <a href=\"https://docs.wandb.com/integrations/jupyter.html\" target=\"_blank\">(Documentation)</a>.<br/>\n",
       "                Project page: <a href=\"https://wandb.ai/nbg/Keras_runs\" target=\"_blank\">https://wandb.ai/nbg/Keras_runs</a><br/>\n",
       "                Run page: <a href=\"https://wandb.ai/nbg/Keras_runs/runs/18t93wvf\" target=\"_blank\">https://wandb.ai/nbg/Keras_runs/runs/18t93wvf</a><br/>\n",
       "                Run data is saved locally in <code>/scratch/users/udemir15/Bassline-Generator/generator/wandb/run-20210526_031716-18t93wvf</code><br/><br/>\n",
       "            "
      ],
      "text/plain": [
       "<IPython.core.display.HTML object>"
      ]
     },
     "metadata": {},
     "output_type": "display_data"
    },
    {
     "data": {
      "text/html": [
       "<h1>Run(18t93wvf)</h1><iframe src=\"https://wandb.ai/nbg/Keras_runs/runs/18t93wvf\" style=\"border:none;width:100%;height:400px\"></iframe>"
      ],
      "text/plain": [
       "<wandb.sdk.wandb_run.Run at 0x2b86a5193310>"
      ]
     },
     "execution_count": 12,
     "metadata": {},
     "output_type": "execute_result"
    }
   ],
   "source": [
    "wandb.init(project='Keras_runs', entity='nbg')"
   ]
  },
  {
   "cell_type": "code",
   "execution_count": 13,
   "metadata": {},
   "outputs": [],
   "source": [
    "name = 'NBG_conv'"
   ]
  },
  {
   "cell_type": "code",
   "execution_count": 14,
   "metadata": {},
   "outputs": [],
   "source": [
    "#timesteps = 64  # Length of your sequences\n",
    "embed_size = 32\n",
    "latent_dim = 256\n",
    "dropout = 0\n",
    "\n",
    "inputs = Input(shape=(timesteps,))\n",
    "embedded = Embedding(vocab_size, embed_size)(inputs)\n",
    "encoded = Conv1D(latent_dim, 3, activation='relu', padding='same')(embedded)\n",
    "encoded = MaxPooling1D(2, padding='same')(encoded)\n",
    "encoded = Conv1D(2 * latent_dim, 3, activation='relu', padding='same')(encoded)\n",
    "encoded = MaxPooling1D(2, padding='same')(encoded)\n",
    "\n",
    "decoded = Conv1D(2 * latent_dim, 3, activation='relu', padding='same')(encoded)\n",
    "decoded = UpSampling1D(2)(decoded)\n",
    "decoded = Conv1D(latent_dim, 3, activation='relu', padding='same')(decoded)\n",
    "decoded = UpSampling1D(2)(decoded)\n",
    "decoded = Conv1D(1, 3, activation='relu', padding='same')(decoded)\n",
    "decoded = Dense(vocab_size, activation='softmax')(decoded)\n",
    "\n",
    "sequence_autoencoder = Model(inputs, decoded)"
   ]
  },
  {
   "cell_type": "code",
   "execution_count": 15,
   "metadata": {},
   "outputs": [
    {
     "name": "stdout",
     "output_type": "stream",
     "text": [
      "Model: \"model\"\n",
      "_________________________________________________________________\n",
      "Layer (type)                 Output Shape              Param #   \n",
      "=================================================================\n",
      "input_1 (InputLayer)         [(None, 64)]              0         \n",
      "_________________________________________________________________\n",
      "embedding (Embedding)        (None, 64, 32)            1216      \n",
      "_________________________________________________________________\n",
      "conv1d (Conv1D)              (None, 64, 256)           24832     \n",
      "_________________________________________________________________\n",
      "max_pooling1d (MaxPooling1D) (None, 32, 256)           0         \n",
      "_________________________________________________________________\n",
      "conv1d_1 (Conv1D)            (None, 32, 512)           393728    \n",
      "_________________________________________________________________\n",
      "max_pooling1d_1 (MaxPooling1 (None, 16, 512)           0         \n",
      "_________________________________________________________________\n",
      "conv1d_2 (Conv1D)            (None, 16, 512)           786944    \n",
      "_________________________________________________________________\n",
      "up_sampling1d (UpSampling1D) (None, 32, 512)           0         \n",
      "_________________________________________________________________\n",
      "conv1d_3 (Conv1D)            (None, 32, 256)           393472    \n",
      "_________________________________________________________________\n",
      "up_sampling1d_1 (UpSampling1 (None, 64, 256)           0         \n",
      "_________________________________________________________________\n",
      "conv1d_4 (Conv1D)            (None, 64, 1)             769       \n",
      "_________________________________________________________________\n",
      "dense (Dense)                (None, 64, 38)            76        \n",
      "=================================================================\n",
      "Total params: 1,601,037\n",
      "Trainable params: 1,601,037\n",
      "Non-trainable params: 0\n",
      "_________________________________________________________________\n"
     ]
    }
   ],
   "source": [
    "sequence_autoencoder.summary()"
   ]
  },
  {
   "cell_type": "code",
   "execution_count": 16,
   "metadata": {},
   "outputs": [],
   "source": [
    "encoder = Model(inputs, encoded)\n",
    "# This is our encoded (32-dimensional) input\n",
    "encoded_input = Input(shape=(timesteps//4,2*latent_dim,))\n",
    "# Retrieve the last layer of the autoencoder model\n",
    "decoder_layers = sequence_autoencoder.layers[-6:]\n",
    "decoded_input = decoder_layers[0](encoded_input)\n",
    "for decoder_layer in decoder_layers[1:]:\n",
    "    decoded_input = decoder_layer(decoded_input)\n",
    "# Create the decoder model\n",
    "decoder = Model(encoded_input, decoded_input)"
   ]
  },
  {
   "cell_type": "code",
   "execution_count": 17,
   "metadata": {},
   "outputs": [
    {
     "name": "stdout",
     "output_type": "stream",
     "text": [
      "Model: \"model_1\"\n",
      "_________________________________________________________________\n",
      "Layer (type)                 Output Shape              Param #   \n",
      "=================================================================\n",
      "input_1 (InputLayer)         [(None, 64)]              0         \n",
      "_________________________________________________________________\n",
      "embedding (Embedding)        (None, 64, 32)            1216      \n",
      "_________________________________________________________________\n",
      "conv1d (Conv1D)              (None, 64, 256)           24832     \n",
      "_________________________________________________________________\n",
      "max_pooling1d (MaxPooling1D) (None, 32, 256)           0         \n",
      "_________________________________________________________________\n",
      "conv1d_1 (Conv1D)            (None, 32, 512)           393728    \n",
      "_________________________________________________________________\n",
      "max_pooling1d_1 (MaxPooling1 (None, 16, 512)           0         \n",
      "=================================================================\n",
      "Total params: 419,776\n",
      "Trainable params: 419,776\n",
      "Non-trainable params: 0\n",
      "_________________________________________________________________\n"
     ]
    }
   ],
   "source": [
    "encoder.summary()"
   ]
  },
  {
   "cell_type": "code",
   "execution_count": 18,
   "metadata": {},
   "outputs": [
    {
     "name": "stdout",
     "output_type": "stream",
     "text": [
      "Model: \"model_2\"\n",
      "_________________________________________________________________\n",
      "Layer (type)                 Output Shape              Param #   \n",
      "=================================================================\n",
      "input_2 (InputLayer)         [(None, 16, 512)]         0         \n",
      "_________________________________________________________________\n",
      "conv1d_2 (Conv1D)            (None, 16, 512)           786944    \n",
      "_________________________________________________________________\n",
      "up_sampling1d (UpSampling1D) (None, 32, 512)           0         \n",
      "_________________________________________________________________\n",
      "conv1d_3 (Conv1D)            (None, 32, 256)           393472    \n",
      "_________________________________________________________________\n",
      "up_sampling1d_1 (UpSampling1 (None, 64, 256)           0         \n",
      "_________________________________________________________________\n",
      "conv1d_4 (Conv1D)            (None, 64, 1)             769       \n",
      "_________________________________________________________________\n",
      "dense (Dense)                (None, 64, 38)            76        \n",
      "=================================================================\n",
      "Total params: 1,181,261\n",
      "Trainable params: 1,181,261\n",
      "Non-trainable params: 0\n",
      "_________________________________________________________________\n"
     ]
    }
   ],
   "source": [
    "decoder.summary()"
   ]
  },
  {
   "cell_type": "code",
   "execution_count": 22,
   "metadata": {},
   "outputs": [],
   "source": [
    "learning_rate = 5e-3\n",
    "epochs = 5000\n",
    "batch_size = 32\n",
    "wandb.config.learning_rate = learning_rate\n",
    "wandb.config.epochs = epochs\n",
    "wandb.config.batch_size = batch_size\n",
    "wandb.config.model = name\n",
    "\n",
    "mc = ModelCheckpoint(f'Models/{name}.hdf5', monitor='val_loss')\n",
    "\n",
    "optimizer = Adam(learning_rate=learning_rate)\n",
    "\n",
    "sequence_autoencoder.compile(optimizer, loss='categorical_crossentropy')"
   ]
  },
  {
   "cell_type": "code",
   "execution_count": null,
   "metadata": {
    "scrolled": true
   },
   "outputs": [
    {
     "name": "stdout",
     "output_type": "stream",
     "text": [
      "Epoch 1/5000\n",
      "97/97 [==============================] - 3s 18ms/step - loss: 3.4752 - val_loss: 3.0354\n",
      "Epoch 2/5000\n",
      "97/97 [==============================] - 1s 9ms/step - loss: 2.9158 - val_loss: 2.5889\n",
      "Epoch 3/5000\n",
      "97/97 [==============================] - 1s 9ms/step - loss: 2.5211 - val_loss: 2.3023\n",
      "Epoch 4/5000\n",
      "97/97 [==============================] - 1s 9ms/step - loss: 2.2694 - val_loss: 2.1433\n",
      "Epoch 5/5000\n",
      "97/97 [==============================] - 1s 9ms/step - loss: 2.1391 - val_loss: 2.0614\n",
      "Epoch 6/5000\n",
      "97/97 [==============================] - 1s 9ms/step - loss: 2.0683 - val_loss: 2.0187\n",
      "Epoch 7/5000\n",
      "97/97 [==============================] - 1s 9ms/step - loss: 2.0352 - val_loss: 1.9954\n",
      "Epoch 8/5000\n",
      "97/97 [==============================] - 1s 9ms/step - loss: 2.0065 - val_loss: 1.9816\n",
      "Epoch 9/5000\n",
      "97/97 [==============================] - 1s 9ms/step - loss: 2.0104 - val_loss: 1.9724\n",
      "Epoch 10/5000\n",
      "97/97 [==============================] - 1s 9ms/step - loss: 1.9838 - val_loss: 1.9664\n",
      "Epoch 11/5000\n",
      "97/97 [==============================] - 1s 10ms/step - loss: 1.9831 - val_loss: 1.9620\n",
      "Epoch 12/5000\n",
      "97/97 [==============================] - 1s 9ms/step - loss: 1.9819 - val_loss: 1.9588\n",
      "Epoch 13/5000\n",
      "97/97 [==============================] - 1s 9ms/step - loss: 1.9760 - val_loss: 1.9562\n",
      "Epoch 14/5000\n",
      "97/97 [==============================] - 1s 9ms/step - loss: 1.9759 - val_loss: 1.9543\n",
      "Epoch 15/5000\n",
      "97/97 [==============================] - 1s 9ms/step - loss: 1.9930 - val_loss: 1.9527\n",
      "Epoch 16/5000\n",
      "97/97 [==============================] - 1s 9ms/step - loss: 1.9792 - val_loss: 1.9514\n",
      "Epoch 17/5000\n",
      "97/97 [==============================] - 1s 10ms/step - loss: 1.9677 - val_loss: 1.9504\n",
      "Epoch 18/5000\n",
      "97/97 [==============================] - 1s 9ms/step - loss: 1.9669 - val_loss: 1.9496\n",
      "Epoch 19/5000\n",
      "97/97 [==============================] - 1s 9ms/step - loss: 1.9789 - val_loss: 1.9488\n",
      "Epoch 20/5000\n",
      "97/97 [==============================] - 1s 9ms/step - loss: 1.9752 - val_loss: 1.9483\n",
      "Epoch 21/5000\n",
      "97/97 [==============================] - 1s 9ms/step - loss: 1.9910 - val_loss: 1.9479\n",
      "Epoch 22/5000\n",
      "97/97 [==============================] - 1s 9ms/step - loss: 1.9758 - val_loss: 1.9474\n",
      "Epoch 23/5000\n",
      "97/97 [==============================] - 1s 9ms/step - loss: 1.9885 - val_loss: 1.9471\n",
      "Epoch 24/5000\n",
      "97/97 [==============================] - 1s 9ms/step - loss: 1.9690 - val_loss: 1.9468\n",
      "Epoch 25/5000\n",
      "97/97 [==============================] - 1s 9ms/step - loss: 1.9678 - val_loss: 1.9464\n",
      "Epoch 26/5000\n",
      "97/97 [==============================] - 1s 9ms/step - loss: 1.9771 - val_loss: 1.9462\n",
      "Epoch 27/5000\n",
      "97/97 [==============================] - 1s 9ms/step - loss: 1.9684 - val_loss: 1.9461\n",
      "Epoch 28/5000\n",
      "97/97 [==============================] - 1s 9ms/step - loss: 1.9682 - val_loss: 1.9459\n",
      "Epoch 29/5000\n",
      "97/97 [==============================] - 1s 9ms/step - loss: 1.9631 - val_loss: 1.9457\n",
      "Epoch 30/5000\n",
      "97/97 [==============================] - 1s 9ms/step - loss: 1.9763 - val_loss: 1.9456\n",
      "Epoch 31/5000\n",
      "97/97 [==============================] - 1s 9ms/step - loss: 1.9718 - val_loss: 1.9454\n",
      "Epoch 32/5000\n",
      "97/97 [==============================] - 1s 9ms/step - loss: 1.9608 - val_loss: 1.9453\n",
      "Epoch 33/5000\n",
      "97/97 [==============================] - 1s 9ms/step - loss: 1.9811 - val_loss: 1.9452\n",
      "Epoch 34/5000\n",
      "97/97 [==============================] - 1s 9ms/step - loss: 1.9748 - val_loss: 1.9451\n",
      "Epoch 35/5000\n",
      "97/97 [==============================] - 1s 9ms/step - loss: 1.9600 - val_loss: 1.9452\n",
      "Epoch 36/5000\n",
      "97/97 [==============================] - 1s 9ms/step - loss: 1.9621 - val_loss: 1.9451\n",
      "Epoch 37/5000\n",
      "97/97 [==============================] - 1s 9ms/step - loss: 1.9801 - val_loss: 1.9450\n",
      "Epoch 38/5000\n",
      "97/97 [==============================] - 1s 13ms/step - loss: 1.9586 - val_loss: 1.9449\n",
      "Epoch 39/5000\n",
      "97/97 [==============================] - 1s 11ms/step - loss: 1.9692 - val_loss: 1.9451\n",
      "Epoch 40/5000\n",
      "97/97 [==============================] - 1s 12ms/step - loss: 1.9548 - val_loss: 1.9450\n",
      "Epoch 41/5000\n",
      "97/97 [==============================] - 1s 12ms/step - loss: 1.9599 - val_loss: 1.9449\n",
      "Epoch 42/5000\n",
      "97/97 [==============================] - 1s 11ms/step - loss: 1.9649 - val_loss: 1.9450\n",
      "Epoch 43/5000\n",
      "97/97 [==============================] - 1s 10ms/step - loss: 1.9679 - val_loss: 1.9449\n",
      "Epoch 44/5000\n",
      "97/97 [==============================] - 1s 10ms/step - loss: 1.9743 - val_loss: 1.9448\n",
      "Epoch 45/5000\n",
      "97/97 [==============================] - 1s 9ms/step - loss: 1.9700 - val_loss: 1.9450\n",
      "Epoch 46/5000\n",
      "97/97 [==============================] - 1s 9ms/step - loss: 1.9752 - val_loss: 1.9449\n",
      "Epoch 47/5000\n",
      "97/97 [==============================] - 1s 9ms/step - loss: 1.9743 - val_loss: 1.9448\n",
      "Epoch 48/5000\n",
      "97/97 [==============================] - 1s 9ms/step - loss: 1.9704 - val_loss: 1.9448\n",
      "Epoch 49/5000\n",
      "97/97 [==============================] - 1s 9ms/step - loss: 1.9628 - val_loss: 1.9449\n",
      "Epoch 50/5000\n",
      "97/97 [==============================] - 1s 9ms/step - loss: 1.9694 - val_loss: 1.9448\n",
      "Epoch 51/5000\n",
      "97/97 [==============================] - 1s 9ms/step - loss: 1.9675 - val_loss: 1.9449\n",
      "Epoch 52/5000\n",
      "97/97 [==============================] - 1s 9ms/step - loss: 1.9730 - val_loss: 1.9447\n",
      "Epoch 53/5000\n",
      "97/97 [==============================] - 1s 9ms/step - loss: 1.9647 - val_loss: 1.9447\n",
      "Epoch 54/5000\n",
      "97/97 [==============================] - 1s 9ms/step - loss: 1.9663 - val_loss: 1.9447\n",
      "Epoch 55/5000\n",
      "97/97 [==============================] - 1s 9ms/step - loss: 1.9633 - val_loss: 1.9447\n",
      "Epoch 56/5000\n",
      "97/97 [==============================] - 1s 9ms/step - loss: 1.9707 - val_loss: 1.9447\n",
      "Epoch 57/5000\n",
      "97/97 [==============================] - 1s 9ms/step - loss: 1.9677 - val_loss: 1.9447\n",
      "Epoch 58/5000\n",
      "97/97 [==============================] - 1s 9ms/step - loss: 1.9663 - val_loss: 1.9447\n",
      "Epoch 59/5000\n",
      "97/97 [==============================] - 1s 9ms/step - loss: 1.9710 - val_loss: 1.9447\n",
      "Epoch 60/5000\n",
      "97/97 [==============================] - 1s 10ms/step - loss: 1.9640 - val_loss: 1.9448\n",
      "Epoch 61/5000\n",
      "97/97 [==============================] - 1s 9ms/step - loss: 1.9663 - val_loss: 1.9449\n",
      "Epoch 62/5000\n",
      "97/97 [==============================] - 1s 9ms/step - loss: 1.9627 - val_loss: 1.9448\n",
      "Epoch 63/5000\n",
      "97/97 [==============================] - 1s 9ms/step - loss: 1.9544 - val_loss: 1.9448\n",
      "Epoch 64/5000\n",
      "97/97 [==============================] - 1s 10ms/step - loss: 1.9794 - val_loss: 1.9450\n",
      "Epoch 65/5000\n",
      "97/97 [==============================] - 1s 10ms/step - loss: 1.9658 - val_loss: 1.9448\n",
      "Epoch 66/5000\n",
      "97/97 [==============================] - 1s 10ms/step - loss: 1.9680 - val_loss: 1.9448\n",
      "Epoch 67/5000\n",
      "97/97 [==============================] - 1s 10ms/step - loss: 1.9711 - val_loss: 1.9448\n",
      "Epoch 68/5000\n",
      "97/97 [==============================] - 1s 11ms/step - loss: 1.9626 - val_loss: 1.9449\n",
      "Epoch 69/5000\n",
      "97/97 [==============================] - 1s 10ms/step - loss: 1.9746 - val_loss: 1.9448\n",
      "Epoch 70/5000\n",
      "97/97 [==============================] - 1s 11ms/step - loss: 1.9586 - val_loss: 1.9449\n",
      "Epoch 71/5000\n",
      "97/97 [==============================] - 1s 10ms/step - loss: 1.9617 - val_loss: 1.9450\n",
      "Epoch 72/5000\n",
      "97/97 [==============================] - 1s 9ms/step - loss: 1.9754 - val_loss: 1.9448\n",
      "Epoch 73/5000\n",
      "97/97 [==============================] - 1s 10ms/step - loss: 1.9737 - val_loss: 1.9449\n",
      "Epoch 74/5000\n",
      "97/97 [==============================] - 1s 10ms/step - loss: 1.9588 - val_loss: 1.9448\n",
      "Epoch 75/5000\n",
      "97/97 [==============================] - 1s 10ms/step - loss: 1.9694 - val_loss: 1.9448\n",
      "Epoch 76/5000\n",
      "97/97 [==============================] - 1s 9ms/step - loss: 1.9729 - val_loss: 1.9448\n",
      "Epoch 77/5000\n",
      "97/97 [==============================] - 1s 9ms/step - loss: 1.9754 - val_loss: 1.9448\n",
      "Epoch 78/5000\n",
      "97/97 [==============================] - 1s 9ms/step - loss: 1.9678 - val_loss: 1.9448\n",
      "Epoch 79/5000\n",
      "97/97 [==============================] - 1s 9ms/step - loss: 1.9552 - val_loss: 1.9449\n",
      "Epoch 80/5000\n",
      "97/97 [==============================] - 1s 9ms/step - loss: 1.9586 - val_loss: 1.9449\n",
      "Epoch 81/5000\n",
      "97/97 [==============================] - 1s 9ms/step - loss: 1.9622 - val_loss: 1.9448\n"
     ]
    },
    {
     "name": "stdout",
     "output_type": "stream",
     "text": [
      "Epoch 82/5000\n",
      "97/97 [==============================] - 1s 9ms/step - loss: 1.9780 - val_loss: 1.9450\n",
      "Epoch 83/5000\n",
      "97/97 [==============================] - 1s 9ms/step - loss: 1.9752 - val_loss: 1.9449\n",
      "Epoch 84/5000\n",
      "97/97 [==============================] - 1s 8ms/step - loss: 1.9619 - val_loss: 1.9449\n",
      "Epoch 85/5000\n",
      "97/97 [==============================] - 1s 9ms/step - loss: 1.9637 - val_loss: 1.9449\n",
      "Epoch 86/5000\n",
      "97/97 [==============================] - 1s 9ms/step - loss: 1.9758 - val_loss: 1.9449\n",
      "Epoch 87/5000\n",
      "97/97 [==============================] - 1s 9ms/step - loss: 1.9781 - val_loss: 1.9448\n",
      "Epoch 88/5000\n",
      "97/97 [==============================] - 1s 10ms/step - loss: 1.9618 - val_loss: 1.9448\n",
      "Epoch 89/5000\n",
      "97/97 [==============================] - 1s 10ms/step - loss: 1.9764 - val_loss: 1.9448\n",
      "Epoch 90/5000\n",
      "97/97 [==============================] - 1s 9ms/step - loss: 1.9670 - val_loss: 1.9448\n",
      "Epoch 91/5000\n",
      "97/97 [==============================] - 1s 9ms/step - loss: 1.9692 - val_loss: 1.9448\n",
      "Epoch 92/5000\n",
      "97/97 [==============================] - 1s 12ms/step - loss: 1.9665 - val_loss: 1.9449\n",
      "Epoch 93/5000\n",
      "97/97 [==============================] - 1s 10ms/step - loss: 1.9649 - val_loss: 1.9450\n",
      "Epoch 94/5000\n",
      "97/97 [==============================] - 1s 9ms/step - loss: 1.9693 - val_loss: 1.9449\n",
      "Epoch 95/5000\n",
      "97/97 [==============================] - 1s 9ms/step - loss: 1.9605 - val_loss: 1.9448\n",
      "Epoch 96/5000\n",
      "97/97 [==============================] - 1s 9ms/step - loss: 1.9758 - val_loss: 1.9448\n",
      "Epoch 97/5000\n",
      "97/97 [==============================] - 1s 9ms/step - loss: 1.9770 - val_loss: 1.9448\n",
      "Epoch 98/5000\n",
      "97/97 [==============================] - 1s 9ms/step - loss: 1.9667 - val_loss: 1.9448\n",
      "Epoch 99/5000\n",
      "97/97 [==============================] - 1s 9ms/step - loss: 1.9698 - val_loss: 1.9449\n",
      "Epoch 100/5000\n",
      "97/97 [==============================] - 1s 9ms/step - loss: 1.9757 - val_loss: 1.9448\n",
      "Epoch 101/5000\n",
      "97/97 [==============================] - 1s 9ms/step - loss: 1.9574 - val_loss: 1.9447\n",
      "Epoch 102/5000\n",
      "97/97 [==============================] - 1s 9ms/step - loss: 1.9723 - val_loss: 1.9449\n",
      "Epoch 103/5000\n",
      "97/97 [==============================] - 1s 9ms/step - loss: 1.9740 - val_loss: 1.9449\n",
      "Epoch 104/5000\n",
      "97/97 [==============================] - 1s 9ms/step - loss: 1.9661 - val_loss: 1.9448\n",
      "Epoch 105/5000\n",
      "97/97 [==============================] - 1s 9ms/step - loss: 1.9641 - val_loss: 1.9448\n",
      "Epoch 106/5000\n",
      "97/97 [==============================] - 1s 9ms/step - loss: 1.9740 - val_loss: 1.9449\n",
      "Epoch 107/5000\n",
      "97/97 [==============================] - 1s 9ms/step - loss: 1.9548 - val_loss: 1.9450\n",
      "Epoch 108/5000\n",
      "97/97 [==============================] - 1s 9ms/step - loss: 1.9607 - val_loss: 1.9450\n",
      "Epoch 109/5000\n",
      "97/97 [==============================] - 1s 9ms/step - loss: 1.9689 - val_loss: 1.9449\n",
      "Epoch 110/5000\n",
      "97/97 [==============================] - 1s 9ms/step - loss: 1.9722 - val_loss: 1.9448\n",
      "Epoch 111/5000\n",
      "97/97 [==============================] - 1s 9ms/step - loss: 1.9775 - val_loss: 1.9447\n",
      "Epoch 112/5000\n",
      "97/97 [==============================] - 1s 9ms/step - loss: 1.9620 - val_loss: 1.9448\n",
      "Epoch 113/5000\n",
      "97/97 [==============================] - 1s 9ms/step - loss: 1.9748 - val_loss: 1.9447\n",
      "Epoch 114/5000\n",
      "97/97 [==============================] - 1s 9ms/step - loss: 1.9802 - val_loss: 1.9448\n",
      "Epoch 115/5000\n",
      "97/97 [==============================] - 1s 9ms/step - loss: 1.9739 - val_loss: 1.9448\n",
      "Epoch 116/5000\n",
      "97/97 [==============================] - 1s 9ms/step - loss: 1.9649 - val_loss: 1.9449\n",
      "Epoch 117/5000\n",
      "97/97 [==============================] - 1s 11ms/step - loss: 1.9777 - val_loss: 1.9448\n",
      "Epoch 118/5000\n",
      "97/97 [==============================] - 1s 9ms/step - loss: 1.9784 - val_loss: 1.9448\n",
      "Epoch 119/5000\n",
      "97/97 [==============================] - 1s 9ms/step - loss: 1.9756 - val_loss: 1.9449\n",
      "Epoch 120/5000\n",
      "97/97 [==============================] - 1s 9ms/step - loss: 1.9650 - val_loss: 1.9448\n",
      "Epoch 121/5000\n",
      "97/97 [==============================] - 1s 9ms/step - loss: 1.9720 - val_loss: 1.9449\n",
      "Epoch 122/5000\n",
      "97/97 [==============================] - 1s 9ms/step - loss: 1.9599 - val_loss: 1.9449\n",
      "Epoch 123/5000\n",
      "97/97 [==============================] - 1s 9ms/step - loss: 1.9678 - val_loss: 1.9447\n",
      "Epoch 124/5000\n",
      "97/97 [==============================] - 1s 9ms/step - loss: 1.9666 - val_loss: 1.9449\n",
      "Epoch 125/5000\n",
      "97/97 [==============================] - 1s 9ms/step - loss: 1.9649 - val_loss: 1.9449\n",
      "Epoch 126/5000\n",
      "97/97 [==============================] - 1s 9ms/step - loss: 1.9692 - val_loss: 1.9448\n",
      "Epoch 127/5000\n",
      "97/97 [==============================] - 1s 9ms/step - loss: 1.9721 - val_loss: 1.9448\n",
      "Epoch 128/5000\n",
      "97/97 [==============================] - 1s 9ms/step - loss: 1.9600 - val_loss: 1.9448\n",
      "Epoch 129/5000\n",
      "97/97 [==============================] - 1s 9ms/step - loss: 1.9765 - val_loss: 1.9448\n",
      "Epoch 130/5000\n",
      "97/97 [==============================] - 1s 9ms/step - loss: 1.9665 - val_loss: 1.9450\n",
      "Epoch 131/5000\n",
      "97/97 [==============================] - 1s 9ms/step - loss: 1.9620 - val_loss: 1.9449\n",
      "Epoch 132/5000\n",
      "97/97 [==============================] - 1s 9ms/step - loss: 1.9710 - val_loss: 1.9448\n",
      "Epoch 133/5000\n",
      "97/97 [==============================] - 1s 9ms/step - loss: 1.9670 - val_loss: 1.9448\n",
      "Epoch 134/5000\n",
      "97/97 [==============================] - 1s 9ms/step - loss: 1.9695 - val_loss: 1.9448\n",
      "Epoch 135/5000\n",
      "97/97 [==============================] - 1s 9ms/step - loss: 1.9775 - val_loss: 1.9447\n",
      "Epoch 136/5000\n",
      "97/97 [==============================] - 1s 9ms/step - loss: 1.9751 - val_loss: 1.9448\n",
      "Epoch 137/5000\n",
      "97/97 [==============================] - 1s 9ms/step - loss: 1.9691 - val_loss: 1.9448\n",
      "Epoch 138/5000\n",
      "97/97 [==============================] - 1s 9ms/step - loss: 1.9787 - val_loss: 1.9448\n",
      "Epoch 139/5000\n",
      "97/97 [==============================] - 1s 9ms/step - loss: 1.9603 - val_loss: 1.9448\n",
      "Epoch 140/5000\n",
      "97/97 [==============================] - 1s 10ms/step - loss: 1.9737 - val_loss: 1.9448\n",
      "Epoch 141/5000\n",
      "97/97 [==============================] - 1s 10ms/step - loss: 1.9698 - val_loss: 1.9449\n",
      "Epoch 142/5000\n",
      "97/97 [==============================] - 1s 9ms/step - loss: 1.9737 - val_loss: 1.9448\n",
      "Epoch 143/5000\n",
      "97/97 [==============================] - 1s 9ms/step - loss: 1.9638 - val_loss: 1.9449\n",
      "Epoch 144/5000\n",
      "97/97 [==============================] - 1s 9ms/step - loss: 1.9601 - val_loss: 1.9450\n",
      "Epoch 145/5000\n",
      "97/97 [==============================] - 1s 11ms/step - loss: 1.9760 - val_loss: 1.9449\n",
      "Epoch 146/5000\n",
      "97/97 [==============================] - 1s 10ms/step - loss: 1.9733 - val_loss: 1.9449\n",
      "Epoch 147/5000\n",
      "97/97 [==============================] - 1s 11ms/step - loss: 1.9605 - val_loss: 1.9449\n",
      "Epoch 148/5000\n",
      "97/97 [==============================] - 1s 9ms/step - loss: 1.9770 - val_loss: 1.9448\n",
      "Epoch 149/5000\n",
      "97/97 [==============================] - 1s 9ms/step - loss: 1.9614 - val_loss: 1.9451\n",
      "Epoch 150/5000\n",
      "97/97 [==============================] - 1s 10ms/step - loss: 1.9677 - val_loss: 1.9448\n",
      "Epoch 151/5000\n",
      "97/97 [==============================] - 1s 10ms/step - loss: 1.9709 - val_loss: 1.9449\n",
      "Epoch 152/5000\n",
      "97/97 [==============================] - 1s 9ms/step - loss: 1.9685 - val_loss: 1.9449\n",
      "Epoch 153/5000\n",
      "97/97 [==============================] - 1s 9ms/step - loss: 1.9673 - val_loss: 1.9448\n",
      "Epoch 154/5000\n",
      "97/97 [==============================] - 1s 10ms/step - loss: 1.9655 - val_loss: 1.9448\n",
      "Epoch 155/5000\n",
      "97/97 [==============================] - 1s 10ms/step - loss: 1.9652 - val_loss: 1.9449\n",
      "Epoch 156/5000\n",
      "97/97 [==============================] - 1s 9ms/step - loss: 1.9776 - val_loss: 1.9448\n",
      "Epoch 157/5000\n",
      "97/97 [==============================] - 1s 10ms/step - loss: 1.9553 - val_loss: 1.9448\n",
      "Epoch 158/5000\n",
      "97/97 [==============================] - 1s 10ms/step - loss: 1.9616 - val_loss: 1.9447\n",
      "Epoch 159/5000\n",
      "97/97 [==============================] - 1s 11ms/step - loss: 1.9671 - val_loss: 1.9449\n",
      "Epoch 160/5000\n",
      "97/97 [==============================] - 1s 11ms/step - loss: 1.9715 - val_loss: 1.9448\n",
      "Epoch 161/5000\n",
      "97/97 [==============================] - 1s 10ms/step - loss: 1.9713 - val_loss: 1.9447\n",
      "Epoch 162/5000\n",
      "97/97 [==============================] - 1s 9ms/step - loss: 1.9683 - val_loss: 1.9448\n",
      "Epoch 163/5000\n",
      "97/97 [==============================] - 1s 11ms/step - loss: 1.9610 - val_loss: 1.9450\n",
      "Epoch 164/5000\n",
      "97/97 [==============================] - 1s 10ms/step - loss: 1.9767 - val_loss: 1.9450\n",
      "Epoch 165/5000\n",
      "97/97 [==============================] - 1s 9ms/step - loss: 1.9737 - val_loss: 1.9447\n",
      "Epoch 166/5000\n",
      "97/97 [==============================] - 1s 9ms/step - loss: 1.9641 - val_loss: 1.9450\n",
      "Epoch 167/5000\n",
      "97/97 [==============================] - 1s 9ms/step - loss: 1.9726 - val_loss: 1.9450\n",
      "Epoch 168/5000\n",
      "97/97 [==============================] - 1s 9ms/step - loss: 1.9627 - val_loss: 1.9450\n",
      "Epoch 169/5000\n",
      "97/97 [==============================] - 1s 11ms/step - loss: 1.9690 - val_loss: 1.9447\n",
      "Epoch 170/5000\n",
      "97/97 [==============================] - 1s 9ms/step - loss: 1.9708 - val_loss: 1.9448\n",
      "Epoch 171/5000\n",
      "97/97 [==============================] - 1s 9ms/step - loss: 1.9632 - val_loss: 1.9449\n",
      "Epoch 172/5000\n",
      "97/97 [==============================] - 1s 9ms/step - loss: 1.9592 - val_loss: 1.9450\n",
      "Epoch 173/5000\n",
      "97/97 [==============================] - 1s 9ms/step - loss: 1.9657 - val_loss: 1.9448\n",
      "Epoch 174/5000\n",
      "97/97 [==============================] - 1s 9ms/step - loss: 1.9770 - val_loss: 1.9448\n",
      "Epoch 175/5000\n",
      "97/97 [==============================] - 1s 9ms/step - loss: 1.9680 - val_loss: 1.9448\n",
      "Epoch 176/5000\n",
      "97/97 [==============================] - 1s 9ms/step - loss: 1.9479 - val_loss: 1.9450\n",
      "Epoch 177/5000\n",
      "97/97 [==============================] - 1s 9ms/step - loss: 1.9733 - val_loss: 1.9447\n",
      "Epoch 178/5000\n",
      "97/97 [==============================] - 1s 11ms/step - loss: 1.9631 - val_loss: 1.9449\n",
      "Epoch 179/5000\n",
      "97/97 [==============================] - 1s 9ms/step - loss: 1.9673 - val_loss: 1.9448\n",
      "Epoch 180/5000\n",
      "97/97 [==============================] - 1s 9ms/step - loss: 1.9665 - val_loss: 1.9448\n",
      "Epoch 181/5000\n",
      "97/97 [==============================] - 1s 9ms/step - loss: 1.9691 - val_loss: 1.9447\n",
      "Epoch 182/5000\n",
      "97/97 [==============================] - 1s 9ms/step - loss: 1.9646 - val_loss: 1.9449\n",
      "Epoch 183/5000\n",
      "97/97 [==============================] - 1s 9ms/step - loss: 1.9721 - val_loss: 1.9447\n",
      "Epoch 184/5000\n",
      "97/97 [==============================] - 1s 9ms/step - loss: 1.9683 - val_loss: 1.9447\n",
      "Epoch 185/5000\n",
      "97/97 [==============================] - 1s 9ms/step - loss: 1.9771 - val_loss: 1.9448\n",
      "Epoch 186/5000\n",
      "97/97 [==============================] - 1s 9ms/step - loss: 1.9737 - val_loss: 1.9448\n",
      "Epoch 187/5000\n",
      "97/97 [==============================] - 1s 11ms/step - loss: 1.9727 - val_loss: 1.9448\n",
      "Epoch 188/5000\n",
      "97/97 [==============================] - 1s 9ms/step - loss: 1.9731 - val_loss: 1.9447\n",
      "Epoch 189/5000\n",
      "97/97 [==============================] - 1s 9ms/step - loss: 1.9638 - val_loss: 1.9448\n",
      "Epoch 190/5000\n",
      "97/97 [==============================] - 1s 11ms/step - loss: 1.9789 - val_loss: 1.9448\n",
      "Epoch 191/5000\n",
      "97/97 [==============================] - 1s 10ms/step - loss: 1.9747 - val_loss: 1.9447\n",
      "Epoch 192/5000\n",
      "97/97 [==============================] - 1s 10ms/step - loss: 1.9707 - val_loss: 1.9447\n",
      "Epoch 193/5000\n",
      "97/97 [==============================] - 1s 11ms/step - loss: 1.9682 - val_loss: 1.9448\n",
      "Epoch 194/5000\n",
      "97/97 [==============================] - 1s 12ms/step - loss: 1.9689 - val_loss: 1.9449\n",
      "Epoch 195/5000\n",
      "97/97 [==============================] - 1s 10ms/step - loss: 1.9699 - val_loss: 1.9448\n",
      "Epoch 196/5000\n",
      "97/97 [==============================] - 1s 11ms/step - loss: 1.9626 - val_loss: 1.9448\n",
      "Epoch 197/5000\n",
      "97/97 [==============================] - 1s 10ms/step - loss: 1.9688 - val_loss: 1.9448\n",
      "Epoch 198/5000\n",
      "97/97 [==============================] - 1s 9ms/step - loss: 1.9762 - val_loss: 1.9448\n",
      "Epoch 199/5000\n",
      "97/97 [==============================] - 1s 12ms/step - loss: 1.9734 - val_loss: 1.9449\n",
      "Epoch 200/5000\n",
      "97/97 [==============================] - 1s 9ms/step - loss: 1.9683 - val_loss: 1.9449\n",
      "Epoch 201/5000\n",
      "97/97 [==============================] - 1s 9ms/step - loss: 1.9620 - val_loss: 1.9449\n",
      "Epoch 202/5000\n",
      "97/97 [==============================] - 1s 9ms/step - loss: 1.9626 - val_loss: 1.9449\n",
      "Epoch 203/5000\n",
      "97/97 [==============================] - 1s 9ms/step - loss: 1.9581 - val_loss: 1.9449\n",
      "Epoch 204/5000\n",
      "97/97 [==============================] - 1s 9ms/step - loss: 1.9754 - val_loss: 1.9449\n",
      "Epoch 205/5000\n",
      "97/97 [==============================] - 1s 11ms/step - loss: 1.9715 - val_loss: 1.9448\n",
      "Epoch 206/5000\n",
      "97/97 [==============================] - 1s 9ms/step - loss: 1.9645 - val_loss: 1.9448\n",
      "Epoch 207/5000\n",
      "97/97 [==============================] - 1s 12ms/step - loss: 1.9737 - val_loss: 1.9448\n",
      "Epoch 208/5000\n",
      "97/97 [==============================] - 1s 9ms/step - loss: 1.9637 - val_loss: 1.9449\n",
      "Epoch 209/5000\n",
      "97/97 [==============================] - 1s 10ms/step - loss: 1.9658 - val_loss: 1.9449\n",
      "Epoch 210/5000\n",
      "97/97 [==============================] - 1s 11ms/step - loss: 1.9695 - val_loss: 1.9448\n",
      "Epoch 211/5000\n",
      "97/97 [==============================] - 1s 11ms/step - loss: 1.9706 - val_loss: 1.9447\n",
      "Epoch 212/5000\n",
      "97/97 [==============================] - 1s 10ms/step - loss: 1.9654 - val_loss: 1.9448\n",
      "Epoch 213/5000\n",
      "97/97 [==============================] - 1s 9ms/step - loss: 1.9682 - val_loss: 1.9447\n",
      "Epoch 214/5000\n",
      "97/97 [==============================] - 1s 10ms/step - loss: 1.9716 - val_loss: 1.9448\n",
      "Epoch 215/5000\n",
      "97/97 [==============================] - 1s 10ms/step - loss: 1.9714 - val_loss: 1.9448\n",
      "Epoch 216/5000\n",
      "97/97 [==============================] - 1s 12ms/step - loss: 1.9659 - val_loss: 1.9448\n",
      "Epoch 217/5000\n",
      "97/97 [==============================] - 1s 9ms/step - loss: 1.9765 - val_loss: 1.9447\n",
      "Epoch 218/5000\n",
      "97/97 [==============================] - 1s 9ms/step - loss: 1.9590 - val_loss: 1.9452\n",
      "Epoch 219/5000\n",
      "97/97 [==============================] - 1s 13ms/step - loss: 1.9732 - val_loss: 1.9446\n",
      "Epoch 220/5000\n",
      "97/97 [==============================] - 1s 11ms/step - loss: 1.9730 - val_loss: 1.9447\n",
      "Epoch 221/5000\n",
      "97/97 [==============================] - 1s 10ms/step - loss: 1.9477 - val_loss: 1.9449\n",
      "Epoch 222/5000\n",
      "97/97 [==============================] - 1s 10ms/step - loss: 1.9573 - val_loss: 1.9449\n",
      "Epoch 223/5000\n",
      "97/97 [==============================] - 1s 10ms/step - loss: 1.9668 - val_loss: 1.9449\n",
      "Epoch 224/5000\n",
      "97/97 [==============================] - 1s 9ms/step - loss: 1.9650 - val_loss: 1.9450\n",
      "Epoch 225/5000\n",
      "97/97 [==============================] - 1s 11ms/step - loss: 1.9675 - val_loss: 1.9449\n",
      "Epoch 226/5000\n",
      "97/97 [==============================] - 1s 9ms/step - loss: 1.9701 - val_loss: 1.9449\n",
      "Epoch 227/5000\n",
      "97/97 [==============================] - 1s 11ms/step - loss: 1.9663 - val_loss: 1.9449\n",
      "Epoch 228/5000\n",
      "97/97 [==============================] - 1s 10ms/step - loss: 1.9680 - val_loss: 1.9448\n",
      "Epoch 229/5000\n",
      "97/97 [==============================] - 1s 10ms/step - loss: 1.9751 - val_loss: 1.9451\n",
      "Epoch 230/5000\n",
      "97/97 [==============================] - 1s 10ms/step - loss: 1.9586 - val_loss: 1.9447\n",
      "Epoch 231/5000\n",
      "97/97 [==============================] - 1s 10ms/step - loss: 1.9777 - val_loss: 1.9450\n",
      "Epoch 232/5000\n",
      "97/97 [==============================] - 1s 11ms/step - loss: 1.9639 - val_loss: 1.9450\n",
      "Epoch 233/5000\n",
      "97/97 [==============================] - 1s 12ms/step - loss: 1.9727 - val_loss: 1.9448\n",
      "Epoch 234/5000\n",
      "97/97 [==============================] - 1s 11ms/step - loss: 1.9628 - val_loss: 1.9447\n",
      "Epoch 235/5000\n",
      "97/97 [==============================] - 1s 9ms/step - loss: 1.9644 - val_loss: 1.9448\n",
      "Epoch 236/5000\n",
      "97/97 [==============================] - 1s 9ms/step - loss: 1.9647 - val_loss: 1.9448\n",
      "Epoch 237/5000\n",
      "97/97 [==============================] - 1s 11ms/step - loss: 1.9637 - val_loss: 1.9450\n",
      "Epoch 238/5000\n",
      "97/97 [==============================] - 1s 11ms/step - loss: 1.9676 - val_loss: 1.9449\n",
      "Epoch 239/5000\n",
      "97/97 [==============================] - 1s 10ms/step - loss: 1.9716 - val_loss: 1.9449\n",
      "Epoch 240/5000\n",
      "97/97 [==============================] - 1s 9ms/step - loss: 1.9685 - val_loss: 1.9447\n",
      "Epoch 241/5000\n",
      "97/97 [==============================] - 1s 11ms/step - loss: 1.9742 - val_loss: 1.9449\n",
      "Epoch 242/5000\n"
     ]
    },
    {
     "name": "stdout",
     "output_type": "stream",
     "text": [
      "97/97 [==============================] - 1s 10ms/step - loss: 1.9783 - val_loss: 1.9448\n",
      "Epoch 243/5000\n",
      "97/97 [==============================] - 1s 11ms/step - loss: 1.9648 - val_loss: 1.9448\n",
      "Epoch 244/5000\n",
      "97/97 [==============================] - 1s 9ms/step - loss: 1.9637 - val_loss: 1.9448\n",
      "Epoch 245/5000\n",
      "97/97 [==============================] - 1s 9ms/step - loss: 1.9601 - val_loss: 1.9448\n",
      "Epoch 246/5000\n",
      "97/97 [==============================] - 1s 9ms/step - loss: 1.9830 - val_loss: 1.9448\n",
      "Epoch 247/5000\n",
      "97/97 [==============================] - 1s 9ms/step - loss: 1.9759 - val_loss: 1.9449\n",
      "Epoch 248/5000\n",
      "97/97 [==============================] - 1s 10ms/step - loss: 1.9683 - val_loss: 1.9448\n",
      "Epoch 249/5000\n",
      "97/97 [==============================] - 1s 9ms/step - loss: 1.9645 - val_loss: 1.9448\n",
      "Epoch 250/5000\n",
      "97/97 [==============================] - 1s 9ms/step - loss: 1.9622 - val_loss: 1.9448\n",
      "Epoch 251/5000\n",
      "97/97 [==============================] - 1s 9ms/step - loss: 1.9787 - val_loss: 1.9449\n",
      "Epoch 252/5000\n",
      "97/97 [==============================] - 1s 9ms/step - loss: 1.9789 - val_loss: 1.9448\n",
      "Epoch 253/5000\n",
      "97/97 [==============================] - 1s 9ms/step - loss: 1.9610 - val_loss: 1.9449\n",
      "Epoch 254/5000\n",
      "97/97 [==============================] - 1s 9ms/step - loss: 1.9713 - val_loss: 1.9447\n",
      "Epoch 255/5000\n",
      "97/97 [==============================] - 1s 9ms/step - loss: 1.9725 - val_loss: 1.9448\n",
      "Epoch 256/5000\n",
      "97/97 [==============================] - 1s 9ms/step - loss: 1.9716 - val_loss: 1.9448\n",
      "Epoch 257/5000\n",
      "97/97 [==============================] - 1s 9ms/step - loss: 1.9744 - val_loss: 1.9448\n",
      "Epoch 258/5000\n",
      "97/97 [==============================] - 1s 9ms/step - loss: 1.9778 - val_loss: 1.9448\n",
      "Epoch 259/5000\n",
      "97/97 [==============================] - 1s 9ms/step - loss: 1.9764 - val_loss: 1.9448\n",
      "Epoch 260/5000\n",
      "97/97 [==============================] - 1s 9ms/step - loss: 1.9698 - val_loss: 1.9448\n",
      "Epoch 261/5000\n",
      "97/97 [==============================] - 1s 9ms/step - loss: 1.9566 - val_loss: 1.9449\n",
      "Epoch 262/5000\n",
      "97/97 [==============================] - 1s 9ms/step - loss: 1.9760 - val_loss: 1.9449\n",
      "Epoch 263/5000\n",
      "97/97 [==============================] - 1s 9ms/step - loss: 1.9530 - val_loss: 1.9449\n",
      "Epoch 264/5000\n",
      "97/97 [==============================] - 1s 10ms/step - loss: 1.9609 - val_loss: 1.9447\n",
      "Epoch 265/5000\n",
      "97/97 [==============================] - 1s 11ms/step - loss: 1.9847 - val_loss: 1.9448\n",
      "Epoch 266/5000\n",
      "97/97 [==============================] - 1s 9ms/step - loss: 1.9717 - val_loss: 1.9447\n",
      "Epoch 267/5000\n",
      "97/97 [==============================] - 1s 10ms/step - loss: 1.9685 - val_loss: 1.9449\n",
      "Epoch 268/5000\n",
      "97/97 [==============================] - 1s 9ms/step - loss: 1.9646 - val_loss: 1.9448\n",
      "Epoch 269/5000\n",
      "97/97 [==============================] - 1s 10ms/step - loss: 1.9580 - val_loss: 1.9448\n",
      "Epoch 270/5000\n",
      "97/97 [==============================] - 1s 9ms/step - loss: 1.9621 - val_loss: 1.9448\n",
      "Epoch 271/5000\n",
      "97/97 [==============================] - 1s 10ms/step - loss: 1.9803 - val_loss: 1.9447\n",
      "Epoch 272/5000\n",
      "97/97 [==============================] - 1s 10ms/step - loss: 1.9795 - val_loss: 1.9448\n",
      "Epoch 273/5000\n",
      "97/97 [==============================] - 1s 10ms/step - loss: 1.9686 - val_loss: 1.9447\n",
      "Epoch 274/5000\n",
      "97/97 [==============================] - 1s 11ms/step - loss: 1.9613 - val_loss: 1.9449\n",
      "Epoch 275/5000\n",
      "97/97 [==============================] - 1s 10ms/step - loss: 1.9577 - val_loss: 1.9450\n",
      "Epoch 276/5000\n",
      "97/97 [==============================] - 1s 10ms/step - loss: 1.9732 - val_loss: 1.9449\n",
      "Epoch 277/5000\n",
      "97/97 [==============================] - 1s 9ms/step - loss: 1.9731 - val_loss: 1.9449\n",
      "Epoch 278/5000\n",
      "97/97 [==============================] - 1s 9ms/step - loss: 1.9599 - val_loss: 1.9448\n",
      "Epoch 279/5000\n",
      "97/97 [==============================] - 1s 10ms/step - loss: 1.9688 - val_loss: 1.9448\n",
      "Epoch 280/5000\n",
      "97/97 [==============================] - 1s 11ms/step - loss: 1.9702 - val_loss: 1.9449\n",
      "Epoch 281/5000\n",
      "97/97 [==============================] - 1s 10ms/step - loss: 1.9729 - val_loss: 1.9449\n",
      "Epoch 282/5000\n",
      "97/97 [==============================] - 1s 10ms/step - loss: 1.9511 - val_loss: 1.9448\n",
      "Epoch 283/5000\n",
      "97/97 [==============================] - 1s 10ms/step - loss: 1.9693 - val_loss: 1.9447\n",
      "Epoch 284/5000\n",
      "97/97 [==============================] - 1s 9ms/step - loss: 1.9762 - val_loss: 1.9448\n",
      "Epoch 285/5000\n",
      "97/97 [==============================] - 1s 9ms/step - loss: 1.9572 - val_loss: 1.9449\n",
      "Epoch 286/5000\n",
      "97/97 [==============================] - 1s 10ms/step - loss: 1.9765 - val_loss: 1.9449\n",
      "Epoch 287/5000\n",
      "97/97 [==============================] - 1s 9ms/step - loss: 1.9752 - val_loss: 1.9448\n",
      "Epoch 288/5000\n",
      "97/97 [==============================] - 1s 9ms/step - loss: 1.9623 - val_loss: 1.9448\n",
      "Epoch 289/5000\n",
      "97/97 [==============================] - 1s 9ms/step - loss: 1.9690 - val_loss: 1.9448\n",
      "Epoch 290/5000\n",
      "97/97 [==============================] - 1s 9ms/step - loss: 1.9707 - val_loss: 1.9448\n",
      "Epoch 291/5000\n",
      "97/97 [==============================] - 1s 9ms/step - loss: 1.9791 - val_loss: 1.9450\n",
      "Epoch 292/5000\n",
      "97/97 [==============================] - 1s 9ms/step - loss: 1.9669 - val_loss: 1.9451\n",
      "Epoch 293/5000\n",
      "97/97 [==============================] - 1s 9ms/step - loss: 1.9645 - val_loss: 1.9448\n",
      "Epoch 294/5000\n",
      "97/97 [==============================] - 1s 8ms/step - loss: 1.9529 - val_loss: 1.9452\n",
      "Epoch 295/5000\n",
      "97/97 [==============================] - 1s 9ms/step - loss: 1.9603 - val_loss: 1.9448\n",
      "Epoch 296/5000\n",
      "97/97 [==============================] - 1s 9ms/step - loss: 1.9656 - val_loss: 1.9449\n",
      "Epoch 297/5000\n",
      "97/97 [==============================] - 1s 9ms/step - loss: 1.9649 - val_loss: 1.9448\n",
      "Epoch 298/5000\n",
      "97/97 [==============================] - 1s 9ms/step - loss: 1.9712 - val_loss: 1.9448\n",
      "Epoch 299/5000\n",
      "97/97 [==============================] - 1s 9ms/step - loss: 1.9707 - val_loss: 1.9448\n",
      "Epoch 300/5000\n",
      "97/97 [==============================] - 1s 9ms/step - loss: 1.9605 - val_loss: 1.9448\n",
      "Epoch 301/5000\n",
      "97/97 [==============================] - 1s 9ms/step - loss: 1.9775 - val_loss: 1.9447\n",
      "Epoch 302/5000\n",
      "97/97 [==============================] - 1s 9ms/step - loss: 1.9776 - val_loss: 1.9448\n",
      "Epoch 303/5000\n",
      "97/97 [==============================] - 1s 9ms/step - loss: 1.9609 - val_loss: 1.9447\n",
      "Epoch 304/5000\n",
      "97/97 [==============================] - 1s 9ms/step - loss: 1.9751 - val_loss: 1.9448\n",
      "Epoch 305/5000\n",
      "97/97 [==============================] - 1s 10ms/step - loss: 1.9645 - val_loss: 1.9447\n",
      "Epoch 306/5000\n",
      "97/97 [==============================] - 1s 9ms/step - loss: 1.9754 - val_loss: 1.9449\n",
      "Epoch 307/5000\n",
      "97/97 [==============================] - 1s 9ms/step - loss: 1.9706 - val_loss: 1.9448\n",
      "Epoch 308/5000\n",
      "97/97 [==============================] - 1s 9ms/step - loss: 1.9817 - val_loss: 1.9448\n",
      "Epoch 309/5000\n",
      "97/97 [==============================] - 1s 9ms/step - loss: 1.9617 - val_loss: 1.9448\n",
      "Epoch 310/5000\n",
      "97/97 [==============================] - 1s 9ms/step - loss: 1.9706 - val_loss: 1.9448\n",
      "Epoch 311/5000\n",
      "97/97 [==============================] - 1s 9ms/step - loss: 1.9685 - val_loss: 1.9448\n",
      "Epoch 312/5000\n",
      "97/97 [==============================] - 1s 9ms/step - loss: 1.9614 - val_loss: 1.9448\n",
      "Epoch 313/5000\n",
      "97/97 [==============================] - 1s 9ms/step - loss: 1.9731 - val_loss: 1.9447\n",
      "Epoch 314/5000\n",
      "97/97 [==============================] - 1s 9ms/step - loss: 1.9647 - val_loss: 1.9448\n",
      "Epoch 315/5000\n",
      "97/97 [==============================] - 1s 9ms/step - loss: 1.9658 - val_loss: 1.9449\n",
      "Epoch 316/5000\n",
      "97/97 [==============================] - 1s 9ms/step - loss: 1.9694 - val_loss: 1.9448\n",
      "Epoch 317/5000\n",
      "97/97 [==============================] - 1s 9ms/step - loss: 1.9779 - val_loss: 1.9448\n",
      "Epoch 318/5000\n",
      "97/97 [==============================] - 1s 9ms/step - loss: 1.9574 - val_loss: 1.9449\n",
      "Epoch 319/5000\n",
      "97/97 [==============================] - 1s 9ms/step - loss: 1.9743 - val_loss: 1.9447\n",
      "Epoch 320/5000\n",
      "97/97 [==============================] - 1s 9ms/step - loss: 1.9675 - val_loss: 1.9447\n",
      "Epoch 321/5000\n",
      "97/97 [==============================] - 1s 9ms/step - loss: 1.9727 - val_loss: 1.9448\n",
      "Epoch 322/5000\n",
      "97/97 [==============================] - 1s 9ms/step - loss: 1.9769 - val_loss: 1.9447\n",
      "Epoch 323/5000\n",
      "97/97 [==============================] - 1s 9ms/step - loss: 1.9598 - val_loss: 1.9448\n",
      "Epoch 324/5000\n",
      "97/97 [==============================] - 1s 9ms/step - loss: 1.9627 - val_loss: 1.9447\n",
      "Epoch 325/5000\n",
      "97/97 [==============================] - 1s 9ms/step - loss: 1.9673 - val_loss: 1.9448\n",
      "Epoch 326/5000\n",
      "97/97 [==============================] - 1s 9ms/step - loss: 1.9735 - val_loss: 1.9448\n",
      "Epoch 327/5000\n",
      "97/97 [==============================] - 1s 9ms/step - loss: 1.9645 - val_loss: 1.9449\n",
      "Epoch 328/5000\n",
      "97/97 [==============================] - 1s 10ms/step - loss: 1.9749 - val_loss: 1.9449\n",
      "Epoch 329/5000\n",
      "97/97 [==============================] - 1s 9ms/step - loss: 1.9649 - val_loss: 1.9449\n",
      "Epoch 330/5000\n",
      "97/97 [==============================] - 1s 9ms/step - loss: 1.9641 - val_loss: 1.9449\n",
      "Epoch 331/5000\n",
      "97/97 [==============================] - 1s 9ms/step - loss: 1.9618 - val_loss: 1.9448\n",
      "Epoch 332/5000\n",
      "97/97 [==============================] - 1s 9ms/step - loss: 1.9649 - val_loss: 1.9449\n",
      "Epoch 333/5000\n",
      "97/97 [==============================] - 1s 9ms/step - loss: 1.9619 - val_loss: 1.9449\n",
      "Epoch 334/5000\n",
      "97/97 [==============================] - 1s 9ms/step - loss: 1.9569 - val_loss: 1.9448\n",
      "Epoch 335/5000\n",
      "97/97 [==============================] - 1s 9ms/step - loss: 1.9653 - val_loss: 1.9448\n",
      "Epoch 336/5000\n",
      "97/97 [==============================] - 1s 9ms/step - loss: 1.9734 - val_loss: 1.9449\n",
      "Epoch 337/5000\n",
      "97/97 [==============================] - 1s 9ms/step - loss: 1.9789 - val_loss: 1.9447\n",
      "Epoch 338/5000\n",
      "97/97 [==============================] - 1s 9ms/step - loss: 1.9609 - val_loss: 1.9448\n",
      "Epoch 339/5000\n",
      "97/97 [==============================] - 1s 9ms/step - loss: 1.9530 - val_loss: 1.9448\n",
      "Epoch 340/5000\n",
      "97/97 [==============================] - 1s 9ms/step - loss: 1.9699 - val_loss: 1.9447\n",
      "Epoch 341/5000\n",
      "97/97 [==============================] - 1s 9ms/step - loss: 1.9675 - val_loss: 1.9448\n",
      "Epoch 342/5000\n",
      "97/97 [==============================] - 1s 9ms/step - loss: 1.9728 - val_loss: 1.9448\n",
      "Epoch 343/5000\n",
      "97/97 [==============================] - 1s 9ms/step - loss: 1.9672 - val_loss: 1.9448\n",
      "Epoch 344/5000\n",
      "97/97 [==============================] - 1s 9ms/step - loss: 1.9561 - val_loss: 1.9449\n",
      "Epoch 345/5000\n",
      "97/97 [==============================] - 1s 9ms/step - loss: 1.9569 - val_loss: 1.9448\n",
      "Epoch 346/5000\n",
      "97/97 [==============================] - 1s 9ms/step - loss: 1.9664 - val_loss: 1.9448\n",
      "Epoch 347/5000\n",
      "97/97 [==============================] - 1s 9ms/step - loss: 1.9682 - val_loss: 1.9448\n",
      "Epoch 348/5000\n",
      "97/97 [==============================] - 1s 9ms/step - loss: 1.9654 - val_loss: 1.9448\n",
      "Epoch 349/5000\n",
      "97/97 [==============================] - 1s 9ms/step - loss: 1.9670 - val_loss: 1.9448\n",
      "Epoch 350/5000\n",
      "97/97 [==============================] - 1s 9ms/step - loss: 1.9604 - val_loss: 1.9448\n",
      "Epoch 351/5000\n",
      "97/97 [==============================] - 1s 9ms/step - loss: 1.9686 - val_loss: 1.9448\n",
      "Epoch 352/5000\n",
      "97/97 [==============================] - 1s 9ms/step - loss: 1.9670 - val_loss: 1.9450\n",
      "Epoch 353/5000\n",
      "97/97 [==============================] - 1s 8ms/step - loss: 1.9778 - val_loss: 1.9447\n",
      "Epoch 354/5000\n",
      "97/97 [==============================] - 1s 10ms/step - loss: 1.9683 - val_loss: 1.9449\n",
      "Epoch 355/5000\n",
      "97/97 [==============================] - 1s 9ms/step - loss: 1.9597 - val_loss: 1.9449\n",
      "Epoch 356/5000\n",
      "97/97 [==============================] - 1s 9ms/step - loss: 1.9685 - val_loss: 1.9449\n",
      "Epoch 357/5000\n",
      "97/97 [==============================] - 1s 9ms/step - loss: 1.9640 - val_loss: 1.9448\n",
      "Epoch 358/5000\n",
      "97/97 [==============================] - 1s 9ms/step - loss: 1.9614 - val_loss: 1.9448\n",
      "Epoch 359/5000\n",
      "97/97 [==============================] - 1s 9ms/step - loss: 1.9623 - val_loss: 1.9449\n",
      "Epoch 360/5000\n",
      "97/97 [==============================] - 1s 9ms/step - loss: 1.9620 - val_loss: 1.9449\n",
      "Epoch 361/5000\n",
      "97/97 [==============================] - 1s 9ms/step - loss: 1.9703 - val_loss: 1.9448\n",
      "Epoch 362/5000\n",
      "97/97 [==============================] - 1s 9ms/step - loss: 1.9585 - val_loss: 1.9450\n",
      "Epoch 363/5000\n",
      "97/97 [==============================] - 1s 9ms/step - loss: 1.9735 - val_loss: 1.9448\n",
      "Epoch 364/5000\n",
      "97/97 [==============================] - 1s 9ms/step - loss: 1.9656 - val_loss: 1.9448\n",
      "Epoch 365/5000\n",
      "97/97 [==============================] - 1s 9ms/step - loss: 1.9731 - val_loss: 1.9449\n",
      "Epoch 366/5000\n",
      "97/97 [==============================] - 1s 9ms/step - loss: 1.9803 - val_loss: 1.9447\n",
      "Epoch 367/5000\n",
      "97/97 [==============================] - 1s 9ms/step - loss: 1.9757 - val_loss: 1.9447\n",
      "Epoch 368/5000\n",
      "97/97 [==============================] - 1s 9ms/step - loss: 1.9562 - val_loss: 1.9448\n",
      "Epoch 369/5000\n",
      "97/97 [==============================] - 1s 9ms/step - loss: 1.9610 - val_loss: 1.9447\n",
      "Epoch 370/5000\n",
      "97/97 [==============================] - 1s 9ms/step - loss: 1.9782 - val_loss: 1.9449\n",
      "Epoch 371/5000\n",
      "97/97 [==============================] - 1s 9ms/step - loss: 1.9766 - val_loss: 1.9447\n",
      "Epoch 372/5000\n",
      "97/97 [==============================] - 1s 9ms/step - loss: 1.9690 - val_loss: 1.9448\n",
      "Epoch 373/5000\n",
      "97/97 [==============================] - 1s 9ms/step - loss: 1.9737 - val_loss: 1.9449\n",
      "Epoch 374/5000\n",
      "97/97 [==============================] - 1s 9ms/step - loss: 1.9616 - val_loss: 1.9449\n",
      "Epoch 375/5000\n",
      "97/97 [==============================] - 1s 9ms/step - loss: 1.9700 - val_loss: 1.9448\n",
      "Epoch 376/5000\n",
      "97/97 [==============================] - 1s 9ms/step - loss: 1.9707 - val_loss: 1.9448\n",
      "Epoch 377/5000\n",
      "97/97 [==============================] - 1s 9ms/step - loss: 1.9675 - val_loss: 1.9448\n",
      "Epoch 378/5000\n",
      "97/97 [==============================] - 1s 9ms/step - loss: 1.9703 - val_loss: 1.9448\n",
      "Epoch 379/5000\n",
      "97/97 [==============================] - 1s 9ms/step - loss: 1.9706 - val_loss: 1.9448\n",
      "Epoch 380/5000\n",
      "97/97 [==============================] - 1s 9ms/step - loss: 1.9709 - val_loss: 1.9449\n",
      "Epoch 381/5000\n",
      "97/97 [==============================] - 1s 9ms/step - loss: 1.9763 - val_loss: 1.9449\n",
      "Epoch 382/5000\n",
      "97/97 [==============================] - 1s 9ms/step - loss: 1.9695 - val_loss: 1.9448\n",
      "Epoch 383/5000\n",
      "97/97 [==============================] - 1s 9ms/step - loss: 1.9610 - val_loss: 1.9447\n",
      "Epoch 384/5000\n",
      "97/97 [==============================] - 1s 9ms/step - loss: 1.9706 - val_loss: 1.9448\n",
      "Epoch 385/5000\n",
      "97/97 [==============================] - 1s 9ms/step - loss: 1.9746 - val_loss: 1.9449\n",
      "Epoch 386/5000\n",
      "97/97 [==============================] - 1s 10ms/step - loss: 1.9812 - val_loss: 1.9448\n",
      "Epoch 387/5000\n",
      "97/97 [==============================] - 1s 9ms/step - loss: 1.9639 - val_loss: 1.9447\n",
      "Epoch 388/5000\n",
      "97/97 [==============================] - 1s 9ms/step - loss: 1.9741 - val_loss: 1.9447\n",
      "Epoch 389/5000\n",
      "97/97 [==============================] - 1s 10ms/step - loss: 1.9705 - val_loss: 1.9448\n",
      "Epoch 390/5000\n",
      "97/97 [==============================] - 1s 9ms/step - loss: 1.9670 - val_loss: 1.9450\n",
      "Epoch 391/5000\n",
      "97/97 [==============================] - 1s 9ms/step - loss: 1.9793 - val_loss: 1.9447\n",
      "Epoch 392/5000\n",
      "97/97 [==============================] - 1s 9ms/step - loss: 1.9769 - val_loss: 1.9447\n",
      "Epoch 393/5000\n",
      "97/97 [==============================] - 1s 9ms/step - loss: 1.9681 - val_loss: 1.9450\n",
      "Epoch 394/5000\n",
      "97/97 [==============================] - 1s 9ms/step - loss: 1.9681 - val_loss: 1.9449\n",
      "Epoch 395/5000\n",
      "97/97 [==============================] - 1s 9ms/step - loss: 1.9749 - val_loss: 1.9448\n",
      "Epoch 396/5000\n",
      "97/97 [==============================] - 1s 9ms/step - loss: 1.9695 - val_loss: 1.9448\n",
      "Epoch 397/5000\n",
      "97/97 [==============================] - 1s 9ms/step - loss: 1.9744 - val_loss: 1.9448\n",
      "Epoch 398/5000\n",
      "97/97 [==============================] - 1s 9ms/step - loss: 1.9641 - val_loss: 1.9448\n",
      "Epoch 399/5000\n",
      "97/97 [==============================] - 1s 9ms/step - loss: 1.9763 - val_loss: 1.9448\n",
      "Epoch 400/5000\n",
      "97/97 [==============================] - 1s 9ms/step - loss: 1.9702 - val_loss: 1.9448\n",
      "Epoch 401/5000\n",
      "97/97 [==============================] - 1s 9ms/step - loss: 1.9620 - val_loss: 1.9447\n",
      "Epoch 402/5000\n"
     ]
    },
    {
     "name": "stdout",
     "output_type": "stream",
     "text": [
      "97/97 [==============================] - 1s 9ms/step - loss: 1.9696 - val_loss: 1.9448\n",
      "Epoch 403/5000\n",
      "97/97 [==============================] - 1s 9ms/step - loss: 1.9771 - val_loss: 1.9448\n",
      "Epoch 404/5000\n",
      "97/97 [==============================] - 1s 9ms/step - loss: 1.9628 - val_loss: 1.9448\n",
      "Epoch 405/5000\n",
      "97/97 [==============================] - 1s 9ms/step - loss: 1.9746 - val_loss: 1.9448\n",
      "Epoch 406/5000\n",
      "97/97 [==============================] - 1s 9ms/step - loss: 1.9634 - val_loss: 1.9447\n",
      "Epoch 407/5000\n",
      "97/97 [==============================] - 1s 9ms/step - loss: 1.9690 - val_loss: 1.9448\n",
      "Epoch 408/5000\n",
      "97/97 [==============================] - 1s 9ms/step - loss: 1.9633 - val_loss: 1.9448\n",
      "Epoch 409/5000\n",
      "97/97 [==============================] - 1s 9ms/step - loss: 1.9679 - val_loss: 1.9447\n",
      "Epoch 410/5000\n",
      "97/97 [==============================] - 1s 10ms/step - loss: 1.9705 - val_loss: 1.9447\n",
      "Epoch 411/5000\n",
      "97/97 [==============================] - 1s 9ms/step - loss: 1.9632 - val_loss: 1.9449\n",
      "Epoch 412/5000\n",
      "97/97 [==============================] - 1s 9ms/step - loss: 1.9653 - val_loss: 1.9448\n",
      "Epoch 413/5000\n",
      "97/97 [==============================] - 1s 9ms/step - loss: 1.9620 - val_loss: 1.9449\n",
      "Epoch 414/5000\n",
      "97/97 [==============================] - 1s 9ms/step - loss: 1.9761 - val_loss: 1.9447\n",
      "Epoch 415/5000\n",
      "97/97 [==============================] - 1s 9ms/step - loss: 1.9707 - val_loss: 1.9449\n",
      "Epoch 416/5000\n",
      "97/97 [==============================] - 1s 9ms/step - loss: 1.9631 - val_loss: 1.9449\n",
      "Epoch 417/5000\n",
      "97/97 [==============================] - 1s 9ms/step - loss: 1.9675 - val_loss: 1.9448\n",
      "Epoch 418/5000\n",
      "97/97 [==============================] - 1s 9ms/step - loss: 1.9616 - val_loss: 1.9449\n",
      "Epoch 419/5000\n",
      "97/97 [==============================] - 1s 9ms/step - loss: 1.9725 - val_loss: 1.9449\n",
      "Epoch 420/5000\n",
      "97/97 [==============================] - 1s 9ms/step - loss: 1.9730 - val_loss: 1.9448\n",
      "Epoch 421/5000\n",
      "97/97 [==============================] - 1s 9ms/step - loss: 1.9658 - val_loss: 1.9448\n",
      "Epoch 422/5000\n",
      "97/97 [==============================] - 1s 9ms/step - loss: 1.9523 - val_loss: 1.9447\n",
      "Epoch 423/5000\n",
      "97/97 [==============================] - 1s 9ms/step - loss: 1.9552 - val_loss: 1.9450\n",
      "Epoch 424/5000\n",
      "97/97 [==============================] - 1s 9ms/step - loss: 1.9748 - val_loss: 1.9449\n",
      "Epoch 425/5000\n",
      "97/97 [==============================] - 1s 9ms/step - loss: 1.9702 - val_loss: 1.9448\n",
      "Epoch 426/5000\n",
      "97/97 [==============================] - 1s 9ms/step - loss: 1.9618 - val_loss: 1.9448\n",
      "Epoch 427/5000\n",
      "97/97 [==============================] - 1s 9ms/step - loss: 1.9644 - val_loss: 1.9446\n",
      "Epoch 428/5000\n",
      "97/97 [==============================] - 1s 9ms/step - loss: 1.9611 - val_loss: 1.9450\n",
      "Epoch 429/5000\n",
      "97/97 [==============================] - 1s 9ms/step - loss: 1.9669 - val_loss: 1.9448\n",
      "Epoch 430/5000\n",
      "97/97 [==============================] - 1s 9ms/step - loss: 1.9582 - val_loss: 1.9449\n",
      "Epoch 431/5000\n",
      "97/97 [==============================] - 1s 9ms/step - loss: 1.9675 - val_loss: 1.9448\n",
      "Epoch 432/5000\n",
      "97/97 [==============================] - 1s 9ms/step - loss: 1.9908 - val_loss: 1.9447\n",
      "Epoch 433/5000\n",
      "97/97 [==============================] - 1s 9ms/step - loss: 1.9621 - val_loss: 1.9448\n",
      "Epoch 434/5000\n",
      "97/97 [==============================] - 1s 9ms/step - loss: 1.9615 - val_loss: 1.9449\n",
      "Epoch 435/5000\n",
      "97/97 [==============================] - 1s 9ms/step - loss: 1.9629 - val_loss: 1.9449\n",
      "Epoch 436/5000\n",
      "97/97 [==============================] - 1s 9ms/step - loss: 1.9686 - val_loss: 1.9449\n",
      "Epoch 437/5000\n",
      "97/97 [==============================] - 1s 10ms/step - loss: 1.9696 - val_loss: 1.9448\n",
      "Epoch 438/5000\n",
      "97/97 [==============================] - 1s 9ms/step - loss: 1.9672 - val_loss: 1.9448\n",
      "Epoch 439/5000\n",
      "97/97 [==============================] - 1s 9ms/step - loss: 1.9596 - val_loss: 1.9449\n",
      "Epoch 440/5000\n",
      "97/97 [==============================] - 1s 9ms/step - loss: 1.9699 - val_loss: 1.9448\n",
      "Epoch 441/5000\n",
      "97/97 [==============================] - 1s 9ms/step - loss: 1.9732 - val_loss: 1.9447\n",
      "Epoch 442/5000\n",
      "97/97 [==============================] - 1s 9ms/step - loss: 1.9686 - val_loss: 1.9449\n",
      "Epoch 443/5000\n",
      "97/97 [==============================] - 1s 9ms/step - loss: 1.9624 - val_loss: 1.9450\n",
      "Epoch 444/5000\n",
      "97/97 [==============================] - 1s 9ms/step - loss: 1.9714 - val_loss: 1.9449\n",
      "Epoch 445/5000\n",
      "97/97 [==============================] - 1s 9ms/step - loss: 1.9597 - val_loss: 1.9448\n",
      "Epoch 446/5000\n",
      "97/97 [==============================] - 1s 9ms/step - loss: 1.9615 - val_loss: 1.9450\n",
      "Epoch 447/5000\n",
      "97/97 [==============================] - 1s 12ms/step - loss: 1.9595 - val_loss: 1.9448\n",
      "Epoch 448/5000\n",
      "97/97 [==============================] - 1s 10ms/step - loss: 1.9717 - val_loss: 1.9449\n",
      "Epoch 449/5000\n",
      "97/97 [==============================] - 1s 10ms/step - loss: 1.9705 - val_loss: 1.9449\n",
      "Epoch 450/5000\n",
      "97/97 [==============================] - 1s 11ms/step - loss: 1.9795 - val_loss: 1.9448\n",
      "Epoch 451/5000\n",
      "97/97 [==============================] - 1s 10ms/step - loss: 1.9697 - val_loss: 1.9448\n",
      "Epoch 452/5000\n",
      "97/97 [==============================] - 1s 11ms/step - loss: 1.9762 - val_loss: 1.9448\n",
      "Epoch 453/5000\n",
      "97/97 [==============================] - 1s 10ms/step - loss: 1.9625 - val_loss: 1.9447\n",
      "Epoch 454/5000\n",
      "97/97 [==============================] - 1s 10ms/step - loss: 1.9707 - val_loss: 1.9448\n",
      "Epoch 455/5000\n",
      "97/97 [==============================] - 1s 9ms/step - loss: 1.9585 - val_loss: 1.9448\n",
      "Epoch 456/5000\n",
      "97/97 [==============================] - 1s 9ms/step - loss: 1.9662 - val_loss: 1.9448\n",
      "Epoch 457/5000\n",
      "97/97 [==============================] - 1s 10ms/step - loss: 1.9741 - val_loss: 1.9449\n",
      "Epoch 458/5000\n",
      "97/97 [==============================] - 1s 12ms/step - loss: 1.9626 - val_loss: 1.9449\n",
      "Epoch 459/5000\n",
      "97/97 [==============================] - 1s 11ms/step - loss: 1.9681 - val_loss: 1.9449\n",
      "Epoch 460/5000\n",
      "97/97 [==============================] - 1s 10ms/step - loss: 1.9648 - val_loss: 1.9449\n",
      "Epoch 461/5000\n",
      "97/97 [==============================] - 1s 11ms/step - loss: 1.9659 - val_loss: 1.9448\n",
      "Epoch 462/5000\n",
      "97/97 [==============================] - 1s 10ms/step - loss: 1.9582 - val_loss: 1.9448\n",
      "Epoch 463/5000\n",
      "97/97 [==============================] - 1s 9ms/step - loss: 1.9653 - val_loss: 1.9448\n",
      "Epoch 464/5000\n",
      "97/97 [==============================] - 1s 10ms/step - loss: 1.9775 - val_loss: 1.9448\n",
      "Epoch 465/5000\n",
      "97/97 [==============================] - 1s 10ms/step - loss: 1.9694 - val_loss: 1.9448\n",
      "Epoch 466/5000\n",
      "97/97 [==============================] - 1s 10ms/step - loss: 1.9607 - val_loss: 1.9449\n",
      "Epoch 467/5000\n",
      "97/97 [==============================] - 1s 10ms/step - loss: 1.9569 - val_loss: 1.9449\n",
      "Epoch 468/5000\n",
      "97/97 [==============================] - 1s 10ms/step - loss: 1.9702 - val_loss: 1.9449\n",
      "Epoch 469/5000\n",
      "97/97 [==============================] - 1s 10ms/step - loss: 1.9714 - val_loss: 1.9448\n",
      "Epoch 470/5000\n",
      "97/97 [==============================] - 1s 12ms/step - loss: 1.9821 - val_loss: 1.9447\n",
      "Epoch 471/5000\n",
      "97/97 [==============================] - 1s 10ms/step - loss: 1.9680 - val_loss: 1.9448\n",
      "Epoch 472/5000\n",
      "97/97 [==============================] - 1s 9ms/step - loss: 1.9678 - val_loss: 1.9448\n",
      "Epoch 473/5000\n",
      "97/97 [==============================] - 1s 9ms/step - loss: 1.9701 - val_loss: 1.9447\n",
      "Epoch 474/5000\n",
      "97/97 [==============================] - 1s 11ms/step - loss: 1.9552 - val_loss: 1.9448\n",
      "Epoch 475/5000\n",
      "97/97 [==============================] - 1s 11ms/step - loss: 1.9715 - val_loss: 1.9449\n",
      "Epoch 476/5000\n",
      "97/97 [==============================] - 1s 10ms/step - loss: 1.9671 - val_loss: 1.9449\n",
      "Epoch 477/5000\n",
      "97/97 [==============================] - 1s 11ms/step - loss: 1.9597 - val_loss: 1.9448\n",
      "Epoch 478/5000\n",
      "97/97 [==============================] - 1s 10ms/step - loss: 1.9650 - val_loss: 1.9449\n",
      "Epoch 479/5000\n",
      "97/97 [==============================] - 1s 11ms/step - loss: 1.9703 - val_loss: 1.9448\n",
      "Epoch 480/5000\n",
      "97/97 [==============================] - 1s 10ms/step - loss: 1.9718 - val_loss: 1.9448\n",
      "Epoch 481/5000\n",
      "97/97 [==============================] - 1s 10ms/step - loss: 1.9643 - val_loss: 1.9449\n",
      "Epoch 482/5000\n",
      "97/97 [==============================] - 1s 10ms/step - loss: 1.9645 - val_loss: 1.9449\n",
      "Epoch 483/5000\n",
      "97/97 [==============================] - 1s 12ms/step - loss: 1.9798 - val_loss: 1.9447\n",
      "Epoch 484/5000\n",
      "97/97 [==============================] - 1s 9ms/step - loss: 1.9725 - val_loss: 1.9447\n",
      "Epoch 485/5000\n",
      "97/97 [==============================] - 1s 9ms/step - loss: 1.9594 - val_loss: 1.9449\n",
      "Epoch 486/5000\n",
      "97/97 [==============================] - 1s 11ms/step - loss: 1.9642 - val_loss: 1.9448\n",
      "Epoch 487/5000\n",
      "97/97 [==============================] - 1s 10ms/step - loss: 1.9799 - val_loss: 1.9447\n",
      "Epoch 488/5000\n",
      "97/97 [==============================] - 1s 9ms/step - loss: 1.9592 - val_loss: 1.9449\n",
      "Epoch 489/5000\n",
      "97/97 [==============================] - 1s 10ms/step - loss: 1.9646 - val_loss: 1.9449\n",
      "Epoch 490/5000\n",
      "97/97 [==============================] - 1s 10ms/step - loss: 1.9658 - val_loss: 1.9448\n",
      "Epoch 491/5000\n",
      "97/97 [==============================] - 1s 10ms/step - loss: 1.9725 - val_loss: 1.9449\n",
      "Epoch 492/5000\n",
      "97/97 [==============================] - 1s 11ms/step - loss: 1.9580 - val_loss: 1.9449\n",
      "Epoch 493/5000\n",
      "97/97 [==============================] - 1s 10ms/step - loss: 1.9619 - val_loss: 1.9449\n",
      "Epoch 494/5000\n",
      "97/97 [==============================] - 1s 12ms/step - loss: 1.9696 - val_loss: 1.9448\n",
      "Epoch 495/5000\n",
      "97/97 [==============================] - 1s 10ms/step - loss: 1.9780 - val_loss: 1.9448\n",
      "Epoch 496/5000\n",
      "97/97 [==============================] - 1s 10ms/step - loss: 1.9624 - val_loss: 1.9448\n",
      "Epoch 497/5000\n",
      "97/97 [==============================] - 1s 9ms/step - loss: 1.9632 - val_loss: 1.9448\n",
      "Epoch 498/5000\n",
      "97/97 [==============================] - 1s 10ms/step - loss: 1.9878 - val_loss: 1.9448\n",
      "Epoch 499/5000\n",
      "97/97 [==============================] - 1s 10ms/step - loss: 1.9784 - val_loss: 1.9448\n",
      "Epoch 500/5000\n",
      "97/97 [==============================] - 1s 10ms/step - loss: 1.9637 - val_loss: 1.9448\n",
      "Epoch 501/5000\n",
      "97/97 [==============================] - 1s 10ms/step - loss: 1.9616 - val_loss: 1.9448\n",
      "Epoch 502/5000\n",
      "97/97 [==============================] - 1s 10ms/step - loss: 1.9659 - val_loss: 1.9448\n",
      "Epoch 503/5000\n",
      "97/97 [==============================] - 1s 11ms/step - loss: 1.9630 - val_loss: 1.9448\n",
      "Epoch 504/5000\n",
      "97/97 [==============================] - 1s 9ms/step - loss: 1.9668 - val_loss: 1.9449\n",
      "Epoch 505/5000\n",
      "97/97 [==============================] - 1s 9ms/step - loss: 1.9719 - val_loss: 1.9449\n",
      "Epoch 506/5000\n",
      "97/97 [==============================] - 1s 12ms/step - loss: 1.9775 - val_loss: 1.9448\n",
      "Epoch 507/5000\n",
      "97/97 [==============================] - 1s 13ms/step - loss: 1.9750 - val_loss: 1.9448\n",
      "Epoch 508/5000\n",
      "97/97 [==============================] - 1s 11ms/step - loss: 1.9714 - val_loss: 1.9447\n",
      "Epoch 509/5000\n",
      "97/97 [==============================] - 1s 12ms/step - loss: 1.9747 - val_loss: 1.9448\n",
      "Epoch 510/5000\n",
      "97/97 [==============================] - 1s 9ms/step - loss: 1.9814 - val_loss: 1.9447\n",
      "Epoch 511/5000\n",
      "97/97 [==============================] - 1s 9ms/step - loss: 1.9646 - val_loss: 1.9448\n",
      "Epoch 512/5000\n",
      "97/97 [==============================] - 1s 9ms/step - loss: 1.9661 - val_loss: 1.9448\n",
      "Epoch 513/5000\n",
      "97/97 [==============================] - 1s 9ms/step - loss: 1.9652 - val_loss: 1.9448\n",
      "Epoch 514/5000\n",
      "97/97 [==============================] - 1s 9ms/step - loss: 1.9618 - val_loss: 1.9449\n",
      "Epoch 515/5000\n",
      "97/97 [==============================] - 1s 9ms/step - loss: 1.9628 - val_loss: 1.9448\n",
      "Epoch 516/5000\n",
      "97/97 [==============================] - 1s 9ms/step - loss: 1.9624 - val_loss: 1.9449\n",
      "Epoch 517/5000\n",
      "97/97 [==============================] - 1s 9ms/step - loss: 1.9675 - val_loss: 1.9447\n",
      "Epoch 518/5000\n",
      "97/97 [==============================] - 1s 9ms/step - loss: 1.9792 - val_loss: 1.9447\n",
      "Epoch 519/5000\n",
      "97/97 [==============================] - 1s 9ms/step - loss: 1.9659 - val_loss: 1.9447\n",
      "Epoch 520/5000\n",
      "97/97 [==============================] - 1s 9ms/step - loss: 1.9592 - val_loss: 1.9449\n",
      "Epoch 521/5000\n",
      "97/97 [==============================] - 1s 10ms/step - loss: 1.9629 - val_loss: 1.9450\n",
      "Epoch 522/5000\n",
      "97/97 [==============================] - 1s 9ms/step - loss: 1.9578 - val_loss: 1.9450\n",
      "Epoch 523/5000\n",
      "97/97 [==============================] - 1s 9ms/step - loss: 1.9678 - val_loss: 1.9448\n",
      "Epoch 524/5000\n",
      "97/97 [==============================] - 1s 9ms/step - loss: 1.9664 - val_loss: 1.9448\n",
      "Epoch 525/5000\n",
      "97/97 [==============================] - 1s 9ms/step - loss: 1.9772 - val_loss: 1.9448\n",
      "Epoch 526/5000\n",
      "97/97 [==============================] - 1s 9ms/step - loss: 1.9660 - val_loss: 1.9448\n",
      "Epoch 527/5000\n",
      "97/97 [==============================] - 1s 9ms/step - loss: 1.9717 - val_loss: 1.9447\n",
      "Epoch 528/5000\n",
      "97/97 [==============================] - 1s 9ms/step - loss: 1.9619 - val_loss: 1.9449\n",
      "Epoch 529/5000\n",
      "97/97 [==============================] - 1s 9ms/step - loss: 1.9704 - val_loss: 1.9449\n",
      "Epoch 530/5000\n",
      "97/97 [==============================] - 1s 9ms/step - loss: 1.9653 - val_loss: 1.9447\n",
      "Epoch 531/5000\n",
      "97/97 [==============================] - 1s 9ms/step - loss: 1.9750 - val_loss: 1.9447\n",
      "Epoch 532/5000\n",
      "97/97 [==============================] - 1s 9ms/step - loss: 1.9641 - val_loss: 1.9448\n",
      "Epoch 533/5000\n",
      "97/97 [==============================] - 1s 9ms/step - loss: 1.9611 - val_loss: 1.9450\n",
      "Epoch 534/5000\n",
      "97/97 [==============================] - 1s 11ms/step - loss: 1.9711 - val_loss: 1.9449\n",
      "Epoch 535/5000\n",
      "97/97 [==============================] - 1s 9ms/step - loss: 1.9705 - val_loss: 1.9449\n",
      "Epoch 536/5000\n",
      "97/97 [==============================] - 1s 9ms/step - loss: 1.9702 - val_loss: 1.9449\n",
      "Epoch 537/5000\n",
      "97/97 [==============================] - 1s 9ms/step - loss: 1.9670 - val_loss: 1.9449\n",
      "Epoch 538/5000\n",
      "97/97 [==============================] - 1s 9ms/step - loss: 1.9723 - val_loss: 1.9447\n",
      "Epoch 539/5000\n",
      "97/97 [==============================] - 1s 9ms/step - loss: 1.9688 - val_loss: 1.9447\n",
      "Epoch 540/5000\n",
      "97/97 [==============================] - 1s 9ms/step - loss: 1.9710 - val_loss: 1.9449\n",
      "Epoch 541/5000\n",
      "97/97 [==============================] - 1s 9ms/step - loss: 1.9675 - val_loss: 1.9448\n",
      "Epoch 542/5000\n",
      "97/97 [==============================] - 1s 9ms/step - loss: 1.9643 - val_loss: 1.9449\n",
      "Epoch 543/5000\n",
      "97/97 [==============================] - 1s 9ms/step - loss: 1.9606 - val_loss: 1.9448\n",
      "Epoch 544/5000\n",
      "97/97 [==============================] - 1s 10ms/step - loss: 1.9796 - val_loss: 1.9448\n",
      "Epoch 545/5000\n",
      "97/97 [==============================] - 1s 9ms/step - loss: 1.9596 - val_loss: 1.9448\n",
      "Epoch 546/5000\n",
      "97/97 [==============================] - 1s 9ms/step - loss: 1.9818 - val_loss: 1.9449\n",
      "Epoch 547/5000\n",
      "97/97 [==============================] - 1s 9ms/step - loss: 1.9647 - val_loss: 1.9448\n",
      "Epoch 548/5000\n",
      "97/97 [==============================] - 1s 9ms/step - loss: 1.9715 - val_loss: 1.9448\n",
      "Epoch 549/5000\n",
      "97/97 [==============================] - 1s 9ms/step - loss: 1.9600 - val_loss: 1.9449\n",
      "Epoch 550/5000\n",
      "97/97 [==============================] - 1s 9ms/step - loss: 1.9807 - val_loss: 1.9447\n",
      "Epoch 551/5000\n",
      "97/97 [==============================] - 1s 9ms/step - loss: 1.9678 - val_loss: 1.9448\n",
      "Epoch 552/5000\n",
      "97/97 [==============================] - 1s 9ms/step - loss: 1.9764 - val_loss: 1.9448\n",
      "Epoch 553/5000\n",
      "97/97 [==============================] - 1s 9ms/step - loss: 1.9655 - val_loss: 1.9448\n",
      "Epoch 554/5000\n",
      "97/97 [==============================] - 1s 9ms/step - loss: 1.9776 - val_loss: 1.9447\n",
      "Epoch 555/5000\n",
      "97/97 [==============================] - 1s 10ms/step - loss: 1.9707 - val_loss: 1.9448\n",
      "Epoch 556/5000\n",
      "97/97 [==============================] - 1s 9ms/step - loss: 1.9713 - val_loss: 1.9448\n",
      "Epoch 557/5000\n",
      "97/97 [==============================] - 1s 11ms/step - loss: 1.9737 - val_loss: 1.9448\n",
      "Epoch 558/5000\n",
      "97/97 [==============================] - 1s 11ms/step - loss: 1.9757 - val_loss: 1.9448\n",
      "Epoch 559/5000\n",
      "97/97 [==============================] - 1s 12ms/step - loss: 1.9668 - val_loss: 1.9448\n",
      "Epoch 560/5000\n",
      "97/97 [==============================] - 1s 10ms/step - loss: 1.9611 - val_loss: 1.9448\n",
      "Epoch 561/5000\n",
      "97/97 [==============================] - 1s 9ms/step - loss: 1.9610 - val_loss: 1.9448\n",
      "Epoch 562/5000\n"
     ]
    },
    {
     "name": "stdout",
     "output_type": "stream",
     "text": [
      "97/97 [==============================] - 1s 11ms/step - loss: 1.9653 - val_loss: 1.9449\n",
      "Epoch 563/5000\n",
      "97/97 [==============================] - 1s 12ms/step - loss: 1.9680 - val_loss: 1.9449\n",
      "Epoch 564/5000\n",
      "97/97 [==============================] - 1s 12ms/step - loss: 1.9737 - val_loss: 1.9448\n",
      "Epoch 565/5000\n",
      "97/97 [==============================] - 1s 9ms/step - loss: 1.9625 - val_loss: 1.9448\n",
      "Epoch 566/5000\n",
      "97/97 [==============================] - 1s 9ms/step - loss: 1.9766 - val_loss: 1.9449\n",
      "Epoch 567/5000\n",
      "97/97 [==============================] - 1s 10ms/step - loss: 1.9554 - val_loss: 1.9449\n",
      "Epoch 568/5000\n",
      "97/97 [==============================] - 1s 9ms/step - loss: 1.9703 - val_loss: 1.9448\n",
      "Epoch 569/5000\n",
      "97/97 [==============================] - 1s 9ms/step - loss: 1.9587 - val_loss: 1.9449\n",
      "Epoch 570/5000\n",
      "97/97 [==============================] - 1s 10ms/step - loss: 1.9680 - val_loss: 1.9449\n",
      "Epoch 571/5000\n",
      "97/97 [==============================] - 1s 9ms/step - loss: 1.9584 - val_loss: 1.9449\n",
      "Epoch 572/5000\n",
      "97/97 [==============================] - 1s 9ms/step - loss: 1.9669 - val_loss: 1.9448\n",
      "Epoch 573/5000\n",
      "97/97 [==============================] - 1s 9ms/step - loss: 1.9748 - val_loss: 1.9448\n",
      "Epoch 574/5000\n",
      "97/97 [==============================] - 1s 9ms/step - loss: 1.9564 - val_loss: 1.9447\n",
      "Epoch 575/5000\n",
      "97/97 [==============================] - 1s 9ms/step - loss: 1.9586 - val_loss: 1.9449\n",
      "Epoch 576/5000\n",
      "97/97 [==============================] - 1s 9ms/step - loss: 1.9704 - val_loss: 1.9449\n",
      "Epoch 577/5000\n",
      "97/97 [==============================] - 1s 10ms/step - loss: 1.9657 - val_loss: 1.9449\n",
      "Epoch 578/5000\n",
      "97/97 [==============================] - 1s 10ms/step - loss: 1.9805 - val_loss: 1.9448\n",
      "Epoch 579/5000\n",
      "97/97 [==============================] - 1s 9ms/step - loss: 1.9566 - val_loss: 1.9449\n",
      "Epoch 580/5000\n",
      "97/97 [==============================] - 1s 12ms/step - loss: 1.9645 - val_loss: 1.9449\n",
      "Epoch 581/5000\n",
      "97/97 [==============================] - 1s 10ms/step - loss: 1.9762 - val_loss: 1.9449\n",
      "Epoch 582/5000\n",
      "97/97 [==============================] - 1s 11ms/step - loss: 1.9764 - val_loss: 1.9447\n",
      "Epoch 583/5000\n",
      "97/97 [==============================] - 1s 10ms/step - loss: 1.9664 - val_loss: 1.9448\n",
      "Epoch 584/5000\n",
      "97/97 [==============================] - 1s 9ms/step - loss: 1.9692 - val_loss: 1.9447\n",
      "Epoch 585/5000\n",
      "97/97 [==============================] - 1s 10ms/step - loss: 1.9636 - val_loss: 1.9447\n",
      "Epoch 586/5000\n",
      "97/97 [==============================] - 1s 9ms/step - loss: 1.9590 - val_loss: 1.9449\n",
      "Epoch 587/5000\n",
      "97/97 [==============================] - 1s 9ms/step - loss: 1.9615 - val_loss: 1.9448\n",
      "Epoch 588/5000\n",
      "97/97 [==============================] - 1s 9ms/step - loss: 1.9666 - val_loss: 1.9449\n",
      "Epoch 589/5000\n",
      "97/97 [==============================] - 1s 10ms/step - loss: 1.9559 - val_loss: 1.9448\n",
      "Epoch 590/5000\n",
      "97/97 [==============================] - 1s 9ms/step - loss: 1.9596 - val_loss: 1.9449\n",
      "Epoch 591/5000\n",
      "97/97 [==============================] - 1s 9ms/step - loss: 1.9775 - val_loss: 1.9448\n",
      "Epoch 592/5000\n",
      "97/97 [==============================] - 1s 9ms/step - loss: 1.9576 - val_loss: 1.9449\n",
      "Epoch 593/5000\n",
      "97/97 [==============================] - 1s 9ms/step - loss: 1.9620 - val_loss: 1.9448\n",
      "Epoch 594/5000\n",
      "97/97 [==============================] - 1s 9ms/step - loss: 1.9709 - val_loss: 1.9447\n",
      "Epoch 595/5000\n",
      "97/97 [==============================] - 1s 9ms/step - loss: 1.9681 - val_loss: 1.9448\n",
      "Epoch 596/5000\n",
      "97/97 [==============================] - 1s 10ms/step - loss: 1.9767 - val_loss: 1.9448\n",
      "Epoch 597/5000\n",
      "97/97 [==============================] - 1s 9ms/step - loss: 1.9664 - val_loss: 1.9448\n",
      "Epoch 598/5000\n",
      "97/97 [==============================] - 1s 9ms/step - loss: 1.9617 - val_loss: 1.9448\n",
      "Epoch 599/5000\n",
      "97/97 [==============================] - 1s 9ms/step - loss: 1.9677 - val_loss: 1.9448\n",
      "Epoch 600/5000\n",
      "97/97 [==============================] - 1s 9ms/step - loss: 1.9606 - val_loss: 1.9449\n",
      "Epoch 601/5000\n",
      "97/97 [==============================] - 1s 9ms/step - loss: 1.9687 - val_loss: 1.9448\n",
      "Epoch 602/5000\n",
      "97/97 [==============================] - 1s 9ms/step - loss: 1.9667 - val_loss: 1.9450\n",
      "Epoch 603/5000\n",
      "97/97 [==============================] - 1s 9ms/step - loss: 1.9555 - val_loss: 1.9447\n",
      "Epoch 604/5000\n",
      "97/97 [==============================] - 1s 9ms/step - loss: 1.9733 - val_loss: 1.9447\n",
      "Epoch 605/5000\n",
      "97/97 [==============================] - 1s 9ms/step - loss: 1.9769 - val_loss: 1.9449\n",
      "Epoch 606/5000\n",
      "97/97 [==============================] - 1s 10ms/step - loss: 1.9722 - val_loss: 1.9447\n",
      "Epoch 607/5000\n",
      "97/97 [==============================] - 1s 10ms/step - loss: 1.9667 - val_loss: 1.9448\n",
      "Epoch 608/5000\n",
      "97/97 [==============================] - 1s 11ms/step - loss: 1.9641 - val_loss: 1.9447\n",
      "Epoch 609/5000\n",
      "97/97 [==============================] - 1s 9ms/step - loss: 1.9612 - val_loss: 1.9448\n",
      "Epoch 610/5000\n",
      "97/97 [==============================] - 1s 9ms/step - loss: 1.9689 - val_loss: 1.9448\n",
      "Epoch 611/5000\n",
      "97/97 [==============================] - 1s 9ms/step - loss: 1.9735 - val_loss: 1.9448\n",
      "Epoch 612/5000\n",
      "97/97 [==============================] - 1s 9ms/step - loss: 1.9711 - val_loss: 1.9448\n",
      "Epoch 613/5000\n",
      "97/97 [==============================] - 1s 9ms/step - loss: 1.9729 - val_loss: 1.9448\n",
      "Epoch 614/5000\n",
      "97/97 [==============================] - 1s 9ms/step - loss: 1.9703 - val_loss: 1.9448\n",
      "Epoch 615/5000\n",
      "97/97 [==============================] - 1s 9ms/step - loss: 1.9686 - val_loss: 1.9448\n",
      "Epoch 616/5000\n",
      "97/97 [==============================] - 1s 10ms/step - loss: 1.9786 - val_loss: 1.9448\n",
      "Epoch 617/5000\n",
      "97/97 [==============================] - 1s 10ms/step - loss: 1.9775 - val_loss: 1.9447\n",
      "Epoch 618/5000\n",
      "97/97 [==============================] - 1s 11ms/step - loss: 1.9568 - val_loss: 1.9448\n",
      "Epoch 619/5000\n",
      "97/97 [==============================] - 1s 10ms/step - loss: 1.9539 - val_loss: 1.9450\n",
      "Epoch 620/5000\n",
      "97/97 [==============================] - 1s 10ms/step - loss: 1.9772 - val_loss: 1.9450\n",
      "Epoch 621/5000\n",
      "97/97 [==============================] - 1s 12ms/step - loss: 1.9675 - val_loss: 1.9450\n",
      "Epoch 622/5000\n",
      "97/97 [==============================] - 1s 12ms/step - loss: 1.9660 - val_loss: 1.9448\n",
      "Epoch 623/5000\n",
      "97/97 [==============================] - 1s 10ms/step - loss: 1.9742 - val_loss: 1.9448\n",
      "Epoch 624/5000\n",
      "97/97 [==============================] - 1s 9ms/step - loss: 1.9699 - val_loss: 1.9448\n",
      "Epoch 625/5000\n",
      "97/97 [==============================] - 1s 9ms/step - loss: 1.9700 - val_loss: 1.9449\n",
      "Epoch 626/5000\n",
      "97/97 [==============================] - 1s 9ms/step - loss: 1.9593 - val_loss: 1.9449\n",
      "Epoch 627/5000\n",
      "97/97 [==============================] - 1s 9ms/step - loss: 1.9720 - val_loss: 1.9450\n",
      "Epoch 628/5000\n",
      "97/97 [==============================] - 1s 9ms/step - loss: 1.9677 - val_loss: 1.9449\n",
      "Epoch 629/5000\n",
      "97/97 [==============================] - 1s 9ms/step - loss: 1.9782 - val_loss: 1.9449\n",
      "Epoch 630/5000\n",
      "97/97 [==============================] - 1s 9ms/step - loss: 1.9629 - val_loss: 1.9448\n",
      "Epoch 631/5000\n",
      "97/97 [==============================] - 1s 9ms/step - loss: 1.9760 - val_loss: 1.9448\n",
      "Epoch 632/5000\n",
      "97/97 [==============================] - 1s 9ms/step - loss: 1.9582 - val_loss: 1.9449\n",
      "Epoch 633/5000\n",
      "97/97 [==============================] - 1s 9ms/step - loss: 1.9650 - val_loss: 1.9449\n",
      "Epoch 634/5000\n",
      "97/97 [==============================] - 1s 9ms/step - loss: 1.9795 - val_loss: 1.9449\n",
      "Epoch 635/5000\n",
      "97/97 [==============================] - 1s 9ms/step - loss: 1.9611 - val_loss: 1.9448\n",
      "Epoch 636/5000\n",
      "97/97 [==============================] - 1s 9ms/step - loss: 1.9632 - val_loss: 1.9448\n",
      "Epoch 637/5000\n",
      "97/97 [==============================] - 1s 9ms/step - loss: 1.9580 - val_loss: 1.9448\n",
      "Epoch 638/5000\n",
      "97/97 [==============================] - 1s 9ms/step - loss: 1.9659 - val_loss: 1.9450\n",
      "Epoch 639/5000\n",
      "97/97 [==============================] - 1s 9ms/step - loss: 1.9673 - val_loss: 1.9448\n",
      "Epoch 640/5000\n",
      "97/97 [==============================] - 1s 9ms/step - loss: 1.9751 - val_loss: 1.9449\n",
      "Epoch 641/5000\n",
      "97/97 [==============================] - 1s 9ms/step - loss: 1.9609 - val_loss: 1.9449\n",
      "Epoch 642/5000\n",
      "97/97 [==============================] - 1s 10ms/step - loss: 1.9746 - val_loss: 1.9449\n",
      "Epoch 643/5000\n",
      "97/97 [==============================] - 1s 9ms/step - loss: 1.9578 - val_loss: 1.9449\n",
      "Epoch 644/5000\n",
      "97/97 [==============================] - 1s 9ms/step - loss: 1.9628 - val_loss: 1.9449\n",
      "Epoch 645/5000\n",
      "97/97 [==============================] - 1s 9ms/step - loss: 1.9757 - val_loss: 1.9448\n",
      "Epoch 646/5000\n",
      "97/97 [==============================] - 1s 9ms/step - loss: 1.9620 - val_loss: 1.9449\n",
      "Epoch 647/5000\n",
      "97/97 [==============================] - 1s 9ms/step - loss: 1.9618 - val_loss: 1.9448\n",
      "Epoch 648/5000\n",
      "97/97 [==============================] - 1s 9ms/step - loss: 1.9802 - val_loss: 1.9447\n",
      "Epoch 649/5000\n",
      "97/97 [==============================] - 1s 9ms/step - loss: 1.9614 - val_loss: 1.9448\n",
      "Epoch 650/5000\n",
      "97/97 [==============================] - 1s 9ms/step - loss: 1.9712 - val_loss: 1.9448\n",
      "Epoch 651/5000\n",
      "97/97 [==============================] - 1s 9ms/step - loss: 1.9704 - val_loss: 1.9448\n",
      "Epoch 652/5000\n",
      "97/97 [==============================] - 1s 9ms/step - loss: 1.9692 - val_loss: 1.9448\n",
      "Epoch 653/5000\n",
      "97/97 [==============================] - 1s 9ms/step - loss: 1.9545 - val_loss: 1.9448\n",
      "Epoch 654/5000\n",
      "97/97 [==============================] - 1s 9ms/step - loss: 1.9560 - val_loss: 1.9449\n",
      "Epoch 655/5000\n",
      "97/97 [==============================] - 1s 9ms/step - loss: 1.9682 - val_loss: 1.9447\n",
      "Epoch 656/5000\n",
      "97/97 [==============================] - 1s 9ms/step - loss: 1.9678 - val_loss: 1.9448\n",
      "Epoch 657/5000\n",
      "97/97 [==============================] - 1s 9ms/step - loss: 1.9597 - val_loss: 1.9450\n",
      "Epoch 658/5000\n",
      "97/97 [==============================] - 1s 9ms/step - loss: 1.9848 - val_loss: 1.9449\n",
      "Epoch 659/5000\n",
      "97/97 [==============================] - 1s 9ms/step - loss: 1.9615 - val_loss: 1.9449\n",
      "Epoch 660/5000\n",
      "97/97 [==============================] - 1s 9ms/step - loss: 1.9666 - val_loss: 1.9448\n",
      "Epoch 661/5000\n",
      "97/97 [==============================] - 1s 9ms/step - loss: 1.9689 - val_loss: 1.9447\n",
      "Epoch 662/5000\n",
      "97/97 [==============================] - 1s 9ms/step - loss: 1.9642 - val_loss: 1.9448\n",
      "Epoch 663/5000\n",
      "97/97 [==============================] - 1s 9ms/step - loss: 1.9710 - val_loss: 1.9448\n",
      "Epoch 664/5000\n",
      "97/97 [==============================] - 1s 9ms/step - loss: 1.9584 - val_loss: 1.9448\n",
      "Epoch 665/5000\n",
      "97/97 [==============================] - 1s 9ms/step - loss: 1.9765 - val_loss: 1.9448\n",
      "Epoch 666/5000\n",
      "97/97 [==============================] - 1s 9ms/step - loss: 1.9703 - val_loss: 1.9448\n",
      "Epoch 667/5000\n",
      "97/97 [==============================] - 1s 10ms/step - loss: 1.9685 - val_loss: 1.9449\n",
      "Epoch 668/5000\n",
      "97/97 [==============================] - 1s 9ms/step - loss: 1.9760 - val_loss: 1.9448\n",
      "Epoch 669/5000\n",
      "97/97 [==============================] - 1s 9ms/step - loss: 1.9594 - val_loss: 1.9448\n",
      "Epoch 670/5000\n",
      "97/97 [==============================] - 1s 9ms/step - loss: 1.9740 - val_loss: 1.9448\n",
      "Epoch 671/5000\n",
      "97/97 [==============================] - 1s 9ms/step - loss: 1.9682 - val_loss: 1.9449\n",
      "Epoch 672/5000\n",
      "97/97 [==============================] - 1s 9ms/step - loss: 1.9762 - val_loss: 1.9448\n",
      "Epoch 673/5000\n",
      "97/97 [==============================] - 1s 9ms/step - loss: 1.9814 - val_loss: 1.9448\n",
      "Epoch 674/5000\n",
      "97/97 [==============================] - 1s 9ms/step - loss: 1.9570 - val_loss: 1.9449\n",
      "Epoch 675/5000\n",
      "97/97 [==============================] - 1s 9ms/step - loss: 1.9678 - val_loss: 1.9449\n",
      "Epoch 676/5000\n",
      "97/97 [==============================] - 1s 9ms/step - loss: 1.9618 - val_loss: 1.9448\n",
      "Epoch 677/5000\n",
      "97/97 [==============================] - 1s 9ms/step - loss: 1.9627 - val_loss: 1.9449\n",
      "Epoch 678/5000\n",
      "97/97 [==============================] - 1s 9ms/step - loss: 1.9642 - val_loss: 1.9448\n",
      "Epoch 679/5000\n",
      "97/97 [==============================] - 1s 9ms/step - loss: 1.9678 - val_loss: 1.9448\n",
      "Epoch 680/5000\n",
      "97/97 [==============================] - 1s 9ms/step - loss: 1.9760 - val_loss: 1.9448\n",
      "Epoch 681/5000\n",
      "97/97 [==============================] - 1s 9ms/step - loss: 1.9550 - val_loss: 1.9449\n",
      "Epoch 682/5000\n",
      "97/97 [==============================] - 1s 9ms/step - loss: 1.9736 - val_loss: 1.9448\n",
      "Epoch 683/5000\n",
      "97/97 [==============================] - 1s 9ms/step - loss: 1.9628 - val_loss: 1.9450\n",
      "Epoch 684/5000\n",
      "97/97 [==============================] - 1s 9ms/step - loss: 1.9663 - val_loss: 1.9448\n",
      "Epoch 685/5000\n",
      "97/97 [==============================] - 1s 9ms/step - loss: 1.9735 - val_loss: 1.9448\n",
      "Epoch 686/5000\n",
      "97/97 [==============================] - 1s 9ms/step - loss: 1.9680 - val_loss: 1.9448\n",
      "Epoch 687/5000\n",
      "97/97 [==============================] - 1s 9ms/step - loss: 1.9767 - val_loss: 1.9448\n",
      "Epoch 688/5000\n",
      "97/97 [==============================] - 1s 9ms/step - loss: 1.9578 - val_loss: 1.9448\n",
      "Epoch 689/5000\n",
      "97/97 [==============================] - 1s 9ms/step - loss: 1.9657 - val_loss: 1.9448\n",
      "Epoch 690/5000\n",
      "97/97 [==============================] - 1s 9ms/step - loss: 1.9680 - val_loss: 1.9449\n",
      "Epoch 691/5000\n",
      "97/97 [==============================] - 1s 9ms/step - loss: 1.9730 - val_loss: 1.9450\n",
      "Epoch 692/5000\n",
      "97/97 [==============================] - 1s 9ms/step - loss: 1.9702 - val_loss: 1.9449\n",
      "Epoch 693/5000\n",
      "97/97 [==============================] - 1s 9ms/step - loss: 1.9647 - val_loss: 1.9448\n",
      "Epoch 694/5000\n",
      "97/97 [==============================] - 1s 9ms/step - loss: 1.9671 - val_loss: 1.9448\n",
      "Epoch 695/5000\n",
      "97/97 [==============================] - 1s 9ms/step - loss: 1.9717 - val_loss: 1.9448\n",
      "Epoch 696/5000\n",
      "97/97 [==============================] - 1s 11ms/step - loss: 1.9635 - val_loss: 1.9449\n",
      "Epoch 697/5000\n",
      "97/97 [==============================] - 1s 9ms/step - loss: 1.9717 - val_loss: 1.9449\n",
      "Epoch 698/5000\n",
      "97/97 [==============================] - 1s 9ms/step - loss: 1.9547 - val_loss: 1.9448\n",
      "Epoch 699/5000\n",
      "97/97 [==============================] - 1s 11ms/step - loss: 1.9667 - val_loss: 1.9449\n",
      "Epoch 700/5000\n",
      "97/97 [==============================] - 1s 10ms/step - loss: 1.9671 - val_loss: 1.9447\n",
      "Epoch 701/5000\n",
      "97/97 [==============================] - 1s 10ms/step - loss: 1.9676 - val_loss: 1.9449\n",
      "Epoch 702/5000\n",
      "97/97 [==============================] - 1s 9ms/step - loss: 1.9846 - val_loss: 1.9449\n",
      "Epoch 703/5000\n",
      "97/97 [==============================] - 1s 9ms/step - loss: 1.9785 - val_loss: 1.9448\n",
      "Epoch 704/5000\n",
      "97/97 [==============================] - 1s 9ms/step - loss: 1.9665 - val_loss: 1.9447\n",
      "Epoch 705/5000\n",
      "97/97 [==============================] - 1s 11ms/step - loss: 1.9761 - val_loss: 1.9449\n",
      "Epoch 706/5000\n",
      "97/97 [==============================] - 1s 10ms/step - loss: 1.9630 - val_loss: 1.9448\n",
      "Epoch 707/5000\n",
      "97/97 [==============================] - 1s 9ms/step - loss: 1.9680 - val_loss: 1.9449\n",
      "Epoch 708/5000\n",
      "97/97 [==============================] - 1s 10ms/step - loss: 1.9758 - val_loss: 1.9449\n",
      "Epoch 709/5000\n",
      "97/97 [==============================] - 1s 10ms/step - loss: 1.9744 - val_loss: 1.9447\n",
      "Epoch 710/5000\n",
      "97/97 [==============================] - 1s 10ms/step - loss: 1.9740 - val_loss: 1.9448\n",
      "Epoch 711/5000\n",
      "97/97 [==============================] - 1s 10ms/step - loss: 1.9804 - val_loss: 1.9450\n",
      "Epoch 712/5000\n",
      "97/97 [==============================] - 1s 10ms/step - loss: 1.9539 - val_loss: 1.9449\n",
      "Epoch 713/5000\n",
      "97/97 [==============================] - 1s 10ms/step - loss: 1.9697 - val_loss: 1.9447\n",
      "Epoch 714/5000\n",
      "97/97 [==============================] - 1s 9ms/step - loss: 1.9617 - val_loss: 1.9452\n",
      "Epoch 715/5000\n",
      "97/97 [==============================] - 1s 11ms/step - loss: 1.9711 - val_loss: 1.9449\n",
      "Epoch 716/5000\n",
      "97/97 [==============================] - 1s 10ms/step - loss: 1.9644 - val_loss: 1.9448\n",
      "Epoch 717/5000\n",
      "97/97 [==============================] - 1s 10ms/step - loss: 1.9558 - val_loss: 1.9449\n",
      "Epoch 718/5000\n",
      "97/97 [==============================] - 1s 11ms/step - loss: 1.9713 - val_loss: 1.9448\n",
      "Epoch 719/5000\n",
      "26/97 [=======>......................] - ETA: 0s - loss: 1.9324"
     ]
    }
   ],
   "source": [
    "hist = sequence_autoencoder.fit(X_train, y_train,\n",
    "                epochs=epochs,\n",
    "                batch_size=batch_size,\n",
    "                shuffle=True,\n",
    "                validation_data=(X_test, y_test),\n",
    "                callbacks=[mc, WandbCallback()])"
   ]
  },
  {
   "cell_type": "code",
   "execution_count": null,
   "metadata": {
    "scrolled": true
   },
   "outputs": [],
   "source": [
    "plt.figure(figsize=(20, 6))\n",
    "\n",
    "plt.plot(hist.history['loss'], label='training')\n",
    "plt.plot(hist.history['val_loss'], label='testing')\n",
    "plt.legend()\n",
    "\n",
    "plt.savefig(f'figures/{name}', dpi=400)"
   ]
  },
  {
   "cell_type": "code",
   "execution_count": null,
   "metadata": {},
   "outputs": [],
   "source": [
    "sequence_autoencoder = load_model(f'Models/{name}.hdf5')"
   ]
  },
  {
   "cell_type": "code",
   "execution_count": null,
   "metadata": {},
   "outputs": [],
   "source": [
    "preds = sequence_autoencoder.predict(X_train).argmax(axis=-1)\n",
    "accuracy_score(y_train.argmax(-1).reshape(-1), preds.reshape(-1))"
   ]
  },
  {
   "cell_type": "code",
   "execution_count": null,
   "metadata": {},
   "outputs": [],
   "source": [
    "preds = sequence_autoencoder.predict(X_test).argmax(axis=-1)\n",
    "accuracy_score(y_test.argmax(-1).reshape(-1), preds.reshape(-1))"
   ]
  },
  {
   "cell_type": "code",
   "execution_count": 59,
   "metadata": {},
   "outputs": [],
   "source": [
    "from sklearn.mixture import GaussianMixture\n",
    "\n",
    "train_encoded = encoder(X_train).numpy()"
   ]
  },
  {
   "cell_type": "code",
   "execution_count": 60,
   "metadata": {
    "scrolled": true
   },
   "outputs": [
    {
     "ename": "KeyboardInterrupt",
     "evalue": "",
     "output_type": "error",
     "traceback": [
      "\u001b[0;31m---------------------------------------------------------------------------\u001b[0m",
      "\u001b[0;31mKeyboardInterrupt\u001b[0m                         Traceback (most recent call last)",
      "\u001b[0;32m<ipython-input-60-b279aa5c1370>\u001b[0m in \u001b[0;36m<module>\u001b[0;34m\u001b[0m\n\u001b[1;32m      1\u001b[0m \u001b[0mgm1\u001b[0m \u001b[0;34m=\u001b[0m \u001b[0mGaussianMixture\u001b[0m\u001b[0;34m(\u001b[0m\u001b[0mn_components\u001b[0m\u001b[0;34m=\u001b[0m\u001b[0;36m5\u001b[0m\u001b[0;34m)\u001b[0m\u001b[0;34m\u001b[0m\u001b[0;34m\u001b[0m\u001b[0m\n\u001b[0;32m----> 2\u001b[0;31m \u001b[0mgm1\u001b[0m\u001b[0;34m.\u001b[0m\u001b[0mfit\u001b[0m\u001b[0;34m(\u001b[0m\u001b[0mtrain_encoded\u001b[0m\u001b[0;34m.\u001b[0m\u001b[0mreshape\u001b[0m\u001b[0;34m(\u001b[0m\u001b[0mnum_train\u001b[0m\u001b[0;34m,\u001b[0m \u001b[0;34m-\u001b[0m\u001b[0;36m1\u001b[0m\u001b[0;34m)\u001b[0m\u001b[0;34m)\u001b[0m\u001b[0;34m\u001b[0m\u001b[0;34m\u001b[0m\u001b[0m\n\u001b[0m",
      "\u001b[0;32m/kuacc/apps/anaconda/3.6/envs/root_env/lib/python3.7/site-packages/sklearn/mixture/_base.py\u001b[0m in \u001b[0;36mfit\u001b[0;34m(self, X, y)\u001b[0m\n\u001b[1;32m    190\u001b[0m         \u001b[0mself\u001b[0m\u001b[0;34m\u001b[0m\u001b[0;34m\u001b[0m\u001b[0m\n\u001b[1;32m    191\u001b[0m         \"\"\"\n\u001b[0;32m--> 192\u001b[0;31m         \u001b[0mself\u001b[0m\u001b[0;34m.\u001b[0m\u001b[0mfit_predict\u001b[0m\u001b[0;34m(\u001b[0m\u001b[0mX\u001b[0m\u001b[0;34m,\u001b[0m \u001b[0my\u001b[0m\u001b[0;34m)\u001b[0m\u001b[0;34m\u001b[0m\u001b[0;34m\u001b[0m\u001b[0m\n\u001b[0m\u001b[1;32m    193\u001b[0m         \u001b[0;32mreturn\u001b[0m \u001b[0mself\u001b[0m\u001b[0;34m\u001b[0m\u001b[0;34m\u001b[0m\u001b[0m\n\u001b[1;32m    194\u001b[0m \u001b[0;34m\u001b[0m\u001b[0m\n",
      "\u001b[0;32m/kuacc/apps/anaconda/3.6/envs/root_env/lib/python3.7/site-packages/sklearn/mixture/_base.py\u001b[0m in \u001b[0;36mfit_predict\u001b[0;34m(self, X, y)\u001b[0m\n\u001b[1;32m    234\u001b[0m \u001b[0;34m\u001b[0m\u001b[0m\n\u001b[1;32m    235\u001b[0m             \u001b[0;32mif\u001b[0m \u001b[0mdo_init\u001b[0m\u001b[0;34m:\u001b[0m\u001b[0;34m\u001b[0m\u001b[0;34m\u001b[0m\u001b[0m\n\u001b[0;32m--> 236\u001b[0;31m                 \u001b[0mself\u001b[0m\u001b[0;34m.\u001b[0m\u001b[0m_initialize_parameters\u001b[0m\u001b[0;34m(\u001b[0m\u001b[0mX\u001b[0m\u001b[0;34m,\u001b[0m \u001b[0mrandom_state\u001b[0m\u001b[0;34m)\u001b[0m\u001b[0;34m\u001b[0m\u001b[0;34m\u001b[0m\u001b[0m\n\u001b[0m\u001b[1;32m    237\u001b[0m \u001b[0;34m\u001b[0m\u001b[0m\n\u001b[1;32m    238\u001b[0m             \u001b[0mlower_bound\u001b[0m \u001b[0;34m=\u001b[0m \u001b[0;34m(\u001b[0m\u001b[0;34m-\u001b[0m\u001b[0mnp\u001b[0m\u001b[0;34m.\u001b[0m\u001b[0minfty\u001b[0m \u001b[0;32mif\u001b[0m \u001b[0mdo_init\u001b[0m \u001b[0;32melse\u001b[0m \u001b[0mself\u001b[0m\u001b[0;34m.\u001b[0m\u001b[0mlower_bound_\u001b[0m\u001b[0;34m)\u001b[0m\u001b[0;34m\u001b[0m\u001b[0;34m\u001b[0m\u001b[0m\n",
      "\u001b[0;32m/kuacc/apps/anaconda/3.6/envs/root_env/lib/python3.7/site-packages/sklearn/mixture/_base.py\u001b[0m in \u001b[0;36m_initialize_parameters\u001b[0;34m(self, X, random_state)\u001b[0m\n\u001b[1;32m    154\u001b[0m                              % self.init_params)\n\u001b[1;32m    155\u001b[0m \u001b[0;34m\u001b[0m\u001b[0m\n\u001b[0;32m--> 156\u001b[0;31m         \u001b[0mself\u001b[0m\u001b[0;34m.\u001b[0m\u001b[0m_initialize\u001b[0m\u001b[0;34m(\u001b[0m\u001b[0mX\u001b[0m\u001b[0;34m,\u001b[0m \u001b[0mresp\u001b[0m\u001b[0;34m)\u001b[0m\u001b[0;34m\u001b[0m\u001b[0;34m\u001b[0m\u001b[0m\n\u001b[0m\u001b[1;32m    157\u001b[0m \u001b[0;34m\u001b[0m\u001b[0m\n\u001b[1;32m    158\u001b[0m     \u001b[0;34m@\u001b[0m\u001b[0mabstractmethod\u001b[0m\u001b[0;34m\u001b[0m\u001b[0;34m\u001b[0m\u001b[0m\n",
      "\u001b[0;32m/kuacc/apps/anaconda/3.6/envs/root_env/lib/python3.7/site-packages/sklearn/mixture/_gaussian_mixture.py\u001b[0m in \u001b[0;36m_initialize\u001b[0;34m(self, X, resp)\u001b[0m\n\u001b[1;32m    647\u001b[0m             \u001b[0mself\u001b[0m\u001b[0;34m.\u001b[0m\u001b[0mcovariances_\u001b[0m \u001b[0;34m=\u001b[0m \u001b[0mcovariances\u001b[0m\u001b[0;34m\u001b[0m\u001b[0;34m\u001b[0m\u001b[0m\n\u001b[1;32m    648\u001b[0m             self.precisions_cholesky_ = _compute_precision_cholesky(\n\u001b[0;32m--> 649\u001b[0;31m                 covariances, self.covariance_type)\n\u001b[0m\u001b[1;32m    650\u001b[0m         \u001b[0;32melif\u001b[0m \u001b[0mself\u001b[0m\u001b[0;34m.\u001b[0m\u001b[0mcovariance_type\u001b[0m \u001b[0;34m==\u001b[0m \u001b[0;34m'full'\u001b[0m\u001b[0;34m:\u001b[0m\u001b[0;34m\u001b[0m\u001b[0;34m\u001b[0m\u001b[0m\n\u001b[1;32m    651\u001b[0m             self.precisions_cholesky_ = np.array(\n",
      "\u001b[0;32m/kuacc/apps/anaconda/3.6/envs/root_env/lib/python3.7/site-packages/sklearn/mixture/_gaussian_mixture.py\u001b[0m in \u001b[0;36m_compute_precision_cholesky\u001b[0;34m(covariances, covariance_type)\u001b[0m\n\u001b[1;32m    315\u001b[0m         \u001b[0;32mfor\u001b[0m \u001b[0mk\u001b[0m\u001b[0;34m,\u001b[0m \u001b[0mcovariance\u001b[0m \u001b[0;32min\u001b[0m \u001b[0menumerate\u001b[0m\u001b[0;34m(\u001b[0m\u001b[0mcovariances\u001b[0m\u001b[0;34m)\u001b[0m\u001b[0;34m:\u001b[0m\u001b[0;34m\u001b[0m\u001b[0;34m\u001b[0m\u001b[0m\n\u001b[1;32m    316\u001b[0m             \u001b[0;32mtry\u001b[0m\u001b[0;34m:\u001b[0m\u001b[0;34m\u001b[0m\u001b[0;34m\u001b[0m\u001b[0m\n\u001b[0;32m--> 317\u001b[0;31m                 \u001b[0mcov_chol\u001b[0m \u001b[0;34m=\u001b[0m \u001b[0mlinalg\u001b[0m\u001b[0;34m.\u001b[0m\u001b[0mcholesky\u001b[0m\u001b[0;34m(\u001b[0m\u001b[0mcovariance\u001b[0m\u001b[0;34m,\u001b[0m \u001b[0mlower\u001b[0m\u001b[0;34m=\u001b[0m\u001b[0;32mTrue\u001b[0m\u001b[0;34m)\u001b[0m\u001b[0;34m\u001b[0m\u001b[0;34m\u001b[0m\u001b[0m\n\u001b[0m\u001b[1;32m    318\u001b[0m             \u001b[0;32mexcept\u001b[0m \u001b[0mlinalg\u001b[0m\u001b[0;34m.\u001b[0m\u001b[0mLinAlgError\u001b[0m\u001b[0;34m:\u001b[0m\u001b[0;34m\u001b[0m\u001b[0;34m\u001b[0m\u001b[0m\n\u001b[1;32m    319\u001b[0m                 \u001b[0;32mraise\u001b[0m \u001b[0mValueError\u001b[0m\u001b[0;34m(\u001b[0m\u001b[0mestimate_precision_error_message\u001b[0m\u001b[0;34m)\u001b[0m\u001b[0;34m\u001b[0m\u001b[0;34m\u001b[0m\u001b[0m\n",
      "\u001b[0;32m/kuacc/apps/anaconda/3.6/envs/root_env/lib/python3.7/site-packages/scipy/linalg/decomp_cholesky.py\u001b[0m in \u001b[0;36mcholesky\u001b[0;34m(a, lower, overwrite_a, check_finite)\u001b[0m\n\u001b[1;32m     89\u001b[0m     \"\"\"\n\u001b[1;32m     90\u001b[0m     c, lower = _cholesky(a, lower=lower, overwrite_a=overwrite_a, clean=True,\n\u001b[0;32m---> 91\u001b[0;31m                          check_finite=check_finite)\n\u001b[0m\u001b[1;32m     92\u001b[0m     \u001b[0;32mreturn\u001b[0m \u001b[0mc\u001b[0m\u001b[0;34m\u001b[0m\u001b[0;34m\u001b[0m\u001b[0m\n\u001b[1;32m     93\u001b[0m \u001b[0;34m\u001b[0m\u001b[0m\n",
      "\u001b[0;32m/kuacc/apps/anaconda/3.6/envs/root_env/lib/python3.7/site-packages/scipy/linalg/decomp_cholesky.py\u001b[0m in \u001b[0;36m_cholesky\u001b[0;34m(a, lower, overwrite_a, clean, check_finite)\u001b[0m\n\u001b[1;32m     17\u001b[0m     \u001b[0;34m\"\"\"Common code for cholesky() and cho_factor().\"\"\"\u001b[0m\u001b[0;34m\u001b[0m\u001b[0;34m\u001b[0m\u001b[0m\n\u001b[1;32m     18\u001b[0m \u001b[0;34m\u001b[0m\u001b[0m\n\u001b[0;32m---> 19\u001b[0;31m     \u001b[0ma1\u001b[0m \u001b[0;34m=\u001b[0m \u001b[0masarray_chkfinite\u001b[0m\u001b[0;34m(\u001b[0m\u001b[0ma\u001b[0m\u001b[0;34m)\u001b[0m \u001b[0;32mif\u001b[0m \u001b[0mcheck_finite\u001b[0m \u001b[0;32melse\u001b[0m \u001b[0masarray\u001b[0m\u001b[0;34m(\u001b[0m\u001b[0ma\u001b[0m\u001b[0;34m)\u001b[0m\u001b[0;34m\u001b[0m\u001b[0;34m\u001b[0m\u001b[0m\n\u001b[0m\u001b[1;32m     20\u001b[0m     \u001b[0ma1\u001b[0m \u001b[0;34m=\u001b[0m \u001b[0matleast_2d\u001b[0m\u001b[0;34m(\u001b[0m\u001b[0ma1\u001b[0m\u001b[0;34m)\u001b[0m\u001b[0;34m\u001b[0m\u001b[0;34m\u001b[0m\u001b[0m\n\u001b[1;32m     21\u001b[0m \u001b[0;34m\u001b[0m\u001b[0m\n",
      "\u001b[0;32m~/.local/lib/python3.7/site-packages/numpy/lib/function_base.py\u001b[0m in \u001b[0;36masarray_chkfinite\u001b[0;34m(a, dtype, order)\u001b[0m\n\u001b[1;32m    482\u001b[0m     \"\"\"\n\u001b[1;32m    483\u001b[0m     \u001b[0ma\u001b[0m \u001b[0;34m=\u001b[0m \u001b[0masarray\u001b[0m\u001b[0;34m(\u001b[0m\u001b[0ma\u001b[0m\u001b[0;34m,\u001b[0m \u001b[0mdtype\u001b[0m\u001b[0;34m=\u001b[0m\u001b[0mdtype\u001b[0m\u001b[0;34m,\u001b[0m \u001b[0morder\u001b[0m\u001b[0;34m=\u001b[0m\u001b[0morder\u001b[0m\u001b[0;34m)\u001b[0m\u001b[0;34m\u001b[0m\u001b[0;34m\u001b[0m\u001b[0m\n\u001b[0;32m--> 484\u001b[0;31m     \u001b[0;32mif\u001b[0m \u001b[0ma\u001b[0m\u001b[0;34m.\u001b[0m\u001b[0mdtype\u001b[0m\u001b[0;34m.\u001b[0m\u001b[0mchar\u001b[0m \u001b[0;32min\u001b[0m \u001b[0mtypecodes\u001b[0m\u001b[0;34m[\u001b[0m\u001b[0;34m'AllFloat'\u001b[0m\u001b[0;34m]\u001b[0m \u001b[0;32mand\u001b[0m \u001b[0;32mnot\u001b[0m \u001b[0mnp\u001b[0m\u001b[0;34m.\u001b[0m\u001b[0misfinite\u001b[0m\u001b[0;34m(\u001b[0m\u001b[0ma\u001b[0m\u001b[0;34m)\u001b[0m\u001b[0;34m.\u001b[0m\u001b[0mall\u001b[0m\u001b[0;34m(\u001b[0m\u001b[0;34m)\u001b[0m\u001b[0;34m:\u001b[0m\u001b[0;34m\u001b[0m\u001b[0;34m\u001b[0m\u001b[0m\n\u001b[0m\u001b[1;32m    485\u001b[0m         raise ValueError(\n\u001b[1;32m    486\u001b[0m             \"array must not contain infs or NaNs\")\n",
      "\u001b[0;31mKeyboardInterrupt\u001b[0m: "
     ]
    }
   ],
   "source": [
    "gm1 = GaussianMixture(n_components=5)\n",
    "gm1.fit(train_encoded.reshape(num_train, -1))"
   ]
  },
  {
   "cell_type": "code",
   "execution_count": null,
   "metadata": {},
   "outputs": [],
   "source": [
    "samples1 = gm1.sample(10)\n",
    "\n",
    "samples1[0]"
   ]
  },
  {
   "cell_type": "code",
   "execution_count": null,
   "metadata": {},
   "outputs": [],
   "source": [
    "trials = samples1[0].reshape(10, 16, 512)"
   ]
  },
  {
   "cell_type": "code",
   "execution_count": null,
   "metadata": {},
   "outputs": [],
   "source": [
    "preds = decoder(trials).numpy().argmax(-1)"
   ]
  },
  {
   "cell_type": "code",
   "execution_count": null,
   "metadata": {},
   "outputs": [],
   "source": [
    "preds = replace_with_dict(preds, v2n_mapping)"
   ]
  },
  {
   "cell_type": "code",
   "execution_count": null,
   "metadata": {},
   "outputs": [],
   "source": [
    "pd.DataFrame(preds).to_csv(\"FirstOut.csv\", index=False)"
   ]
  },
  {
   "cell_type": "code",
   "execution_count": null,
   "metadata": {},
   "outputs": [],
   "source": [
    "pd.read_csv(\"FirstOut.csv\")"
   ]
  },
  {
   "cell_type": "markdown",
   "metadata": {},
   "source": [
    "## Model 5: Embedding-LSTM Encoder Embedding-LSTM-Dense Decoder Bassline Model"
   ]
  },
  {
   "cell_type": "code",
   "execution_count": null,
   "metadata": {},
   "outputs": [],
   "source": [
    "X_train, X_test, y_train, y_test = train_test_split(minor_data, minor_data, test_size=0.1, random_state=42)"
   ]
  },
  {
   "cell_type": "code",
   "execution_count": null,
   "metadata": {},
   "outputs": [],
   "source": [
    "num_train = X_train.shape[0]\n",
    "\n",
    "num_test = X_test.shape[0]"
   ]
  },
  {
   "cell_type": "code",
   "execution_count": null,
   "metadata": {},
   "outputs": [],
   "source": [
    "#timesteps = 64\n",
    "\n",
    "n2v_mapping['<bon/>'] = 38\n",
    "v2n_mapping = {value:key for key, value in n2v_mapping.items()}\n",
    "vocab_size = len(n2v_mapping)\n",
    "\n",
    "encoder_inputs_training = X_train\n",
    "decoder_inputs_training = np.ones((num_train, timesteps))\n",
    "decoder_inputs_training[:,0] *= n2v_mapping['<bon/>']\n",
    "decoder_inputs_training[:,1:] = X_train[:,:-1]\n",
    "#decoder_outputs_training = np.ones((num_train, timesteps))\n",
    "#decoder_outputs_training[:,-1] *= n2v_mapping['<bon/>']\n",
    "#decoder_outputs_training[:,:-1] = X_train\n",
    "#decoder_outputs_training = one_hot_encode(decoder_outputs_training, vocab_size)\n",
    "decoder_outputs_training = one_hot_encode(X_train, vocab_size)\n",
    "\n",
    "encoder_inputs_testing = X_test\n",
    "decoder_inputs_testing = np.ones((num_test, timesteps))\n",
    "decoder_inputs_testing[:,0] *= n2v_mapping['<bon/>']\n",
    "decoder_inputs_testing[:,1:] = X_test[:,:-1]\n",
    "#decoder_outputs_testing = np.ones((num_test, timesteps))\n",
    "#decoder_outputs_testing[:,-1] *= n2v_mapping['<bon/>']\n",
    "#decoder_outputs_testing[:,:-1] = X_test[:,1:]\n",
    "#decoder_outputs_testing = one_hot_encode(decoder_outputs_testing, vocab_size)\n",
    "decoder_outputs_testing = one_hot_encode(X_test, vocab_size)"
   ]
  },
  {
   "cell_type": "code",
   "execution_count": null,
   "metadata": {},
   "outputs": [],
   "source": [
    "decoder_outputs_training.shape"
   ]
  },
  {
   "cell_type": "code",
   "execution_count": null,
   "metadata": {},
   "outputs": [],
   "source": [
    "wandb.init(project='Keras_runs', entity='nbg')"
   ]
  },
  {
   "cell_type": "code",
   "execution_count": null,
   "metadata": {},
   "outputs": [],
   "source": [
    "name = 'NBG_lm_lstm'"
   ]
  },
  {
   "cell_type": "code",
   "execution_count": null,
   "metadata": {},
   "outputs": [],
   "source": [
    "embed_size = 32\n",
    "latent_dim = 256\n",
    "dropout = 0.\n",
    "\n",
    "encoder_inputs = Input(shape=(timesteps,))\n",
    "embedding = Embedding(vocab_size, embed_size)\n",
    "encoder_embedding_outputs = embedding(encoder_inputs)\n",
    "encoder = LSTM(latent_dim, return_state=True, dropout=dropout)\n",
    "encoder_outputs, state_h, state_c = encoder(encoder_embedding_outputs)\n",
    "# We discard `encoder_outputs` and only keep the states.\n",
    "encoder_states = [state_h, state_c]\n",
    "\n",
    "# Set up the decoder, using `encoder_states` as initial state.\n",
    "decoder_inputs = Input(shape=(timesteps,))\n",
    "decoder_embedding_outputs = embedding(decoder_inputs)\n",
    "# We set up our decoder to return full output sequences,\n",
    "# and to return internal states as well. We don't use the \n",
    "# return states in the training model, but we will use them in inference.\n",
    "decoder_lstm = LSTM(latent_dim, return_sequences=True, return_state=True, dropout=dropout)\n",
    "decoder_outputs, _, _ = decoder_lstm(decoder_embedding_outputs,\n",
    "                                     initial_state=encoder_states)\n",
    "decoder_dense = Dense(vocab_size, activation='softmax')\n",
    "decoder_outputs = decoder_dense(decoder_outputs)\n",
    "\n",
    "# Define the model that will turn\n",
    "# `encoder_input_data` & `decoder_input_data` into `decoder_target_data`\n",
    "model = Model([encoder_inputs, decoder_inputs], decoder_outputs)"
   ]
  },
  {
   "cell_type": "code",
   "execution_count": null,
   "metadata": {},
   "outputs": [],
   "source": [
    "model.summary()"
   ]
  },
  {
   "cell_type": "code",
   "execution_count": null,
   "metadata": {
    "scrolled": true
   },
   "outputs": [],
   "source": [
    "learning_rate = 5e-3\n",
    "epochs = 100\n",
    "batch_size = 32\n",
    "wandb.config.learning_rate = learning_rate\n",
    "wandb.config.epochs = epochs\n",
    "wandb.config.batch_size = batch_size\n",
    "wandb.config.model = name\n",
    "\n",
    "mc = ModelCheckpoint(f'Models/{name}.hdf5', monitor='val_loss')\n",
    "\n",
    "optimizer = Adam(learning_rate=learning_rate)\n",
    "\n",
    "model.compile(optimizer, loss='categorical_crossentropy')\n",
    "hist = model.fit([encoder_inputs_training, decoder_inputs_training], decoder_outputs_training,\n",
    "                 batch_size=batch_size,\n",
    "                 epochs=epochs,\n",
    "                 validation_data=([encoder_inputs_testing, decoder_inputs_testing], decoder_outputs_testing),\n",
    "                 callbacks=[mc, WandbCallback()]\n",
    "                )"
   ]
  },
  {
   "cell_type": "code",
   "execution_count": null,
   "metadata": {},
   "outputs": [],
   "source": [
    "plt.figure(figsize=(20, 6))\n",
    "\n",
    "plt.plot(hist.history['loss'], label='training')\n",
    "plt.plot(hist.history['val_loss'], label='testing')\n",
    "plt.legend()\n",
    "\n",
    "plt.savefig(f'figures/{name}', dpi=400)"
   ]
  },
  {
   "cell_type": "code",
   "execution_count": null,
   "metadata": {},
   "outputs": [],
   "source": [
    "encoder_model = Model(encoder_inputs, encoder_states)\n",
    "\n",
    "decoder_state_input_h = Input(shape=(latent_dim,))\n",
    "decoder_state_input_c = Input(shape=(latent_dim,))\n",
    "decoder_states_inputs = [decoder_state_input_h, decoder_state_input_c]\n",
    "decoder_outputs, state_h, state_c = decoder_lstm(\n",
    "    decoder_embedding_outputs, initial_state=decoder_states_inputs)\n",
    "decoder_states = [state_h, state_c]\n",
    "decoder_outputs = decoder_dense(decoder_outputs)\n",
    "decoder_model = Model(\n",
    "    [decoder_inputs] + decoder_states_inputs,\n",
    "    [decoder_outputs] + decoder_states)"
   ]
  },
  {
   "cell_type": "code",
   "execution_count": null,
   "metadata": {},
   "outputs": [],
   "source": [
    "encoder_model.summary()"
   ]
  },
  {
   "cell_type": "code",
   "execution_count": null,
   "metadata": {},
   "outputs": [],
   "source": [
    "decoder_model.summary()"
   ]
  },
  {
   "cell_type": "code",
   "execution_count": null,
   "metadata": {},
   "outputs": [],
   "source": [
    "results = np.zeros((num_train, timesteps))\n",
    "train_encoded = encoder_model.predict(encoder_inputs_training[:,:,np.newaxis])\n",
    "train_inputs = np.ones((num_train, timesteps + 1)) * n2v_mapping['<bon/>']\n",
    "for i in range(timesteps):\n",
    "    decoded_results = decoder_model.predict([train_inputs[:,i+1].reshape(-1, 1)] + train_encoded)\n",
    "    train_encoded = decoded_results[1:]\n",
    "    #preds = decoded_results[0].argmax(-1)\n",
    "    train_inputs[:,i+1] = decoded_results[0].argmax(-1).reshape(-1)"
   ]
  },
  {
   "cell_type": "code",
   "execution_count": null,
   "metadata": {},
   "outputs": [],
   "source": [
    "accuracy_score(encoder_inputs_training.reshape(-1), train_inputs[:,1:].reshape(-1))"
   ]
  },
  {
   "cell_type": "code",
   "execution_count": null,
   "metadata": {},
   "outputs": [],
   "source": [
    "results = np.zeros((num_test, timesteps))\n",
    "test_encoded = encoder_model.predict(encoder_inputs_testing[:,:,np.newaxis])\n",
    "test_inputs = np.ones((num_test, timesteps + 1)) * n2v_mapping['<bon/>']\n",
    "for i in range(timesteps):\n",
    "    decoded_results = decoder_model.predict([test_inputs[:,i+1].reshape(-1, 1)] + test_encoded)\n",
    "    test_encoded = decoded_results[1:]\n",
    "    #preds = decoded_results[0].argmax(-1)\n",
    "    test_inputs[:,i+1] = decoded_results[0].argmax(-1).reshape(-1)"
   ]
  },
  {
   "cell_type": "code",
   "execution_count": null,
   "metadata": {
    "scrolled": true
   },
   "outputs": [],
   "source": [
    "accuracy_score(encoder_inputs_testing.reshape(-1), test_inputs[:,1:].reshape(-1))"
   ]
  },
  {
   "cell_type": "markdown",
   "metadata": {},
   "source": [
    "## Model 6: Variational Autoencoder"
   ]
  },
  {
   "cell_type": "code",
   "execution_count": 12,
   "metadata": {
    "collapsed": true
   },
   "outputs": [
    {
     "name": "stderr",
     "output_type": "stream",
     "text": [
      "wandb: Currently logged in as: raraz15 (use `wandb login --relogin` to force relogin)\n"
     ]
    },
    {
     "data": {
      "text/html": [
       "\n",
       "                Tracking run with wandb version 0.10.30<br/>\n",
       "                Syncing run <strong style=\"color:#cdcd00\">astral-mountain-9</strong> to <a href=\"https://wandb.ai\" target=\"_blank\">Weights & Biases</a> <a href=\"https://docs.wandb.com/integrations/jupyter.html\" target=\"_blank\">(Documentation)</a>.<br/>\n",
       "                Project page: <a href=\"https://wandb.ai/nbg/Keras_runs\" target=\"_blank\">https://wandb.ai/nbg/Keras_runs</a><br/>\n",
       "                Run page: <a href=\"https://wandb.ai/nbg/Keras_runs/runs/3k0mjjx1\" target=\"_blank\">https://wandb.ai/nbg/Keras_runs/runs/3k0mjjx1</a><br/>\n",
       "                Run data is saved locally in <code>/scratch/users/udemir15/Bassline-Generator/generator/wandb/run-20210526_012150-3k0mjjx1</code><br/><br/>\n",
       "            "
      ],
      "text/plain": [
       "<IPython.core.display.HTML object>"
      ]
     },
     "metadata": {},
     "output_type": "display_data"
    },
    {
     "data": {
      "text/html": [
       "<h1>Run(3k0mjjx1)</h1><iframe src=\"https://wandb.ai/nbg/Keras_runs/runs/3k0mjjx1\" style=\"border:none;width:100%;height:400px\"></iframe>"
      ],
      "text/plain": [
       "<wandb.sdk.wandb_run.Run at 0x2b6d6daa28d0>"
      ]
     },
     "execution_count": 12,
     "metadata": {},
     "output_type": "execute_result"
    }
   ],
   "source": [
    "wandb.init(project='Keras_runs', entity='nbg')"
   ]
  },
  {
   "cell_type": "code",
   "execution_count": 14,
   "metadata": {},
   "outputs": [],
   "source": [
    "name = 'NBG_vae_dense'"
   ]
  },
  {
   "cell_type": "code",
   "execution_count": 15,
   "metadata": {},
   "outputs": [],
   "source": [
    "original_dim = 64\n",
    "intermediate_dim = 64\n",
    "latent_dim = 2\n",
    "embed_size = 16\n",
    "\n",
    "ohe_inputs = Input(shape=(original_dim, ))\n",
    "embeddings = Embedding(vocab_size, embed_size)(ohe_inputs)\n",
    "h = Dense(intermediate_dim, activation='relu')(embeddings)\n",
    "z_mean = Dense(latent_dim)(h)\n",
    "z_log_sigma = Dense(latent_dim)(h)"
   ]
  },
  {
   "cell_type": "code",
   "execution_count": 20,
   "metadata": {},
   "outputs": [
    {
     "name": "stdout",
     "output_type": "stream",
     "text": [
      "Tensor(\"lambda_3/strided_slice:0\", shape=(), dtype=int32)\n"
     ]
    }
   ],
   "source": [
    "def sampling(args):\n",
    "    z_mean, z_log_sigma = args\n",
    "    epsilon = K.random_normal(shape=(original_dim, latent_dim),\n",
    "                              mean=0., stddev=0.1)\n",
    "    return z_mean + K.exp(z_log_sigma) * epsilon\n",
    "\n",
    "z = Lambda(sampling)([z_mean, z_log_sigma])"
   ]
  },
  {
   "cell_type": "code",
   "execution_count": 35,
   "metadata": {},
   "outputs": [],
   "source": [
    "# Create encoder\n",
    "encoder = Model(ohe_inputs, [z_mean, z_log_sigma, z], name='encoder')\n",
    "\n",
    "# Create decoder\n",
    "latent_inputs = Input(shape=(original_dim, latent_dim,), name='z_sampling')\n",
    "x = Dense(intermediate_dim, activation='relu')(latent_inputs)\n",
    "outputs = Dense(vocab_size, activation='softmax')(x)\n",
    "decoder = Model(latent_inputs, outputs, name='decoder')\n",
    "\n",
    "# instantiate VAE model\n",
    "outputs = decoder(encoder(ohe_inputs)[2])\n",
    "vae = Model(ohe_inputs, outputs, name='vae_mlp')"
   ]
  },
  {
   "cell_type": "code",
   "execution_count": 36,
   "metadata": {},
   "outputs": [],
   "source": [
    "reconstruction_loss = keras.losses.sparse_categorical_crossentropy(ohe_inputs, outputs)\n",
    "reconstruction_loss *= original_dim\n",
    "kl_loss = 1 + z_log_sigma - K.square(z_mean) - K.exp(z_log_sigma)\n",
    "kl_loss = K.sum(kl_loss, axis=-1)\n",
    "kl_loss *= -0.5\n",
    "vae_loss = K.mean(reconstruction_loss + kl_loss)\n",
    "vae.add_loss(vae_loss)\n",
    "vae.compile(optimizer='adam')"
   ]
  },
  {
   "cell_type": "code",
   "execution_count": 37,
   "metadata": {},
   "outputs": [
    {
     "name": "stdout",
     "output_type": "stream",
     "text": [
      "Model: \"vae_mlp\"\n",
      "__________________________________________________________________________________________________\n",
      "Layer (type)                    Output Shape         Param #     Connected to                     \n",
      "==================================================================================================\n",
      "input_4 (InputLayer)            [(None, 64)]         0                                            \n",
      "__________________________________________________________________________________________________\n",
      "encoder (Functional)            [(None, 64, 2), (Non 1956        input_4[0][0]                    \n",
      "__________________________________________________________________________________________________\n",
      "decoder (Functional)            (None, 64, 38)       2662        encoder[0][2]                    \n",
      "__________________________________________________________________________________________________\n",
      "embedding_3 (Embedding)         (None, 64, 16)       608         input_4[0][0]                    \n",
      "__________________________________________________________________________________________________\n",
      "dense_10 (Dense)                (None, 64, 64)       1088        embedding_3[0][0]                \n",
      "__________________________________________________________________________________________________\n",
      "dense_12 (Dense)                (None, 64, 2)        130         dense_10[0][0]                   \n",
      "__________________________________________________________________________________________________\n",
      "dense_11 (Dense)                (None, 64, 2)        130         dense_10[0][0]                   \n",
      "__________________________________________________________________________________________________\n",
      "tf.__operators__.add_4 (TFOpLam (None, 64, 2)        0           dense_12[0][0]                   \n",
      "__________________________________________________________________________________________________\n",
      "tf.math.square_2 (TFOpLambda)   (None, 64, 2)        0           dense_11[0][0]                   \n",
      "__________________________________________________________________________________________________\n",
      "tf.math.subtract_4 (TFOpLambda) (None, 64, 2)        0           tf.__operators__.add_4[0][0]     \n",
      "                                                                 tf.math.square_2[0][0]           \n",
      "__________________________________________________________________________________________________\n",
      "tf.math.exp_2 (TFOpLambda)      (None, 64, 2)        0           dense_12[0][0]                   \n",
      "__________________________________________________________________________________________________\n",
      "tf.cast_3 (TFOpLambda)          (None, 64)           0           input_4[0][0]                    \n",
      "__________________________________________________________________________________________________\n",
      "tf.convert_to_tensor_9 (TFOpLam (None, 64, 38)       0           decoder[0][0]                    \n",
      "__________________________________________________________________________________________________\n",
      "tf.math.subtract_5 (TFOpLambda) (None, 64, 2)        0           tf.math.subtract_4[0][0]         \n",
      "                                                                 tf.math.exp_2[0][0]              \n",
      "__________________________________________________________________________________________________\n",
      "tf.keras.backend.sparse_categor (None, 64)           0           tf.cast_3[0][0]                  \n",
      "                                                                 tf.convert_to_tensor_9[0][0]     \n",
      "__________________________________________________________________________________________________\n",
      "tf.math.reduce_sum_2 (TFOpLambd (None, 64)           0           tf.math.subtract_5[0][0]         \n",
      "__________________________________________________________________________________________________\n",
      "tf.math.multiply_4 (TFOpLambda) (None, 64)           0           tf.keras.backend.sparse_categoric\n",
      "__________________________________________________________________________________________________\n",
      "tf.math.multiply_5 (TFOpLambda) (None, 64)           0           tf.math.reduce_sum_2[0][0]       \n",
      "__________________________________________________________________________________________________\n",
      "tf.__operators__.add_5 (TFOpLam (None, 64)           0           tf.math.multiply_4[0][0]         \n",
      "                                                                 tf.math.multiply_5[0][0]         \n",
      "__________________________________________________________________________________________________\n",
      "tf.math.reduce_mean_2 (TFOpLamb ()                   0           tf.__operators__.add_5[0][0]     \n",
      "__________________________________________________________________________________________________\n",
      "add_loss_2 (AddLoss)            ()                   0           tf.math.reduce_mean_2[0][0]      \n",
      "==================================================================================================\n",
      "Total params: 4,618\n",
      "Trainable params: 4,618\n",
      "Non-trainable params: 0\n",
      "__________________________________________________________________________________________________\n"
     ]
    }
   ],
   "source": [
    "vae.summary()"
   ]
  },
  {
   "cell_type": "code",
   "execution_count": 38,
   "metadata": {},
   "outputs": [
    {
     "name": "stdout",
     "output_type": "stream",
     "text": [
      "Model: \"decoder\"\n",
      "_________________________________________________________________\n",
      "Layer (type)                 Output Shape              Param #   \n",
      "=================================================================\n",
      "z_sampling (InputLayer)      [(None, 64, 2)]           0         \n",
      "_________________________________________________________________\n",
      "dense_15 (Dense)             (None, 64, 64)            192       \n",
      "_________________________________________________________________\n",
      "dense_16 (Dense)             (None, 64, 38)            2470      \n",
      "=================================================================\n",
      "Total params: 2,662\n",
      "Trainable params: 2,662\n",
      "Non-trainable params: 0\n",
      "_________________________________________________________________\n"
     ]
    }
   ],
   "source": [
    "decoder.summary()"
   ]
  },
  {
   "cell_type": "code",
   "execution_count": 40,
   "metadata": {
    "scrolled": true
   },
   "outputs": [
    {
     "name": "stdout",
     "output_type": "stream",
     "text": [
      "Epoch 1/100\n",
      "97/97 [==============================] - 1s 12ms/step - loss: 81.4104 - val_loss: 58.3397\n",
      "WARNING:tensorflow:Found duplicated `Variable`s in Model's `weights`. This is usually caused by `Variable`s being shared by Layers in the Model. These `Variable`s will be treated as separate `Variable`s when the Model is restored. To avoid this, please save with `save_format=\"tf\"`.\n",
      "Epoch 2/100\n",
      "97/97 [==============================] - 1s 6ms/step - loss: 43.3466 - val_loss: 32.6552\n",
      "WARNING:tensorflow:Found duplicated `Variable`s in Model's `weights`. This is usually caused by `Variable`s being shared by Layers in the Model. These `Variable`s will be treated as separate `Variable`s when the Model is restored. To avoid this, please save with `save_format=\"tf\"`.\n",
      "Epoch 3/100\n",
      "97/97 [==============================] - 1s 6ms/step - loss: 29.0697 - val_loss: 25.5377\n",
      "WARNING:tensorflow:Found duplicated `Variable`s in Model's `weights`. This is usually caused by `Variable`s being shared by Layers in the Model. These `Variable`s will be treated as separate `Variable`s when the Model is restored. To avoid this, please save with `save_format=\"tf\"`.\n",
      "Epoch 4/100\n",
      "97/97 [==============================] - 1s 6ms/step - loss: 23.4405 - val_loss: 20.6682\n",
      "WARNING:tensorflow:Found duplicated `Variable`s in Model's `weights`. This is usually caused by `Variable`s being shared by Layers in the Model. These `Variable`s will be treated as separate `Variable`s when the Model is restored. To avoid this, please save with `save_format=\"tf\"`.\n",
      "Epoch 5/100\n",
      "97/97 [==============================] - 1s 6ms/step - loss: 19.1679 - val_loss: 17.2321\n",
      "WARNING:tensorflow:Found duplicated `Variable`s in Model's `weights`. This is usually caused by `Variable`s being shared by Layers in the Model. These `Variable`s will be treated as separate `Variable`s when the Model is restored. To avoid this, please save with `save_format=\"tf\"`.\n",
      "Epoch 6/100\n",
      "97/97 [==============================] - 1s 6ms/step - loss: 16.1745 - val_loss: 14.6365\n",
      "WARNING:tensorflow:Found duplicated `Variable`s in Model's `weights`. This is usually caused by `Variable`s being shared by Layers in the Model. These `Variable`s will be treated as separate `Variable`s when the Model is restored. To avoid this, please save with `save_format=\"tf\"`.\n",
      "Epoch 7/100\n",
      "97/97 [==============================] - 1s 6ms/step - loss: 13.8151 - val_loss: 12.5273\n",
      "WARNING:tensorflow:Found duplicated `Variable`s in Model's `weights`. This is usually caused by `Variable`s being shared by Layers in the Model. These `Variable`s will be treated as separate `Variable`s when the Model is restored. To avoid this, please save with `save_format=\"tf\"`.\n",
      "Epoch 8/100\n",
      "97/97 [==============================] - 1s 6ms/step - loss: 11.9335 - val_loss: 10.8657\n",
      "WARNING:tensorflow:Found duplicated `Variable`s in Model's `weights`. This is usually caused by `Variable`s being shared by Layers in the Model. These `Variable`s will be treated as separate `Variable`s when the Model is restored. To avoid this, please save with `save_format=\"tf\"`.\n",
      "Epoch 9/100\n",
      "97/97 [==============================] - 1s 6ms/step - loss: 10.3996 - val_loss: 9.5404\n",
      "WARNING:tensorflow:Found duplicated `Variable`s in Model's `weights`. This is usually caused by `Variable`s being shared by Layers in the Model. These `Variable`s will be treated as separate `Variable`s when the Model is restored. To avoid this, please save with `save_format=\"tf\"`.\n",
      "Epoch 10/100\n",
      "97/97 [==============================] - 1s 6ms/step - loss: 9.1649 - val_loss: 8.4510\n",
      "WARNING:tensorflow:Found duplicated `Variable`s in Model's `weights`. This is usually caused by `Variable`s being shared by Layers in the Model. These `Variable`s will be treated as separate `Variable`s when the Model is restored. To avoid this, please save with `save_format=\"tf\"`.\n",
      "Epoch 11/100\n",
      "97/97 [==============================] - 1s 5ms/step - loss: 8.1872 - val_loss: 7.5867\n",
      "WARNING:tensorflow:Found duplicated `Variable`s in Model's `weights`. This is usually caused by `Variable`s being shared by Layers in the Model. These `Variable`s will be treated as separate `Variable`s when the Model is restored. To avoid this, please save with `save_format=\"tf\"`.\n",
      "Epoch 12/100\n",
      "97/97 [==============================] - 1s 5ms/step - loss: 7.3398 - val_loss: 6.8271\n",
      "WARNING:tensorflow:Found duplicated `Variable`s in Model's `weights`. This is usually caused by `Variable`s being shared by Layers in the Model. These `Variable`s will be treated as separate `Variable`s when the Model is restored. To avoid this, please save with `save_format=\"tf\"`.\n",
      "Epoch 13/100\n",
      "97/97 [==============================] - 1s 6ms/step - loss: 6.6638 - val_loss: 6.2025\n",
      "WARNING:tensorflow:Found duplicated `Variable`s in Model's `weights`. This is usually caused by `Variable`s being shared by Layers in the Model. These `Variable`s will be treated as separate `Variable`s when the Model is restored. To avoid this, please save with `save_format=\"tf\"`.\n",
      "Epoch 14/100\n",
      "97/97 [==============================] - 1s 6ms/step - loss: 6.0420 - val_loss: 5.6704\n",
      "WARNING:tensorflow:Found duplicated `Variable`s in Model's `weights`. This is usually caused by `Variable`s being shared by Layers in the Model. These `Variable`s will be treated as separate `Variable`s when the Model is restored. To avoid this, please save with `save_format=\"tf\"`.\n",
      "Epoch 15/100\n",
      "97/97 [==============================] - 1s 6ms/step - loss: 5.5276 - val_loss: 5.2040\n",
      "WARNING:tensorflow:Found duplicated `Variable`s in Model's `weights`. This is usually caused by `Variable`s being shared by Layers in the Model. These `Variable`s will be treated as separate `Variable`s when the Model is restored. To avoid this, please save with `save_format=\"tf\"`.\n",
      "Epoch 16/100\n",
      "97/97 [==============================] - 1s 6ms/step - loss: 5.1011 - val_loss: 4.8127\n",
      "WARNING:tensorflow:Found duplicated `Variable`s in Model's `weights`. This is usually caused by `Variable`s being shared by Layers in the Model. These `Variable`s will be treated as separate `Variable`s when the Model is restored. To avoid this, please save with `save_format=\"tf\"`.\n",
      "Epoch 17/100\n",
      "97/97 [==============================] - 1s 6ms/step - loss: 4.7062 - val_loss: 4.4555\n",
      "WARNING:tensorflow:Found duplicated `Variable`s in Model's `weights`. This is usually caused by `Variable`s being shared by Layers in the Model. These `Variable`s will be treated as separate `Variable`s when the Model is restored. To avoid this, please save with `save_format=\"tf\"`.\n",
      "Epoch 18/100\n",
      "97/97 [==============================] - 1s 6ms/step - loss: 4.3628 - val_loss: 4.1387\n",
      "WARNING:tensorflow:Found duplicated `Variable`s in Model's `weights`. This is usually caused by `Variable`s being shared by Layers in the Model. These `Variable`s will be treated as separate `Variable`s when the Model is restored. To avoid this, please save with `save_format=\"tf\"`.\n",
      "Epoch 19/100\n",
      "97/97 [==============================] - 1s 6ms/step - loss: 4.0714 - val_loss: 3.8980\n",
      "WARNING:tensorflow:Found duplicated `Variable`s in Model's `weights`. This is usually caused by `Variable`s being shared by Layers in the Model. These `Variable`s will be treated as separate `Variable`s when the Model is restored. To avoid this, please save with `save_format=\"tf\"`.\n",
      "Epoch 20/100\n",
      "97/97 [==============================] - 1s 6ms/step - loss: 3.8066 - val_loss: 3.6390\n",
      "WARNING:tensorflow:Found duplicated `Variable`s in Model's `weights`. This is usually caused by `Variable`s being shared by Layers in the Model. These `Variable`s will be treated as separate `Variable`s when the Model is restored. To avoid this, please save with `save_format=\"tf\"`.\n",
      "Epoch 21/100\n",
      "97/97 [==============================] - 1s 6ms/step - loss: 3.5769 - val_loss: 3.4189\n",
      "WARNING:tensorflow:Found duplicated `Variable`s in Model's `weights`. This is usually caused by `Variable`s being shared by Layers in the Model. These `Variable`s will be treated as separate `Variable`s when the Model is restored. To avoid this, please save with `save_format=\"tf\"`.\n",
      "Epoch 22/100\n",
      "97/97 [==============================] - 1s 6ms/step - loss: 3.3559 - val_loss: 3.2175\n",
      "WARNING:tensorflow:Found duplicated `Variable`s in Model's `weights`. This is usually caused by `Variable`s being shared by Layers in the Model. These `Variable`s will be treated as separate `Variable`s when the Model is restored. To avoid this, please save with `save_format=\"tf\"`.\n"
     ]
    },
    {
     "name": "stdout",
     "output_type": "stream",
     "text": [
      "Epoch 23/100\n",
      "97/97 [==============================] - 1s 6ms/step - loss: 3.1695 - val_loss: 3.0410\n",
      "WARNING:tensorflow:Found duplicated `Variable`s in Model's `weights`. This is usually caused by `Variable`s being shared by Layers in the Model. These `Variable`s will be treated as separate `Variable`s when the Model is restored. To avoid this, please save with `save_format=\"tf\"`.\n",
      "Epoch 24/100\n",
      "97/97 [==============================] - 1s 6ms/step - loss: 2.9944 - val_loss: 2.8869\n",
      "WARNING:tensorflow:Found duplicated `Variable`s in Model's `weights`. This is usually caused by `Variable`s being shared by Layers in the Model. These `Variable`s will be treated as separate `Variable`s when the Model is restored. To avoid this, please save with `save_format=\"tf\"`.\n",
      "Epoch 25/100\n",
      "97/97 [==============================] - 1s 5ms/step - loss: 2.8297 - val_loss: 2.7220\n",
      "WARNING:tensorflow:Found duplicated `Variable`s in Model's `weights`. This is usually caused by `Variable`s being shared by Layers in the Model. These `Variable`s will be treated as separate `Variable`s when the Model is restored. To avoid this, please save with `save_format=\"tf\"`.\n",
      "Epoch 26/100\n",
      "97/97 [==============================] - 1s 6ms/step - loss: 2.6850 - val_loss: 2.5879\n",
      "WARNING:tensorflow:Found duplicated `Variable`s in Model's `weights`. This is usually caused by `Variable`s being shared by Layers in the Model. These `Variable`s will be treated as separate `Variable`s when the Model is restored. To avoid this, please save with `save_format=\"tf\"`.\n",
      "Epoch 27/100\n",
      "97/97 [==============================] - 1s 6ms/step - loss: 2.5539 - val_loss: 2.4428\n",
      "WARNING:tensorflow:Found duplicated `Variable`s in Model's `weights`. This is usually caused by `Variable`s being shared by Layers in the Model. These `Variable`s will be treated as separate `Variable`s when the Model is restored. To avoid this, please save with `save_format=\"tf\"`.\n",
      "Epoch 28/100\n",
      "97/97 [==============================] - 1s 6ms/step - loss: 2.4291 - val_loss: 2.3340\n",
      "WARNING:tensorflow:Found duplicated `Variable`s in Model's `weights`. This is usually caused by `Variable`s being shared by Layers in the Model. These `Variable`s will be treated as separate `Variable`s when the Model is restored. To avoid this, please save with `save_format=\"tf\"`.\n",
      "Epoch 29/100\n",
      "97/97 [==============================] - 1s 7ms/step - loss: 2.3145 - val_loss: 2.2264\n",
      "WARNING:tensorflow:Found duplicated `Variable`s in Model's `weights`. This is usually caused by `Variable`s being shared by Layers in the Model. These `Variable`s will be treated as separate `Variable`s when the Model is restored. To avoid this, please save with `save_format=\"tf\"`.\n",
      "Epoch 30/100\n",
      "97/97 [==============================] - 1s 6ms/step - loss: 2.2156 - val_loss: 2.1344\n",
      "WARNING:tensorflow:Found duplicated `Variable`s in Model's `weights`. This is usually caused by `Variable`s being shared by Layers in the Model. These `Variable`s will be treated as separate `Variable`s when the Model is restored. To avoid this, please save with `save_format=\"tf\"`.\n",
      "Epoch 31/100\n",
      "97/97 [==============================] - 1s 5ms/step - loss: 2.1226 - val_loss: 2.0506\n",
      "WARNING:tensorflow:Found duplicated `Variable`s in Model's `weights`. This is usually caused by `Variable`s being shared by Layers in the Model. These `Variable`s will be treated as separate `Variable`s when the Model is restored. To avoid this, please save with `save_format=\"tf\"`.\n",
      "Epoch 32/100\n",
      "97/97 [==============================] - 1s 6ms/step - loss: 2.0327 - val_loss: 1.9648\n",
      "WARNING:tensorflow:Found duplicated `Variable`s in Model's `weights`. This is usually caused by `Variable`s being shared by Layers in the Model. These `Variable`s will be treated as separate `Variable`s when the Model is restored. To avoid this, please save with `save_format=\"tf\"`.\n",
      "Epoch 33/100\n",
      "97/97 [==============================] - 1s 5ms/step - loss: 1.9493 - val_loss: 1.8858\n",
      "WARNING:tensorflow:Found duplicated `Variable`s in Model's `weights`. This is usually caused by `Variable`s being shared by Layers in the Model. These `Variable`s will be treated as separate `Variable`s when the Model is restored. To avoid this, please save with `save_format=\"tf\"`.\n",
      "Epoch 34/100\n",
      "97/97 [==============================] - 1s 6ms/step - loss: 1.8767 - val_loss: 1.8153\n",
      "WARNING:tensorflow:Found duplicated `Variable`s in Model's `weights`. This is usually caused by `Variable`s being shared by Layers in the Model. These `Variable`s will be treated as separate `Variable`s when the Model is restored. To avoid this, please save with `save_format=\"tf\"`.\n",
      "Epoch 35/100\n",
      "97/97 [==============================] - 1s 6ms/step - loss: 1.8092 - val_loss: 1.7363\n",
      "WARNING:tensorflow:Found duplicated `Variable`s in Model's `weights`. This is usually caused by `Variable`s being shared by Layers in the Model. These `Variable`s will be treated as separate `Variable`s when the Model is restored. To avoid this, please save with `save_format=\"tf\"`.\n",
      "Epoch 36/100\n",
      "97/97 [==============================] - 1s 6ms/step - loss: 1.7399 - val_loss: 1.6879\n",
      "WARNING:tensorflow:Found duplicated `Variable`s in Model's `weights`. This is usually caused by `Variable`s being shared by Layers in the Model. These `Variable`s will be treated as separate `Variable`s when the Model is restored. To avoid this, please save with `save_format=\"tf\"`.\n",
      "Epoch 37/100\n",
      "97/97 [==============================] - 1s 6ms/step - loss: 1.6730 - val_loss: 1.6247\n",
      "WARNING:tensorflow:Found duplicated `Variable`s in Model's `weights`. This is usually caused by `Variable`s being shared by Layers in the Model. These `Variable`s will be treated as separate `Variable`s when the Model is restored. To avoid this, please save with `save_format=\"tf\"`.\n",
      "Epoch 38/100\n",
      "97/97 [==============================] - 1s 6ms/step - loss: 1.6098 - val_loss: 1.5621\n",
      "WARNING:tensorflow:Found duplicated `Variable`s in Model's `weights`. This is usually caused by `Variable`s being shared by Layers in the Model. These `Variable`s will be treated as separate `Variable`s when the Model is restored. To avoid this, please save with `save_format=\"tf\"`.\n",
      "Epoch 39/100\n",
      "97/97 [==============================] - 1s 6ms/step - loss: 1.5582 - val_loss: 1.5057\n",
      "WARNING:tensorflow:Found duplicated `Variable`s in Model's `weights`. This is usually caused by `Variable`s being shared by Layers in the Model. These `Variable`s will be treated as separate `Variable`s when the Model is restored. To avoid this, please save with `save_format=\"tf\"`.\n",
      "Epoch 40/100\n",
      "97/97 [==============================] - 1s 6ms/step - loss: 1.5069 - val_loss: 1.4633\n",
      "WARNING:tensorflow:Found duplicated `Variable`s in Model's `weights`. This is usually caused by `Variable`s being shared by Layers in the Model. These `Variable`s will be treated as separate `Variable`s when the Model is restored. To avoid this, please save with `save_format=\"tf\"`.\n",
      "Epoch 41/100\n",
      "97/97 [==============================] - 1s 6ms/step - loss: 1.4565 - val_loss: 1.4054\n",
      "WARNING:tensorflow:Found duplicated `Variable`s in Model's `weights`. This is usually caused by `Variable`s being shared by Layers in the Model. These `Variable`s will be treated as separate `Variable`s when the Model is restored. To avoid this, please save with `save_format=\"tf\"`.\n",
      "Epoch 42/100\n",
      "97/97 [==============================] - 1s 6ms/step - loss: 1.4051 - val_loss: 1.3624\n",
      "WARNING:tensorflow:Found duplicated `Variable`s in Model's `weights`. This is usually caused by `Variable`s being shared by Layers in the Model. These `Variable`s will be treated as separate `Variable`s when the Model is restored. To avoid this, please save with `save_format=\"tf\"`.\n",
      "Epoch 43/100\n",
      "97/97 [==============================] - 1s 6ms/step - loss: 1.3739 - val_loss: 1.3200\n",
      "WARNING:tensorflow:Found duplicated `Variable`s in Model's `weights`. This is usually caused by `Variable`s being shared by Layers in the Model. These `Variable`s will be treated as separate `Variable`s when the Model is restored. To avoid this, please save with `save_format=\"tf\"`.\n",
      "Epoch 44/100\n",
      "97/97 [==============================] - 1s 6ms/step - loss: 1.3342 - val_loss: 1.2890\n",
      "WARNING:tensorflow:Found duplicated `Variable`s in Model's `weights`. This is usually caused by `Variable`s being shared by Layers in the Model. These `Variable`s will be treated as separate `Variable`s when the Model is restored. To avoid this, please save with `save_format=\"tf\"`.\n"
     ]
    },
    {
     "name": "stdout",
     "output_type": "stream",
     "text": [
      "Epoch 45/100\n",
      "97/97 [==============================] - 1s 6ms/step - loss: 1.2855 - val_loss: 1.2479\n",
      "WARNING:tensorflow:Found duplicated `Variable`s in Model's `weights`. This is usually caused by `Variable`s being shared by Layers in the Model. These `Variable`s will be treated as separate `Variable`s when the Model is restored. To avoid this, please save with `save_format=\"tf\"`.\n",
      "Epoch 46/100\n",
      "97/97 [==============================] - 1s 5ms/step - loss: 1.2439 - val_loss: 1.2104\n",
      "WARNING:tensorflow:Found duplicated `Variable`s in Model's `weights`. This is usually caused by `Variable`s being shared by Layers in the Model. These `Variable`s will be treated as separate `Variable`s when the Model is restored. To avoid this, please save with `save_format=\"tf\"`.\n",
      "Epoch 47/100\n",
      "97/97 [==============================] - 1s 5ms/step - loss: 1.2108 - val_loss: 1.1796\n",
      "WARNING:tensorflow:Found duplicated `Variable`s in Model's `weights`. This is usually caused by `Variable`s being shared by Layers in the Model. These `Variable`s will be treated as separate `Variable`s when the Model is restored. To avoid this, please save with `save_format=\"tf\"`.\n",
      "Epoch 48/100\n",
      "97/97 [==============================] - 1s 5ms/step - loss: 1.1816 - val_loss: 1.1478\n",
      "WARNING:tensorflow:Found duplicated `Variable`s in Model's `weights`. This is usually caused by `Variable`s being shared by Layers in the Model. These `Variable`s will be treated as separate `Variable`s when the Model is restored. To avoid this, please save with `save_format=\"tf\"`.\n",
      "Epoch 49/100\n",
      "97/97 [==============================] - 1s 6ms/step - loss: 1.1445 - val_loss: 1.1103\n",
      "WARNING:tensorflow:Found duplicated `Variable`s in Model's `weights`. This is usually caused by `Variable`s being shared by Layers in the Model. These `Variable`s will be treated as separate `Variable`s when the Model is restored. To avoid this, please save with `save_format=\"tf\"`.\n",
      "Epoch 50/100\n",
      "97/97 [==============================] - 1s 6ms/step - loss: 1.1187 - val_loss: 1.0853\n",
      "WARNING:tensorflow:Found duplicated `Variable`s in Model's `weights`. This is usually caused by `Variable`s being shared by Layers in the Model. These `Variable`s will be treated as separate `Variable`s when the Model is restored. To avoid this, please save with `save_format=\"tf\"`.\n",
      "Epoch 51/100\n",
      "97/97 [==============================] - 1s 6ms/step - loss: 1.1066 - val_loss: 1.0866\n",
      "WARNING:tensorflow:Found duplicated `Variable`s in Model's `weights`. This is usually caused by `Variable`s being shared by Layers in the Model. These `Variable`s will be treated as separate `Variable`s when the Model is restored. To avoid this, please save with `save_format=\"tf\"`.\n",
      "Epoch 52/100\n",
      "97/97 [==============================] - 1s 6ms/step - loss: 1.0750 - val_loss: 1.0314\n",
      "WARNING:tensorflow:Found duplicated `Variable`s in Model's `weights`. This is usually caused by `Variable`s being shared by Layers in the Model. These `Variable`s will be treated as separate `Variable`s when the Model is restored. To avoid this, please save with `save_format=\"tf\"`.\n",
      "Epoch 53/100\n",
      "97/97 [==============================] - 1s 5ms/step - loss: 1.0326 - val_loss: 1.0259\n",
      "WARNING:tensorflow:Found duplicated `Variable`s in Model's `weights`. This is usually caused by `Variable`s being shared by Layers in the Model. These `Variable`s will be treated as separate `Variable`s when the Model is restored. To avoid this, please save with `save_format=\"tf\"`.\n",
      "Epoch 54/100\n",
      "97/97 [==============================] - 1s 6ms/step - loss: 1.0216 - val_loss: 0.9766\n",
      "WARNING:tensorflow:Found duplicated `Variable`s in Model's `weights`. This is usually caused by `Variable`s being shared by Layers in the Model. These `Variable`s will be treated as separate `Variable`s when the Model is restored. To avoid this, please save with `save_format=\"tf\"`.\n",
      "Epoch 55/100\n",
      "97/97 [==============================] - 1s 6ms/step - loss: 0.9820 - val_loss: 0.9669\n",
      "WARNING:tensorflow:Found duplicated `Variable`s in Model's `weights`. This is usually caused by `Variable`s being shared by Layers in the Model. These `Variable`s will be treated as separate `Variable`s when the Model is restored. To avoid this, please save with `save_format=\"tf\"`.\n",
      "Epoch 56/100\n",
      "97/97 [==============================] - 1s 5ms/step - loss: 0.9527 - val_loss: 0.9417\n",
      "WARNING:tensorflow:Found duplicated `Variable`s in Model's `weights`. This is usually caused by `Variable`s being shared by Layers in the Model. These `Variable`s will be treated as separate `Variable`s when the Model is restored. To avoid this, please save with `save_format=\"tf\"`.\n",
      "Epoch 57/100\n",
      "97/97 [==============================] - 1s 6ms/step - loss: 0.9365 - val_loss: 0.9587\n",
      "WARNING:tensorflow:Found duplicated `Variable`s in Model's `weights`. This is usually caused by `Variable`s being shared by Layers in the Model. These `Variable`s will be treated as separate `Variable`s when the Model is restored. To avoid this, please save with `save_format=\"tf\"`.\n",
      "Epoch 58/100\n",
      "97/97 [==============================] - 1s 6ms/step - loss: 0.9137 - val_loss: 0.9069\n",
      "WARNING:tensorflow:Found duplicated `Variable`s in Model's `weights`. This is usually caused by `Variable`s being shared by Layers in the Model. These `Variable`s will be treated as separate `Variable`s when the Model is restored. To avoid this, please save with `save_format=\"tf\"`.\n",
      "Epoch 59/100\n",
      "97/97 [==============================] - 1s 6ms/step - loss: 0.8982 - val_loss: 0.8837\n",
      "WARNING:tensorflow:Found duplicated `Variable`s in Model's `weights`. This is usually caused by `Variable`s being shared by Layers in the Model. These `Variable`s will be treated as separate `Variable`s when the Model is restored. To avoid this, please save with `save_format=\"tf\"`.\n",
      "Epoch 60/100\n",
      "97/97 [==============================] - 1s 8ms/step - loss: 0.8786 - val_loss: 0.8531\n",
      "WARNING:tensorflow:Found duplicated `Variable`s in Model's `weights`. This is usually caused by `Variable`s being shared by Layers in the Model. These `Variable`s will be treated as separate `Variable`s when the Model is restored. To avoid this, please save with `save_format=\"tf\"`.\n",
      "Epoch 61/100\n",
      "97/97 [==============================] - 1s 6ms/step - loss: 0.8502 - val_loss: 0.8491\n",
      "WARNING:tensorflow:Found duplicated `Variable`s in Model's `weights`. This is usually caused by `Variable`s being shared by Layers in the Model. These `Variable`s will be treated as separate `Variable`s when the Model is restored. To avoid this, please save with `save_format=\"tf\"`.\n",
      "Epoch 62/100\n",
      "97/97 [==============================] - 1s 6ms/step - loss: 0.8425 - val_loss: 0.8726\n",
      "WARNING:tensorflow:Found duplicated `Variable`s in Model's `weights`. This is usually caused by `Variable`s being shared by Layers in the Model. These `Variable`s will be treated as separate `Variable`s when the Model is restored. To avoid this, please save with `save_format=\"tf\"`.\n",
      "Epoch 63/100\n",
      "97/97 [==============================] - 1s 6ms/step - loss: 0.8437 - val_loss: 0.8410\n",
      "WARNING:tensorflow:Found duplicated `Variable`s in Model's `weights`. This is usually caused by `Variable`s being shared by Layers in the Model. These `Variable`s will be treated as separate `Variable`s when the Model is restored. To avoid this, please save with `save_format=\"tf\"`.\n",
      "Epoch 64/100\n",
      "97/97 [==============================] - 1s 6ms/step - loss: 0.8184 - val_loss: 0.7893\n",
      "WARNING:tensorflow:Found duplicated `Variable`s in Model's `weights`. This is usually caused by `Variable`s being shared by Layers in the Model. These `Variable`s will be treated as separate `Variable`s when the Model is restored. To avoid this, please save with `save_format=\"tf\"`.\n",
      "Epoch 65/100\n",
      "97/97 [==============================] - 1s 6ms/step - loss: 0.8200 - val_loss: 0.7770\n",
      "WARNING:tensorflow:Found duplicated `Variable`s in Model's `weights`. This is usually caused by `Variable`s being shared by Layers in the Model. These `Variable`s will be treated as separate `Variable`s when the Model is restored. To avoid this, please save with `save_format=\"tf\"`.\n",
      "Epoch 66/100\n",
      "97/97 [==============================] - 1s 5ms/step - loss: 0.7653 - val_loss: 0.7509\n",
      "WARNING:tensorflow:Found duplicated `Variable`s in Model's `weights`. This is usually caused by `Variable`s being shared by Layers in the Model. These `Variable`s will be treated as separate `Variable`s when the Model is restored. To avoid this, please save with `save_format=\"tf\"`.\n"
     ]
    },
    {
     "name": "stdout",
     "output_type": "stream",
     "text": [
      "Epoch 67/100\n",
      "97/97 [==============================] - 1s 6ms/step - loss: 0.7540 - val_loss: 0.7336\n",
      "WARNING:tensorflow:Found duplicated `Variable`s in Model's `weights`. This is usually caused by `Variable`s being shared by Layers in the Model. These `Variable`s will be treated as separate `Variable`s when the Model is restored. To avoid this, please save with `save_format=\"tf\"`.\n",
      "Epoch 68/100\n",
      "97/97 [==============================] - 1s 6ms/step - loss: 0.8157 - val_loss: 0.7335\n",
      "WARNING:tensorflow:Found duplicated `Variable`s in Model's `weights`. This is usually caused by `Variable`s being shared by Layers in the Model. These `Variable`s will be treated as separate `Variable`s when the Model is restored. To avoid this, please save with `save_format=\"tf\"`.\n",
      "Epoch 69/100\n",
      "97/97 [==============================] - 1s 6ms/step - loss: 0.7410 - val_loss: 0.7498\n",
      "WARNING:tensorflow:Found duplicated `Variable`s in Model's `weights`. This is usually caused by `Variable`s being shared by Layers in the Model. These `Variable`s will be treated as separate `Variable`s when the Model is restored. To avoid this, please save with `save_format=\"tf\"`.\n",
      "Epoch 70/100\n",
      "97/97 [==============================] - 1s 6ms/step - loss: 0.7169 - val_loss: 0.6990\n",
      "WARNING:tensorflow:Found duplicated `Variable`s in Model's `weights`. This is usually caused by `Variable`s being shared by Layers in the Model. These `Variable`s will be treated as separate `Variable`s when the Model is restored. To avoid this, please save with `save_format=\"tf\"`.\n",
      "Epoch 71/100\n",
      "97/97 [==============================] - 1s 6ms/step - loss: 0.6971 - val_loss: 0.6955\n",
      "WARNING:tensorflow:Found duplicated `Variable`s in Model's `weights`. This is usually caused by `Variable`s being shared by Layers in the Model. These `Variable`s will be treated as separate `Variable`s when the Model is restored. To avoid this, please save with `save_format=\"tf\"`.\n",
      "Epoch 72/100\n",
      "97/97 [==============================] - 1s 6ms/step - loss: 0.6832 - val_loss: 0.6686\n",
      "WARNING:tensorflow:Found duplicated `Variable`s in Model's `weights`. This is usually caused by `Variable`s being shared by Layers in the Model. These `Variable`s will be treated as separate `Variable`s when the Model is restored. To avoid this, please save with `save_format=\"tf\"`.\n",
      "Epoch 73/100\n",
      "97/97 [==============================] - 1s 6ms/step - loss: 0.7239 - val_loss: 0.6967\n",
      "WARNING:tensorflow:Found duplicated `Variable`s in Model's `weights`. This is usually caused by `Variable`s being shared by Layers in the Model. These `Variable`s will be treated as separate `Variable`s when the Model is restored. To avoid this, please save with `save_format=\"tf\"`.\n",
      "Epoch 74/100\n",
      "97/97 [==============================] - 1s 6ms/step - loss: 0.6715 - val_loss: 0.6720\n",
      "WARNING:tensorflow:Found duplicated `Variable`s in Model's `weights`. This is usually caused by `Variable`s being shared by Layers in the Model. These `Variable`s will be treated as separate `Variable`s when the Model is restored. To avoid this, please save with `save_format=\"tf\"`.\n",
      "Epoch 75/100\n",
      "97/97 [==============================] - 1s 6ms/step - loss: 0.6412 - val_loss: 0.6584\n",
      "WARNING:tensorflow:Found duplicated `Variable`s in Model's `weights`. This is usually caused by `Variable`s being shared by Layers in the Model. These `Variable`s will be treated as separate `Variable`s when the Model is restored. To avoid this, please save with `save_format=\"tf\"`.\n",
      "Epoch 76/100\n",
      "97/97 [==============================] - 1s 6ms/step - loss: 0.6940 - val_loss: 0.6341\n",
      "WARNING:tensorflow:Found duplicated `Variable`s in Model's `weights`. This is usually caused by `Variable`s being shared by Layers in the Model. These `Variable`s will be treated as separate `Variable`s when the Model is restored. To avoid this, please save with `save_format=\"tf\"`.\n",
      "Epoch 77/100\n",
      "97/97 [==============================] - 1s 6ms/step - loss: 0.6312 - val_loss: 0.6036\n",
      "WARNING:tensorflow:Found duplicated `Variable`s in Model's `weights`. This is usually caused by `Variable`s being shared by Layers in the Model. These `Variable`s will be treated as separate `Variable`s when the Model is restored. To avoid this, please save with `save_format=\"tf\"`.\n",
      "Epoch 78/100\n",
      "97/97 [==============================] - 1s 6ms/step - loss: 0.6224 - val_loss: 0.6268\n",
      "WARNING:tensorflow:Found duplicated `Variable`s in Model's `weights`. This is usually caused by `Variable`s being shared by Layers in the Model. These `Variable`s will be treated as separate `Variable`s when the Model is restored. To avoid this, please save with `save_format=\"tf\"`.\n",
      "Epoch 79/100\n",
      "97/97 [==============================] - 1s 6ms/step - loss: 0.6159 - val_loss: 0.6617\n",
      "WARNING:tensorflow:Found duplicated `Variable`s in Model's `weights`. This is usually caused by `Variable`s being shared by Layers in the Model. These `Variable`s will be treated as separate `Variable`s when the Model is restored. To avoid this, please save with `save_format=\"tf\"`.\n",
      "Epoch 80/100\n",
      "97/97 [==============================] - 1s 6ms/step - loss: 0.6042 - val_loss: 0.5851\n",
      "WARNING:tensorflow:Found duplicated `Variable`s in Model's `weights`. This is usually caused by `Variable`s being shared by Layers in the Model. These `Variable`s will be treated as separate `Variable`s when the Model is restored. To avoid this, please save with `save_format=\"tf\"`.\n",
      "Epoch 81/100\n",
      "97/97 [==============================] - 1s 5ms/step - loss: 0.5901 - val_loss: 0.5844\n",
      "WARNING:tensorflow:Found duplicated `Variable`s in Model's `weights`. This is usually caused by `Variable`s being shared by Layers in the Model. These `Variable`s will be treated as separate `Variable`s when the Model is restored. To avoid this, please save with `save_format=\"tf\"`.\n",
      "Epoch 82/100\n",
      "97/97 [==============================] - 1s 6ms/step - loss: 0.6111 - val_loss: 0.5865\n",
      "WARNING:tensorflow:Found duplicated `Variable`s in Model's `weights`. This is usually caused by `Variable`s being shared by Layers in the Model. These `Variable`s will be treated as separate `Variable`s when the Model is restored. To avoid this, please save with `save_format=\"tf\"`.\n",
      "Epoch 83/100\n",
      "97/97 [==============================] - 1s 6ms/step - loss: 0.5671 - val_loss: 0.5373\n",
      "WARNING:tensorflow:Found duplicated `Variable`s in Model's `weights`. This is usually caused by `Variable`s being shared by Layers in the Model. These `Variable`s will be treated as separate `Variable`s when the Model is restored. To avoid this, please save with `save_format=\"tf\"`.\n",
      "Epoch 84/100\n",
      "97/97 [==============================] - 1s 6ms/step - loss: 0.6030 - val_loss: 0.5725\n",
      "WARNING:tensorflow:Found duplicated `Variable`s in Model's `weights`. This is usually caused by `Variable`s being shared by Layers in the Model. These `Variable`s will be treated as separate `Variable`s when the Model is restored. To avoid this, please save with `save_format=\"tf\"`.\n",
      "Epoch 85/100\n",
      "97/97 [==============================] - 1s 6ms/step - loss: 0.5510 - val_loss: 0.5421\n",
      "WARNING:tensorflow:Found duplicated `Variable`s in Model's `weights`. This is usually caused by `Variable`s being shared by Layers in the Model. These `Variable`s will be treated as separate `Variable`s when the Model is restored. To avoid this, please save with `save_format=\"tf\"`.\n",
      "Epoch 86/100\n",
      "97/97 [==============================] - 1s 6ms/step - loss: 0.6144 - val_loss: 0.5629\n",
      "WARNING:tensorflow:Found duplicated `Variable`s in Model's `weights`. This is usually caused by `Variable`s being shared by Layers in the Model. These `Variable`s will be treated as separate `Variable`s when the Model is restored. To avoid this, please save with `save_format=\"tf\"`.\n",
      "Epoch 87/100\n",
      "97/97 [==============================] - 1s 6ms/step - loss: 0.5530 - val_loss: 0.5284\n",
      "WARNING:tensorflow:Found duplicated `Variable`s in Model's `weights`. This is usually caused by `Variable`s being shared by Layers in the Model. These `Variable`s will be treated as separate `Variable`s when the Model is restored. To avoid this, please save with `save_format=\"tf\"`.\n",
      "Epoch 88/100\n",
      "97/97 [==============================] - 1s 6ms/step - loss: 0.5594 - val_loss: 0.6232\n",
      "WARNING:tensorflow:Found duplicated `Variable`s in Model's `weights`. This is usually caused by `Variable`s being shared by Layers in the Model. These `Variable`s will be treated as separate `Variable`s when the Model is restored. To avoid this, please save with `save_format=\"tf\"`.\n"
     ]
    },
    {
     "name": "stdout",
     "output_type": "stream",
     "text": [
      "Epoch 89/100\n",
      "97/97 [==============================] - 1s 6ms/step - loss: 0.5400 - val_loss: 0.5106\n",
      "WARNING:tensorflow:Found duplicated `Variable`s in Model's `weights`. This is usually caused by `Variable`s being shared by Layers in the Model. These `Variable`s will be treated as separate `Variable`s when the Model is restored. To avoid this, please save with `save_format=\"tf\"`.\n",
      "Epoch 90/100\n",
      "97/97 [==============================] - 1s 6ms/step - loss: 0.5367 - val_loss: 0.5348\n",
      "WARNING:tensorflow:Found duplicated `Variable`s in Model's `weights`. This is usually caused by `Variable`s being shared by Layers in the Model. These `Variable`s will be treated as separate `Variable`s when the Model is restored. To avoid this, please save with `save_format=\"tf\"`.\n",
      "Epoch 91/100\n",
      "97/97 [==============================] - 1s 7ms/step - loss: 0.5909 - val_loss: 0.5184\n",
      "WARNING:tensorflow:Found duplicated `Variable`s in Model's `weights`. This is usually caused by `Variable`s being shared by Layers in the Model. These `Variable`s will be treated as separate `Variable`s when the Model is restored. To avoid this, please save with `save_format=\"tf\"`.\n",
      "Epoch 92/100\n",
      "97/97 [==============================] - 1s 5ms/step - loss: 0.5355 - val_loss: 0.5211\n",
      "WARNING:tensorflow:Found duplicated `Variable`s in Model's `weights`. This is usually caused by `Variable`s being shared by Layers in the Model. These `Variable`s will be treated as separate `Variable`s when the Model is restored. To avoid this, please save with `save_format=\"tf\"`.\n",
      "Epoch 93/100\n",
      "97/97 [==============================] - 1s 5ms/step - loss: 0.4972 - val_loss: 0.5006\n",
      "WARNING:tensorflow:Found duplicated `Variable`s in Model's `weights`. This is usually caused by `Variable`s being shared by Layers in the Model. These `Variable`s will be treated as separate `Variable`s when the Model is restored. To avoid this, please save with `save_format=\"tf\"`.\n",
      "Epoch 94/100\n",
      "97/97 [==============================] - 1s 6ms/step - loss: 0.5360 - val_loss: 0.4992\n",
      "WARNING:tensorflow:Found duplicated `Variable`s in Model's `weights`. This is usually caused by `Variable`s being shared by Layers in the Model. These `Variable`s will be treated as separate `Variable`s when the Model is restored. To avoid this, please save with `save_format=\"tf\"`.\n",
      "Epoch 95/100\n",
      "97/97 [==============================] - 1s 6ms/step - loss: 0.5079 - val_loss: 0.4902\n",
      "WARNING:tensorflow:Found duplicated `Variable`s in Model's `weights`. This is usually caused by `Variable`s being shared by Layers in the Model. These `Variable`s will be treated as separate `Variable`s when the Model is restored. To avoid this, please save with `save_format=\"tf\"`.\n",
      "Epoch 96/100\n",
      "97/97 [==============================] - 1s 6ms/step - loss: 0.4790 - val_loss: 0.5127\n",
      "WARNING:tensorflow:Found duplicated `Variable`s in Model's `weights`. This is usually caused by `Variable`s being shared by Layers in the Model. These `Variable`s will be treated as separate `Variable`s when the Model is restored. To avoid this, please save with `save_format=\"tf\"`.\n",
      "Epoch 97/100\n",
      "97/97 [==============================] - 0s 5ms/step - loss: 0.4755 - val_loss: 0.4736\n",
      "WARNING:tensorflow:Found duplicated `Variable`s in Model's `weights`. This is usually caused by `Variable`s being shared by Layers in the Model. These `Variable`s will be treated as separate `Variable`s when the Model is restored. To avoid this, please save with `save_format=\"tf\"`.\n",
      "Epoch 98/100\n",
      "97/97 [==============================] - 1s 6ms/step - loss: 0.4932 - val_loss: 0.4911\n",
      "WARNING:tensorflow:Found duplicated `Variable`s in Model's `weights`. This is usually caused by `Variable`s being shared by Layers in the Model. These `Variable`s will be treated as separate `Variable`s when the Model is restored. To avoid this, please save with `save_format=\"tf\"`.\n",
      "Epoch 99/100\n",
      "97/97 [==============================] - 1s 5ms/step - loss: 0.4966 - val_loss: 0.4810\n",
      "WARNING:tensorflow:Found duplicated `Variable`s in Model's `weights`. This is usually caused by `Variable`s being shared by Layers in the Model. These `Variable`s will be treated as separate `Variable`s when the Model is restored. To avoid this, please save with `save_format=\"tf\"`.\n",
      "Epoch 100/100\n",
      "97/97 [==============================] - 1s 6ms/step - loss: 0.4792 - val_loss: 0.4573\n",
      "WARNING:tensorflow:Found duplicated `Variable`s in Model's `weights`. This is usually caused by `Variable`s being shared by Layers in the Model. These `Variable`s will be treated as separate `Variable`s when the Model is restored. To avoid this, please save with `save_format=\"tf\"`.\n"
     ]
    }
   ],
   "source": [
    "learning_rate = 5e-3\n",
    "epochs = 100\n",
    "batch_size = 32\n",
    "#wandb.config.learning_rate = learning_rate\n",
    "#wandb.config.epochs = epochs\n",
    "#wandb.config.batch_size = batch_size\n",
    "#wandb.config.model = name\n",
    "\n",
    "mc = ModelCheckpoint(f'Models/{name}.hdf5', monitor='val_loss', save_format=\"tf\")\n",
    "\n",
    "hist = vae.fit(X_train, y_train,\n",
    "        epochs=epochs,\n",
    "        batch_size=batch_size,\n",
    "        validation_data=(X_test, y_test),\n",
    "              callbacks=[mc]\n",
    "              )"
   ]
  },
  {
   "cell_type": "code",
   "execution_count": 41,
   "metadata": {},
   "outputs": [
    {
     "data": {
      "image/png": "[encoded data removed]",
      "text/plain": [
       "<Figure size 1440x432 with 1 Axes>"
      ]
     },
     "metadata": {
      "needs_background": "light"
     },
     "output_type": "display_data"
    }
   ],
   "source": [
    "plt.figure(figsize=(20, 6))\n",
    "\n",
    "plt.plot(hist.history['loss'], label='training')\n",
    "plt.plot(hist.history['val_loss'], label='testing')\n",
    "plt.legend()\n",
    "\n",
    "plt.savefig(f'figures/{name}', dpi=400)"
   ]
  },
  {
   "cell_type": "code",
   "execution_count": 42,
   "metadata": {},
   "outputs": [
    {
     "name": "stdout",
     "output_type": "stream",
     "text": [
      "WARNING:tensorflow:Error in loading the saved optimizer state. As a result, your model is starting with a freshly initialized optimizer.\n"
     ]
    }
   ],
   "source": [
    "vae = load_model(f'Models/{name}.hdf5')"
   ]
  },
  {
   "cell_type": "code",
   "execution_count": 45,
   "metadata": {},
   "outputs": [
    {
     "data": {
      "text/plain": [
       "0.9999696307094267"
      ]
     },
     "execution_count": 45,
     "metadata": {},
     "output_type": "execute_result"
    }
   ],
   "source": [
    "preds = vae(X_train).numpy().argmax(-1)\n",
    "\n",
    "accuracy_score(X_train.reshape(-1), preds.reshape(-1))"
   ]
  },
  {
   "cell_type": "code",
   "execution_count": 46,
   "metadata": {},
   "outputs": [
    {
     "data": {
      "text/plain": [
       "0.9999595207253886"
      ]
     },
     "execution_count": 46,
     "metadata": {},
     "output_type": "execute_result"
    }
   ],
   "source": [
    "preds = vae(X_test).numpy().argmax(-1)\n",
    "\n",
    "accuracy_score(X_test.reshape(-1), preds.reshape(-1))"
   ]
  },
  {
   "cell_type": "code",
   "execution_count": 24,
   "metadata": {},
   "outputs": [],
   "source": [
    "n=30\n",
    "\n",
    "grid_x = np.linspace(-15, 15, n)\n",
    "grid_y = np.linspace(-15, 15, n)\n",
    "lst=[]\n",
    "\n",
    "for i, yi in enumerate(grid_x):\n",
    "    for j, xi in enumerate(grid_y):\n",
    "        z_sample = np.array([[xi, yi]] * 64)[np.newaxis,:,:]\n",
    "        x_decoded = decoder.predict(z_sample)\n",
    "        lst.append(x_decoded)"
   ]
  },
  {
   "cell_type": "code",
   "execution_count": null,
   "metadata": {},
   "outputs": [],
   "source": [
    "preds = decoder.predict(np.random.normal(size=(10, 64, 2)))\n",
    "preds.argmax(-1)"
   ]
  },
  {
   "cell_type": "code",
   "execution_count": null,
   "metadata": {},
   "outputs": [],
   "source": [
    "generation = decoder(np.random.normal(size=(10, 64, 2))).numpy()"
   ]
  },
  {
   "cell_type": "code",
   "execution_count": null,
   "metadata": {},
   "outputs": [],
   "source": [
    "train_encoded = encoder(y_train)[2].numpy()"
   ]
  },
  {
   "cell_type": "code",
   "execution_count": null,
   "metadata": {},
   "outputs": [],
   "source": [
    "[[1,2]] * 10"
   ]
  },
  {
   "cell_type": "code",
   "execution_count": null,
   "metadata": {},
   "outputs": [],
   "source": [
    "train_encoded[0]"
   ]
  },
  {
   "cell_type": "code",
   "execution_count": null,
   "metadata": {},
   "outputs": [],
   "source": [
    "decoder.predict(train_encoded).argmax(-1)"
   ]
  },
  {
   "cell_type": "code",
   "execution_count": null,
   "metadata": {},
   "outputs": [],
   "source": [
    "generation.argmax(-1)"
   ]
  },
  {
   "cell_type": "code",
   "execution_count": null,
   "metadata": {},
   "outputs": [],
   "source": [
    "x_test_encoded = encoder.predict(y_test, batch_size=32)[2]\n",
    "\n",
    "plt.figure(figsize=(6, 6))\n",
    "plt.scatter(x_test_encoded[:, 0], x_test_encoded[:, 1], c=y_test)\n",
    "plt.colorbar()\n",
    "plt.show()"
   ]
  },
  {
   "cell_type": "code",
   "execution_count": null,
   "metadata": {},
   "outputs": [],
   "source": [
    "x_test_encoded[2].shape"
   ]
  },
  {
   "cell_type": "code",
   "execution_count": null,
   "metadata": {},
   "outputs": [],
   "source": []
  }
 ],
 "metadata": {
  "kernelspec": {
   "display_name": "Python 3",
   "language": "python",
   "name": "python3"
  },
  "language_info": {
   "codemirror_mode": {
    "name": "ipython",
    "version": 3
   },
   "file_extension": ".py",
   "mimetype": "text/x-python",
   "name": "python",
   "nbconvert_exporter": "python",
   "pygments_lexer": "ipython3",
   "version": "3.7.6"
  }
 },
 "nbformat": 4,
 "nbformat_minor": 2
}
