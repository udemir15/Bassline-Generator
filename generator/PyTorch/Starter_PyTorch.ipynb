{
 "cells": [
  {
   "cell_type": "code",
   "execution_count": 2,
   "metadata": {},
   "outputs": [
    {
     "name": "stdout",
     "output_type": "stream",
     "text": [
      "cuda\n"
     ]
    },
    {
     "name": "stderr",
     "output_type": "stream",
     "text": [
      "wandb: Currently logged in as: raraz15 (use `wandb login --relogin` to force relogin)\n"
     ]
    },
    {
     "data": {
      "text/plain": [
       "True"
      ]
     },
     "execution_count": 2,
     "metadata": {},
     "output_type": "execute_result"
    }
   ],
   "source": [
    "%load_ext autoreload\n",
    "\n",
    "%autoreload 2\n",
    "\n",
    "import os\n",
    "import datetime as dt\n",
    "\n",
    "import pandas as pd\n",
    "import numpy as np\n",
    "from tqdm import tqdm\n",
    "import matplotlib.pyplot as plt\n",
    "\n",
    "import torch\n",
    "import torch.nn as nn\n",
    "\n",
    "device = torch.device(\"cuda\" if torch.cuda.is_available() else \"cpu\")\n",
    "print(device)\n",
    "\n",
    "import models\n",
    "import encoders\n",
    "import decoders\n",
    "from training import train, test, checkpoint\n",
    "from dataloaders import load_data, create_loaders\n",
    "\n",
    "WANDB_API_KEY= '52c84ab3f3b5c1f999c7f5f389f5e423f46fc04a'\n",
    "\n",
    "import wandb\n",
    "wandb.login() #key=WANDB_API_KEY"
   ]
  },
  {
   "cell_type": "code",
   "execution_count": 3,
   "metadata": {
    "scrolled": true
   },
   "outputs": [
    {
     "name": "stdout",
     "output_type": "stream",
     "text": [
      "Number of classes: 38\n",
      "Sequence Length: 64\n",
      "Number of data points: 3859\n"
     ]
    }
   ],
   "source": [
    "#dataset_path = '/projects/bassline_transcription/data/datasets'\n",
    "dataset_path = '/scratch/users/udemir15/ELEC491/bassline_transcription/data/datasets'\n",
    "dataset_name = 'traxsource_0-5000_bassline_representations'\n",
    "M = 8 \n",
    "\n",
    "\n",
    "data_params = {'dataset_path': dataset_path,\n",
    "               'dataset_name': dataset_name,\n",
    "               'scale_type': 'min',\n",
    "               'M': M,\n",
    "               'batch_size': 64}\n",
    "\n",
    "X = load_data(data_params)\n",
    "\n",
    "K = X.max()+1 # Number of classes, assumes consecutive\n",
    "sequence_length = X.shape[1]\n",
    "\n",
    "print('Number of classes: {}\\nSequence Length: {}'.format(K, sequence_length))\n",
    "print('Number of data points: {}'.format(X.shape[0]))\n",
    "\n",
    "train_loader, test_loader = create_loaders(X, data_params)"
   ]
  },
  {
   "cell_type": "code",
   "execution_count": 4,
   "metadata": {
    "scrolled": true
   },
   "outputs": [],
   "source": [
    "encoder_params = {'num_embeddings': K,\n",
    "                  'embedding_dim': 16, \n",
    "                  'hidden_size': 128,\n",
    "                  'dropout': 0.2,  \n",
    "                  'num_layers': 4,              \n",
    "                  'batch_size': data_params['batch_size'],\n",
    "                  'device':device}\n",
    "\n",
    "#StackedUnidirLSTMDenseDecoder / StackedUnidirectionalLSTMDecoder\n",
    "decoder_params = {'input_size': encoder_params['hidden_size'],\n",
    "                  'output_size': K,\n",
    "                 'num_layers': encoder_params['num_layers'], \n",
    "                 'dropout': 0,\n",
    "                 'batch_size': data_params['batch_size'],\n",
    "                 'sequence_length': sequence_length,\n",
    "                 'device':device}\n",
    "\n",
    "#StackedUnidirectionalLSTMDecoderwithEmbedding \n",
    "\"\"\"decoder_params = {'num_embeddings': K,\n",
    "                  'embedding_dim': 16,\n",
    "                  'hidden_size': 128,                  \n",
    "                  'num_layers': encoder_params['num_layers'], \n",
    "                  'dropout': 0.2,\n",
    "                  'batch_size': data_params['batch_size'],\n",
    "                  'sequence_length': sequence_length,\n",
    "                  'device':device}\"\"\"\n",
    "\n",
    "train_params = {'batch_size': data_params['batch_size'],\n",
    "                'N_epochs': 500}\n",
    "\n",
    "all_params = {'encoder_params': encoder_params, 'decoder_params':decoder_params, 'train_params':train_params}"
   ]
  },
  {
   "cell_type": "markdown",
   "metadata": {},
   "source": [
    "encoder = encoders.StackedBidirLSTMEncoder(**encoder_params).to(device)\n",
    "\n",
    "decoder = decoders.StackedUnidirLSTMDecoderwithEmbedding(**decoder_params).to(device)\n",
    "\n",
    "model = models.AutoEncoder(encoder, decoder, device).to(device)\n",
    "print(model)\n",
    "print('Number of parameters: {}'.format(sum([parameter.numel() for parameter in model.parameters()])))\n",
    "\n",
    "criterion = nn.CrossEntropyLoss()\n",
    "optimizer = torch.optim.Adam(model.parameters(), lr=1e-3)"
   ]
  },
  {
   "cell_type": "code",
   "execution_count": 29,
   "metadata": {
    "collapsed": true
   },
   "outputs": [
    {
     "name": "stderr",
     "output_type": "stream",
     "text": [
      "[autoreload of models failed: Traceback (most recent call last):\n",
      "  File \"/kuacc/apps/anaconda/3.6/envs/root_env/lib/python3.7/site-packages/IPython/extensions/autoreload.py\", line 245, in check\n",
      "    superreload(m, reload, self.old_objects)\n",
      "  File \"/kuacc/apps/anaconda/3.6/envs/root_env/lib/python3.7/site-packages/IPython/extensions/autoreload.py\", line 394, in superreload\n",
      "    module = reload(module)\n",
      "  File \"/kuacc/apps/anaconda/3.6/envs/root_env/lib/python3.7/imp.py\", line 314, in reload\n",
      "    return importlib.reload(module)\n",
      "  File \"/kuacc/apps/anaconda/3.6/envs/root_env/lib/python3.7/importlib/__init__.py\", line 169, in reload\n",
      "    _bootstrap._exec(spec, module)\n",
      "  File \"<frozen importlib._bootstrap>\", line 630, in _exec\n",
      "  File \"<frozen importlib._bootstrap_external>\", line 724, in exec_module\n",
      "  File \"<frozen importlib._bootstrap_external>\", line 860, in get_code\n",
      "  File \"<frozen importlib._bootstrap_external>\", line 791, in source_to_code\n",
      "  File \"<frozen importlib._bootstrap>\", line 219, in _call_with_frames_removed\n",
      "  File \"/scratch/users/udemir15/ELEC491/Bassline-Generator/generator/PyTorch/models.py\", line 63\n",
      "    def forward\n",
      "              ^\n",
      "SyntaxError: invalid syntax\n",
      "]\n"
     ]
    },
    {
     "ename": "TypeError",
     "evalue": "__init__() got an unexpected keyword argument 'output_size'",
     "output_type": "error",
     "traceback": [
      "\u001b[0;31m---------------------------------------------------------------------------\u001b[0m",
      "\u001b[0;31mTypeError\u001b[0m                                 Traceback (most recent call last)",
      "\u001b[0;32m<ipython-input-29-d8afe40e5280>\u001b[0m in \u001b[0;36m<module>\u001b[0;34m\u001b[0m\n\u001b[1;32m      1\u001b[0m \u001b[0mencoder\u001b[0m \u001b[0;34m=\u001b[0m \u001b[0mencoders\u001b[0m\u001b[0;34m.\u001b[0m\u001b[0mStackedBidirLSTMEncoder\u001b[0m\u001b[0;34m(\u001b[0m\u001b[0;34m**\u001b[0m\u001b[0mencoder_params\u001b[0m\u001b[0;34m)\u001b[0m\u001b[0;34m.\u001b[0m\u001b[0mto\u001b[0m\u001b[0;34m(\u001b[0m\u001b[0mdevice\u001b[0m\u001b[0;34m)\u001b[0m\u001b[0;34m\u001b[0m\u001b[0;34m\u001b[0m\u001b[0m\n\u001b[1;32m      2\u001b[0m \u001b[0;34m\u001b[0m\u001b[0m\n\u001b[0;32m----> 3\u001b[0;31m \u001b[0mdecoder\u001b[0m \u001b[0;34m=\u001b[0m \u001b[0mdecoders\u001b[0m\u001b[0;34m.\u001b[0m\u001b[0mStackedUnidirLSTMDecoder\u001b[0m\u001b[0;34m(\u001b[0m\u001b[0;34m**\u001b[0m\u001b[0mdecoder_params\u001b[0m\u001b[0;34m)\u001b[0m\u001b[0;34m.\u001b[0m\u001b[0mto\u001b[0m\u001b[0;34m(\u001b[0m\u001b[0mdevice\u001b[0m\u001b[0;34m)\u001b[0m\u001b[0;34m\u001b[0m\u001b[0;34m\u001b[0m\u001b[0m\n\u001b[0m\u001b[1;32m      4\u001b[0m \u001b[0;31m#decoder = decoders.StackedUnidirLSTMDenseDecoder(**decoder_params).to(device)\u001b[0m\u001b[0;34m\u001b[0m\u001b[0;34m\u001b[0m\u001b[0;34m\u001b[0m\u001b[0m\n\u001b[1;32m      5\u001b[0m \u001b[0;34m\u001b[0m\u001b[0m\n",
      "\u001b[0;31mTypeError\u001b[0m: __init__() got an unexpected keyword argument 'output_size'"
     ]
    }
   ],
   "source": [
    "encoder = encoders.StackedBidirLSTMEncoder(**encoder_params).to(device)\n",
    "\n",
    "#decoder = decoders.StackedUnidirLSTMDecoder(**decoder_params).to(device)\n",
    "decoder = decoders.StackedUnidirLSTMDenseDecoder(**decoder_params).to(device)\n",
    "\n",
    "model = models.VanillaAutoEncoder(encoder, decoder).to(device)\n",
    "print(model)\n",
    "print('Number of parameters: {}'.format(sum([parameter.numel() for parameter in model.parameters()])))\n",
    "\n",
    "criterion = nn.CrossEntropyLoss()\n",
    "optimizer = torch.optim.Adam(model.parameters(), lr=1e-3)"
   ]
  },
  {
   "cell_type": "code",
   "execution_count": 28,
   "metadata": {},
   "outputs": [
    {
     "name": "stdout",
     "output_type": "stream",
     "text": [
      "lol\n"
     ]
    }
   ],
   "source": [
    "if torch.rand(1) < 3:\n",
    "    print('lol')"
   ]
  },
  {
   "cell_type": "code",
   "execution_count": 10,
   "metadata": {
    "scrolled": true
   },
   "outputs": [
    {
     "data": {
      "text/html": [
       "\n",
       "                Tracking run with wandb version 0.10.30<br/>\n",
       "                Syncing run <strong style=\"color:#cdcd00\">25_05__17_58</strong> to <a href=\"https://wandb.ai\" target=\"_blank\">Weights & Biases</a> <a href=\"https://docs.wandb.com/integrations/jupyter.html\" target=\"_blank\">(Documentation)</a>.<br/>\n",
       "                Project page: <a href=\"https://wandb.ai/nbg/PyTorch_experiments\" target=\"_blank\">https://wandb.ai/nbg/PyTorch_experiments</a><br/>\n",
       "                Run page: <a href=\"https://wandb.ai/nbg/PyTorch_experiments/runs/52md17ow\" target=\"_blank\">https://wandb.ai/nbg/PyTorch_experiments/runs/52md17ow</a><br/>\n",
       "                Run data is saved locally in <code>/scratch/users/udemir15/ELEC491/Bassline-Generator/generator/PyTorch/wandb/run-20210525_175837-52md17ow</code><br/><br/>\n",
       "            "
      ],
      "text/plain": [
       "<IPython.core.display.HTML object>"
      ]
     },
     "metadata": {},
     "output_type": "display_data"
    },
    {
     "name": "stderr",
     "output_type": "stream",
     "text": [
      "\n",
      "  0%|          | 0/500 [00:00<?, ?it/s]\u001b[A\n",
      "  0%|          | 1/500 [00:06<57:02,  6.86s/it]\u001b[A"
     ]
    },
    {
     "name": "stdout",
     "output_type": "stream",
     "text": [
      "Epoch: 0, train_loss:2.258933\n",
      "tensor([37, 37, 37, 37, 37, 37, 37, 37, 37, 37, 37, 37, 37, 37, 37, 37, 37, 37,\n",
      "        37, 37, 37, 37, 37, 37, 37, 37, 37, 37, 37, 37, 37, 37, 37, 37, 37, 37,\n",
      "        37, 37, 37, 37, 37, 37, 37, 37, 37, 37, 37, 37, 37, 37, 37, 37, 37, 37,\n",
      "        37, 37, 37, 37, 37, 37, 37, 37, 37, 37], device='cuda:0')\n"
     ]
    },
    {
     "name": "stderr",
     "output_type": "stream",
     "text": [
      "\n",
      "  0%|          | 2/500 [00:12<53:36,  6.46s/it]\u001b[A\n",
      "  1%|          | 3/500 [00:17<49:53,  6.02s/it]\u001b[A\n",
      "  1%|          | 4/500 [00:22<48:09,  5.83s/it]\u001b[A\n",
      "  1%|          | 5/500 [00:27<45:50,  5.56s/it]\u001b[A\n",
      "  1%|          | 6/500 [00:32<44:22,  5.39s/it]\u001b[A"
     ]
    },
    {
     "name": "stdout",
     "output_type": "stream",
     "text": [
      "Epoch: 5, train_loss:1.877414\n"
     ]
    },
    {
     "name": "stderr",
     "output_type": "stream",
     "text": [
      "\n",
      "  1%|▏         | 7/500 [00:38<45:29,  5.54s/it]\u001b[A\n",
      "  2%|▏         | 8/500 [00:43<45:00,  5.49s/it]\u001b[A\n",
      "  2%|▏         | 9/500 [00:49<44:43,  5.46s/it]\u001b[A\n",
      "  2%|▏         | 10/500 [00:55<45:46,  5.61s/it]\u001b[A\n",
      "  2%|▏         | 11/500 [01:01<47:25,  5.82s/it]\u001b[A"
     ]
    },
    {
     "name": "stdout",
     "output_type": "stream",
     "text": [
      "Epoch: 10, train_loss:1.809947\n"
     ]
    },
    {
     "name": "stderr",
     "output_type": "stream",
     "text": [
      "\n",
      "  2%|▏         | 12/500 [01:07<48:34,  5.97s/it]\u001b[A\n",
      "  3%|▎         | 13/500 [01:13<47:21,  5.83s/it]\u001b[A\n",
      "  3%|▎         | 14/500 [01:19<46:47,  5.78s/it]\u001b[A\n",
      "  3%|▎         | 15/500 [01:25<47:47,  5.91s/it]\u001b[A\n",
      "  3%|▎         | 16/500 [01:31<48:57,  6.07s/it]\u001b[A"
     ]
    },
    {
     "name": "stdout",
     "output_type": "stream",
     "text": [
      "Epoch: 15, train_loss:1.682607\n"
     ]
    },
    {
     "name": "stderr",
     "output_type": "stream",
     "text": [
      "\n",
      "  3%|▎         | 17/500 [01:37<48:55,  6.08s/it]\u001b[A\n",
      "  4%|▎         | 18/500 [01:44<49:41,  6.19s/it]\u001b[A\n",
      "  4%|▍         | 19/500 [01:50<49:32,  6.18s/it]\u001b[A\n",
      "  4%|▍         | 20/500 [01:56<49:36,  6.20s/it]\u001b[A\n",
      "  4%|▍         | 21/500 [02:03<50:02,  6.27s/it]\u001b[A"
     ]
    },
    {
     "name": "stdout",
     "output_type": "stream",
     "text": [
      "Epoch: 20, train_loss:1.665773\n"
     ]
    },
    {
     "name": "stderr",
     "output_type": "stream",
     "text": [
      "\n",
      "  4%|▍         | 22/500 [02:09<49:16,  6.18s/it]\u001b[A\n",
      "  5%|▍         | 23/500 [02:14<47:44,  6.01s/it]\u001b[A\n",
      "  5%|▍         | 24/500 [02:19<44:44,  5.64s/it]\u001b[A\n",
      "  5%|▌         | 25/500 [02:24<43:14,  5.46s/it]\u001b[A\n",
      "  5%|▌         | 26/500 [02:30<44:50,  5.68s/it]\u001b[A"
     ]
    },
    {
     "name": "stdout",
     "output_type": "stream",
     "text": [
      "Epoch: 25, train_loss:1.634993\n"
     ]
    },
    {
     "name": "stderr",
     "output_type": "stream",
     "text": [
      "\n",
      "  5%|▌         | 27/500 [02:37<46:20,  5.88s/it]\u001b[A\n",
      "  6%|▌         | 28/500 [02:43<46:46,  5.95s/it]\u001b[A\n",
      "  6%|▌         | 29/500 [02:49<47:43,  6.08s/it]\u001b[A\n",
      "  6%|▌         | 30/500 [02:54<45:11,  5.77s/it]\u001b[A\n",
      "  6%|▌         | 31/500 [03:00<46:22,  5.93s/it]\u001b[A"
     ]
    },
    {
     "name": "stdout",
     "output_type": "stream",
     "text": [
      "Epoch: 30, train_loss:1.738415\n"
     ]
    },
    {
     "name": "stderr",
     "output_type": "stream",
     "text": [
      "\n",
      "  6%|▋         | 32/500 [03:06<46:02,  5.90s/it]\u001b[A\n",
      "  7%|▋         | 33/500 [03:12<45:42,  5.87s/it]\u001b[A\n",
      "  7%|▋         | 34/500 [03:18<45:20,  5.84s/it]\u001b[A\n",
      "  7%|▋         | 35/500 [03:23<42:43,  5.51s/it]\u001b[A\n",
      "  7%|▋         | 36/500 [03:27<41:01,  5.31s/it]\u001b[A"
     ]
    },
    {
     "name": "stdout",
     "output_type": "stream",
     "text": [
      "Epoch: 35, train_loss:1.614046\n"
     ]
    },
    {
     "name": "stderr",
     "output_type": "stream",
     "text": [
      "\n",
      "  7%|▋         | 37/500 [03:32<40:09,  5.20s/it]\u001b[A\n",
      "  8%|▊         | 38/500 [03:38<40:54,  5.31s/it]\u001b[A\n",
      "  8%|▊         | 39/500 [03:44<43:10,  5.62s/it]\u001b[A\n",
      "  8%|▊         | 40/500 [03:49<41:56,  5.47s/it]\u001b[A\n",
      "  8%|▊         | 41/500 [03:55<41:36,  5.44s/it]\u001b[A"
     ]
    },
    {
     "name": "stdout",
     "output_type": "stream",
     "text": [
      "Epoch: 40, train_loss:1.532578\n"
     ]
    },
    {
     "name": "stderr",
     "output_type": "stream",
     "text": [
      "\n",
      "  8%|▊         | 42/500 [04:01<43:42,  5.73s/it]\u001b[A\n",
      "  9%|▊         | 43/500 [04:07<44:23,  5.83s/it]\u001b[A\n",
      "  9%|▉         | 44/500 [04:12<42:42,  5.62s/it]\u001b[A\n",
      "  9%|▉         | 45/500 [04:17<40:42,  5.37s/it]\u001b[A\n",
      "  9%|▉         | 46/500 [04:23<41:00,  5.42s/it]\u001b[A"
     ]
    },
    {
     "name": "stdout",
     "output_type": "stream",
     "text": [
      "Epoch: 45, train_loss:1.481188\n"
     ]
    },
    {
     "name": "stderr",
     "output_type": "stream",
     "text": [
      "\n",
      "  9%|▉         | 47/500 [04:29<42:35,  5.64s/it]\u001b[A\n",
      " 10%|▉         | 48/500 [04:35<43:21,  5.76s/it]\u001b[A\n",
      " 10%|▉         | 49/500 [04:41<44:03,  5.86s/it]\u001b[A\n",
      " 10%|█         | 50/500 [04:47<44:33,  5.94s/it]\u001b[A\n",
      " 10%|█         | 51/500 [04:53<44:55,  6.00s/it]\u001b[A"
     ]
    },
    {
     "name": "stdout",
     "output_type": "stream",
     "text": [
      "Epoch: 50, train_loss:1.436909\n"
     ]
    },
    {
     "name": "stderr",
     "output_type": "stream",
     "text": [
      "\n",
      " 10%|█         | 52/500 [04:59<44:36,  5.97s/it]\u001b[A\n",
      " 11%|█         | 53/500 [05:05<43:50,  5.88s/it]\u001b[A\n",
      " 11%|█         | 54/500 [05:11<45:15,  6.09s/it]\u001b[A\n",
      " 11%|█         | 55/500 [05:17<44:50,  6.05s/it]\u001b[A\n",
      " 11%|█         | 56/500 [05:24<45:43,  6.18s/it]\u001b[A"
     ]
    },
    {
     "name": "stdout",
     "output_type": "stream",
     "text": [
      "Epoch: 55, train_loss:1.379475\n"
     ]
    },
    {
     "name": "stderr",
     "output_type": "stream",
     "text": [
      "\n",
      " 11%|█▏        | 57/500 [05:29<43:39,  5.91s/it]\u001b[A\n",
      " 12%|█▏        | 58/500 [05:34<40:59,  5.57s/it]\u001b[A\n",
      " 12%|█▏        | 59/500 [05:39<40:15,  5.48s/it]\u001b[A\n",
      " 12%|█▏        | 60/500 [05:45<41:55,  5.72s/it]\u001b[A\n",
      " 12%|█▏        | 61/500 [05:52<43:38,  5.97s/it]\u001b[A"
     ]
    },
    {
     "name": "stdout",
     "output_type": "stream",
     "text": [
      "Epoch: 60, train_loss:1.343186\n"
     ]
    },
    {
     "name": "stderr",
     "output_type": "stream",
     "text": [
      "\n",
      " 12%|█▏        | 62/500 [05:58<43:36,  5.97s/it]\u001b[A\n",
      " 13%|█▎        | 63/500 [06:04<44:15,  6.08s/it]\u001b[A\n",
      " 13%|█▎        | 64/500 [06:11<44:33,  6.13s/it]\u001b[A\n",
      " 13%|█▎        | 65/500 [06:17<44:54,  6.19s/it]\u001b[A\n",
      " 13%|█▎        | 66/500 [06:23<44:11,  6.11s/it]\u001b[A"
     ]
    },
    {
     "name": "stdout",
     "output_type": "stream",
     "text": [
      "Epoch: 65, train_loss:1.551306\n"
     ]
    },
    {
     "name": "stderr",
     "output_type": "stream",
     "text": [
      "\n",
      " 13%|█▎        | 67/500 [06:29<44:21,  6.15s/it]\u001b[A\n",
      " 14%|█▎        | 68/500 [06:35<43:20,  6.02s/it]\u001b[A\n",
      " 14%|█▍        | 69/500 [06:39<40:29,  5.64s/it]\u001b[A\n",
      " 14%|█▍        | 70/500 [06:44<38:30,  5.37s/it]\u001b[A\n",
      " 14%|█▍        | 71/500 [06:49<37:12,  5.20s/it]\u001b[A"
     ]
    },
    {
     "name": "stdout",
     "output_type": "stream",
     "text": [
      "Epoch: 70, train_loss:1.424802\n"
     ]
    },
    {
     "name": "stderr",
     "output_type": "stream",
     "text": [
      "\n",
      " 14%|█▍        | 72/500 [06:54<36:10,  5.07s/it]\u001b[A\n",
      " 15%|█▍        | 73/500 [06:59<35:49,  5.03s/it]\u001b[A\n",
      " 15%|█▍        | 74/500 [07:04<36:18,  5.11s/it]\u001b[A\n",
      " 15%|█▌        | 75/500 [07:10<38:36,  5.45s/it]\u001b[A\n",
      " 15%|█▌        | 76/500 [07:16<39:45,  5.63s/it]\u001b[A"
     ]
    },
    {
     "name": "stdout",
     "output_type": "stream",
     "text": [
      "Epoch: 75, train_loss:1.343666\n"
     ]
    },
    {
     "name": "stderr",
     "output_type": "stream",
     "text": [
      "\n",
      " 15%|█▌        | 77/500 [07:21<37:51,  5.37s/it]\u001b[A\n",
      " 16%|█▌        | 78/500 [07:27<38:12,  5.43s/it]\u001b[A\n",
      " 16%|█▌        | 79/500 [07:33<39:57,  5.70s/it]\u001b[A\n",
      " 16%|█▌        | 80/500 [07:39<41:22,  5.91s/it]\u001b[A\n",
      " 16%|█▌        | 81/500 [07:46<41:59,  6.01s/it]\u001b[A"
     ]
    },
    {
     "name": "stdout",
     "output_type": "stream",
     "text": [
      "Epoch: 80, train_loss:1.294069\n"
     ]
    },
    {
     "name": "stderr",
     "output_type": "stream",
     "text": [
      "\n",
      " 16%|█▋        | 82/500 [07:52<43:06,  6.19s/it]\u001b[A\n",
      " 17%|█▋        | 83/500 [07:58<43:06,  6.20s/it]\u001b[A\n",
      " 17%|█▋        | 84/500 [08:05<43:05,  6.22s/it]\u001b[A\n",
      " 17%|█▋        | 85/500 [08:11<42:16,  6.11s/it]\u001b[A\n",
      " 17%|█▋        | 86/500 [08:17<42:43,  6.19s/it]\u001b[A"
     ]
    },
    {
     "name": "stdout",
     "output_type": "stream",
     "text": [
      "Epoch: 85, train_loss:1.252446\n"
     ]
    },
    {
     "name": "stderr",
     "output_type": "stream",
     "text": [
      "\n",
      " 17%|█▋        | 87/500 [08:23<42:29,  6.17s/it]\u001b[A\n",
      " 18%|█▊        | 88/500 [08:29<42:06,  6.13s/it]\u001b[A\n",
      " 18%|█▊        | 89/500 [08:34<40:11,  5.87s/it]\u001b[A\n",
      " 18%|█▊        | 90/500 [08:39<37:54,  5.55s/it]\u001b[A\n",
      " 18%|█▊        | 91/500 [08:44<36:18,  5.33s/it]\u001b[A"
     ]
    },
    {
     "name": "stdout",
     "output_type": "stream",
     "text": [
      "Epoch: 90, train_loss:1.218312\n"
     ]
    },
    {
     "name": "stderr",
     "output_type": "stream",
     "text": [
      "\n",
      " 18%|█▊        | 92/500 [08:49<35:04,  5.16s/it]\u001b[A\n",
      " 19%|█▊        | 93/500 [08:54<35:51,  5.29s/it]\u001b[A\n",
      " 19%|█▉        | 94/500 [09:01<37:48,  5.59s/it]\u001b[A\n",
      " 19%|█▉        | 95/500 [09:06<37:19,  5.53s/it]\u001b[A\n",
      " 19%|█▉        | 96/500 [09:12<37:28,  5.57s/it]\u001b[A"
     ]
    },
    {
     "name": "stdout",
     "output_type": "stream",
     "text": [
      "Epoch: 95, train_loss:1.220128\n"
     ]
    },
    {
     "name": "stderr",
     "output_type": "stream",
     "text": [
      "\n",
      " 19%|█▉        | 97/500 [09:18<38:25,  5.72s/it]\u001b[A\n",
      " 20%|█▉        | 98/500 [09:24<39:42,  5.93s/it]\u001b[A\n",
      " 20%|█▉        | 99/500 [09:30<40:22,  6.04s/it]\u001b[A\n",
      " 20%|██        | 100/500 [09:37<40:53,  6.13s/it]\u001b[A\n",
      " 20%|██        | 101/500 [09:43<40:42,  6.12s/it]\u001b[A"
     ]
    },
    {
     "name": "stdout",
     "output_type": "stream",
     "text": [
      "Epoch: 100, train_loss:1.159520\n",
      "tensor([ 1, 10, 12, 12, 37, 37, 37, 37, 37, 37, 37, 37, 37, 37, 37, 37, 37, 37,\n",
      "        37, 37, 37, 37, 37, 37, 37, 37, 37, 37, 37, 37, 37, 37, 37, 37, 37, 37,\n",
      "        37, 37, 37, 37, 37, 37, 37, 37, 37, 37, 37, 37, 37, 37, 37, 37, 37, 37,\n",
      "        37, 37, 37, 37, 37, 37, 37, 37, 37, 37], device='cuda:0')\n"
     ]
    },
    {
     "name": "stderr",
     "output_type": "stream",
     "text": [
      "\n",
      " 20%|██        | 102/500 [09:49<40:55,  6.17s/it]\u001b[A\n",
      " 21%|██        | 103/500 [09:56<41:21,  6.25s/it]\u001b[A\n",
      " 21%|██        | 104/500 [10:02<41:20,  6.26s/it]\u001b[A\n",
      " 21%|██        | 105/500 [10:08<40:27,  6.14s/it]\u001b[A\n",
      " 21%|██        | 106/500 [10:13<38:29,  5.86s/it]\u001b[A"
     ]
    },
    {
     "name": "stdout",
     "output_type": "stream",
     "text": [
      "Epoch: 105, train_loss:1.128374\n"
     ]
    },
    {
     "name": "stderr",
     "output_type": "stream",
     "text": [
      "\n",
      " 21%|██▏       | 107/500 [10:19<38:41,  5.91s/it]\u001b[A\n",
      " 22%|██▏       | 108/500 [10:25<39:34,  6.06s/it]\u001b[A\n",
      " 22%|██▏       | 109/500 [10:31<38:24,  5.89s/it]\u001b[A\n",
      " 22%|██▏       | 110/500 [10:37<38:46,  5.97s/it]\u001b[A\n",
      " 22%|██▏       | 111/500 [10:43<39:25,  6.08s/it]\u001b[A"
     ]
    },
    {
     "name": "stdout",
     "output_type": "stream",
     "text": [
      "Epoch: 110, train_loss:1.123618\n"
     ]
    },
    {
     "name": "stderr",
     "output_type": "stream",
     "text": [
      "\n",
      " 22%|██▏       | 112/500 [10:50<39:42,  6.14s/it]\u001b[A\n",
      " 23%|██▎       | 113/500 [10:56<39:42,  6.16s/it]\u001b[A\n",
      " 23%|██▎       | 114/500 [11:02<40:03,  6.23s/it]\u001b[A\n",
      " 23%|██▎       | 115/500 [11:08<38:28,  6.00s/it]\u001b[A\n",
      " 23%|██▎       | 116/500 [11:13<36:09,  5.65s/it]\u001b[A"
     ]
    },
    {
     "name": "stdout",
     "output_type": "stream",
     "text": [
      "Epoch: 115, train_loss:1.162161\n"
     ]
    },
    {
     "name": "stderr",
     "output_type": "stream",
     "text": [
      "\n",
      " 23%|██▎       | 117/500 [11:18<35:20,  5.54s/it]\u001b[A\n",
      " 24%|██▎       | 118/500 [11:24<36:45,  5.77s/it]\u001b[A\n",
      " 24%|██▍       | 119/500 [11:30<35:59,  5.67s/it]\u001b[A\n",
      " 24%|██▍       | 120/500 [11:34<34:14,  5.41s/it]\u001b[A\n",
      " 24%|██▍       | 121/500 [11:39<33:03,  5.23s/it]\u001b[A"
     ]
    },
    {
     "name": "stdout",
     "output_type": "stream",
     "text": [
      "Epoch: 120, train_loss:1.061594\n"
     ]
    },
    {
     "name": "stderr",
     "output_type": "stream",
     "text": [
      "\n",
      " 24%|██▍       | 122/500 [11:44<32:11,  5.11s/it]\u001b[A\n",
      " 25%|██▍       | 123/500 [11:50<34:34,  5.50s/it]\u001b[A\n",
      " 25%|██▍       | 124/500 [11:56<35:14,  5.62s/it]\u001b[A\n",
      " 25%|██▌       | 125/500 [12:02<34:20,  5.50s/it]\u001b[A\n",
      " 25%|██▌       | 126/500 [12:06<33:04,  5.31s/it]\u001b[A"
     ]
    },
    {
     "name": "stdout",
     "output_type": "stream",
     "text": [
      "Epoch: 125, train_loss:1.111947\n"
     ]
    },
    {
     "name": "stderr",
     "output_type": "stream",
     "text": [
      "\n",
      " 25%|██▌       | 127/500 [12:13<34:27,  5.54s/it]\u001b[A\n",
      " 26%|██▌       | 128/500 [12:19<36:02,  5.81s/it]\u001b[A\n",
      " 26%|██▌       | 129/500 [12:25<36:50,  5.96s/it]\u001b[A\n",
      " 26%|██▌       | 130/500 [12:32<37:45,  6.12s/it]\u001b[A\n",
      " 26%|██▌       | 131/500 [12:38<38:10,  6.21s/it]\u001b[A"
     ]
    },
    {
     "name": "stdout",
     "output_type": "stream",
     "text": [
      "Epoch: 130, train_loss:1.047844\n"
     ]
    },
    {
     "name": "stderr",
     "output_type": "stream",
     "text": [
      "\n",
      " 26%|██▋       | 132/500 [12:45<38:25,  6.26s/it]\u001b[A\n",
      " 27%|██▋       | 133/500 [12:51<38:34,  6.31s/it]\u001b[A\n",
      " 27%|██▋       | 134/500 [12:57<38:30,  6.31s/it]\u001b[A\n",
      " 27%|██▋       | 135/500 [13:04<38:37,  6.35s/it]\u001b[A\n",
      " 27%|██▋       | 136/500 [13:10<38:41,  6.38s/it]\u001b[A"
     ]
    },
    {
     "name": "stdout",
     "output_type": "stream",
     "text": [
      "Epoch: 135, train_loss:1.024788\n"
     ]
    },
    {
     "name": "stderr",
     "output_type": "stream",
     "text": [
      "\n",
      " 27%|██▋       | 137/500 [13:16<38:14,  6.32s/it]\u001b[A\n",
      " 28%|██▊       | 138/500 [13:23<38:07,  6.32s/it]\u001b[A\n",
      " 28%|██▊       | 139/500 [13:29<37:44,  6.27s/it]\u001b[A\n",
      " 28%|██▊       | 140/500 [13:35<37:36,  6.27s/it]\u001b[A\n",
      " 28%|██▊       | 141/500 [13:41<37:31,  6.27s/it]\u001b[A"
     ]
    },
    {
     "name": "stdout",
     "output_type": "stream",
     "text": [
      "Epoch: 140, train_loss:1.025492\n"
     ]
    },
    {
     "name": "stderr",
     "output_type": "stream",
     "text": [
      "\n",
      " 28%|██▊       | 142/500 [13:46<34:44,  5.82s/it]\u001b[A\n",
      " 29%|██▊       | 143/500 [13:51<33:15,  5.59s/it]\u001b[A\n",
      " 29%|██▉       | 144/500 [13:58<35:05,  5.91s/it]\u001b[A\n",
      " 29%|██▉       | 145/500 [14:04<35:49,  6.05s/it]\u001b[A\n",
      " 29%|██▉       | 146/500 [14:11<36:28,  6.18s/it]\u001b[A"
     ]
    },
    {
     "name": "stdout",
     "output_type": "stream",
     "text": [
      "Epoch: 145, train_loss:0.977061\n"
     ]
    },
    {
     "name": "stderr",
     "output_type": "stream",
     "text": [
      "\n",
      " 29%|██▉       | 147/500 [14:17<36:43,  6.24s/it]\u001b[A\n",
      " 30%|██▉       | 148/500 [14:23<36:40,  6.25s/it]\u001b[A\n",
      " 30%|██▉       | 149/500 [14:29<35:20,  6.04s/it]\u001b[A\n",
      " 30%|███       | 150/500 [14:34<33:00,  5.66s/it]\u001b[A\n",
      " 30%|███       | 151/500 [14:39<31:29,  5.41s/it]\u001b[A"
     ]
    },
    {
     "name": "stdout",
     "output_type": "stream",
     "text": [
      "Epoch: 150, train_loss:1.170416\n"
     ]
    },
    {
     "name": "stderr",
     "output_type": "stream",
     "text": [
      "\n",
      " 30%|███       | 152/500 [14:45<32:47,  5.65s/it]\u001b[A\n",
      " 31%|███       | 153/500 [14:51<33:57,  5.87s/it]\u001b[A\n",
      " 31%|███       | 154/500 [14:58<34:39,  6.01s/it]\u001b[A\n",
      " 31%|███       | 155/500 [15:04<35:14,  6.13s/it]\u001b[A\n",
      " 31%|███       | 156/500 [15:10<34:53,  6.09s/it]\u001b[A"
     ]
    },
    {
     "name": "stdout",
     "output_type": "stream",
     "text": [
      "Epoch: 155, train_loss:1.052383\n"
     ]
    },
    {
     "name": "stderr",
     "output_type": "stream",
     "text": [
      "\n",
      " 31%|███▏      | 157/500 [15:16<35:13,  6.16s/it]\u001b[A\n",
      " 32%|███▏      | 158/500 [15:22<34:48,  6.11s/it]\u001b[A\n",
      " 32%|███▏      | 159/500 [15:28<34:50,  6.13s/it]\u001b[A\n",
      " 32%|███▏      | 160/500 [15:35<35:02,  6.18s/it]\u001b[A\n",
      " 32%|███▏      | 161/500 [15:41<35:32,  6.29s/it]\u001b[A"
     ]
    },
    {
     "name": "stdout",
     "output_type": "stream",
     "text": [
      "Epoch: 160, train_loss:1.226332\n"
     ]
    },
    {
     "name": "stderr",
     "output_type": "stream",
     "text": [
      "\n",
      " 32%|███▏      | 162/500 [15:48<35:23,  6.28s/it]\u001b[A\n",
      " 33%|███▎      | 163/500 [15:54<34:53,  6.21s/it]\u001b[A\n",
      " 33%|███▎      | 164/500 [16:00<34:57,  6.24s/it]\u001b[A\n",
      " 33%|███▎      | 165/500 [16:06<35:08,  6.29s/it]\u001b[A\n",
      " 33%|███▎      | 166/500 [16:12<34:29,  6.20s/it]\u001b[A"
     ]
    },
    {
     "name": "stdout",
     "output_type": "stream",
     "text": [
      "Epoch: 165, train_loss:1.057167\n"
     ]
    },
    {
     "name": "stderr",
     "output_type": "stream",
     "text": [
      "\n",
      " 33%|███▎      | 167/500 [16:19<34:39,  6.24s/it]\u001b[A\n",
      " 34%|███▎      | 168/500 [16:25<35:00,  6.33s/it]\u001b[A\n",
      " 34%|███▍      | 169/500 [16:31<33:49,  6.13s/it]\u001b[A\n",
      " 34%|███▍      | 170/500 [16:36<31:28,  5.72s/it]\u001b[A\n",
      " 34%|███▍      | 171/500 [16:41<30:10,  5.50s/it]\u001b[A"
     ]
    },
    {
     "name": "stdout",
     "output_type": "stream",
     "text": [
      "Epoch: 170, train_loss:1.004189\n"
     ]
    },
    {
     "name": "stderr",
     "output_type": "stream",
     "text": [
      "\n",
      " 34%|███▍      | 172/500 [16:45<28:57,  5.30s/it]\u001b[A\n",
      " 35%|███▍      | 173/500 [16:50<28:02,  5.15s/it]\u001b[A\n",
      " 35%|███▍      | 174/500 [16:55<27:22,  5.04s/it]\u001b[A\n",
      " 35%|███▌      | 175/500 [17:00<26:54,  4.97s/it]\u001b[A\n",
      " 35%|███▌      | 176/500 [17:06<28:39,  5.31s/it]\u001b[A"
     ]
    },
    {
     "name": "stdout",
     "output_type": "stream",
     "text": [
      "Epoch: 175, train_loss:0.947933\n"
     ]
    },
    {
     "name": "stderr",
     "output_type": "stream",
     "text": [
      "\n",
      " 35%|███▌      | 177/500 [17:12<29:58,  5.57s/it]\u001b[A\n",
      " 36%|███▌      | 178/500 [17:18<31:02,  5.78s/it]\u001b[A\n",
      " 36%|███▌      | 179/500 [17:24<30:48,  5.76s/it]\u001b[A\n",
      " 36%|███▌      | 180/500 [17:29<29:12,  5.48s/it]\u001b[A\n",
      " 36%|███▌      | 181/500 [17:34<28:07,  5.29s/it]\u001b[A"
     ]
    },
    {
     "name": "stdout",
     "output_type": "stream",
     "text": [
      "Epoch: 180, train_loss:0.918962\n"
     ]
    },
    {
     "name": "stderr",
     "output_type": "stream",
     "text": [
      "\n",
      " 36%|███▋      | 182/500 [17:40<29:05,  5.49s/it]\u001b[A\n",
      " 37%|███▋      | 183/500 [17:46<30:19,  5.74s/it]\u001b[A\n",
      " 37%|███▋      | 184/500 [17:52<31:01,  5.89s/it]\u001b[A\n",
      " 37%|███▋      | 185/500 [17:59<31:41,  6.04s/it]\u001b[A\n",
      " 37%|███▋      | 186/500 [18:05<31:25,  6.00s/it]\u001b[A"
     ]
    },
    {
     "name": "stdout",
     "output_type": "stream",
     "text": [
      "Epoch: 185, train_loss:0.905574\n"
     ]
    },
    {
     "name": "stderr",
     "output_type": "stream",
     "text": [
      "\n",
      " 37%|███▋      | 187/500 [18:09<29:27,  5.65s/it]\u001b[A\n",
      " 38%|███▊      | 188/500 [18:14<28:01,  5.39s/it]\u001b[A\n",
      " 38%|███▊      | 189/500 [18:19<27:01,  5.21s/it]\u001b[A\n",
      " 38%|███▊      | 190/500 [18:24<26:17,  5.09s/it]\u001b[A\n",
      " 38%|███▊      | 191/500 [18:29<26:04,  5.06s/it]\u001b[A"
     ]
    },
    {
     "name": "stdout",
     "output_type": "stream",
     "text": [
      "Epoch: 190, train_loss:0.861357\n"
     ]
    },
    {
     "name": "stderr",
     "output_type": "stream",
     "text": [
      "\n",
      " 38%|███▊      | 192/500 [18:34<25:32,  4.98s/it]\u001b[A\n",
      " 39%|███▊      | 193/500 [18:38<25:25,  4.97s/it]\u001b[A\n",
      " 39%|███▉      | 194/500 [18:43<25:11,  4.94s/it]\u001b[A\n",
      " 39%|███▉      | 195/500 [18:48<24:54,  4.90s/it]\u001b[A\n",
      " 39%|███▉      | 196/500 [18:53<25:19,  5.00s/it]\u001b[A"
     ]
    },
    {
     "name": "stdout",
     "output_type": "stream",
     "text": [
      "Epoch: 195, train_loss:0.860751\n"
     ]
    },
    {
     "name": "stderr",
     "output_type": "stream",
     "text": [
      "\n",
      " 39%|███▉      | 197/500 [18:58<24:57,  4.94s/it]\u001b[A\n",
      " 40%|███▉      | 198/500 [19:03<24:57,  4.96s/it]\u001b[A\n",
      " 40%|███▉      | 199/500 [19:08<24:37,  4.91s/it]\u001b[A\n",
      " 40%|████      | 200/500 [19:13<24:17,  4.86s/it]\u001b[A\n",
      " 40%|████      | 201/500 [19:18<24:14,  4.87s/it]\u001b[A"
     ]
    },
    {
     "name": "stdout",
     "output_type": "stream",
     "text": [
      "Epoch: 200, train_loss:0.826321\n",
      "tensor([15, 37,  9, 10, 10, 10,  9, 10, 10, 10, 10, 10, 10, 10, 10, 10, 10, 10,\n",
      "        10, 10, 10, 10, 10, 10, 10, 10, 10, 10, 10, 10, 10, 10, 10, 10, 10, 10,\n",
      "        10, 10, 10, 10, 10, 10, 10, 10, 10, 10, 10, 10, 10, 10, 10, 10, 10, 10,\n",
      "        10, 10, 10, 10, 10, 10, 10, 10, 10, 10], device='cuda:0')\n"
     ]
    },
    {
     "name": "stderr",
     "output_type": "stream",
     "text": [
      "\n",
      " 40%|████      | 202/500 [19:23<24:19,  4.90s/it]\u001b[A\n",
      " 41%|████      | 203/500 [19:29<25:52,  5.23s/it]\u001b[A\n",
      " 41%|████      | 204/500 [19:35<27:08,  5.50s/it]\u001b[A\n",
      " 41%|████      | 205/500 [19:41<28:10,  5.73s/it]\u001b[A\n",
      " 41%|████      | 206/500 [19:47<28:58,  5.91s/it]\u001b[A"
     ]
    },
    {
     "name": "stdout",
     "output_type": "stream",
     "text": [
      "Epoch: 205, train_loss:0.837914\n"
     ]
    },
    {
     "name": "stderr",
     "output_type": "stream",
     "text": [
      "\n",
      " 41%|████▏     | 207/500 [19:53<29:02,  5.95s/it]\u001b[A\n",
      " 42%|████▏     | 208/500 [20:00<29:48,  6.12s/it]\u001b[A\n",
      " 42%|████▏     | 209/500 [20:06<30:06,  6.21s/it]\u001b[A\n",
      " 42%|████▏     | 210/500 [20:13<30:14,  6.26s/it]\u001b[A\n",
      " 42%|████▏     | 211/500 [20:19<30:02,  6.24s/it]\u001b[A"
     ]
    },
    {
     "name": "stdout",
     "output_type": "stream",
     "text": [
      "Epoch: 210, train_loss:0.799917\n"
     ]
    },
    {
     "name": "stderr",
     "output_type": "stream",
     "text": [
      "\n",
      " 42%|████▏     | 212/500 [20:24<28:23,  5.92s/it]\u001b[A\n",
      " 43%|████▎     | 213/500 [20:29<26:55,  5.63s/it]\u001b[A\n",
      " 43%|████▎     | 214/500 [20:34<26:12,  5.50s/it]\u001b[A\n",
      " 43%|████▎     | 215/500 [20:39<25:09,  5.30s/it]\u001b[A\n",
      " 43%|████▎     | 216/500 [20:44<24:26,  5.16s/it]\u001b[A"
     ]
    },
    {
     "name": "stdout",
     "output_type": "stream",
     "text": [
      "Epoch: 215, train_loss:0.782893\n"
     ]
    },
    {
     "name": "stderr",
     "output_type": "stream",
     "text": [
      "\n",
      " 43%|████▎     | 217/500 [20:50<25:47,  5.47s/it]\u001b[A\n",
      " 44%|████▎     | 218/500 [20:56<26:47,  5.70s/it]\u001b[A\n",
      " 44%|████▍     | 219/500 [21:03<27:47,  5.93s/it]\u001b[A\n",
      " 44%|████▍     | 220/500 [21:09<28:15,  6.06s/it]\u001b[A\n",
      " 44%|████▍     | 221/500 [21:15<28:05,  6.04s/it]\u001b[A"
     ]
    },
    {
     "name": "stdout",
     "output_type": "stream",
     "text": [
      "Epoch: 220, train_loss:0.791547\n"
     ]
    },
    {
     "name": "stderr",
     "output_type": "stream",
     "text": [
      "\n",
      " 44%|████▍     | 222/500 [21:20<26:30,  5.72s/it]\u001b[A\n",
      " 45%|████▍     | 223/500 [21:25<25:42,  5.57s/it]\u001b[A\n",
      " 45%|████▍     | 224/500 [21:32<26:45,  5.82s/it]\u001b[A\n",
      " 45%|████▌     | 225/500 [21:38<27:15,  5.95s/it]\u001b[A\n",
      " 45%|████▌     | 226/500 [21:44<27:46,  6.08s/it]\u001b[A"
     ]
    },
    {
     "name": "stdout",
     "output_type": "stream",
     "text": [
      "Epoch: 225, train_loss:0.753611\n"
     ]
    },
    {
     "name": "stderr",
     "output_type": "stream",
     "text": [
      "\n",
      " 45%|████▌     | 227/500 [21:51<28:03,  6.17s/it]\u001b[A\n",
      " 46%|████▌     | 228/500 [21:56<27:23,  6.04s/it]\u001b[A\n",
      " 46%|████▌     | 229/500 [22:02<26:52,  5.95s/it]\u001b[A\n",
      " 46%|████▌     | 230/500 [22:08<27:12,  6.05s/it]\u001b[A\n",
      " 46%|████▌     | 231/500 [22:15<27:35,  6.15s/it]\u001b[A"
     ]
    },
    {
     "name": "stdout",
     "output_type": "stream",
     "text": [
      "Epoch: 230, train_loss:0.744405\n"
     ]
    },
    {
     "name": "stderr",
     "output_type": "stream",
     "text": [
      "\n",
      " 46%|████▋     | 232/500 [22:21<27:40,  6.20s/it]\u001b[A\n",
      " 47%|████▋     | 233/500 [22:27<27:19,  6.14s/it]\u001b[A\n",
      " 47%|████▋     | 234/500 [22:32<25:26,  5.74s/it]\u001b[A\n",
      " 47%|████▋     | 235/500 [22:37<24:05,  5.46s/it]\u001b[A\n",
      " 47%|████▋     | 236/500 [22:42<23:14,  5.28s/it]\u001b[A"
     ]
    },
    {
     "name": "stdout",
     "output_type": "stream",
     "text": [
      "Epoch: 235, train_loss:0.729638\n"
     ]
    },
    {
     "name": "stderr",
     "output_type": "stream",
     "text": [
      "\n",
      " 47%|████▋     | 237/500 [22:46<22:32,  5.14s/it]\u001b[A\n",
      " 48%|████▊     | 238/500 [22:51<22:01,  5.04s/it]\u001b[A\n",
      " 48%|████▊     | 239/500 [22:56<21:37,  4.97s/it]\u001b[A\n",
      " 48%|████▊     | 240/500 [23:01<21:30,  4.96s/it]\u001b[A\n",
      " 48%|████▊     | 241/500 [23:07<22:51,  5.30s/it]\u001b[A"
     ]
    },
    {
     "name": "stdout",
     "output_type": "stream",
     "text": [
      "Epoch: 240, train_loss:0.711241\n"
     ]
    },
    {
     "name": "stderr",
     "output_type": "stream",
     "text": [
      "\n",
      " 48%|████▊     | 242/500 [23:14<24:28,  5.69s/it]\u001b[A\n",
      " 49%|████▊     | 243/500 [23:20<25:26,  5.94s/it]\u001b[A\n",
      " 49%|████▉     | 244/500 [23:26<24:56,  5.84s/it]\u001b[A\n",
      " 49%|████▉     | 245/500 [23:32<25:12,  5.93s/it]\u001b[A\n",
      " 49%|████▉     | 246/500 [23:38<25:43,  6.08s/it]\u001b[A"
     ]
    },
    {
     "name": "stdout",
     "output_type": "stream",
     "text": [
      "Epoch: 245, train_loss:0.756116\n"
     ]
    },
    {
     "name": "stderr",
     "output_type": "stream",
     "text": [
      "\n",
      " 49%|████▉     | 247/500 [23:44<25:33,  6.06s/it]\u001b[A\n",
      " 50%|████▉     | 248/500 [23:51<25:50,  6.15s/it]\u001b[A\n",
      " 50%|████▉     | 249/500 [23:57<26:00,  6.22s/it]\u001b[A\n",
      " 50%|█████     | 250/500 [24:04<26:10,  6.28s/it]\u001b[A\n",
      " 50%|█████     | 251/500 [24:09<25:06,  6.05s/it]\u001b[A"
     ]
    },
    {
     "name": "stdout",
     "output_type": "stream",
     "text": [
      "Epoch: 250, train_loss:0.685856\n"
     ]
    },
    {
     "name": "stderr",
     "output_type": "stream",
     "text": [
      "\n",
      " 50%|█████     | 252/500 [24:14<23:51,  5.77s/it]\u001b[A\n",
      " 51%|█████     | 253/500 [24:19<22:55,  5.57s/it]\u001b[A\n",
      " 51%|█████     | 254/500 [24:24<21:51,  5.33s/it]\u001b[A\n",
      " 51%|█████     | 255/500 [24:29<21:04,  5.16s/it]\u001b[A\n",
      " 51%|█████     | 256/500 [24:34<20:55,  5.15s/it]\u001b[A"
     ]
    },
    {
     "name": "stdout",
     "output_type": "stream",
     "text": [
      "Epoch: 255, train_loss:0.729207\n"
     ]
    },
    {
     "name": "stderr",
     "output_type": "stream",
     "text": [
      "\n",
      " 51%|█████▏    | 257/500 [24:39<20:44,  5.12s/it]\u001b[A\n",
      " 52%|█████▏    | 258/500 [24:45<21:14,  5.27s/it]\u001b[A\n",
      " 52%|█████▏    | 259/500 [24:51<22:20,  5.56s/it]\u001b[A\n",
      " 52%|█████▏    | 260/500 [24:56<21:19,  5.33s/it]\u001b[A\n",
      " 52%|█████▏    | 261/500 [25:01<20:40,  5.19s/it]\u001b[A"
     ]
    },
    {
     "name": "stdout",
     "output_type": "stream",
     "text": [
      "Epoch: 260, train_loss:0.656991\n"
     ]
    },
    {
     "name": "stderr",
     "output_type": "stream",
     "text": [
      "\n",
      " 52%|█████▏    | 262/500 [25:05<20:06,  5.07s/it]\u001b[A\n",
      " 53%|█████▎    | 263/500 [25:12<21:29,  5.44s/it]\u001b[A\n",
      " 53%|█████▎    | 264/500 [25:18<22:22,  5.69s/it]\u001b[A\n",
      " 53%|█████▎    | 265/500 [25:24<22:45,  5.81s/it]\u001b[A\n",
      " 53%|█████▎    | 266/500 [25:31<23:33,  6.04s/it]\u001b[A"
     ]
    },
    {
     "name": "stdout",
     "output_type": "stream",
     "text": [
      "Epoch: 265, train_loss:0.636072\n"
     ]
    },
    {
     "name": "stderr",
     "output_type": "stream",
     "text": [
      "\n",
      " 53%|█████▎    | 267/500 [25:37<23:34,  6.07s/it]\u001b[A\n",
      " 54%|█████▎    | 268/500 [25:43<23:56,  6.19s/it]\u001b[A\n",
      " 54%|█████▍    | 269/500 [25:50<24:03,  6.25s/it]\u001b[A\n",
      " 54%|█████▍    | 270/500 [25:56<24:04,  6.28s/it]\u001b[A\n",
      " 54%|█████▍    | 271/500 [26:02<24:03,  6.30s/it]\u001b[A"
     ]
    },
    {
     "name": "stdout",
     "output_type": "stream",
     "text": [
      "Epoch: 270, train_loss:0.632870\n"
     ]
    },
    {
     "name": "stderr",
     "output_type": "stream",
     "text": [
      "\n",
      " 54%|█████▍    | 272/500 [26:09<24:11,  6.37s/it]\u001b[A\n",
      " 55%|█████▍    | 273/500 [26:14<22:50,  6.04s/it]\u001b[A\n",
      " 55%|█████▍    | 274/500 [26:19<21:19,  5.66s/it]\u001b[A\n",
      " 55%|█████▌    | 275/500 [26:24<20:14,  5.40s/it]\u001b[A\n",
      " 55%|█████▌    | 276/500 [26:29<20:01,  5.36s/it]\u001b[A"
     ]
    },
    {
     "name": "stdout",
     "output_type": "stream",
     "text": [
      "Epoch: 275, train_loss:0.626174\n"
     ]
    },
    {
     "name": "stderr",
     "output_type": "stream",
     "text": [
      "\n",
      " 55%|█████▌    | 277/500 [26:34<19:16,  5.19s/it]\u001b[A\n",
      " 56%|█████▌    | 278/500 [26:38<18:46,  5.07s/it]\u001b[A\n",
      " 56%|█████▌    | 279/500 [26:43<18:23,  5.00s/it]\u001b[A\n",
      " 56%|█████▌    | 280/500 [26:48<18:06,  4.94s/it]\u001b[A\n",
      " 56%|█████▌    | 281/500 [26:53<17:55,  4.91s/it]\u001b[A"
     ]
    },
    {
     "name": "stdout",
     "output_type": "stream",
     "text": [
      "Epoch: 280, train_loss:0.656338\n"
     ]
    },
    {
     "name": "stderr",
     "output_type": "stream",
     "text": [
      "\n",
      " 56%|█████▋    | 282/500 [26:58<18:09,  5.00s/it]\u001b[A\n",
      " 57%|█████▋    | 283/500 [27:03<17:51,  4.94s/it]\u001b[A\n",
      " 57%|█████▋    | 284/500 [27:08<17:37,  4.90s/it]\u001b[A\n",
      " 57%|█████▋    | 285/500 [27:13<18:09,  5.07s/it]\u001b[A\n",
      " 57%|█████▋    | 286/500 [27:20<19:32,  5.48s/it]\u001b[A"
     ]
    },
    {
     "name": "stdout",
     "output_type": "stream",
     "text": [
      "Epoch: 285, train_loss:0.714500\n"
     ]
    },
    {
     "name": "stderr",
     "output_type": "stream",
     "text": [
      "\n",
      " 57%|█████▋    | 287/500 [27:25<19:43,  5.55s/it]\u001b[A\n",
      " 58%|█████▊    | 288/500 [27:30<19:00,  5.38s/it]\u001b[A\n",
      " 58%|█████▊    | 289/500 [27:35<18:17,  5.20s/it]\u001b[A\n",
      " 58%|█████▊    | 290/500 [27:40<17:47,  5.08s/it]\u001b[A\n",
      " 58%|█████▊    | 291/500 [27:45<17:53,  5.14s/it]\u001b[A"
     ]
    },
    {
     "name": "stdout",
     "output_type": "stream",
     "text": [
      "Epoch: 290, train_loss:0.628466\n"
     ]
    },
    {
     "name": "stderr",
     "output_type": "stream",
     "text": [
      "\n",
      " 58%|█████▊    | 292/500 [27:51<18:56,  5.46s/it]\u001b[A\n",
      " 59%|█████▊    | 293/500 [27:58<19:30,  5.66s/it]\u001b[A\n",
      " 59%|█████▉    | 294/500 [28:04<19:49,  5.78s/it]\u001b[A\n",
      " 59%|█████▉    | 295/500 [28:10<20:26,  5.98s/it]\u001b[A\n",
      " 59%|█████▉    | 296/500 [28:16<20:42,  6.09s/it]\u001b[A"
     ]
    },
    {
     "name": "stdout",
     "output_type": "stream",
     "text": [
      "Epoch: 295, train_loss:0.610211\n"
     ]
    },
    {
     "name": "stderr",
     "output_type": "stream",
     "text": [
      "\n",
      " 59%|█████▉    | 297/500 [28:22<20:10,  5.96s/it]\u001b[A\n",
      " 60%|█████▉    | 298/500 [28:28<19:41,  5.85s/it]\u001b[A\n",
      " 60%|█████▉    | 299/500 [28:34<20:09,  6.02s/it]\u001b[A\n",
      " 60%|██████    | 300/500 [28:40<20:17,  6.09s/it]\u001b[A\n",
      " 60%|██████    | 301/500 [28:46<19:29,  5.88s/it]\u001b[A"
     ]
    },
    {
     "name": "stdout",
     "output_type": "stream",
     "text": [
      "Epoch: 300, train_loss:0.580159\n",
      "tensor([ 0, 17, 22, 30, 30, 30, 30, 30, 10, 10, 10, 10, 10, 10, 10, 37, 37, 37,\n",
      "        37, 37, 37,  5, 37,  5,  5,  5,  5,  5,  5,  5, 37,  5, 37,  5,  5,  5,\n",
      "         5,  5,  5,  5,  5,  5, 37,  5,  5,  5,  5,  5,  5,  5,  5,  5,  5,  5,\n",
      "         5,  5,  5,  5,  5,  5,  5,  5,  5,  5], device='cuda:0')\n"
     ]
    },
    {
     "name": "stderr",
     "output_type": "stream",
     "text": [
      "\n",
      " 60%|██████    | 302/500 [28:50<18:19,  5.55s/it]\u001b[A\n",
      " 61%|██████    | 303/500 [28:55<17:38,  5.37s/it]\u001b[A\n",
      " 61%|██████    | 304/500 [29:00<17:08,  5.25s/it]\u001b[A\n",
      " 61%|██████    | 305/500 [29:05<16:51,  5.18s/it]\u001b[A\n",
      " 61%|██████    | 306/500 [29:12<17:55,  5.54s/it]\u001b[A"
     ]
    },
    {
     "name": "stdout",
     "output_type": "stream",
     "text": [
      "Epoch: 305, train_loss:0.562631\n"
     ]
    },
    {
     "name": "stderr",
     "output_type": "stream",
     "text": [
      "\n",
      " 61%|██████▏   | 307/500 [29:18<18:32,  5.76s/it]\u001b[A\n",
      " 62%|██████▏   | 308/500 [29:24<19:02,  5.95s/it]\u001b[A\n",
      " 62%|██████▏   | 309/500 [29:31<19:25,  6.10s/it]\u001b[A\n",
      " 62%|██████▏   | 310/500 [29:37<19:40,  6.21s/it]\u001b[A\n",
      " 62%|██████▏   | 311/500 [29:44<19:32,  6.20s/it]\u001b[A"
     ]
    },
    {
     "name": "stdout",
     "output_type": "stream",
     "text": [
      "Epoch: 310, train_loss:0.693369\n"
     ]
    },
    {
     "name": "stderr",
     "output_type": "stream",
     "text": [
      "\n",
      " 62%|██████▏   | 312/500 [29:50<19:23,  6.19s/it]\u001b[A\n",
      " 63%|██████▎   | 313/500 [29:55<18:40,  5.99s/it]\u001b[A\n",
      " 63%|██████▎   | 314/500 [30:01<18:39,  6.02s/it]\u001b[A\n",
      " 63%|██████▎   | 315/500 [30:07<18:24,  5.97s/it]\u001b[A\n",
      " 63%|██████▎   | 316/500 [30:12<17:28,  5.70s/it]\u001b[A"
     ]
    },
    {
     "name": "stdout",
     "output_type": "stream",
     "text": [
      "Epoch: 315, train_loss:0.594596\n"
     ]
    },
    {
     "name": "stderr",
     "output_type": "stream",
     "text": [
      "\n",
      " 63%|██████▎   | 317/500 [30:17<16:33,  5.43s/it]\u001b[A\n",
      " 64%|██████▎   | 318/500 [30:22<15:53,  5.24s/it]\u001b[A\n",
      " 64%|██████▍   | 319/500 [30:27<15:23,  5.10s/it]\u001b[A\n",
      " 64%|██████▍   | 320/500 [30:32<15:28,  5.16s/it]\u001b[A\n",
      " 64%|██████▍   | 321/500 [30:38<16:28,  5.52s/it]\u001b[A"
     ]
    },
    {
     "name": "stdout",
     "output_type": "stream",
     "text": [
      "Epoch: 320, train_loss:0.558000\n"
     ]
    },
    {
     "name": "stderr",
     "output_type": "stream",
     "text": [
      "\n",
      " 64%|██████▍   | 322/500 [30:44<16:57,  5.72s/it]\u001b[A\n",
      " 65%|██████▍   | 323/500 [30:51<17:26,  5.91s/it]\u001b[A\n",
      " 65%|██████▍   | 324/500 [30:56<17:00,  5.80s/it]\u001b[A\n",
      " 65%|██████▌   | 325/500 [31:02<17:01,  5.84s/it]\u001b[A\n",
      " 65%|██████▌   | 326/500 [31:08<17:01,  5.87s/it]\u001b[A"
     ]
    },
    {
     "name": "stdout",
     "output_type": "stream",
     "text": [
      "Epoch: 325, train_loss:0.567351\n"
     ]
    },
    {
     "name": "stderr",
     "output_type": "stream",
     "text": [
      "\n",
      " 65%|██████▌   | 327/500 [31:14<17:10,  5.95s/it]\u001b[A\n",
      " 66%|██████▌   | 328/500 [31:19<16:03,  5.60s/it]\u001b[A\n",
      " 66%|██████▌   | 329/500 [31:24<15:38,  5.49s/it]\u001b[A\n",
      " 66%|██████▌   | 330/500 [31:31<16:05,  5.68s/it]\u001b[A\n",
      " 66%|██████▌   | 331/500 [31:35<15:18,  5.43s/it]\u001b[A"
     ]
    },
    {
     "name": "stdout",
     "output_type": "stream",
     "text": [
      "Epoch: 330, train_loss:0.536405\n"
     ]
    },
    {
     "name": "stderr",
     "output_type": "stream",
     "text": [
      "\n",
      " 66%|██████▋   | 332/500 [31:40<14:47,  5.28s/it]\u001b[A\n",
      " 67%|██████▋   | 333/500 [31:47<15:30,  5.57s/it]\u001b[A\n",
      " 67%|██████▋   | 334/500 [31:53<15:56,  5.76s/it]\u001b[A\n",
      " 67%|██████▋   | 335/500 [31:59<16:32,  6.02s/it]\u001b[A\n",
      " 67%|██████▋   | 336/500 [32:06<16:49,  6.15s/it]\u001b[A"
     ]
    },
    {
     "name": "stdout",
     "output_type": "stream",
     "text": [
      "Epoch: 335, train_loss:0.566527\n"
     ]
    },
    {
     "name": "stderr",
     "output_type": "stream",
     "text": [
      "\n",
      " 67%|██████▋   | 337/500 [32:12<17:05,  6.29s/it]\u001b[A\n",
      " 68%|██████▊   | 338/500 [32:19<17:06,  6.34s/it]\u001b[A\n",
      " 68%|██████▊   | 339/500 [32:25<17:02,  6.35s/it]\u001b[A\n",
      " 68%|██████▊   | 340/500 [32:32<17:05,  6.41s/it]\u001b[A\n",
      " 68%|██████▊   | 341/500 [32:38<16:59,  6.41s/it]\u001b[A"
     ]
    },
    {
     "name": "stdout",
     "output_type": "stream",
     "text": [
      "Epoch: 340, train_loss:0.488946\n"
     ]
    },
    {
     "name": "stderr",
     "output_type": "stream",
     "text": [
      "\n",
      " 68%|██████▊   | 342/500 [32:44<16:29,  6.26s/it]\u001b[A\n",
      " 69%|██████▊   | 343/500 [32:50<16:15,  6.21s/it]\u001b[A\n",
      " 69%|██████▉   | 344/500 [32:57<16:34,  6.37s/it]\u001b[A\n",
      " 69%|██████▉   | 345/500 [33:04<16:32,  6.41s/it]\u001b[A\n",
      " 69%|██████▉   | 346/500 [33:10<16:14,  6.33s/it]\u001b[A"
     ]
    },
    {
     "name": "stdout",
     "output_type": "stream",
     "text": [
      "Epoch: 345, train_loss:0.525290\n"
     ]
    },
    {
     "name": "stderr",
     "output_type": "stream",
     "text": [
      "\n",
      " 69%|██████▉   | 347/500 [33:16<16:08,  6.33s/it]\u001b[A\n",
      " 70%|██████▉   | 348/500 [33:22<15:56,  6.29s/it]\u001b[A\n",
      " 70%|██████▉   | 349/500 [33:28<15:47,  6.27s/it]\u001b[A\n",
      " 70%|███████   | 350/500 [33:35<15:42,  6.29s/it]\u001b[A\n",
      " 70%|███████   | 351/500 [33:41<15:40,  6.31s/it]\u001b[A"
     ]
    },
    {
     "name": "stdout",
     "output_type": "stream",
     "text": [
      "Epoch: 350, train_loss:0.507143\n"
     ]
    },
    {
     "name": "stderr",
     "output_type": "stream",
     "text": [
      "\n",
      " 70%|███████   | 352/500 [33:47<15:17,  6.20s/it]\u001b[A\n",
      " 71%|███████   | 353/500 [33:53<15:17,  6.24s/it]\u001b[A\n",
      " 71%|███████   | 354/500 [33:59<14:51,  6.10s/it]\u001b[A\n",
      " 71%|███████   | 355/500 [34:04<13:48,  5.71s/it]\u001b[A\n",
      " 71%|███████   | 356/500 [34:09<13:05,  5.45s/it]\u001b[A"
     ]
    },
    {
     "name": "stdout",
     "output_type": "stream",
     "text": [
      "Epoch: 355, train_loss:0.548166\n"
     ]
    },
    {
     "name": "stderr",
     "output_type": "stream",
     "text": [
      "\n",
      " 71%|███████▏  | 357/500 [34:15<13:20,  5.60s/it]\u001b[A\n",
      " 72%|███████▏  | 358/500 [34:21<13:36,  5.75s/it]\u001b[A\n",
      " 72%|███████▏  | 359/500 [34:26<13:07,  5.58s/it]\u001b[A\n",
      " 72%|███████▏  | 360/500 [34:32<13:01,  5.58s/it]\u001b[A\n",
      " 72%|███████▏  | 361/500 [34:38<13:33,  5.86s/it]\u001b[A"
     ]
    },
    {
     "name": "stdout",
     "output_type": "stream",
     "text": [
      "Epoch: 360, train_loss:0.485801\n"
     ]
    },
    {
     "name": "stderr",
     "output_type": "stream",
     "text": [
      "\n",
      " 72%|███████▏  | 362/500 [34:44<13:44,  5.97s/it]\u001b[A\n",
      " 73%|███████▎  | 363/500 [34:51<13:51,  6.07s/it]\u001b[A\n",
      " 73%|███████▎  | 364/500 [34:56<13:35,  6.00s/it]\u001b[A\n",
      " 73%|███████▎  | 365/500 [35:03<13:51,  6.16s/it]\u001b[A\n",
      " 73%|███████▎  | 366/500 [35:09<13:47,  6.18s/it]\u001b[A"
     ]
    },
    {
     "name": "stdout",
     "output_type": "stream",
     "text": [
      "Epoch: 365, train_loss:0.498095\n"
     ]
    },
    {
     "name": "stderr",
     "output_type": "stream",
     "text": [
      "\n",
      " 73%|███████▎  | 367/500 [35:16<13:49,  6.24s/it]\u001b[A\n",
      " 74%|███████▎  | 368/500 [35:22<13:44,  6.25s/it]\u001b[A\n",
      " 74%|███████▍  | 369/500 [35:27<13:11,  6.05s/it]\u001b[A\n",
      " 74%|███████▍  | 370/500 [35:32<12:24,  5.73s/it]\u001b[A\n",
      " 74%|███████▍  | 371/500 [35:37<11:43,  5.46s/it]\u001b[A"
     ]
    },
    {
     "name": "stdout",
     "output_type": "stream",
     "text": [
      "Epoch: 370, train_loss:0.540153\n"
     ]
    },
    {
     "name": "stderr",
     "output_type": "stream",
     "text": [
      "\n",
      " 74%|███████▍  | 372/500 [35:43<11:51,  5.56s/it]\u001b[A\n",
      " 75%|███████▍  | 373/500 [35:49<11:41,  5.52s/it]\u001b[A\n",
      " 75%|███████▍  | 374/500 [35:53<11:14,  5.36s/it]\u001b[A\n",
      " 75%|███████▌  | 375/500 [35:58<10:48,  5.19s/it]\u001b[A\n",
      " 75%|███████▌  | 376/500 [36:03<10:30,  5.08s/it]\u001b[A"
     ]
    },
    {
     "name": "stdout",
     "output_type": "stream",
     "text": [
      "Epoch: 375, train_loss:0.519621\n"
     ]
    },
    {
     "name": "stderr",
     "output_type": "stream",
     "text": [
      "\n",
      " 75%|███████▌  | 377/500 [36:08<10:15,  5.00s/it]\u001b[A\n",
      " 76%|███████▌  | 378/500 [36:13<10:02,  4.94s/it]\u001b[A\n",
      " 76%|███████▌  | 379/500 [36:18<10:08,  5.03s/it]\u001b[A\n",
      " 76%|███████▌  | 380/500 [36:24<10:37,  5.31s/it]\u001b[A\n",
      " 76%|███████▌  | 381/500 [36:30<11:02,  5.56s/it]\u001b[A"
     ]
    },
    {
     "name": "stdout",
     "output_type": "stream",
     "text": [
      "Epoch: 380, train_loss:0.492382\n"
     ]
    },
    {
     "name": "stderr",
     "output_type": "stream",
     "text": [
      "\n",
      " 76%|███████▋  | 382/500 [36:36<11:13,  5.70s/it]\u001b[A\n",
      " 77%|███████▋  | 383/500 [36:42<11:29,  5.89s/it]\u001b[A\n",
      " 77%|███████▋  | 384/500 [36:49<11:37,  6.01s/it]\u001b[A\n",
      " 77%|███████▋  | 385/500 [36:55<11:42,  6.11s/it]\u001b[A\n",
      " 77%|███████▋  | 386/500 [37:02<11:49,  6.23s/it]\u001b[A"
     ]
    },
    {
     "name": "stdout",
     "output_type": "stream",
     "text": [
      "Epoch: 385, train_loss:0.433402\n"
     ]
    },
    {
     "name": "stderr",
     "output_type": "stream",
     "text": [
      "\n",
      " 77%|███████▋  | 387/500 [37:08<11:38,  6.18s/it]\u001b[A\n",
      " 78%|███████▊  | 388/500 [37:14<11:27,  6.14s/it]\u001b[A\n",
      " 78%|███████▊  | 389/500 [37:20<11:30,  6.22s/it]\u001b[A\n",
      " 78%|███████▊  | 390/500 [37:27<11:32,  6.30s/it]\u001b[A\n",
      " 78%|███████▊  | 391/500 [37:33<11:28,  6.32s/it]\u001b[A"
     ]
    },
    {
     "name": "stdout",
     "output_type": "stream",
     "text": [
      "Epoch: 390, train_loss:0.424437\n"
     ]
    },
    {
     "name": "stderr",
     "output_type": "stream",
     "text": [
      "\n",
      " 78%|███████▊  | 392/500 [37:39<11:18,  6.28s/it]\u001b[A\n",
      " 79%|███████▊  | 393/500 [37:45<11:10,  6.26s/it]\u001b[A\n",
      " 79%|███████▉  | 394/500 [37:51<10:57,  6.20s/it]\u001b[A\n",
      " 79%|███████▉  | 395/500 [37:57<10:45,  6.15s/it]\u001b[A\n",
      " 79%|███████▉  | 396/500 [38:04<10:46,  6.21s/it]\u001b[A"
     ]
    },
    {
     "name": "stdout",
     "output_type": "stream",
     "text": [
      "Epoch: 395, train_loss:0.416901\n"
     ]
    },
    {
     "name": "stderr",
     "output_type": "stream",
     "text": [
      "\n",
      " 79%|███████▉  | 397/500 [38:10<10:47,  6.29s/it]\u001b[A\n",
      " 80%|███████▉  | 398/500 [38:16<10:13,  6.02s/it]\u001b[A\n",
      " 80%|███████▉  | 399/500 [38:21<09:57,  5.92s/it]\u001b[A\n",
      " 80%|████████  | 400/500 [38:27<09:52,  5.93s/it]\u001b[A\n",
      " 80%|████████  | 401/500 [38:32<09:19,  5.65s/it]\u001b[A"
     ]
    },
    {
     "name": "stdout",
     "output_type": "stream",
     "text": [
      "Epoch: 400, train_loss:0.386548\n",
      "tensor([37, 37, 20, 14, 14, 12, 14, 13, 13, 13, 13, 13, 13, 12, 37, 14, 14, 14,\n",
      "        14, 14, 14, 14, 14, 14, 14, 14, 14, 12, 14, 12, 37, 12, 37, 12, 37, 12,\n",
      "        37, 12, 37, 12, 37, 12, 37, 12, 37, 12, 37, 12, 37, 12, 37, 12, 37, 12,\n",
      "        37, 12, 37, 12, 37, 12, 37, 12, 37, 12], device='cuda:0')\n"
     ]
    },
    {
     "name": "stderr",
     "output_type": "stream",
     "text": [
      "\n",
      " 80%|████████  | 402/500 [38:38<09:16,  5.67s/it]\u001b[A\n",
      " 81%|████████  | 403/500 [38:44<09:29,  5.87s/it]\u001b[A\n",
      " 81%|████████  | 404/500 [38:51<09:32,  5.96s/it]\u001b[A\n",
      " 81%|████████  | 405/500 [38:57<09:36,  6.07s/it]\u001b[A\n",
      " 81%|████████  | 406/500 [39:03<09:42,  6.20s/it]\u001b[A"
     ]
    },
    {
     "name": "stdout",
     "output_type": "stream",
     "text": [
      "Epoch: 405, train_loss:0.395126\n"
     ]
    },
    {
     "name": "stderr",
     "output_type": "stream",
     "text": [
      "\n",
      " 81%|████████▏ | 407/500 [39:10<09:37,  6.21s/it]\u001b[A\n",
      " 82%|████████▏ | 408/500 [39:15<09:17,  6.06s/it]\u001b[A\n",
      " 82%|████████▏ | 409/500 [39:22<09:20,  6.15s/it]\u001b[A\n",
      " 82%|████████▏ | 410/500 [39:27<08:55,  5.95s/it]\u001b[A\n",
      " 82%|████████▏ | 411/500 [39:32<08:19,  5.61s/it]\u001b[A"
     ]
    },
    {
     "name": "stdout",
     "output_type": "stream",
     "text": [
      "Epoch: 410, train_loss:0.378296\n"
     ]
    },
    {
     "name": "stderr",
     "output_type": "stream",
     "text": [
      "\n",
      " 82%|████████▏ | 412/500 [39:38<08:20,  5.69s/it]\u001b[A\n",
      " 83%|████████▎ | 413/500 [39:44<08:33,  5.91s/it]\u001b[A\n",
      " 83%|████████▎ | 414/500 [39:51<08:39,  6.04s/it]\u001b[A\n",
      " 83%|████████▎ | 415/500 [39:57<08:35,  6.06s/it]\u001b[A\n",
      " 83%|████████▎ | 416/500 [40:02<07:57,  5.68s/it]\u001b[A"
     ]
    },
    {
     "name": "stdout",
     "output_type": "stream",
     "text": [
      "Epoch: 415, train_loss:0.456155\n"
     ]
    },
    {
     "name": "stderr",
     "output_type": "stream",
     "text": [
      "\n",
      " 83%|████████▎ | 417/500 [40:07<07:50,  5.66s/it]\u001b[A\n",
      " 84%|████████▎ | 418/500 [40:12<07:23,  5.40s/it]\u001b[A\n",
      " 84%|████████▍ | 419/500 [40:17<07:02,  5.22s/it]\u001b[A\n",
      " 84%|████████▍ | 420/500 [40:23<07:15,  5.45s/it]\u001b[A\n",
      " 84%|████████▍ | 421/500 [40:29<07:36,  5.78s/it]\u001b[A"
     ]
    },
    {
     "name": "stdout",
     "output_type": "stream",
     "text": [
      "Epoch: 420, train_loss:0.370157\n"
     ]
    },
    {
     "name": "stderr",
     "output_type": "stream",
     "text": [
      "\n",
      " 84%|████████▍ | 422/500 [40:34<07:14,  5.56s/it]\u001b[A\n",
      " 85%|████████▍ | 423/500 [40:39<06:50,  5.34s/it]\u001b[A\n",
      " 85%|████████▍ | 424/500 [40:44<06:41,  5.28s/it]\u001b[A\n",
      " 85%|████████▌ | 425/500 [40:51<07:01,  5.62s/it]\u001b[A\n",
      " 85%|████████▌ | 426/500 [40:57<07:12,  5.84s/it]\u001b[A"
     ]
    },
    {
     "name": "stdout",
     "output_type": "stream",
     "text": [
      "Epoch: 425, train_loss:0.331467\n"
     ]
    },
    {
     "name": "stderr",
     "output_type": "stream",
     "text": [
      "\n",
      " 85%|████████▌ | 427/500 [41:03<07:13,  5.94s/it]\u001b[A\n",
      " 86%|████████▌ | 428/500 [41:10<07:16,  6.06s/it]\u001b[A\n",
      " 86%|████████▌ | 429/500 [41:15<07:02,  5.96s/it]\u001b[A\n",
      " 86%|████████▌ | 430/500 [41:21<06:47,  5.82s/it]\u001b[A\n",
      " 86%|████████▌ | 431/500 [41:27<06:49,  5.94s/it]\u001b[A"
     ]
    },
    {
     "name": "stdout",
     "output_type": "stream",
     "text": [
      "Epoch: 430, train_loss:0.326805\n"
     ]
    },
    {
     "name": "stderr",
     "output_type": "stream",
     "text": [
      "\n",
      " 86%|████████▋ | 432/500 [41:34<06:57,  6.14s/it]\u001b[A\n",
      " 87%|████████▋ | 433/500 [41:40<06:55,  6.20s/it]\u001b[A\n",
      " 87%|████████▋ | 434/500 [41:46<06:44,  6.12s/it]\u001b[A\n",
      " 87%|████████▋ | 435/500 [41:52<06:31,  6.02s/it]\u001b[A\n",
      " 87%|████████▋ | 436/500 [41:58<06:39,  6.24s/it]\u001b[A"
     ]
    },
    {
     "name": "stdout",
     "output_type": "stream",
     "text": [
      "Epoch: 435, train_loss:0.324362\n"
     ]
    },
    {
     "name": "stderr",
     "output_type": "stream",
     "text": [
      "\n",
      " 87%|████████▋ | 437/500 [42:05<06:33,  6.24s/it]\u001b[A\n",
      " 88%|████████▊ | 438/500 [42:11<06:29,  6.28s/it]\u001b[A\n",
      " 88%|████████▊ | 439/500 [42:17<06:25,  6.32s/it]\u001b[A\n",
      " 88%|████████▊ | 440/500 [42:23<05:56,  5.95s/it]\u001b[A\n",
      " 88%|████████▊ | 441/500 [42:29<05:55,  6.03s/it]\u001b[A"
     ]
    },
    {
     "name": "stdout",
     "output_type": "stream",
     "text": [
      "Epoch: 440, train_loss:0.409444\n"
     ]
    },
    {
     "name": "stderr",
     "output_type": "stream",
     "text": [
      "\n",
      " 88%|████████▊ | 442/500 [42:35<05:54,  6.11s/it]\u001b[A\n",
      " 89%|████████▊ | 443/500 [42:41<05:51,  6.17s/it]\u001b[A\n",
      " 89%|████████▉ | 444/500 [42:48<05:48,  6.21s/it]\u001b[A\n",
      " 89%|████████▉ | 445/500 [42:54<05:43,  6.24s/it]\u001b[A\n",
      " 89%|████████▉ | 446/500 [43:00<05:37,  6.26s/it]\u001b[A"
     ]
    },
    {
     "name": "stdout",
     "output_type": "stream",
     "text": [
      "Epoch: 445, train_loss:0.318424\n"
     ]
    },
    {
     "name": "stderr",
     "output_type": "stream",
     "text": [
      "\n",
      " 89%|████████▉ | 447/500 [43:06<05:25,  6.13s/it]\u001b[A\n",
      " 90%|████████▉ | 448/500 [43:11<05:06,  5.90s/it]\u001b[A\n",
      " 90%|████████▉ | 449/500 [43:17<04:58,  5.85s/it]\u001b[A\n",
      " 90%|█████████ | 450/500 [43:23<04:54,  5.90s/it]\u001b[A\n",
      " 90%|█████████ | 451/500 [43:29<04:49,  5.91s/it]\u001b[A"
     ]
    },
    {
     "name": "stdout",
     "output_type": "stream",
     "text": [
      "Epoch: 450, train_loss:0.292058\n"
     ]
    },
    {
     "name": "stderr",
     "output_type": "stream",
     "text": [
      "\n",
      " 90%|█████████ | 452/500 [43:34<04:27,  5.57s/it]\u001b[A\n",
      " 91%|█████████ | 453/500 [43:39<04:10,  5.34s/it]\u001b[A\n",
      " 91%|█████████ | 454/500 [43:45<04:15,  5.55s/it]\u001b[A\n",
      " 91%|█████████ | 455/500 [43:51<04:21,  5.82s/it]\u001b[A\n",
      " 91%|█████████ | 456/500 [43:57<04:20,  5.92s/it]\u001b[A"
     ]
    },
    {
     "name": "stdout",
     "output_type": "stream",
     "text": [
      "Epoch: 455, train_loss:0.284260\n"
     ]
    },
    {
     "name": "stderr",
     "output_type": "stream",
     "text": [
      "\n",
      " 91%|█████████▏| 457/500 [44:04<04:19,  6.04s/it]\u001b[A\n",
      " 92%|█████████▏| 458/500 [44:10<04:22,  6.24s/it]\u001b[A\n",
      " 92%|█████████▏| 459/500 [44:17<04:17,  6.29s/it]\u001b[A\n",
      " 92%|█████████▏| 460/500 [44:23<04:12,  6.31s/it]\u001b[A\n",
      " 92%|█████████▏| 461/500 [44:30<04:10,  6.42s/it]\u001b[A"
     ]
    },
    {
     "name": "stdout",
     "output_type": "stream",
     "text": [
      "Epoch: 460, train_loss:0.415511\n"
     ]
    },
    {
     "name": "stderr",
     "output_type": "stream",
     "text": [
      "\n",
      " 92%|█████████▏| 462/500 [44:36<04:00,  6.33s/it]\u001b[A\n",
      " 93%|█████████▎| 463/500 [44:42<03:52,  6.28s/it]\u001b[A\n",
      " 93%|█████████▎| 464/500 [44:47<03:30,  5.86s/it]\u001b[A\n",
      " 93%|█████████▎| 465/500 [44:52<03:17,  5.64s/it]\u001b[A\n",
      " 93%|█████████▎| 466/500 [44:58<03:18,  5.85s/it]\u001b[A"
     ]
    },
    {
     "name": "stdout",
     "output_type": "stream",
     "text": [
      "Epoch: 465, train_loss:0.300123\n"
     ]
    },
    {
     "name": "stderr",
     "output_type": "stream",
     "text": [
      "\n",
      " 93%|█████████▎| 467/500 [45:04<03:14,  5.90s/it]\u001b[A\n",
      " 94%|█████████▎| 468/500 [45:09<02:57,  5.56s/it]\u001b[A\n",
      " 94%|█████████▍| 469/500 [45:14<02:46,  5.38s/it]\u001b[A\n",
      " 94%|█████████▍| 470/500 [45:20<02:46,  5.56s/it]\u001b[A\n",
      " 94%|█████████▍| 471/500 [45:26<02:45,  5.70s/it]\u001b[A"
     ]
    },
    {
     "name": "stdout",
     "output_type": "stream",
     "text": [
      "Epoch: 470, train_loss:0.353705\n"
     ]
    },
    {
     "name": "stderr",
     "output_type": "stream",
     "text": [
      "\n",
      " 94%|█████████▍| 472/500 [45:31<02:33,  5.49s/it]\u001b[A\n",
      " 95%|█████████▍| 473/500 [45:36<02:22,  5.27s/it]\u001b[A\n",
      " 95%|█████████▍| 474/500 [45:41<02:13,  5.12s/it]\u001b[A\n",
      " 95%|█████████▌| 475/500 [45:46<02:08,  5.15s/it]\u001b[A\n",
      " 95%|█████████▌| 476/500 [45:51<02:02,  5.10s/it]\u001b[A"
     ]
    },
    {
     "name": "stdout",
     "output_type": "stream",
     "text": [
      "Epoch: 475, train_loss:0.336691\n"
     ]
    },
    {
     "name": "stderr",
     "output_type": "stream",
     "text": [
      "\n",
      " 95%|█████████▌| 477/500 [45:56<01:55,  5.01s/it]\u001b[A\n",
      " 96%|█████████▌| 478/500 [46:01<01:48,  4.94s/it]\u001b[A\n",
      " 96%|█████████▌| 479/500 [46:06<01:44,  5.00s/it]\u001b[A\n",
      " 96%|█████████▌| 480/500 [46:12<01:47,  5.40s/it]\u001b[A\n",
      " 96%|█████████▌| 481/500 [46:18<01:48,  5.69s/it]\u001b[A"
     ]
    },
    {
     "name": "stdout",
     "output_type": "stream",
     "text": [
      "Epoch: 480, train_loss:0.269882\n"
     ]
    },
    {
     "name": "stderr",
     "output_type": "stream",
     "text": [
      "\n",
      " 96%|█████████▋| 482/500 [46:25<01:44,  5.83s/it]\u001b[A\n",
      " 97%|█████████▋| 483/500 [46:31<01:41,  5.95s/it]\u001b[A\n",
      " 97%|█████████▋| 484/500 [46:37<01:37,  6.08s/it]\u001b[A\n",
      " 97%|█████████▋| 485/500 [46:43<01:32,  6.14s/it]\u001b[A\n",
      " 97%|█████████▋| 486/500 [46:50<01:26,  6.19s/it]\u001b[A"
     ]
    },
    {
     "name": "stdout",
     "output_type": "stream",
     "text": [
      "Epoch: 485, train_loss:0.271117\n"
     ]
    },
    {
     "name": "stderr",
     "output_type": "stream",
     "text": [
      "\n",
      " 97%|█████████▋| 487/500 [46:56<01:20,  6.18s/it]\u001b[A\n",
      " 98%|█████████▊| 488/500 [47:02<01:15,  6.26s/it]\u001b[A\n",
      " 98%|█████████▊| 489/500 [47:09<01:09,  6.34s/it]\u001b[A\n",
      " 98%|█████████▊| 490/500 [47:15<01:02,  6.21s/it]\u001b[A\n",
      " 98%|█████████▊| 491/500 [47:21<00:54,  6.10s/it]\u001b[A"
     ]
    },
    {
     "name": "stdout",
     "output_type": "stream",
     "text": [
      "Epoch: 490, train_loss:0.258189\n"
     ]
    },
    {
     "name": "stderr",
     "output_type": "stream",
     "text": [
      "\n",
      " 98%|█████████▊| 492/500 [47:25<00:45,  5.72s/it]\u001b[A\n",
      " 99%|█████████▊| 493/500 [47:31<00:38,  5.55s/it]\u001b[A\n",
      " 99%|█████████▉| 494/500 [47:36<00:33,  5.61s/it]\u001b[A\n",
      " 99%|█████████▉| 495/500 [47:43<00:29,  5.86s/it]\u001b[A\n",
      " 99%|█████████▉| 496/500 [47:48<00:22,  5.67s/it]\u001b[A"
     ]
    },
    {
     "name": "stdout",
     "output_type": "stream",
     "text": [
      "Epoch: 495, train_loss:0.259663\n"
     ]
    },
    {
     "name": "stderr",
     "output_type": "stream",
     "text": [
      "\n",
      " 99%|█████████▉| 497/500 [47:54<00:17,  5.70s/it]\u001b[A\n",
      "100%|█████████▉| 498/500 [48:00<00:11,  5.91s/it]\u001b[A\n",
      "100%|█████████▉| 499/500 [48:06<00:05,  5.97s/it]\u001b[A\n",
      "100%|██████████| 500/500 [48:12<00:00,  5.79s/it]\u001b[A\n"
     ]
    },
    {
     "name": "stdout",
     "output_type": "stream",
     "text": [
      "Test Loss After Training: 1.725295\n"
     ]
    },
    {
     "data": {
      "text/html": [
       "<br/>Waiting for W&B process to finish, PID 217536<br/>Program ended successfully."
      ],
      "text/plain": [
       "<IPython.core.display.HTML object>"
      ]
     },
     "metadata": {},
     "output_type": "display_data"
    },
    {
     "data": {
      "application/vnd.jupyter.widget-view+json": {
       "model_id": "",
       "version_major": 2,
       "version_minor": 0
      },
      "text/plain": [
       "VBox(children=(Label(value=' 0.00MB of 0.00MB uploaded (0.00MB deduped)\\r'), FloatProgress(value=1.0, max=1.0)…"
      ]
     },
     "metadata": {},
     "output_type": "display_data"
    },
    {
     "data": {
      "text/html": [
       "Find user logs for this run at: <code>/scratch/users/udemir15/ELEC491/Bassline-Generator/generator/PyTorch/wandb/run-20210525_175837-52md17ow/logs/debug.log</code>"
      ],
      "text/plain": [
       "<IPython.core.display.HTML object>"
      ]
     },
     "metadata": {},
     "output_type": "display_data"
    },
    {
     "data": {
      "text/html": [
       "Find internal logs for this run at: <code>/scratch/users/udemir15/ELEC491/Bassline-Generator/generator/PyTorch/wandb/run-20210525_175837-52md17ow/logs/debug-internal.log</code>"
      ],
      "text/plain": [
       "<IPython.core.display.HTML object>"
      ]
     },
     "metadata": {},
     "output_type": "display_data"
    },
    {
     "data": {
      "text/html": [
       "<h3>Run summary:</h3><br/><style>\n",
       "    table.wandb td:nth-child(1) { padding: 0 10px; text-align: right }\n",
       "    </style><table class=\"wandb\">\n",
       "<tr><td>test_loss</td><td>1.72529</td></tr><tr><td>_runtime</td><td>2905</td></tr><tr><td>_timestamp</td><td>1621957622</td></tr><tr><td>_step</td><td>501</td></tr><tr><td>train_loss</td><td>0.40202</td></tr></table>"
      ],
      "text/plain": [
       "<IPython.core.display.HTML object>"
      ]
     },
     "metadata": {},
     "output_type": "display_data"
    },
    {
     "data": {
      "text/html": [
       "<h3>Run history:</h3><br/><style>\n",
       "    table.wandb td:nth-child(1) { padding: 0 10px; text-align: right }\n",
       "    </style><table class=\"wandb\">\n",
       "<tr><td>test_loss</td><td>█▆▅▅▄▄▄▃▃▂▂▂▂▂▁▁▁▁▁▁▁▁▁▂▂▂▂▃▃▃▄▄▄▅▆▆▇▇▇█</td></tr><tr><td>_runtime</td><td>▁▁▁▂▂▂▂▂▂▃▃▃▃▃▄▄▄▄▄▄▅▅▅▅▅▅▆▆▆▆▆▇▇▇▇▇▇███</td></tr><tr><td>_timestamp</td><td>▁▁▁▂▂▂▂▂▂▃▃▃▃▃▄▄▄▄▄▄▅▅▅▅▅▅▆▆▆▆▆▇▇▇▇▇▇███</td></tr><tr><td>_step</td><td>▁▁▁▂▂▂▂▂▂▃▃▃▃▃▄▄▄▄▄▄▅▅▅▅▅▅▆▆▆▆▆▇▇▇▇▇▇███</td></tr><tr><td>train_loss</td><td>█▇▇▆▆▆▅▅▅▅▅▄▄▄▄▄▄▃▃▃▃▃▃▂▂▂▂▂▂▂▂▂▂▂▁▁▂▁▁▁</td></tr></table><br/>"
      ],
      "text/plain": [
       "<IPython.core.display.HTML object>"
      ]
     },
     "metadata": {},
     "output_type": "display_data"
    },
    {
     "data": {
      "text/html": [
       "Synced 6 W&B file(s), 0 media file(s), 0 artifact file(s) and 0 other file(s)"
      ],
      "text/plain": [
       "<IPython.core.display.HTML object>"
      ]
     },
     "metadata": {},
     "output_type": "display_data"
    },
    {
     "data": {
      "text/html": [
       "\n",
       "                    <br/>Synced <strong style=\"color:#cdcd00\">25_05__17_58</strong>: <a href=\"https://wandb.ai/nbg/PyTorch_experiments/runs/52md17ow\" target=\"_blank\">https://wandb.ai/nbg/PyTorch_experiments/runs/52md17ow</a><br/>\n",
       "                "
      ],
      "text/plain": [
       "<IPython.core.display.HTML object>"
      ]
     },
     "metadata": {},
     "output_type": "display_data"
    }
   ],
   "source": [
    "project_name = 'PyTorch_experiments'\n",
    "\n",
    "model_name = dt.datetime.strftime(dt.datetime.now(),\"%d_%m__%H_%M\")\n",
    "\n",
    "with wandb.init(project=project_name, name=model_name, config=all_params, entity='nbg'):\n",
    "\n",
    "    test_loss = test(model, test_loader, criterion, device)\n",
    "    wandb.log({'test_loss': test_loss})\n",
    "\n",
    "    for epoch in tqdm(range(train_params['N_epochs'])):\n",
    "\n",
    "        train_loss = train(model, train_loader, optimizer, criterion, device)\n",
    "        test_loss = test(model, test_loader, criterion, device)\n",
    "        \n",
    "        wandb.log({'train_loss': train_loss, 'test_loss': test_loss})\n",
    "\n",
    "        if not (epoch % 5):\n",
    "            print('Epoch: {}, train_loss:{:.6f}'.format(epoch, train_loss))\n",
    "            checkpoint(model_name, model, optimizer, epoch)\n",
    "            \n",
    "        if not (epoch % 50):\n",
    "            samples = model.sample(24)\n",
    "            print('Sample: {}'.format(samples[0]))\n",
    "            wandb.log({'samples': samples})\n",
    "\n",
    "    test_loss = test(model, test_loader, criterion, device)\n",
    "    print('Test Loss After Training: {:.6f}'.format(test_loss))\n",
    "    wandb.log({'test_loss': test_loss})"
   ]
  },
  {
   "cell_type": "code",
   "execution_count": null,
   "metadata": {},
   "outputs": [],
   "source": [
    "model.sample(24)[0]"
   ]
  },
  {
   "cell_type": "markdown",
   "metadata": {},
   "source": [
    "test_loss = test(model, test_loader, criterion, device)\n",
    "\n",
    "for epoch in tqdm(range(train_params['N_epochs'])):\n",
    "\n",
    "    train_loss = train(model, train_loader, optimizer, criterion, device)\n",
    "    \n",
    "    if epoch+1 % 5:\n",
    "        print('Epoch: {}, train_loss:{:.6f}'.format(epoch+1, train_loss))\n",
    "\n",
    "test_loss = test(model, test_loader, criterion, device)\n",
    "print('Test Loss After Training: {:.6f}'.format(test_loss))"
   ]
  },
  {
   "cell_type": "markdown",
   "metadata": {},
   "source": [
    "encoder_params = {'num_embeddings': K,\n",
    "                  'embedding_dim': 16, #??\n",
    "                  'hidden_size': 128,\n",
    "                  'dropout': 0,  \n",
    "                  'num_layers': 4,              \n",
    "                  'batch_size': data_params['batch_size'],\n",
    "                  'device':device}\n",
    "\n",
    "decoder_params = {'input_size': encoder_params['hidden_size'],\n",
    "                  'output_size': K,\n",
    "                 'num_layers': encoder_params['num_layers'], \n",
    "                 'dropout': 0,\n",
    "                 'batch_size': data_params['batch_size'],\n",
    "                 'sequence_length': sequence_length,\n",
    "                 'device':device}\n",
    "\n",
    "train_params = {'batch_size': data_params['batch_size'],\n",
    "                'N_epochs': 10}\n",
    "\n",
    "all_params = {'encoder_params': encoder_params, 'decoder_params':decoder_params, 'train_params':train_params}"
   ]
  }
 ],
 "metadata": {
  "kernelspec": {
   "display_name": "Python 3",
   "language": "python",
   "name": "python3"
  },
  "language_info": {
   "codemirror_mode": {
    "name": "ipython",
    "version": 3
   },
   "file_extension": ".py",
   "mimetype": "text/x-python",
   "name": "python",
   "nbconvert_exporter": "python",
   "pygments_lexer": "ipython3",
   "version": "3.7.6"
  }
 },
 "nbformat": 4,
 "nbformat_minor": 5
}
