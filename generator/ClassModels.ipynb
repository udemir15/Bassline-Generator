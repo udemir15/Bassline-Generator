{
 "cells": [
  {
   "cell_type": "code",
   "execution_count": 1,
   "metadata": {},
   "outputs": [],
   "source": [
    "import numpy as np\n",
    "import pandas as pd\n",
    "from data import get_data\n",
    "from sklearn.model_selection import train_test_split\n",
    "from tensorflow.keras.callbacks import ModelCheckpoint\n",
    "from tensorflow.keras.optimizers import Adam\n",
    "from tensorflow.keras.losses import SparseCategoricalCrossentropy\n",
    "from tensorflow.keras.metrics import Mean\n",
    "from plotting import plot_loss_history\n",
    "from sklearn.metrics import accuracy_score"
   ]
  },
  {
   "cell_type": "code",
   "execution_count": 2,
   "metadata": {},
   "outputs": [],
   "source": [
    "X_train, X_test, y_train, y_test, vocab_size = get_data()"
   ]
  },
  {
   "cell_type": "code",
   "execution_count": 3,
   "metadata": {},
   "outputs": [],
   "source": [
    "num_train = X_train.shape[0]\n",
    "num_test = X_test.shape[0]\n",
    "timesteps = X_train.shape[1]"
   ]
  },
  {
   "cell_type": "code",
   "execution_count": 4,
   "metadata": {},
   "outputs": [],
   "source": [
    "learning_rate = 5e-3\n",
    "epochs = 1\n",
    "batch_size = 32"
   ]
  },
  {
   "cell_type": "code",
   "execution_count": 95,
   "metadata": {},
   "outputs": [],
   "source": [
    "from models.ae.autoencoders import RNNAE\n",
    "\n",
    "encoder_hidden_units = 256\n",
    "decoder_hidden_units = 256\n",
    "\n",
    "rnn_ae = RNNAE(encoder_hidden_units, decoder_hidden_units, timesteps, vocab_size)"
   ]
  },
  {
   "cell_type": "code",
   "execution_count": 96,
   "metadata": {},
   "outputs": [
    {
     "data": {
      "text/plain": [
       "'RNNEncoderRNNDecoder'"
      ]
     },
     "execution_count": 96,
     "metadata": {},
     "output_type": "execute_result"
    }
   ],
   "source": [
    "rnn_ae.name"
   ]
  },
  {
   "cell_type": "code",
   "execution_count": 97,
   "metadata": {},
   "outputs": [],
   "source": [
    "name = f\"{rnn_ae.encoder.name}_{rnn_ae.decoder.name}\"\n",
    "\n",
    "\n",
    "mc = ModelCheckpoint(f'Models/{name}.hdf5', monitor='val_loss')\n",
    "\n",
    "optimizer = Adam(learning_rate=learning_rate)\n",
    "\n",
    "rnn_ae.compile(optimizer, loss='categorical_crossentropy')"
   ]
  },
  {
   "cell_type": "code",
   "execution_count": 98,
   "metadata": {},
   "outputs": [
    {
     "data": {
      "text/plain": [
       "'LSTM_Encoder_LSTM_Decoder'"
      ]
     },
     "execution_count": 98,
     "metadata": {},
     "output_type": "execute_result"
    }
   ],
   "source": [
    "name"
   ]
  },
  {
   "cell_type": "code",
   "execution_count": 10,
   "metadata": {
    "scrolled": true
   },
   "outputs": [
    {
     "name": "stdout",
     "output_type": "stream",
     "text": [
      "97/97 [==============================] - 9s 24ms/step - loss: 2.2234 - val_loss: 1.9494\n"
     ]
    }
   ],
   "source": [
    "hist = rnn_ae.fit(X_train, y_train,\n",
    "                epochs=epochs,\n",
    "                batch_size=batch_size,\n",
    "                shuffle=True,\n",
    "                validation_data=(X_test, y_test),\n",
    "                callbacks=[mc])"
   ]
  },
  {
   "cell_type": "code",
   "execution_count": 11,
   "metadata": {},
   "outputs": [
    {
     "name": "stdout",
     "output_type": "stream",
     "text": [
      "Fitting GMM to distribution of encoding.\n",
      "(256,)\n"
     ]
    },
    {
     "data": {
      "text/plain": [
       "(10, 64)"
      ]
     },
     "execution_count": 11,
     "metadata": {},
     "output_type": "execute_result"
    }
   ],
   "source": [
    "rnn_ae.sample(10, X_train, 2).shape"
   ]
  },
  {
   "cell_type": "code",
   "execution_count": 12,
   "metadata": {},
   "outputs": [
    {
     "name": "stdout",
     "output_type": "stream",
     "text": [
      "Model: \"RNNEncoderRNNDecoder\"\n",
      "_________________________________________________________________\n",
      "Layer (type)                 Output Shape              Param #   \n",
      "=================================================================\n",
      "LSTM_Encoder (RNNEncoder)    multiple                  297152    \n",
      "_________________________________________________________________\n",
      "LSTM_Decoder (RNNDecoder)    multiple                  535078    \n",
      "=================================================================\n",
      "Total params: 832,230\n",
      "Trainable params: 832,230\n",
      "Non-trainable params: 0\n",
      "_________________________________________________________________\n"
     ]
    }
   ],
   "source": [
    "rnn_ae.summary()"
   ]
  },
  {
   "cell_type": "code",
   "execution_count": 15,
   "metadata": {},
   "outputs": [],
   "source": [
    "from models.autoencoders import RNNEncoderCNNDecoder\n",
    "\n",
    "encoder_hidden_units = (512, 256, 128)\n",
    "decoder_filter_sizes = (64, 32)\n",
    "\n",
    "rnne_cnnd = RNNEncoderCNNDecoder(encoder_hidden_units, decoder_filter_sizes, timesteps=timesteps, vocab_size=vocab_size)"
   ]
  },
  {
   "cell_type": "code",
   "execution_count": 16,
   "metadata": {},
   "outputs": [],
   "source": [
    "name = f\"{rnne_cnnd.encoder.name}_{rnne_cnnd.decoder.name}\"\n",
    "learning_rate = 5e-3\n",
    "epochs = 100\n",
    "batch_size = 32\n",
    "\n",
    "mc = ModelCheckpoint(f'Models/{name}.hdf5', monitor='val_loss')\n",
    "\n",
    "optimizer = Adam(learning_rate=learning_rate)\n",
    "\n",
    "rnne_cnnd.compile(optimizer, loss='categorical_crossentropy')"
   ]
  },
  {
   "cell_type": "code",
   "execution_count": 17,
   "metadata": {},
   "outputs": [
    {
     "name": "stdout",
     "output_type": "stream",
     "text": [
      "Epoch 1/100\n",
      "97/97 [==============================] - 7s 34ms/step - loss: 3.3571 - val_loss: 2.0136\n",
      "Epoch 2/100\n",
      "97/97 [==============================] - 2s 23ms/step - loss: 1.9917 - val_loss: 1.9437\n",
      "Epoch 3/100\n",
      "97/97 [==============================] - 2s 23ms/step - loss: 1.9618 - val_loss: 1.9418\n",
      "Epoch 4/100\n",
      "97/97 [==============================] - 2s 23ms/step - loss: 1.9720 - val_loss: 1.9408\n",
      "Epoch 5/100\n",
      "97/97 [==============================] - 2s 23ms/step - loss: 1.9618 - val_loss: 1.9425\n",
      "Epoch 6/100\n",
      "97/97 [==============================] - 2s 23ms/step - loss: 1.9783 - val_loss: 1.9398\n",
      "Epoch 7/100\n",
      "97/97 [==============================] - 2s 24ms/step - loss: 1.9563 - val_loss: 1.9405\n",
      "Epoch 8/100\n",
      "97/97 [==============================] - 2s 24ms/step - loss: 1.9717 - val_loss: 1.9384\n",
      "Epoch 9/100\n",
      "97/97 [==============================] - 2s 23ms/step - loss: 1.9609 - val_loss: 1.9347\n",
      "Epoch 10/100\n",
      "97/97 [==============================] - 2s 23ms/step - loss: 1.9577 - val_loss: 1.9290\n",
      "Epoch 11/100\n",
      "97/97 [==============================] - 2s 25ms/step - loss: 1.9446 - val_loss: 1.9224\n",
      "Epoch 12/100\n",
      "97/97 [==============================] - 2s 26ms/step - loss: 1.9475 - val_loss: 1.9202\n",
      "Epoch 13/100\n",
      "97/97 [==============================] - 2s 26ms/step - loss: 1.9394 - val_loss: 1.9227\n",
      "Epoch 14/100\n",
      "97/97 [==============================] - 2s 24ms/step - loss: 1.9433 - val_loss: 1.9185\n",
      "Epoch 15/100\n",
      "97/97 [==============================] - 2s 23ms/step - loss: 1.9581 - val_loss: 1.9187\n",
      "Epoch 16/100\n",
      "97/97 [==============================] - 2s 22ms/step - loss: 1.9329 - val_loss: 1.9182\n",
      "Epoch 17/100\n",
      "97/97 [==============================] - 4s 37ms/step - loss: 1.9416 - val_loss: 1.9190\n",
      "Epoch 18/100\n",
      "97/97 [==============================] - 3s 29ms/step - loss: 1.9368 - val_loss: 1.9185\n",
      "Epoch 19/100\n",
      "97/97 [==============================] - 3s 27ms/step - loss: 1.9528 - val_loss: 1.9183\n",
      "Epoch 20/100\n",
      "97/97 [==============================] - 3s 27ms/step - loss: 1.9337 - val_loss: 1.9175\n",
      "Epoch 21/100\n",
      "97/97 [==============================] - 3s 28ms/step - loss: 1.9404 - val_loss: 1.9199\n",
      "Epoch 22/100\n",
      "97/97 [==============================] - 3s 26ms/step - loss: 1.9352 - val_loss: 1.9194\n",
      "Epoch 23/100\n",
      "97/97 [==============================] - 2s 26ms/step - loss: 1.9439 - val_loss: 1.9181\n",
      "Epoch 24/100\n",
      "97/97 [==============================] - 3s 26ms/step - loss: 1.9487 - val_loss: 1.9195\n",
      "Epoch 25/100\n",
      "97/97 [==============================] - 2s 25ms/step - loss: 1.9444 - val_loss: 1.9171\n",
      "Epoch 26/100\n",
      "97/97 [==============================] - 2s 25ms/step - loss: 1.9410 - val_loss: 1.9188\n",
      "Epoch 27/100\n",
      "97/97 [==============================] - 2s 24ms/step - loss: 1.9306 - val_loss: 1.9241\n",
      "Epoch 28/100\n",
      "97/97 [==============================] - 2s 25ms/step - loss: 1.9407 - val_loss: 1.9201\n",
      "Epoch 29/100\n",
      "97/97 [==============================] - 2s 26ms/step - loss: 1.9364 - val_loss: 1.9176\n",
      "Epoch 30/100\n",
      "97/97 [==============================] - 2s 23ms/step - loss: 1.9495 - val_loss: 1.9166\n",
      "Epoch 31/100\n",
      "97/97 [==============================] - 2s 24ms/step - loss: 1.9403 - val_loss: 1.9197\n",
      "Epoch 32/100\n",
      "97/97 [==============================] - 2s 25ms/step - loss: 1.9318 - val_loss: 1.9193\n",
      "Epoch 33/100\n",
      "97/97 [==============================] - 2s 25ms/step - loss: 1.9421 - val_loss: 1.9169\n",
      "Epoch 34/100\n",
      "97/97 [==============================] - 2s 25ms/step - loss: 1.9292 - val_loss: 1.9175\n",
      "Epoch 35/100\n",
      "97/97 [==============================] - 2s 24ms/step - loss: 1.9383 - val_loss: 1.9172\n",
      "Epoch 36/100\n",
      "97/97 [==============================] - 2s 25ms/step - loss: 1.9438 - val_loss: 1.9171\n",
      "Epoch 37/100\n",
      "97/97 [==============================] - 2s 24ms/step - loss: 1.9205 - val_loss: 1.9167\n",
      "Epoch 38/100\n",
      "97/97 [==============================] - 2s 24ms/step - loss: 1.9337 - val_loss: 1.9164\n",
      "Epoch 39/100\n",
      "97/97 [==============================] - 2s 24ms/step - loss: 1.9418 - val_loss: 1.9175\n",
      "Epoch 40/100\n",
      "97/97 [==============================] - 2s 25ms/step - loss: 1.9356 - val_loss: 1.9157\n",
      "Epoch 41/100\n",
      "97/97 [==============================] - 2s 26ms/step - loss: 1.9344 - val_loss: 1.9159\n",
      "Epoch 42/100\n",
      "97/97 [==============================] - 2s 25ms/step - loss: 1.9278 - val_loss: 1.9158\n",
      "Epoch 43/100\n",
      "97/97 [==============================] - 2s 25ms/step - loss: 1.9228 - val_loss: 1.9175\n",
      "Epoch 44/100\n",
      "97/97 [==============================] - 2s 25ms/step - loss: 1.9404 - val_loss: 1.9164\n",
      "Epoch 45/100\n",
      "97/97 [==============================] - 2s 25ms/step - loss: 1.9400 - val_loss: 1.9179\n",
      "Epoch 46/100\n",
      "97/97 [==============================] - 2s 23ms/step - loss: 1.9445 - val_loss: 1.9166\n",
      "Epoch 47/100\n",
      "97/97 [==============================] - 2s 23ms/step - loss: 1.9434 - val_loss: 1.9170\n",
      "Epoch 48/100\n",
      "97/97 [==============================] - 2s 23ms/step - loss: 1.9525 - val_loss: 1.9151\n",
      "Epoch 49/100\n",
      "97/97 [==============================] - 2s 23ms/step - loss: 1.9391 - val_loss: 1.9169\n",
      "Epoch 50/100\n",
      "97/97 [==============================] - 2s 22ms/step - loss: 1.9321 - val_loss: 1.9183\n",
      "Epoch 51/100\n",
      "97/97 [==============================] - 2s 23ms/step - loss: 1.9422 - val_loss: 1.9180\n",
      "Epoch 52/100\n",
      "97/97 [==============================] - 2s 25ms/step - loss: 1.9229 - val_loss: 1.9173\n",
      "Epoch 53/100\n",
      "97/97 [==============================] - 2s 24ms/step - loss: 1.9299 - val_loss: 1.9173\n",
      "Epoch 54/100\n",
      "97/97 [==============================] - 2s 25ms/step - loss: 1.9328 - val_loss: 1.9164\n",
      "Epoch 55/100\n",
      "97/97 [==============================] - 2s 25ms/step - loss: 1.9466 - val_loss: 1.9182\n",
      "Epoch 56/100\n",
      "97/97 [==============================] - 3s 26ms/step - loss: 1.9463 - val_loss: 1.9158\n",
      "Epoch 57/100\n",
      "97/97 [==============================] - 2s 25ms/step - loss: 1.9394 - val_loss: 1.9160\n",
      "Epoch 58/100\n",
      "97/97 [==============================] - 2s 22ms/step - loss: 1.9416 - val_loss: 1.9156\n",
      "Epoch 59/100\n",
      "97/97 [==============================] - 2s 24ms/step - loss: 1.9423 - val_loss: 1.9171\n",
      "Epoch 60/100\n",
      "97/97 [==============================] - 3s 26ms/step - loss: 1.9449 - val_loss: 1.9170\n",
      "Epoch 61/100\n",
      "97/97 [==============================] - 2s 26ms/step - loss: 1.9228 - val_loss: 1.9160\n",
      "Epoch 62/100\n",
      "97/97 [==============================] - 2s 23ms/step - loss: 1.9412 - val_loss: 1.9152\n",
      "Epoch 63/100\n",
      "97/97 [==============================] - 2s 23ms/step - loss: 1.9311 - val_loss: 1.9152\n",
      "Epoch 64/100\n",
      "97/97 [==============================] - 2s 23ms/step - loss: 1.9454 - val_loss: 1.9152\n",
      "Epoch 65/100\n",
      "97/97 [==============================] - 2s 25ms/step - loss: 1.9417 - val_loss: 1.9157\n",
      "Epoch 66/100\n",
      "97/97 [==============================] - 2s 26ms/step - loss: 1.9416 - val_loss: 1.9151\n",
      "Epoch 67/100\n",
      "97/97 [==============================] - 2s 24ms/step - loss: 1.9463 - val_loss: 1.9179\n",
      "Epoch 68/100\n",
      "97/97 [==============================] - 2s 26ms/step - loss: 1.9413 - val_loss: 1.9161\n",
      "Epoch 69/100\n",
      "97/97 [==============================] - 2s 26ms/step - loss: 1.9423 - val_loss: 1.9166\n",
      "Epoch 70/100\n",
      "97/97 [==============================] - 3s 27ms/step - loss: 1.9276 - val_loss: 1.9175\n",
      "Epoch 71/100\n",
      "97/97 [==============================] - 3s 26ms/step - loss: 1.9452 - val_loss: 1.9160\n",
      "Epoch 72/100\n",
      "97/97 [==============================] - 2s 25ms/step - loss: 1.9298 - val_loss: 1.9163\n",
      "Epoch 73/100\n",
      "97/97 [==============================] - 2s 25ms/step - loss: 1.9390 - val_loss: 1.9144\n",
      "Epoch 74/100\n",
      "97/97 [==============================] - 2s 24ms/step - loss: 1.9423 - val_loss: 1.9157\n",
      "Epoch 75/100\n",
      "97/97 [==============================] - 2s 24ms/step - loss: 1.9513 - val_loss: 1.9148\n",
      "Epoch 76/100\n",
      "97/97 [==============================] - 2s 23ms/step - loss: 1.9340 - val_loss: 1.9158\n",
      "Epoch 77/100\n",
      "97/97 [==============================] - 2s 22ms/step - loss: 1.9350 - val_loss: 1.9152\n",
      "Epoch 78/100\n",
      "97/97 [==============================] - 2s 22ms/step - loss: 1.9384 - val_loss: 1.9148\n",
      "Epoch 79/100\n",
      "97/97 [==============================] - 2s 23ms/step - loss: 1.9387 - val_loss: 1.9153\n",
      "Epoch 80/100\n",
      "97/97 [==============================] - 2s 22ms/step - loss: 1.9536 - val_loss: 1.9140\n",
      "Epoch 81/100\n",
      "97/97 [==============================] - 2s 22ms/step - loss: 1.9255 - val_loss: 1.9150\n",
      "Epoch 82/100\n",
      "97/97 [==============================] - 2s 23ms/step - loss: 1.9316 - val_loss: 1.9150\n",
      "Epoch 83/100\n",
      "97/97 [==============================] - 2s 25ms/step - loss: 1.9432 - val_loss: 1.9143\n",
      "Epoch 84/100\n",
      "97/97 [==============================] - 2s 23ms/step - loss: 1.9216 - val_loss: 1.9164\n",
      "Epoch 85/100\n",
      "97/97 [==============================] - 2s 23ms/step - loss: 1.9443 - val_loss: 1.9140\n",
      "Epoch 86/100\n",
      "97/97 [==============================] - 3s 27ms/step - loss: 1.9367 - val_loss: 1.9147\n",
      "Epoch 87/100\n",
      "97/97 [==============================] - 3s 26ms/step - loss: 1.9381 - val_loss: 1.9147\n",
      "Epoch 88/100\n",
      "97/97 [==============================] - 3s 27ms/step - loss: 1.9351 - val_loss: 1.9154\n",
      "Epoch 89/100\n",
      "97/97 [==============================] - 2s 25ms/step - loss: 1.9436 - val_loss: 1.9151\n",
      "Epoch 90/100\n",
      "97/97 [==============================] - 3s 26ms/step - loss: 1.9406 - val_loss: 1.9146\n",
      "Epoch 91/100\n",
      "97/97 [==============================] - 2s 24ms/step - loss: 1.9383 - val_loss: 1.9164\n",
      "Epoch 92/100\n",
      "97/97 [==============================] - 2s 25ms/step - loss: 1.9523 - val_loss: 1.9163\n",
      "Epoch 93/100\n",
      "97/97 [==============================] - 3s 26ms/step - loss: 1.9466 - val_loss: 1.9152\n",
      "Epoch 94/100\n",
      "97/97 [==============================] - 2s 24ms/step - loss: 1.9432 - val_loss: 1.9150\n",
      "Epoch 95/100\n",
      "97/97 [==============================] - 2s 25ms/step - loss: 1.9482 - val_loss: 1.9150\n",
      "Epoch 96/100\n",
      "97/97 [==============================] - 2s 24ms/step - loss: 1.9385 - val_loss: 1.9144\n",
      "Epoch 97/100\n",
      "97/97 [==============================] - 2s 24ms/step - loss: 1.9355 - val_loss: 1.9136\n",
      "Epoch 98/100\n",
      "97/97 [==============================] - 2s 25ms/step - loss: 1.9427 - val_loss: 1.9159\n",
      "Epoch 99/100\n",
      "97/97 [==============================] - 2s 25ms/step - loss: 1.9313 - val_loss: 1.9139\n",
      "Epoch 100/100\n",
      "97/97 [==============================] - 2s 24ms/step - loss: 1.9340 - val_loss: 1.9144\n"
     ]
    }
   ],
   "source": [
    "hist = rnne_cnnd.fit(X_train, y_train,\n",
    "                epochs=epochs,\n",
    "                batch_size=batch_size,\n",
    "                shuffle=True,\n",
    "                validation_data=(X_test, y_test),\n",
    "                callbacks=[mc])"
   ]
  },
  {
   "cell_type": "code",
   "execution_count": 18,
   "metadata": {
    "collapsed": true
   },
   "outputs": [
    {
     "name": "stdout",
     "output_type": "stream",
     "text": [
      "Fitting GMM to distribution of encoding.\n",
      "(128,)\n"
     ]
    },
    {
     "data": {
      "text/plain": [
       "array([[ 0, 37, 37, 37, 37, 37, 37, 37, 37, 37, 37, 37, 37, 37, 37, 37,\n",
       "        37, 37, 37, 37, 37, 37, 37, 37, 37, 37, 37, 37, 37, 37, 37, 37,\n",
       "        37, 37, 37, 37, 37, 37, 37, 37, 37, 37, 37, 37, 37, 37, 37, 37,\n",
       "        37, 37, 37, 37, 37, 37, 37, 37, 37, 37, 37, 37, 37, 37, 37, 37],\n",
       "       [ 0, 37, 37, 37, 37, 37, 37, 37, 37, 37, 37, 37, 37, 37, 37, 37,\n",
       "        37, 37, 37, 37, 37, 37, 37, 37, 37, 37, 37, 37, 37, 37, 37, 37,\n",
       "        37, 37, 37, 37, 37, 37, 37, 37, 37, 37, 37, 37, 37, 37, 37, 37,\n",
       "        37, 37, 37, 37, 37, 37, 37, 37, 37, 37, 37, 37, 37, 37, 37, 37],\n",
       "       [ 0, 37, 37, 37, 37, 37, 37, 37, 37, 37, 37, 37, 37, 37, 37, 37,\n",
       "        37, 37, 37, 37, 37, 37, 37, 37, 37, 37, 37, 37, 37, 37, 37, 37,\n",
       "        37, 37, 37, 37, 37, 37, 37, 37, 37, 37, 37, 37, 37, 37, 37, 37,\n",
       "        37, 37, 37, 37, 37, 37, 37, 37, 37, 37, 37, 37, 37, 37, 37, 37],\n",
       "       [ 0, 37, 37, 37, 37, 37, 37, 37, 37, 37, 37, 37, 37, 37, 37, 37,\n",
       "        37, 37, 37, 37, 37, 37, 37, 37, 37, 37, 37, 37, 37, 37, 37, 37,\n",
       "        37, 37, 37, 37, 37, 37, 37, 37, 37, 37, 37, 37, 37, 37, 37, 37,\n",
       "        37, 37, 37, 37, 37, 37, 37, 37, 37, 37, 37, 37, 37, 37, 37, 37],\n",
       "       [ 0, 37, 37, 37, 37, 37, 37, 37, 37, 37, 37, 37, 37, 37, 37, 37,\n",
       "        37, 37, 37, 37, 37, 37, 37, 37, 37, 37, 37, 37, 37, 37, 37, 37,\n",
       "        37, 37, 37, 37, 37, 37, 37, 37, 37, 37, 37, 37, 37, 37, 37, 37,\n",
       "        37, 37, 37, 37, 37, 37, 37, 37, 37, 37, 37, 37, 37, 37, 37, 37],\n",
       "       [ 0, 37, 37, 37, 37, 37, 37, 37, 37, 37, 37, 37, 37, 37, 37, 37,\n",
       "        37, 37, 37, 37, 37, 37, 37, 37, 37, 37, 37, 37, 37, 37, 37, 37,\n",
       "        37, 37, 37, 37, 37, 37, 37, 37, 37, 37, 37, 37, 37, 37, 37, 37,\n",
       "        37, 37, 37, 37, 37, 37, 37, 37, 37, 37, 37, 37, 37, 37, 37, 37],\n",
       "       [ 0, 37, 37, 37, 37, 37, 37, 37, 37, 37, 37, 37, 37, 37, 37, 37,\n",
       "        37, 37, 37, 37, 37, 37, 37, 37, 37, 37, 37, 37, 37, 37, 37, 37,\n",
       "        37, 37, 37, 37, 37, 37, 37, 37, 37, 37, 37, 37, 37, 37, 37, 37,\n",
       "        37, 37, 37, 37, 37, 37, 37, 37, 37, 37, 37, 37, 37, 37, 37, 37],\n",
       "       [ 0, 37, 37, 37, 37, 37, 37, 37, 37, 37, 37, 37, 37, 37, 37, 37,\n",
       "        37, 37, 37, 37, 37, 37, 37, 37, 37, 37, 37, 37, 37, 37, 37, 37,\n",
       "        37, 37, 37, 37, 37, 37, 37, 37, 37, 37, 37, 37, 37, 37, 37, 37,\n",
       "        37, 37, 37, 37, 37, 37, 37, 37, 37, 37, 37, 37, 37, 37, 37, 37],\n",
       "       [ 0, 37, 37, 37, 37, 37, 37, 37, 37, 37, 37, 37, 37, 37, 37, 37,\n",
       "        37, 37, 37, 37, 37, 37, 37, 37, 37, 37, 37, 37, 37, 37, 37, 37,\n",
       "        37, 37, 37, 37, 37, 37, 37, 37, 37, 37, 37, 37, 37, 37, 37, 37,\n",
       "        37, 37, 37, 37, 37, 37, 37, 37, 37, 37, 37, 37, 37, 37, 37, 37],\n",
       "       [ 0, 37, 37, 37, 37, 37, 37, 37, 37, 37, 37, 37, 37, 37, 37, 37,\n",
       "        37, 37, 37, 37, 37, 37, 37, 37, 37, 37, 37, 37, 37, 37, 37, 37,\n",
       "        37, 37, 37, 37, 37, 37, 37, 37, 37, 37, 37, 37, 37, 37, 37, 37,\n",
       "        37, 37, 37, 37, 37, 37, 37, 37, 37, 37, 37, 37, 37, 37, 37, 37]])"
      ]
     },
     "execution_count": 18,
     "metadata": {},
     "output_type": "execute_result"
    }
   ],
   "source": [
    "rnne_cnnd.sample(10, X_train, 2)"
   ]
  },
  {
   "cell_type": "code",
   "execution_count": 9,
   "metadata": {},
   "outputs": [],
   "source": [
    "from models.autoencoders import CNNAE\n",
    "\n",
    "encoder_filter_sizes = (16, 8)\n",
    "decoder_filter_sizes = (8, 16)\n",
    "\n",
    "cnn_ae = CNNAE(encoder_filter_sizes, decoder_filter_sizes, vocab_size)"
   ]
  },
  {
   "cell_type": "code",
   "execution_count": 10,
   "metadata": {},
   "outputs": [],
   "source": [
    "name = f\"{cnn_ae.encoder.name}_{cnn_ae.decoder.name}\"\n",
    "learning_rate = 5e-3\n",
    "epochs = 1\n",
    "batch_size = 32\n",
    "\n",
    "mc = ModelCheckpoint(f'Models/{name}.hdf5', monitor='val_loss')\n",
    "\n",
    "optimizer = Adam(learning_rate=learning_rate)\n",
    "\n",
    "cnn_ae.compile(optimizer, loss='categorical_crossentropy')"
   ]
  },
  {
   "cell_type": "code",
   "execution_count": 11,
   "metadata": {},
   "outputs": [
    {
     "name": "stdout",
     "output_type": "stream",
     "text": [
      "97/97 [==============================] - 3s 13ms/step - loss: 2.9897 - val_loss: 1.7859\n"
     ]
    }
   ],
   "source": [
    "hist = cnn_ae.fit(X_train, y_train,\n",
    "                epochs=epochs,\n",
    "                batch_size=batch_size,\n",
    "                shuffle=True,\n",
    "                validation_data=(X_test, y_test),\n",
    "                callbacks=[mc])"
   ]
  },
  {
   "cell_type": "code",
   "execution_count": 12,
   "metadata": {
    "collapsed": true
   },
   "outputs": [
    {
     "name": "stdout",
     "output_type": "stream",
     "text": [
      "Fitting GMM to distribution of encoding.\n",
      "(16, 8)\n"
     ]
    },
    {
     "data": {
      "text/plain": [
       "array([[37, 37, 37, 37, 37, 37, 37, 37, 37, 37, 37, 37, 37, 37, 37, 37,\n",
       "        37, 37, 37, 37, 37, 37, 37, 37, 37, 37, 37, 37, 37, 37, 37, 37,\n",
       "        37, 37, 37, 37, 37, 37, 37, 37, 37, 37, 37, 37, 37, 37, 37, 37,\n",
       "        37, 37, 37, 37, 37, 37, 37, 37, 37, 37, 37, 37, 37, 37, 37, 37],\n",
       "       [37, 37, 37, 37, 37, 37, 37, 37, 37, 37, 37, 37, 37, 37, 37, 37,\n",
       "        37, 37, 37, 37, 37, 37, 37, 37, 37, 37, 37, 37, 37, 37, 37, 37,\n",
       "        37, 37, 37, 37, 37, 37, 37, 37, 37, 37, 37, 37, 37, 37, 37, 37,\n",
       "        37, 37, 37, 37, 37, 37, 37, 37, 37, 37, 37, 37, 37, 37, 37, 37],\n",
       "       [37, 37, 37, 37, 37, 37, 37, 37, 37, 37, 37, 37, 37, 37, 37, 37,\n",
       "        37, 37, 37, 37, 37, 37, 37, 37, 37, 37, 37, 37, 37, 37, 37, 37,\n",
       "        37, 37, 37, 37, 37, 37, 37, 37, 37, 37, 37, 37, 37, 37, 37, 37,\n",
       "        37, 37, 37, 37, 37, 37, 37, 37, 37, 37, 37, 37, 37, 37, 37, 37],\n",
       "       [37, 37, 37, 37, 37, 37, 37, 37, 37, 37, 37, 37, 37, 37, 37, 37,\n",
       "        37, 37, 37, 37, 37, 37, 37, 37, 37, 37, 37, 37, 37, 37, 37, 37,\n",
       "        37, 37, 37, 37, 37, 37, 37, 37, 37, 37, 37, 37, 37, 37, 37, 37,\n",
       "        37, 37, 37, 37, 37, 37, 37, 37, 37, 37, 37, 37, 37, 37, 37, 37],\n",
       "       [37, 37, 37, 37, 37, 37, 37, 37, 37, 37, 37, 37, 37, 37, 37, 37,\n",
       "        37, 37, 37, 37, 37, 37, 37, 37, 37, 37, 37, 37, 37, 37, 37, 37,\n",
       "        37, 37, 37, 37, 37, 37, 37, 37, 37, 37, 37, 37, 37, 37, 37, 37,\n",
       "        37, 37, 37, 37, 37, 37, 37, 37, 37, 37, 37, 37, 37, 37, 37, 37],\n",
       "       [37, 37, 37, 37, 37, 37, 37, 37, 37, 37, 37, 37, 37, 37, 37, 37,\n",
       "        37, 37, 37, 37, 37, 37, 37, 37, 37, 37, 37, 37, 37, 37, 37, 37,\n",
       "        37, 37, 37, 37, 37, 37, 37, 37, 37, 37, 37, 37, 37, 37, 37, 37,\n",
       "        37, 37, 37, 37, 37, 37, 37, 37, 37, 37, 37, 37, 37, 37, 37, 37],\n",
       "       [37, 37, 37, 37, 37, 37, 37, 37, 37, 37, 37, 37, 37, 37, 37, 37,\n",
       "        37, 37, 37, 37, 37, 37, 37, 37, 37, 37, 37, 37, 37, 37, 37, 37,\n",
       "        37, 37, 37, 37, 37, 37, 37, 37, 37, 37, 37, 37, 37, 37, 37, 37,\n",
       "        37, 37, 37, 37, 37, 37, 37, 37, 37, 37, 37, 37, 37, 37, 37, 37],\n",
       "       [37, 37, 37, 37, 37, 37, 37, 37, 37, 37, 37, 37, 37, 37, 37, 37,\n",
       "        37, 37, 37, 37, 37, 37, 37, 37, 37, 37, 37, 37, 37, 37, 37, 37,\n",
       "        37, 37, 37, 37, 37, 37, 37, 37, 37, 37, 37, 37, 37, 37, 37, 37,\n",
       "        37, 37, 37, 37, 37, 37, 37, 37, 37, 37, 37, 37, 37, 37, 37, 37],\n",
       "       [37, 37, 37, 37, 37, 37, 37, 37, 37, 37, 37, 37, 37, 37, 37, 37,\n",
       "        37, 37, 37, 37, 37, 37, 37, 37, 37, 37, 37, 37, 37, 37, 37, 37,\n",
       "        37, 37, 37, 37, 37, 37, 37, 37, 37, 37, 37, 37, 37, 37, 37, 37,\n",
       "        37, 37, 37, 37, 37, 37, 37, 37, 37, 37, 37, 37, 37, 37, 37, 37],\n",
       "       [37, 37, 37, 37, 37, 37, 37, 37, 37, 37, 37, 37, 37, 37, 37, 37,\n",
       "        37, 37, 37, 37, 37, 37, 37, 37, 37, 37, 37, 37, 37, 37, 37, 37,\n",
       "        37, 37, 37, 37, 37, 37, 37, 37, 37, 37, 37, 37, 37, 37, 37, 37,\n",
       "        37, 37, 37, 37, 37, 37, 37, 37, 37, 37, 37, 37, 37, 37, 37, 37]])"
      ]
     },
     "execution_count": 12,
     "metadata": {},
     "output_type": "execute_result"
    }
   ],
   "source": [
    "cnn_ae.sample(10, X_train, 2)"
   ]
  },
  {
   "cell_type": "code",
   "execution_count": 13,
   "metadata": {},
   "outputs": [],
   "source": [
    "from models.autoencoders import CNNEncoderRNNDecoder\n",
    "\n",
    "encoder_filter_sizes = (16, 8)\n",
    "decoder_hidden_units = 256\n",
    "\n",
    "cnne_rnnd = CNNEncoderRNNDecoder(encoder_filter_sizes, decoder_hidden_units, timesteps, vocab_size)"
   ]
  },
  {
   "cell_type": "code",
   "execution_count": 14,
   "metadata": {},
   "outputs": [],
   "source": [
    "name = f\"{cnne_rnnd.encoder.name}_{cnne_rnnd.decoder.name}\"\n",
    "learning_rate = 5e-3\n",
    "epochs = 1\n",
    "batch_size = 32\n",
    "\n",
    "mc = ModelCheckpoint(f'Models/{name}.hdf5', monitor='val_loss')\n",
    "\n",
    "optimizer = Adam(learning_rate=learning_rate)\n",
    "\n",
    "cnne_rnnd.compile(optimizer, loss='categorical_crossentropy')"
   ]
  },
  {
   "cell_type": "code",
   "execution_count": 15,
   "metadata": {
    "collapsed": true
   },
   "outputs": [
    {
     "ename": "ValueError",
     "evalue": "in user code:\n\n    /kuacc/users/udemir15/.local/lib/python3.7/site-packages/tensorflow/python/keras/engine/training.py:805 train_function  *\n        return step_function(self, iterator)\n    /kuacc/users/udemir15/.local/lib/python3.7/site-packages/tensorflow/python/keras/engine/training.py:795 step_function  **\n        outputs = model.distribute_strategy.run(run_step, args=(data,))\n    /kuacc/users/udemir15/.local/lib/python3.7/site-packages/tensorflow/python/distribute/distribute_lib.py:1259 run\n        return self._extended.call_for_each_replica(fn, args=args, kwargs=kwargs)\n    /kuacc/users/udemir15/.local/lib/python3.7/site-packages/tensorflow/python/distribute/distribute_lib.py:2730 call_for_each_replica\n        return self._call_for_each_replica(fn, args, kwargs)\n    /kuacc/users/udemir15/.local/lib/python3.7/site-packages/tensorflow/python/distribute/distribute_lib.py:3417 _call_for_each_replica\n        return fn(*args, **kwargs)\n    /kuacc/users/udemir15/.local/lib/python3.7/site-packages/tensorflow/python/keras/engine/training.py:788 run_step  **\n        outputs = model.train_step(data)\n    /kuacc/users/udemir15/.local/lib/python3.7/site-packages/tensorflow/python/keras/engine/training.py:756 train_step\n        y, y_pred, sample_weight, regularization_losses=self.losses)\n    /kuacc/users/udemir15/.local/lib/python3.7/site-packages/tensorflow/python/keras/engine/compile_utils.py:203 __call__\n        loss_value = loss_obj(y_t, y_p, sample_weight=sw)\n    /kuacc/users/udemir15/.local/lib/python3.7/site-packages/tensorflow/python/keras/losses.py:152 __call__\n        losses = call_fn(y_true, y_pred)\n    /kuacc/users/udemir15/.local/lib/python3.7/site-packages/tensorflow/python/keras/losses.py:256 call  **\n        return ag_fn(y_true, y_pred, **self._fn_kwargs)\n    /kuacc/users/udemir15/.local/lib/python3.7/site-packages/tensorflow/python/util/dispatch.py:201 wrapper\n        return target(*args, **kwargs)\n    /kuacc/users/udemir15/.local/lib/python3.7/site-packages/tensorflow/python/keras/losses.py:1537 categorical_crossentropy\n        return K.categorical_crossentropy(y_true, y_pred, from_logits=from_logits)\n    /kuacc/users/udemir15/.local/lib/python3.7/site-packages/tensorflow/python/util/dispatch.py:201 wrapper\n        return target(*args, **kwargs)\n    /kuacc/users/udemir15/.local/lib/python3.7/site-packages/tensorflow/python/keras/backend.py:4833 categorical_crossentropy\n        target.shape.assert_is_compatible_with(output.shape)\n    /kuacc/users/udemir15/.local/lib/python3.7/site-packages/tensorflow/python/framework/tensor_shape.py:1134 assert_is_compatible_with\n        raise ValueError(\"Shapes %s and %s are incompatible\" % (self, other))\n\n    ValueError: Shapes (None, 64, 38) and (None, 16, 38) are incompatible\n",
     "output_type": "error",
     "traceback": [
      "\u001b[0;31m---------------------------------------------------------------------------\u001b[0m",
      "\u001b[0;31mValueError\u001b[0m                                Traceback (most recent call last)",
      "\u001b[0;32m<ipython-input-15-c5d023e488d3>\u001b[0m in \u001b[0;36m<module>\u001b[0;34m\u001b[0m\n\u001b[1;32m      4\u001b[0m                 \u001b[0mshuffle\u001b[0m\u001b[0;34m=\u001b[0m\u001b[0;32mTrue\u001b[0m\u001b[0;34m,\u001b[0m\u001b[0;34m\u001b[0m\u001b[0;34m\u001b[0m\u001b[0m\n\u001b[1;32m      5\u001b[0m                 \u001b[0mvalidation_data\u001b[0m\u001b[0;34m=\u001b[0m\u001b[0;34m(\u001b[0m\u001b[0mX_test\u001b[0m\u001b[0;34m,\u001b[0m \u001b[0my_test\u001b[0m\u001b[0;34m)\u001b[0m\u001b[0;34m,\u001b[0m\u001b[0;34m\u001b[0m\u001b[0;34m\u001b[0m\u001b[0m\n\u001b[0;32m----> 6\u001b[0;31m                 callbacks=[mc])\n\u001b[0m",
      "\u001b[0;32m~/.local/lib/python3.7/site-packages/tensorflow/python/keras/engine/training.py\u001b[0m in \u001b[0;36mfit\u001b[0;34m(self, x, y, batch_size, epochs, verbose, callbacks, validation_split, validation_data, shuffle, class_weight, sample_weight, initial_epoch, steps_per_epoch, validation_steps, validation_batch_size, validation_freq, max_queue_size, workers, use_multiprocessing)\u001b[0m\n\u001b[1;32m   1098\u001b[0m                 _r=1):\n\u001b[1;32m   1099\u001b[0m               \u001b[0mcallbacks\u001b[0m\u001b[0;34m.\u001b[0m\u001b[0mon_train_batch_begin\u001b[0m\u001b[0;34m(\u001b[0m\u001b[0mstep\u001b[0m\u001b[0;34m)\u001b[0m\u001b[0;34m\u001b[0m\u001b[0;34m\u001b[0m\u001b[0m\n\u001b[0;32m-> 1100\u001b[0;31m               \u001b[0mtmp_logs\u001b[0m \u001b[0;34m=\u001b[0m \u001b[0mself\u001b[0m\u001b[0;34m.\u001b[0m\u001b[0mtrain_function\u001b[0m\u001b[0;34m(\u001b[0m\u001b[0miterator\u001b[0m\u001b[0;34m)\u001b[0m\u001b[0;34m\u001b[0m\u001b[0;34m\u001b[0m\u001b[0m\n\u001b[0m\u001b[1;32m   1101\u001b[0m               \u001b[0;32mif\u001b[0m \u001b[0mdata_handler\u001b[0m\u001b[0;34m.\u001b[0m\u001b[0mshould_sync\u001b[0m\u001b[0;34m:\u001b[0m\u001b[0;34m\u001b[0m\u001b[0;34m\u001b[0m\u001b[0m\n\u001b[1;32m   1102\u001b[0m                 \u001b[0mcontext\u001b[0m\u001b[0;34m.\u001b[0m\u001b[0masync_wait\u001b[0m\u001b[0;34m(\u001b[0m\u001b[0;34m)\u001b[0m\u001b[0;34m\u001b[0m\u001b[0;34m\u001b[0m\u001b[0m\n",
      "\u001b[0;32m~/.local/lib/python3.7/site-packages/tensorflow/python/eager/def_function.py\u001b[0m in \u001b[0;36m__call__\u001b[0;34m(self, *args, **kwds)\u001b[0m\n\u001b[1;32m    826\u001b[0m     \u001b[0mtracing_count\u001b[0m \u001b[0;34m=\u001b[0m \u001b[0mself\u001b[0m\u001b[0;34m.\u001b[0m\u001b[0mexperimental_get_tracing_count\u001b[0m\u001b[0;34m(\u001b[0m\u001b[0;34m)\u001b[0m\u001b[0;34m\u001b[0m\u001b[0;34m\u001b[0m\u001b[0m\n\u001b[1;32m    827\u001b[0m     \u001b[0;32mwith\u001b[0m \u001b[0mtrace\u001b[0m\u001b[0;34m.\u001b[0m\u001b[0mTrace\u001b[0m\u001b[0;34m(\u001b[0m\u001b[0mself\u001b[0m\u001b[0;34m.\u001b[0m\u001b[0m_name\u001b[0m\u001b[0;34m)\u001b[0m \u001b[0;32mas\u001b[0m \u001b[0mtm\u001b[0m\u001b[0;34m:\u001b[0m\u001b[0;34m\u001b[0m\u001b[0;34m\u001b[0m\u001b[0m\n\u001b[0;32m--> 828\u001b[0;31m       \u001b[0mresult\u001b[0m \u001b[0;34m=\u001b[0m \u001b[0mself\u001b[0m\u001b[0;34m.\u001b[0m\u001b[0m_call\u001b[0m\u001b[0;34m(\u001b[0m\u001b[0;34m*\u001b[0m\u001b[0margs\u001b[0m\u001b[0;34m,\u001b[0m \u001b[0;34m**\u001b[0m\u001b[0mkwds\u001b[0m\u001b[0;34m)\u001b[0m\u001b[0;34m\u001b[0m\u001b[0;34m\u001b[0m\u001b[0m\n\u001b[0m\u001b[1;32m    829\u001b[0m       \u001b[0mcompiler\u001b[0m \u001b[0;34m=\u001b[0m \u001b[0;34m\"xla\"\u001b[0m \u001b[0;32mif\u001b[0m \u001b[0mself\u001b[0m\u001b[0;34m.\u001b[0m\u001b[0m_experimental_compile\u001b[0m \u001b[0;32melse\u001b[0m \u001b[0;34m\"nonXla\"\u001b[0m\u001b[0;34m\u001b[0m\u001b[0;34m\u001b[0m\u001b[0m\n\u001b[1;32m    830\u001b[0m       \u001b[0mnew_tracing_count\u001b[0m \u001b[0;34m=\u001b[0m \u001b[0mself\u001b[0m\u001b[0;34m.\u001b[0m\u001b[0mexperimental_get_tracing_count\u001b[0m\u001b[0;34m(\u001b[0m\u001b[0;34m)\u001b[0m\u001b[0;34m\u001b[0m\u001b[0;34m\u001b[0m\u001b[0m\n",
      "\u001b[0;32m~/.local/lib/python3.7/site-packages/tensorflow/python/eager/def_function.py\u001b[0m in \u001b[0;36m_call\u001b[0;34m(self, *args, **kwds)\u001b[0m\n\u001b[1;32m    869\u001b[0m       \u001b[0;31m# This is the first call of __call__, so we have to initialize.\u001b[0m\u001b[0;34m\u001b[0m\u001b[0;34m\u001b[0m\u001b[0;34m\u001b[0m\u001b[0m\n\u001b[1;32m    870\u001b[0m       \u001b[0minitializers\u001b[0m \u001b[0;34m=\u001b[0m \u001b[0;34m[\u001b[0m\u001b[0;34m]\u001b[0m\u001b[0;34m\u001b[0m\u001b[0;34m\u001b[0m\u001b[0m\n\u001b[0;32m--> 871\u001b[0;31m       \u001b[0mself\u001b[0m\u001b[0;34m.\u001b[0m\u001b[0m_initialize\u001b[0m\u001b[0;34m(\u001b[0m\u001b[0margs\u001b[0m\u001b[0;34m,\u001b[0m \u001b[0mkwds\u001b[0m\u001b[0;34m,\u001b[0m \u001b[0madd_initializers_to\u001b[0m\u001b[0;34m=\u001b[0m\u001b[0minitializers\u001b[0m\u001b[0;34m)\u001b[0m\u001b[0;34m\u001b[0m\u001b[0;34m\u001b[0m\u001b[0m\n\u001b[0m\u001b[1;32m    872\u001b[0m     \u001b[0;32mfinally\u001b[0m\u001b[0;34m:\u001b[0m\u001b[0;34m\u001b[0m\u001b[0;34m\u001b[0m\u001b[0m\n\u001b[1;32m    873\u001b[0m       \u001b[0;31m# At this point we know that the initialization is complete (or less\u001b[0m\u001b[0;34m\u001b[0m\u001b[0;34m\u001b[0m\u001b[0;34m\u001b[0m\u001b[0m\n",
      "\u001b[0;32m~/.local/lib/python3.7/site-packages/tensorflow/python/eager/def_function.py\u001b[0m in \u001b[0;36m_initialize\u001b[0;34m(self, args, kwds, add_initializers_to)\u001b[0m\n\u001b[1;32m    724\u001b[0m     self._concrete_stateful_fn = (\n\u001b[1;32m    725\u001b[0m         self._stateful_fn._get_concrete_function_internal_garbage_collected(  # pylint: disable=protected-access\n\u001b[0;32m--> 726\u001b[0;31m             *args, **kwds))\n\u001b[0m\u001b[1;32m    727\u001b[0m \u001b[0;34m\u001b[0m\u001b[0m\n\u001b[1;32m    728\u001b[0m     \u001b[0;32mdef\u001b[0m \u001b[0minvalid_creator_scope\u001b[0m\u001b[0;34m(\u001b[0m\u001b[0;34m*\u001b[0m\u001b[0munused_args\u001b[0m\u001b[0;34m,\u001b[0m \u001b[0;34m**\u001b[0m\u001b[0munused_kwds\u001b[0m\u001b[0;34m)\u001b[0m\u001b[0;34m:\u001b[0m\u001b[0;34m\u001b[0m\u001b[0;34m\u001b[0m\u001b[0m\n",
      "\u001b[0;32m~/.local/lib/python3.7/site-packages/tensorflow/python/eager/function.py\u001b[0m in \u001b[0;36m_get_concrete_function_internal_garbage_collected\u001b[0;34m(self, *args, **kwargs)\u001b[0m\n\u001b[1;32m   2967\u001b[0m       \u001b[0margs\u001b[0m\u001b[0;34m,\u001b[0m \u001b[0mkwargs\u001b[0m \u001b[0;34m=\u001b[0m \u001b[0;32mNone\u001b[0m\u001b[0;34m,\u001b[0m \u001b[0;32mNone\u001b[0m\u001b[0;34m\u001b[0m\u001b[0;34m\u001b[0m\u001b[0m\n\u001b[1;32m   2968\u001b[0m     \u001b[0;32mwith\u001b[0m \u001b[0mself\u001b[0m\u001b[0;34m.\u001b[0m\u001b[0m_lock\u001b[0m\u001b[0;34m:\u001b[0m\u001b[0;34m\u001b[0m\u001b[0;34m\u001b[0m\u001b[0m\n\u001b[0;32m-> 2969\u001b[0;31m       \u001b[0mgraph_function\u001b[0m\u001b[0;34m,\u001b[0m \u001b[0m_\u001b[0m \u001b[0;34m=\u001b[0m \u001b[0mself\u001b[0m\u001b[0;34m.\u001b[0m\u001b[0m_maybe_define_function\u001b[0m\u001b[0;34m(\u001b[0m\u001b[0margs\u001b[0m\u001b[0;34m,\u001b[0m \u001b[0mkwargs\u001b[0m\u001b[0;34m)\u001b[0m\u001b[0;34m\u001b[0m\u001b[0;34m\u001b[0m\u001b[0m\n\u001b[0m\u001b[1;32m   2970\u001b[0m     \u001b[0;32mreturn\u001b[0m \u001b[0mgraph_function\u001b[0m\u001b[0;34m\u001b[0m\u001b[0;34m\u001b[0m\u001b[0m\n\u001b[1;32m   2971\u001b[0m \u001b[0;34m\u001b[0m\u001b[0m\n",
      "\u001b[0;32m~/.local/lib/python3.7/site-packages/tensorflow/python/eager/function.py\u001b[0m in \u001b[0;36m_maybe_define_function\u001b[0;34m(self, args, kwargs)\u001b[0m\n\u001b[1;32m   3359\u001b[0m \u001b[0;34m\u001b[0m\u001b[0m\n\u001b[1;32m   3360\u001b[0m           \u001b[0mself\u001b[0m\u001b[0;34m.\u001b[0m\u001b[0m_function_cache\u001b[0m\u001b[0;34m.\u001b[0m\u001b[0mmissed\u001b[0m\u001b[0;34m.\u001b[0m\u001b[0madd\u001b[0m\u001b[0;34m(\u001b[0m\u001b[0mcall_context_key\u001b[0m\u001b[0;34m)\u001b[0m\u001b[0;34m\u001b[0m\u001b[0;34m\u001b[0m\u001b[0m\n\u001b[0;32m-> 3361\u001b[0;31m           \u001b[0mgraph_function\u001b[0m \u001b[0;34m=\u001b[0m \u001b[0mself\u001b[0m\u001b[0;34m.\u001b[0m\u001b[0m_create_graph_function\u001b[0m\u001b[0;34m(\u001b[0m\u001b[0margs\u001b[0m\u001b[0;34m,\u001b[0m \u001b[0mkwargs\u001b[0m\u001b[0;34m)\u001b[0m\u001b[0;34m\u001b[0m\u001b[0;34m\u001b[0m\u001b[0m\n\u001b[0m\u001b[1;32m   3362\u001b[0m           \u001b[0mself\u001b[0m\u001b[0;34m.\u001b[0m\u001b[0m_function_cache\u001b[0m\u001b[0;34m.\u001b[0m\u001b[0mprimary\u001b[0m\u001b[0;34m[\u001b[0m\u001b[0mcache_key\u001b[0m\u001b[0;34m]\u001b[0m \u001b[0;34m=\u001b[0m \u001b[0mgraph_function\u001b[0m\u001b[0;34m\u001b[0m\u001b[0;34m\u001b[0m\u001b[0m\n\u001b[1;32m   3363\u001b[0m \u001b[0;34m\u001b[0m\u001b[0m\n",
      "\u001b[0;32m~/.local/lib/python3.7/site-packages/tensorflow/python/eager/function.py\u001b[0m in \u001b[0;36m_create_graph_function\u001b[0;34m(self, args, kwargs, override_flat_arg_shapes)\u001b[0m\n\u001b[1;32m   3204\u001b[0m             \u001b[0marg_names\u001b[0m\u001b[0;34m=\u001b[0m\u001b[0marg_names\u001b[0m\u001b[0;34m,\u001b[0m\u001b[0;34m\u001b[0m\u001b[0;34m\u001b[0m\u001b[0m\n\u001b[1;32m   3205\u001b[0m             \u001b[0moverride_flat_arg_shapes\u001b[0m\u001b[0;34m=\u001b[0m\u001b[0moverride_flat_arg_shapes\u001b[0m\u001b[0;34m,\u001b[0m\u001b[0;34m\u001b[0m\u001b[0;34m\u001b[0m\u001b[0m\n\u001b[0;32m-> 3206\u001b[0;31m             capture_by_value=self._capture_by_value),\n\u001b[0m\u001b[1;32m   3207\u001b[0m         \u001b[0mself\u001b[0m\u001b[0;34m.\u001b[0m\u001b[0m_function_attributes\u001b[0m\u001b[0;34m,\u001b[0m\u001b[0;34m\u001b[0m\u001b[0;34m\u001b[0m\u001b[0m\n\u001b[1;32m   3208\u001b[0m         \u001b[0mfunction_spec\u001b[0m\u001b[0;34m=\u001b[0m\u001b[0mself\u001b[0m\u001b[0;34m.\u001b[0m\u001b[0mfunction_spec\u001b[0m\u001b[0;34m,\u001b[0m\u001b[0;34m\u001b[0m\u001b[0;34m\u001b[0m\u001b[0m\n",
      "\u001b[0;32m~/.local/lib/python3.7/site-packages/tensorflow/python/framework/func_graph.py\u001b[0m in \u001b[0;36mfunc_graph_from_py_func\u001b[0;34m(name, python_func, args, kwargs, signature, func_graph, autograph, autograph_options, add_control_dependencies, arg_names, op_return_value, collections, capture_by_value, override_flat_arg_shapes)\u001b[0m\n\u001b[1;32m    988\u001b[0m         \u001b[0m_\u001b[0m\u001b[0;34m,\u001b[0m \u001b[0moriginal_func\u001b[0m \u001b[0;34m=\u001b[0m \u001b[0mtf_decorator\u001b[0m\u001b[0;34m.\u001b[0m\u001b[0munwrap\u001b[0m\u001b[0;34m(\u001b[0m\u001b[0mpython_func\u001b[0m\u001b[0;34m)\u001b[0m\u001b[0;34m\u001b[0m\u001b[0;34m\u001b[0m\u001b[0m\n\u001b[1;32m    989\u001b[0m \u001b[0;34m\u001b[0m\u001b[0m\n\u001b[0;32m--> 990\u001b[0;31m       \u001b[0mfunc_outputs\u001b[0m \u001b[0;34m=\u001b[0m \u001b[0mpython_func\u001b[0m\u001b[0;34m(\u001b[0m\u001b[0;34m*\u001b[0m\u001b[0mfunc_args\u001b[0m\u001b[0;34m,\u001b[0m \u001b[0;34m**\u001b[0m\u001b[0mfunc_kwargs\u001b[0m\u001b[0;34m)\u001b[0m\u001b[0;34m\u001b[0m\u001b[0;34m\u001b[0m\u001b[0m\n\u001b[0m\u001b[1;32m    991\u001b[0m \u001b[0;34m\u001b[0m\u001b[0m\n\u001b[1;32m    992\u001b[0m       \u001b[0;31m# invariant: `func_outputs` contains only Tensors, CompositeTensors,\u001b[0m\u001b[0;34m\u001b[0m\u001b[0;34m\u001b[0m\u001b[0;34m\u001b[0m\u001b[0m\n",
      "\u001b[0;32m~/.local/lib/python3.7/site-packages/tensorflow/python/eager/def_function.py\u001b[0m in \u001b[0;36mwrapped_fn\u001b[0;34m(*args, **kwds)\u001b[0m\n\u001b[1;32m    632\u001b[0m             \u001b[0mxla_context\u001b[0m\u001b[0;34m.\u001b[0m\u001b[0mExit\u001b[0m\u001b[0;34m(\u001b[0m\u001b[0;34m)\u001b[0m\u001b[0;34m\u001b[0m\u001b[0;34m\u001b[0m\u001b[0m\n\u001b[1;32m    633\u001b[0m         \u001b[0;32melse\u001b[0m\u001b[0;34m:\u001b[0m\u001b[0;34m\u001b[0m\u001b[0;34m\u001b[0m\u001b[0m\n\u001b[0;32m--> 634\u001b[0;31m           \u001b[0mout\u001b[0m \u001b[0;34m=\u001b[0m \u001b[0mweak_wrapped_fn\u001b[0m\u001b[0;34m(\u001b[0m\u001b[0;34m)\u001b[0m\u001b[0;34m.\u001b[0m\u001b[0m__wrapped__\u001b[0m\u001b[0;34m(\u001b[0m\u001b[0;34m*\u001b[0m\u001b[0margs\u001b[0m\u001b[0;34m,\u001b[0m \u001b[0;34m**\u001b[0m\u001b[0mkwds\u001b[0m\u001b[0;34m)\u001b[0m\u001b[0;34m\u001b[0m\u001b[0;34m\u001b[0m\u001b[0m\n\u001b[0m\u001b[1;32m    635\u001b[0m         \u001b[0;32mreturn\u001b[0m \u001b[0mout\u001b[0m\u001b[0;34m\u001b[0m\u001b[0;34m\u001b[0m\u001b[0m\n\u001b[1;32m    636\u001b[0m \u001b[0;34m\u001b[0m\u001b[0m\n",
      "\u001b[0;32m~/.local/lib/python3.7/site-packages/tensorflow/python/framework/func_graph.py\u001b[0m in \u001b[0;36mwrapper\u001b[0;34m(*args, **kwargs)\u001b[0m\n\u001b[1;32m    975\u001b[0m           \u001b[0;32mexcept\u001b[0m \u001b[0mException\u001b[0m \u001b[0;32mas\u001b[0m \u001b[0me\u001b[0m\u001b[0;34m:\u001b[0m  \u001b[0;31m# pylint:disable=broad-except\u001b[0m\u001b[0;34m\u001b[0m\u001b[0;34m\u001b[0m\u001b[0m\n\u001b[1;32m    976\u001b[0m             \u001b[0;32mif\u001b[0m \u001b[0mhasattr\u001b[0m\u001b[0;34m(\u001b[0m\u001b[0me\u001b[0m\u001b[0;34m,\u001b[0m \u001b[0;34m\"ag_error_metadata\"\u001b[0m\u001b[0;34m)\u001b[0m\u001b[0;34m:\u001b[0m\u001b[0;34m\u001b[0m\u001b[0;34m\u001b[0m\u001b[0m\n\u001b[0;32m--> 977\u001b[0;31m               \u001b[0;32mraise\u001b[0m \u001b[0me\u001b[0m\u001b[0;34m.\u001b[0m\u001b[0mag_error_metadata\u001b[0m\u001b[0;34m.\u001b[0m\u001b[0mto_exception\u001b[0m\u001b[0;34m(\u001b[0m\u001b[0me\u001b[0m\u001b[0;34m)\u001b[0m\u001b[0;34m\u001b[0m\u001b[0;34m\u001b[0m\u001b[0m\n\u001b[0m\u001b[1;32m    978\u001b[0m             \u001b[0;32melse\u001b[0m\u001b[0;34m:\u001b[0m\u001b[0;34m\u001b[0m\u001b[0;34m\u001b[0m\u001b[0m\n\u001b[1;32m    979\u001b[0m               \u001b[0;32mraise\u001b[0m\u001b[0;34m\u001b[0m\u001b[0;34m\u001b[0m\u001b[0m\n",
      "\u001b[0;31mValueError\u001b[0m: in user code:\n\n    /kuacc/users/udemir15/.local/lib/python3.7/site-packages/tensorflow/python/keras/engine/training.py:805 train_function  *\n        return step_function(self, iterator)\n    /kuacc/users/udemir15/.local/lib/python3.7/site-packages/tensorflow/python/keras/engine/training.py:795 step_function  **\n        outputs = model.distribute_strategy.run(run_step, args=(data,))\n    /kuacc/users/udemir15/.local/lib/python3.7/site-packages/tensorflow/python/distribute/distribute_lib.py:1259 run\n        return self._extended.call_for_each_replica(fn, args=args, kwargs=kwargs)\n    /kuacc/users/udemir15/.local/lib/python3.7/site-packages/tensorflow/python/distribute/distribute_lib.py:2730 call_for_each_replica\n        return self._call_for_each_replica(fn, args, kwargs)\n    /kuacc/users/udemir15/.local/lib/python3.7/site-packages/tensorflow/python/distribute/distribute_lib.py:3417 _call_for_each_replica\n        return fn(*args, **kwargs)\n    /kuacc/users/udemir15/.local/lib/python3.7/site-packages/tensorflow/python/keras/engine/training.py:788 run_step  **\n        outputs = model.train_step(data)\n    /kuacc/users/udemir15/.local/lib/python3.7/site-packages/tensorflow/python/keras/engine/training.py:756 train_step\n        y, y_pred, sample_weight, regularization_losses=self.losses)\n    /kuacc/users/udemir15/.local/lib/python3.7/site-packages/tensorflow/python/keras/engine/compile_utils.py:203 __call__\n        loss_value = loss_obj(y_t, y_p, sample_weight=sw)\n    /kuacc/users/udemir15/.local/lib/python3.7/site-packages/tensorflow/python/keras/losses.py:152 __call__\n        losses = call_fn(y_true, y_pred)\n    /kuacc/users/udemir15/.local/lib/python3.7/site-packages/tensorflow/python/keras/losses.py:256 call  **\n        return ag_fn(y_true, y_pred, **self._fn_kwargs)\n    /kuacc/users/udemir15/.local/lib/python3.7/site-packages/tensorflow/python/util/dispatch.py:201 wrapper\n        return target(*args, **kwargs)\n    /kuacc/users/udemir15/.local/lib/python3.7/site-packages/tensorflow/python/keras/losses.py:1537 categorical_crossentropy\n        return K.categorical_crossentropy(y_true, y_pred, from_logits=from_logits)\n    /kuacc/users/udemir15/.local/lib/python3.7/site-packages/tensorflow/python/util/dispatch.py:201 wrapper\n        return target(*args, **kwargs)\n    /kuacc/users/udemir15/.local/lib/python3.7/site-packages/tensorflow/python/keras/backend.py:4833 categorical_crossentropy\n        target.shape.assert_is_compatible_with(output.shape)\n    /kuacc/users/udemir15/.local/lib/python3.7/site-packages/tensorflow/python/framework/tensor_shape.py:1134 assert_is_compatible_with\n        raise ValueError(\"Shapes %s and %s are incompatible\" % (self, other))\n\n    ValueError: Shapes (None, 64, 38) and (None, 16, 38) are incompatible\n"
     ]
    }
   ],
   "source": [
    "hist = cnne_rnnd.fit(X_train, y_train,\n",
    "                epochs=epochs,\n",
    "                batch_size=batch_size,\n",
    "                shuffle=True,\n",
    "                validation_data=(X_test, y_test),\n",
    "                callbacks=[mc])"
   ]
  },
  {
   "cell_type": "code",
   "execution_count": 6,
   "metadata": {},
   "outputs": [],
   "source": [
    "from models.vae.variationalautoencoders import DenseVAE\n",
    "\n",
    "encoder_intermediate_dims = (512, 256)\n",
    "latent_dim = 128\n",
    "decoder_intermediate_dims = encoder_intermediate_dims[::-1]\n",
    "\n",
    "dense_vae = DenseVAE(encoder_intermediate_dims, latent_dim, decoder_intermediate_dims, vocab_size)"
   ]
  },
  {
   "cell_type": "code",
   "execution_count": 7,
   "metadata": {},
   "outputs": [],
   "source": [
    "name = f\"{dense_vae.encoder.name}_{dense_vae.decoder.name}\"\n",
    "learning_rate = 5e-3\n",
    "epochs = 30\n",
    "batch_size = 32\n",
    "\n",
    "mc = ModelCheckpoint(f'Models/{name}.hdf5', monitor='val_loss')\n",
    "\n",
    "optimizer = Adam(learning_rate=learning_rate)"
   ]
  },
  {
   "cell_type": "code",
   "execution_count": 8,
   "metadata": {},
   "outputs": [],
   "source": [
    "dense_vae.compile(optimizer=optimizer)"
   ]
  },
  {
   "cell_type": "code",
   "execution_count": 9,
   "metadata": {
    "scrolled": false
   },
   "outputs": [
    {
     "name": "stdout",
     "output_type": "stream",
     "text": [
      "Epoch 1/30\n",
      "111/111 [==============================] - 7s 40ms/step - loss: 149.0759 - reconstruction_loss: 120.6559 - kl_loss: 1.1919 - val_loss: 92.5240 - val_reconstruction_loss: 90.0213 - val_kl_loss: 2.5027\n",
      "Epoch 2/30\n",
      "111/111 [==============================] - 1s 11ms/step - loss: 84.1904 - reconstruction_loss: 73.3969 - kl_loss: 3.8085 - val_loss: 65.7084 - val_reconstruction_loss: 61.0075 - val_kl_loss: 4.7009\n",
      "Epoch 3/30\n",
      "111/111 [==============================] - 1s 11ms/step - loss: 60.2254 - reconstruction_loss: 53.3043 - kl_loss: 5.4404 - val_loss: 55.9244 - val_reconstruction_loss: 50.0464 - val_kl_loss: 5.8780\n",
      "Epoch 4/30\n",
      "111/111 [==============================] - 1s 11ms/step - loss: 50.5929 - reconstruction_loss: 42.6435 - kl_loss: 6.3282 - val_loss: 50.9755 - val_reconstruction_loss: 44.8180 - val_kl_loss: 6.1574\n",
      "Epoch 5/30\n",
      "111/111 [==============================] - 1s 11ms/step - loss: 41.2029 - reconstruction_loss: 34.5284 - kl_loss: 6.9209 - val_loss: 51.1483 - val_reconstruction_loss: 44.5001 - val_kl_loss: 6.6482\n",
      "Epoch 6/30\n",
      "111/111 [==============================] - 1s 11ms/step - loss: 34.1310 - reconstruction_loss: 26.9999 - kl_loss: 7.3751 - val_loss: 48.9485 - val_reconstruction_loss: 42.1219 - val_kl_loss: 6.8266\n",
      "Epoch 7/30\n",
      "111/111 [==============================] - 1s 11ms/step - loss: 27.9498 - reconstruction_loss: 21.1719 - kl_loss: 7.5649 - val_loss: 49.0544 - val_reconstruction_loss: 41.1956 - val_kl_loss: 7.8588\n",
      "Epoch 8/30\n",
      "111/111 [==============================] - 1s 10ms/step - loss: 22.7862 - reconstruction_loss: 15.9324 - kl_loss: 7.6867 - val_loss: 54.8379 - val_reconstruction_loss: 46.9673 - val_kl_loss: 7.8706\n",
      "Epoch 9/30\n",
      "111/111 [==============================] - 1s 10ms/step - loss: 19.2682 - reconstruction_loss: 12.3900 - kl_loss: 7.5490 - val_loss: 54.4930 - val_reconstruction_loss: 46.9021 - val_kl_loss: 7.5909\n",
      "Epoch 10/30\n",
      "111/111 [==============================] - 1s 11ms/step - loss: 16.6502 - reconstruction_loss: 9.9516 - kl_loss: 7.3517 - val_loss: 63.1000 - val_reconstruction_loss: 55.4205 - val_kl_loss: 7.6795\n",
      "Epoch 11/30\n",
      "111/111 [==============================] - 1s 10ms/step - loss: 15.3161 - reconstruction_loss: 8.5494 - kl_loss: 7.2932 - val_loss: 61.2347 - val_reconstruction_loss: 53.6227 - val_kl_loss: 7.6120\n",
      "Epoch 12/30\n",
      "111/111 [==============================] - 1s 11ms/step - loss: 14.5432 - reconstruction_loss: 7.7324 - kl_loss: 7.1266 - val_loss: 62.4731 - val_reconstruction_loss: 55.3033 - val_kl_loss: 7.1698\n",
      "Epoch 13/30\n",
      "111/111 [==============================] - 1s 10ms/step - loss: 13.2445 - reconstruction_loss: 6.6505 - kl_loss: 6.8797 - val_loss: 65.1978 - val_reconstruction_loss: 58.2083 - val_kl_loss: 6.9895\n",
      "Epoch 14/30\n",
      "111/111 [==============================] - 1s 11ms/step - loss: 12.8740 - reconstruction_loss: 6.2473 - kl_loss: 6.8430 - val_loss: 67.0387 - val_reconstruction_loss: 60.1919 - val_kl_loss: 6.8468\n",
      "Epoch 15/30\n",
      "111/111 [==============================] - 1s 11ms/step - loss: 11.7473 - reconstruction_loss: 5.5466 - kl_loss: 6.6119 - val_loss: 71.6426 - val_reconstruction_loss: 64.8282 - val_kl_loss: 6.8144\n",
      "Epoch 16/30\n",
      "111/111 [==============================] - 1s 11ms/step - loss: 11.7328 - reconstruction_loss: 5.4881 - kl_loss: 6.5927 - val_loss: 73.3985 - val_reconstruction_loss: 66.4922 - val_kl_loss: 6.9063\n",
      "Epoch 17/30\n",
      "111/111 [==============================] - 1s 11ms/step - loss: 11.5115 - reconstruction_loss: 5.2484 - kl_loss: 6.4944 - val_loss: 74.0138 - val_reconstruction_loss: 67.6548 - val_kl_loss: 6.3590\n",
      "Epoch 18/30\n",
      "111/111 [==============================] - 1s 12ms/step - loss: 11.0096 - reconstruction_loss: 4.8265 - kl_loss: 6.3757 - val_loss: 74.7005 - val_reconstruction_loss: 67.7917 - val_kl_loss: 6.9088\n",
      "Epoch 19/30\n",
      "111/111 [==============================] - 1s 12ms/step - loss: 10.6288 - reconstruction_loss: 4.7105 - kl_loss: 6.3211 - val_loss: 75.9284 - val_reconstruction_loss: 69.4176 - val_kl_loss: 6.5108\n",
      "Epoch 20/30\n",
      "111/111 [==============================] - 1s 11ms/step - loss: 10.8624 - reconstruction_loss: 4.6817 - kl_loss: 6.2603 - val_loss: 77.5876 - val_reconstruction_loss: 70.6274 - val_kl_loss: 6.9602\n",
      "Epoch 21/30\n",
      "111/111 [==============================] - 1s 12ms/step - loss: 10.2137 - reconstruction_loss: 4.2521 - kl_loss: 6.1707 - val_loss: 79.4169 - val_reconstruction_loss: 73.0801 - val_kl_loss: 6.3368\n",
      "Epoch 22/30\n",
      "111/111 [==============================] - 1s 12ms/step - loss: 10.4176 - reconstruction_loss: 4.3830 - kl_loss: 6.1260 - val_loss: 80.0615 - val_reconstruction_loss: 73.5621 - val_kl_loss: 6.4994\n",
      "Epoch 23/30\n",
      "111/111 [==============================] - 1s 12ms/step - loss: 10.4298 - reconstruction_loss: 4.3902 - kl_loss: 6.1500 - val_loss: 79.8814 - val_reconstruction_loss: 73.6274 - val_kl_loss: 6.2540\n",
      "Epoch 24/30\n",
      "111/111 [==============================] - 1s 12ms/step - loss: 9.7659 - reconstruction_loss: 4.0216 - kl_loss: 6.0415 - val_loss: 81.6762 - val_reconstruction_loss: 75.1667 - val_kl_loss: 6.5095\n",
      "Epoch 25/30\n",
      "111/111 [==============================] - 1s 11ms/step - loss: 9.8447 - reconstruction_loss: 3.9910 - kl_loss: 6.0597 - val_loss: 85.8938 - val_reconstruction_loss: 79.5842 - val_kl_loss: 6.3097\n",
      "Epoch 26/30\n",
      "111/111 [==============================] - 1s 11ms/step - loss: 9.6953 - reconstruction_loss: 3.8981 - kl_loss: 5.9531 - val_loss: 83.6090 - val_reconstruction_loss: 77.5534 - val_kl_loss: 6.0556\n",
      "Epoch 27/30\n",
      "111/111 [==============================] - 1s 11ms/step - loss: 9.4206 - reconstruction_loss: 3.7557 - kl_loss: 5.8627 - val_loss: 84.1992 - val_reconstruction_loss: 78.3065 - val_kl_loss: 5.8927\n",
      "Epoch 28/30\n",
      "111/111 [==============================] - 1s 11ms/step - loss: 9.4354 - reconstruction_loss: 3.6909 - kl_loss: 5.8617 - val_loss: 86.7306 - val_reconstruction_loss: 80.4348 - val_kl_loss: 6.2958\n",
      "Epoch 29/30\n",
      "111/111 [==============================] - 1s 12ms/step - loss: 9.7730 - reconstruction_loss: 3.8700 - kl_loss: 5.9606 - val_loss: 87.9862 - val_reconstruction_loss: 82.1537 - val_kl_loss: 5.8325\n",
      "Epoch 30/30\n",
      "111/111 [==============================] - 1s 11ms/step - loss: 9.6061 - reconstruction_loss: 3.7040 - kl_loss: 5.8953 - val_loss: 87.3364 - val_reconstruction_loss: 81.1648 - val_kl_loss: 6.1716\n"
     ]
    }
   ],
   "source": [
    "hist = dense_vae.fit(X_train, X_train,\n",
    "                epochs=epochs,\n",
    "                batch_size=batch_size,\n",
    "                shuffle=True,\n",
    "                validation_data=(X_test, X_test),\n",
    "                callbacks=[mc])"
   ]
  },
  {
   "cell_type": "code",
   "execution_count": 12,
   "metadata": {},
   "outputs": [
    {
     "data": {
      "image/png": "[encoded data removed]",
      "text/plain": [
       "<Figure size 1440x432 with 1 Axes>"
      ]
     },
     "metadata": {
      "needs_background": "light"
     },
     "output_type": "display_data"
    }
   ],
   "source": [
    "plot_loss_history(hist)"
   ]
  },
  {
   "cell_type": "code",
   "execution_count": 57,
   "metadata": {
    "scrolled": true
   },
   "outputs": [],
   "source": [
    "s = dense_vae.sample(1).reshape(-1)\n",
    "\n",
    "comparison = np.array([accuracy_score(x, s) for x in X_train])"
   ]
  },
  {
   "cell_type": "code",
   "execution_count": 58,
   "metadata": {},
   "outputs": [
    {
     "data": {
      "text/plain": [
       "0.703125"
      ]
     },
     "execution_count": 58,
     "metadata": {},
     "output_type": "execute_result"
    }
   ],
   "source": [
    "comparison.max()"
   ]
  },
  {
   "cell_type": "code",
   "execution_count": 62,
   "metadata": {},
   "outputs": [
    {
     "data": {
      "text/plain": [
       "array([ 0, 10, 25, 25, 25,  7, 25, 25,  0,  7, 25, 25, 25, 25, 25, 14, 25,\n",
       "       25, 13, 25, 25, 25, 25,  7,  0, 25, 25, 25, 25, 25, 25, 14,  0, 25,\n",
       "       25, 25, 25,  7, 25, 25, 25, 25, 25, 25, 25, 25, 25, 25, 25,  7, 25,\n",
       "        7, 25, 25, 25,  0, 25, 14, 25, 25,  0, 25, 25, 25])"
      ]
     },
     "execution_count": 62,
     "metadata": {},
     "output_type": "execute_result"
    }
   ],
   "source": [
    "s"
   ]
  },
  {
   "cell_type": "code",
   "execution_count": 65,
   "metadata": {},
   "outputs": [
    {
     "data": {
      "text/plain": [
       "array([ 0, 25, 12,  0, 15, 14, 16, 25, 17,  0, 12,  0, 15,  0, 16, 25,  0,\n",
       "       14, 12,  0, 15, 14, 16, 25, 17, 25, 12,  0, 15,  0, 12,  0, 15, 14,\n",
       "       12,  0, 15, 13,  0, 16, 17, 16, 12,  0, 15, 25, 16, 25, 17,  0, 12,\n",
       "        0, 15, 14, 16, 25, 17, 15, 12,  0, 15,  0,  0, 12])"
      ]
     },
     "execution_count": 65,
     "metadata": {},
     "output_type": "execute_result"
    }
   ],
   "source": [
    "from random import randint\n",
    "\n",
    "X_train[randint(0, len(X_train))]"
   ]
  },
  {
   "cell_type": "code",
   "execution_count": 64,
   "metadata": {},
   "outputs": [
    {
     "data": {
      "text/plain": [
       "0.9856962316176471"
      ]
     },
     "execution_count": 64,
     "metadata": {},
     "output_type": "execute_result"
    }
   ],
   "source": [
    "from sklearn.metrics import accuracy_score\n",
    "\n",
    "accuracy_score(X_train.reshape(-1), dense_vae(X_train).numpy().argmax(-1).reshape(-1))"
   ]
  },
  {
   "cell_type": "code",
   "execution_count": 5,
   "metadata": {},
   "outputs": [],
   "source": [
    "from models.vae.variationalautoencoders import RNNVAE\n",
    "\n",
    "encoder_hidden_units = (256, 512)\n",
    "latent_dim = 1024\n",
    "decoder_hidden_units = encoder_hidden_units[::-1]\n",
    "\n",
    "rnn_vae = RNNVAE(encoder_hidden_units, latent_dim, decoder_hidden_units, timesteps, vocab_size, embed_size=16, bidirectional_encoder=True)"
   ]
  },
  {
   "cell_type": "code",
   "execution_count": 112,
   "metadata": {},
   "outputs": [],
   "source": [
    "name = f\"{rnn_vae.encoder.name}_{rnn_vae.decoder.name}\"\n",
    "learning_rate = 5e-3\n",
    "epochs = 50\n",
    "batch_size = 32\n",
    "\n",
    "mc = ModelCheckpoint(f'Models/{name}.hdf5', monitor='val_loss')\n",
    "\n",
    "optimizer = Adam(learning_rate=learning_rate)"
   ]
  },
  {
   "cell_type": "code",
   "execution_count": 113,
   "metadata": {},
   "outputs": [],
   "source": [
    "rnn_vae.compile(optimizer=optimizer)"
   ]
  },
  {
   "cell_type": "code",
   "execution_count": 114,
   "metadata": {
    "scrolled": true
   },
   "outputs": [
    {
     "name": "stdout",
     "output_type": "stream",
     "text": [
      "Epoch 1/50\n",
      "111/111 [==============================] - 13s 61ms/step - loss: 308.9577 - reconstruction_loss: 139.6668 - kl_loss: 76.1663 - val_loss: 131.3761 - val_reconstruction_loss: 130.5923 - val_kl_loss: 0.7839\n",
      "Epoch 2/50\n",
      "111/111 [==============================] - 5s 42ms/step - loss: 131.0263 - reconstruction_loss: 130.5653 - kl_loss: 0.3143 - val_loss: 130.0226 - val_reconstruction_loss: 129.6391 - val_kl_loss: 0.3835\n",
      "Epoch 3/50\n",
      "111/111 [==============================] - 5s 43ms/step - loss: 140.7860 - reconstruction_loss: 132.2725 - kl_loss: 42.3520 - val_loss: 154.2619 - val_reconstruction_loss: 135.2253 - val_kl_loss: 19.0366\n",
      "Epoch 4/50\n",
      "111/111 [==============================] - 5s 42ms/step - loss: 253.8222 - reconstruction_loss: 132.4983 - kl_loss: 67.3523 - val_loss: 138.6471 - val_reconstruction_loss: 132.4354 - val_kl_loss: 6.2117\n",
      "Epoch 5/50\n",
      "111/111 [==============================] - 5s 42ms/step - loss: 133.3614 - reconstruction_loss: 130.7167 - kl_loss: 0.7329 - val_loss: 130.0880 - val_reconstruction_loss: 129.7620 - val_kl_loss: 0.3260\n",
      "Epoch 6/50\n",
      "111/111 [==============================] - 5s 42ms/step - loss: 141.1405 - reconstruction_loss: 130.3109 - kl_loss: 104.0038 - val_loss: 242.7568 - val_reconstruction_loss: 131.9265 - val_kl_loss: 110.8303\n",
      "Epoch 7/50\n",
      "111/111 [==============================] - 5s 43ms/step - loss: 157.2383 - reconstruction_loss: 130.5589 - kl_loss: 8.2453 - val_loss: 131.2788 - val_reconstruction_loss: 130.1076 - val_kl_loss: 1.1712\n",
      "Epoch 8/50\n",
      "103/111 [==========================>...] - ETA: 0s - loss: 130.9790 - reconstruction_loss: 130.4913 - kl_loss: 0.5362"
     ]
    },
    {
     "ename": "KeyboardInterrupt",
     "evalue": "",
     "output_type": "error",
     "traceback": [
      "\u001b[0;31m---------------------------------------------------------------------------\u001b[0m",
      "\u001b[0;31mKeyboardInterrupt\u001b[0m                         Traceback (most recent call last)",
      "\u001b[0;32m<ipython-input-114-e9e58d88b16e>\u001b[0m in \u001b[0;36m<module>\u001b[0;34m\u001b[0m\n\u001b[1;32m      4\u001b[0m                 \u001b[0mshuffle\u001b[0m\u001b[0;34m=\u001b[0m\u001b[0;32mTrue\u001b[0m\u001b[0;34m,\u001b[0m\u001b[0;34m\u001b[0m\u001b[0;34m\u001b[0m\u001b[0m\n\u001b[1;32m      5\u001b[0m                 \u001b[0mvalidation_data\u001b[0m\u001b[0;34m=\u001b[0m\u001b[0;34m(\u001b[0m\u001b[0mX_test\u001b[0m\u001b[0;34m,\u001b[0m \u001b[0mX_test\u001b[0m\u001b[0;34m)\u001b[0m\u001b[0;34m,\u001b[0m\u001b[0;34m\u001b[0m\u001b[0;34m\u001b[0m\u001b[0m\n\u001b[0;32m----> 6\u001b[0;31m                 callbacks=[mc])\n\u001b[0m",
      "\u001b[0;32m~/.local/lib/python3.7/site-packages/tensorflow/python/keras/engine/training.py\u001b[0m in \u001b[0;36mfit\u001b[0;34m(self, x, y, batch_size, epochs, verbose, callbacks, validation_split, validation_data, shuffle, class_weight, sample_weight, initial_epoch, steps_per_epoch, validation_steps, validation_batch_size, validation_freq, max_queue_size, workers, use_multiprocessing)\u001b[0m\n\u001b[1;32m   1098\u001b[0m                 _r=1):\n\u001b[1;32m   1099\u001b[0m               \u001b[0mcallbacks\u001b[0m\u001b[0;34m.\u001b[0m\u001b[0mon_train_batch_begin\u001b[0m\u001b[0;34m(\u001b[0m\u001b[0mstep\u001b[0m\u001b[0;34m)\u001b[0m\u001b[0;34m\u001b[0m\u001b[0;34m\u001b[0m\u001b[0m\n\u001b[0;32m-> 1100\u001b[0;31m               \u001b[0mtmp_logs\u001b[0m \u001b[0;34m=\u001b[0m \u001b[0mself\u001b[0m\u001b[0;34m.\u001b[0m\u001b[0mtrain_function\u001b[0m\u001b[0;34m(\u001b[0m\u001b[0miterator\u001b[0m\u001b[0;34m)\u001b[0m\u001b[0;34m\u001b[0m\u001b[0;34m\u001b[0m\u001b[0m\n\u001b[0m\u001b[1;32m   1101\u001b[0m               \u001b[0;32mif\u001b[0m \u001b[0mdata_handler\u001b[0m\u001b[0;34m.\u001b[0m\u001b[0mshould_sync\u001b[0m\u001b[0;34m:\u001b[0m\u001b[0;34m\u001b[0m\u001b[0;34m\u001b[0m\u001b[0m\n\u001b[1;32m   1102\u001b[0m                 \u001b[0mcontext\u001b[0m\u001b[0;34m.\u001b[0m\u001b[0masync_wait\u001b[0m\u001b[0;34m(\u001b[0m\u001b[0;34m)\u001b[0m\u001b[0;34m\u001b[0m\u001b[0;34m\u001b[0m\u001b[0m\n",
      "\u001b[0;32m~/.local/lib/python3.7/site-packages/tensorflow/python/eager/def_function.py\u001b[0m in \u001b[0;36m__call__\u001b[0;34m(self, *args, **kwds)\u001b[0m\n\u001b[1;32m    826\u001b[0m     \u001b[0mtracing_count\u001b[0m \u001b[0;34m=\u001b[0m \u001b[0mself\u001b[0m\u001b[0;34m.\u001b[0m\u001b[0mexperimental_get_tracing_count\u001b[0m\u001b[0;34m(\u001b[0m\u001b[0;34m)\u001b[0m\u001b[0;34m\u001b[0m\u001b[0;34m\u001b[0m\u001b[0m\n\u001b[1;32m    827\u001b[0m     \u001b[0;32mwith\u001b[0m \u001b[0mtrace\u001b[0m\u001b[0;34m.\u001b[0m\u001b[0mTrace\u001b[0m\u001b[0;34m(\u001b[0m\u001b[0mself\u001b[0m\u001b[0;34m.\u001b[0m\u001b[0m_name\u001b[0m\u001b[0;34m)\u001b[0m \u001b[0;32mas\u001b[0m \u001b[0mtm\u001b[0m\u001b[0;34m:\u001b[0m\u001b[0;34m\u001b[0m\u001b[0;34m\u001b[0m\u001b[0m\n\u001b[0;32m--> 828\u001b[0;31m       \u001b[0mresult\u001b[0m \u001b[0;34m=\u001b[0m \u001b[0mself\u001b[0m\u001b[0;34m.\u001b[0m\u001b[0m_call\u001b[0m\u001b[0;34m(\u001b[0m\u001b[0;34m*\u001b[0m\u001b[0margs\u001b[0m\u001b[0;34m,\u001b[0m \u001b[0;34m**\u001b[0m\u001b[0mkwds\u001b[0m\u001b[0;34m)\u001b[0m\u001b[0;34m\u001b[0m\u001b[0;34m\u001b[0m\u001b[0m\n\u001b[0m\u001b[1;32m    829\u001b[0m       \u001b[0mcompiler\u001b[0m \u001b[0;34m=\u001b[0m \u001b[0;34m\"xla\"\u001b[0m \u001b[0;32mif\u001b[0m \u001b[0mself\u001b[0m\u001b[0;34m.\u001b[0m\u001b[0m_experimental_compile\u001b[0m \u001b[0;32melse\u001b[0m \u001b[0;34m\"nonXla\"\u001b[0m\u001b[0;34m\u001b[0m\u001b[0;34m\u001b[0m\u001b[0m\n\u001b[1;32m    830\u001b[0m       \u001b[0mnew_tracing_count\u001b[0m \u001b[0;34m=\u001b[0m \u001b[0mself\u001b[0m\u001b[0;34m.\u001b[0m\u001b[0mexperimental_get_tracing_count\u001b[0m\u001b[0;34m(\u001b[0m\u001b[0;34m)\u001b[0m\u001b[0;34m\u001b[0m\u001b[0;34m\u001b[0m\u001b[0m\n",
      "\u001b[0;32m~/.local/lib/python3.7/site-packages/tensorflow/python/eager/def_function.py\u001b[0m in \u001b[0;36m_call\u001b[0;34m(self, *args, **kwds)\u001b[0m\n\u001b[1;32m    853\u001b[0m       \u001b[0;31m# In this case we have created variables on the first call, so we run the\u001b[0m\u001b[0;34m\u001b[0m\u001b[0;34m\u001b[0m\u001b[0;34m\u001b[0m\u001b[0m\n\u001b[1;32m    854\u001b[0m       \u001b[0;31m# defunned version which is guaranteed to never create variables.\u001b[0m\u001b[0;34m\u001b[0m\u001b[0;34m\u001b[0m\u001b[0;34m\u001b[0m\u001b[0m\n\u001b[0;32m--> 855\u001b[0;31m       \u001b[0;32mreturn\u001b[0m \u001b[0mself\u001b[0m\u001b[0;34m.\u001b[0m\u001b[0m_stateless_fn\u001b[0m\u001b[0;34m(\u001b[0m\u001b[0;34m*\u001b[0m\u001b[0margs\u001b[0m\u001b[0;34m,\u001b[0m \u001b[0;34m**\u001b[0m\u001b[0mkwds\u001b[0m\u001b[0;34m)\u001b[0m  \u001b[0;31m# pylint: disable=not-callable\u001b[0m\u001b[0;34m\u001b[0m\u001b[0;34m\u001b[0m\u001b[0m\n\u001b[0m\u001b[1;32m    856\u001b[0m     \u001b[0;32melif\u001b[0m \u001b[0mself\u001b[0m\u001b[0;34m.\u001b[0m\u001b[0m_stateful_fn\u001b[0m \u001b[0;32mis\u001b[0m \u001b[0;32mnot\u001b[0m \u001b[0;32mNone\u001b[0m\u001b[0;34m:\u001b[0m\u001b[0;34m\u001b[0m\u001b[0;34m\u001b[0m\u001b[0m\n\u001b[1;32m    857\u001b[0m       \u001b[0;31m# Release the lock early so that multiple threads can perform the call\u001b[0m\u001b[0;34m\u001b[0m\u001b[0;34m\u001b[0m\u001b[0;34m\u001b[0m\u001b[0m\n",
      "\u001b[0;32m~/.local/lib/python3.7/site-packages/tensorflow/python/eager/function.py\u001b[0m in \u001b[0;36m__call__\u001b[0;34m(self, *args, **kwargs)\u001b[0m\n\u001b[1;32m   2941\u001b[0m        filtered_flat_args) = self._maybe_define_function(args, kwargs)\n\u001b[1;32m   2942\u001b[0m     return graph_function._call_flat(\n\u001b[0;32m-> 2943\u001b[0;31m         filtered_flat_args, captured_inputs=graph_function.captured_inputs)  # pylint: disable=protected-access\n\u001b[0m\u001b[1;32m   2944\u001b[0m \u001b[0;34m\u001b[0m\u001b[0m\n\u001b[1;32m   2945\u001b[0m   \u001b[0;34m@\u001b[0m\u001b[0mproperty\u001b[0m\u001b[0;34m\u001b[0m\u001b[0;34m\u001b[0m\u001b[0m\n",
      "\u001b[0;32m~/.local/lib/python3.7/site-packages/tensorflow/python/eager/function.py\u001b[0m in \u001b[0;36m_call_flat\u001b[0;34m(self, args, captured_inputs, cancellation_manager)\u001b[0m\n\u001b[1;32m   1917\u001b[0m       \u001b[0;31m# No tape is watching; skip to running the function.\u001b[0m\u001b[0;34m\u001b[0m\u001b[0;34m\u001b[0m\u001b[0;34m\u001b[0m\u001b[0m\n\u001b[1;32m   1918\u001b[0m       return self._build_call_outputs(self._inference_function.call(\n\u001b[0;32m-> 1919\u001b[0;31m           ctx, args, cancellation_manager=cancellation_manager))\n\u001b[0m\u001b[1;32m   1920\u001b[0m     forward_backward = self._select_forward_and_backward_functions(\n\u001b[1;32m   1921\u001b[0m         \u001b[0margs\u001b[0m\u001b[0;34m,\u001b[0m\u001b[0;34m\u001b[0m\u001b[0;34m\u001b[0m\u001b[0m\n",
      "\u001b[0;32m~/.local/lib/python3.7/site-packages/tensorflow/python/eager/function.py\u001b[0m in \u001b[0;36mcall\u001b[0;34m(self, ctx, args, cancellation_manager)\u001b[0m\n\u001b[1;32m    558\u001b[0m               \u001b[0minputs\u001b[0m\u001b[0;34m=\u001b[0m\u001b[0margs\u001b[0m\u001b[0;34m,\u001b[0m\u001b[0;34m\u001b[0m\u001b[0;34m\u001b[0m\u001b[0m\n\u001b[1;32m    559\u001b[0m               \u001b[0mattrs\u001b[0m\u001b[0;34m=\u001b[0m\u001b[0mattrs\u001b[0m\u001b[0;34m,\u001b[0m\u001b[0;34m\u001b[0m\u001b[0;34m\u001b[0m\u001b[0m\n\u001b[0;32m--> 560\u001b[0;31m               ctx=ctx)\n\u001b[0m\u001b[1;32m    561\u001b[0m         \u001b[0;32melse\u001b[0m\u001b[0;34m:\u001b[0m\u001b[0;34m\u001b[0m\u001b[0;34m\u001b[0m\u001b[0m\n\u001b[1;32m    562\u001b[0m           outputs = execute.execute_with_cancellation(\n",
      "\u001b[0;32m~/.local/lib/python3.7/site-packages/tensorflow/python/eager/execute.py\u001b[0m in \u001b[0;36mquick_execute\u001b[0;34m(op_name, num_outputs, inputs, attrs, ctx, name)\u001b[0m\n\u001b[1;32m     58\u001b[0m     \u001b[0mctx\u001b[0m\u001b[0;34m.\u001b[0m\u001b[0mensure_initialized\u001b[0m\u001b[0;34m(\u001b[0m\u001b[0;34m)\u001b[0m\u001b[0;34m\u001b[0m\u001b[0;34m\u001b[0m\u001b[0m\n\u001b[1;32m     59\u001b[0m     tensors = pywrap_tfe.TFE_Py_Execute(ctx._handle, device_name, op_name,\n\u001b[0;32m---> 60\u001b[0;31m                                         inputs, attrs, num_outputs)\n\u001b[0m\u001b[1;32m     61\u001b[0m   \u001b[0;32mexcept\u001b[0m \u001b[0mcore\u001b[0m\u001b[0;34m.\u001b[0m\u001b[0m_NotOkStatusException\u001b[0m \u001b[0;32mas\u001b[0m \u001b[0me\u001b[0m\u001b[0;34m:\u001b[0m\u001b[0;34m\u001b[0m\u001b[0;34m\u001b[0m\u001b[0m\n\u001b[1;32m     62\u001b[0m     \u001b[0;32mif\u001b[0m \u001b[0mname\u001b[0m \u001b[0;32mis\u001b[0m \u001b[0;32mnot\u001b[0m \u001b[0;32mNone\u001b[0m\u001b[0;34m:\u001b[0m\u001b[0;34m\u001b[0m\u001b[0;34m\u001b[0m\u001b[0m\n",
      "\u001b[0;31mKeyboardInterrupt\u001b[0m: "
     ]
    }
   ],
   "source": [
    "hist = rnn_vae.fit(X_train, X_train,\n",
    "                epochs=epochs,\n",
    "                batch_size=batch_size,\n",
    "                shuffle=True,\n",
    "                validation_data=(X_test, X_test),\n",
    "                callbacks=[mc])"
   ]
  },
  {
   "cell_type": "code",
   "execution_count": 13,
   "metadata": {},
   "outputs": [
    {
     "data": {
      "image/png": "[encoded data removed]",
      "text/plain": [
       "<Figure size 1440x432 with 1 Axes>"
      ]
     },
     "metadata": {
      "needs_background": "light"
     },
     "output_type": "display_data"
    }
   ],
   "source": [
    "from plotting import plot_loss_history\n",
    "\n",
    "plot_loss_history(hist)"
   ]
  },
  {
   "cell_type": "code",
   "execution_count": 14,
   "metadata": {
    "collapsed": true
   },
   "outputs": [
    {
     "data": {
      "text/plain": [
       "array([[ 0, 37, 37, 37, 37, 37, 37, 37, 37, 37, 37, 37, 37, 37, 37, 37,\n",
       "        37, 37, 37, 37, 37, 37, 37, 37, 37, 37, 37, 37, 37, 37, 37, 37,\n",
       "        37, 37, 37, 37, 37, 37, 37, 37, 37, 37, 37, 37, 37, 37, 37, 37,\n",
       "        37, 37, 37, 37, 37, 37, 37, 37, 37, 37, 37, 37, 37, 37, 37, 37],\n",
       "       [ 0, 37, 37, 37, 37, 37, 37, 37, 37, 37, 37, 37, 37, 37, 37, 37,\n",
       "        37, 37, 37, 37, 37, 37, 37, 37, 37, 37, 37, 37, 37, 37, 37, 37,\n",
       "        37, 37, 37, 37, 37, 37, 37, 37, 37, 37, 37, 37, 37, 37, 37, 37,\n",
       "        37, 37, 37, 37, 37, 37, 37, 37, 37, 37, 37, 37, 37, 37, 37, 37],\n",
       "       [ 0, 37, 37, 37, 37, 37, 37, 37, 37, 37, 37, 37, 37, 37, 37, 37,\n",
       "        37, 37, 37, 37, 37, 37, 37, 37, 37, 37, 37, 37, 37, 37, 37, 37,\n",
       "        37, 37, 37, 37, 37, 37, 37, 37, 37, 37, 37, 37, 37, 37, 37, 37,\n",
       "        37, 37, 37, 37, 37, 37, 37, 37, 37, 37, 37, 37, 37, 37, 37, 37],\n",
       "       [ 0, 37, 37, 37, 37, 37, 37, 37, 37, 37, 37, 37, 37, 37, 37, 37,\n",
       "        37, 37, 37, 37, 37, 37, 37, 37, 37, 37, 37, 37, 37, 37, 37, 37,\n",
       "        37, 37, 37, 37, 37, 37, 37, 37, 37, 37, 37, 37, 37, 37, 37, 37,\n",
       "        37, 37, 37, 37, 37, 37, 37, 37, 37, 37, 37, 37, 37, 37, 37, 37],\n",
       "       [ 0, 37, 37, 37, 37, 37, 37, 37, 37, 37, 37, 37, 37, 37, 37, 37,\n",
       "        37, 37, 37, 37, 37, 37, 37, 37, 37, 37, 37, 37, 37, 37, 37, 37,\n",
       "        37, 37, 37, 37, 37, 37, 37, 37, 37, 37, 37, 37, 37, 37, 37, 37,\n",
       "        37, 37, 37, 37, 37, 37, 37, 37, 37, 37, 37, 37, 37, 37, 37, 37],\n",
       "       [ 0, 37, 37, 37, 37, 37, 37, 37, 37, 37, 37, 37, 37, 37, 37, 37,\n",
       "        37, 37, 37, 37, 37, 37, 37, 37, 37, 37, 37, 37, 37, 37, 37, 37,\n",
       "        37, 37, 37, 37, 37, 37, 37, 37, 37, 37, 37, 37, 37, 37, 37, 37,\n",
       "        37, 37, 37, 37, 37, 37, 37, 37, 37, 37, 37, 37, 37, 37, 37, 37],\n",
       "       [ 0, 37, 37, 37, 37, 37, 37, 37, 37, 37, 37, 37, 37, 37, 37, 37,\n",
       "        37, 37, 37, 37, 37, 37, 37, 37, 37, 37, 37, 37, 37, 37, 37, 37,\n",
       "        37, 37, 37, 37, 37, 37, 37, 37, 37, 37, 37, 37, 37, 37, 37, 37,\n",
       "        37, 37, 37, 37, 37, 37, 37, 37, 37, 37, 37, 37, 37, 37, 37, 37],\n",
       "       [ 0, 37, 37, 37, 37, 37, 37, 37, 37, 37, 37, 37, 37, 37, 37, 37,\n",
       "        37, 37, 37, 37, 37, 37, 37, 37, 37, 37, 37, 37, 37, 37, 37, 37,\n",
       "        37, 37, 37, 37, 37, 37, 37, 37, 37, 37, 37, 37, 37, 37, 37, 37,\n",
       "        37, 37, 37, 37, 37, 37, 37, 37, 37, 37, 37, 37, 37, 37, 37, 37],\n",
       "       [ 0, 37, 37, 37, 37, 37, 37, 37, 37, 37, 37, 37, 37, 37, 37, 37,\n",
       "        37, 37, 37, 37, 37, 37, 37, 37, 37, 37, 37, 37, 37, 37, 37, 37,\n",
       "        37, 37, 37, 37, 37, 37, 37, 37, 37, 37, 37, 37, 37, 37, 37, 37,\n",
       "        37, 37, 37, 37, 37, 37, 37, 37, 37, 37, 37, 37, 37, 37, 37, 37],\n",
       "       [ 0, 37, 37, 37, 37, 37, 37, 37, 37, 37, 37, 37, 37, 37, 37, 37,\n",
       "        37, 37, 37, 37, 37, 37, 37, 37, 37, 37, 37, 37, 37, 37, 37, 37,\n",
       "        37, 37, 37, 37, 37, 37, 37, 37, 37, 37, 37, 37, 37, 37, 37, 37,\n",
       "        37, 37, 37, 37, 37, 37, 37, 37, 37, 37, 37, 37, 37, 37, 37, 37]])"
      ]
     },
     "execution_count": 14,
     "metadata": {},
     "output_type": "execute_result"
    }
   ],
   "source": [
    "rnn_vae.sample()"
   ]
  },
  {
   "cell_type": "code",
   "execution_count": 90,
   "metadata": {},
   "outputs": [
    {
     "ename": "NameError",
     "evalue": "name 'rnn_vae' is not defined",
     "output_type": "error",
     "traceback": [
      "\u001b[0;31m---------------------------------------------------------------------------\u001b[0m",
      "\u001b[0;31mNameError\u001b[0m                                 Traceback (most recent call last)",
      "\u001b[0;32m<ipython-input-90-7f6833e8046f>\u001b[0m in \u001b[0;36m<module>\u001b[0;34m\u001b[0m\n\u001b[1;32m      1\u001b[0m \u001b[0;32mfrom\u001b[0m \u001b[0msklearn\u001b[0m\u001b[0;34m.\u001b[0m\u001b[0mmetrics\u001b[0m \u001b[0;32mimport\u001b[0m \u001b[0maccuracy_score\u001b[0m\u001b[0;34m\u001b[0m\u001b[0;34m\u001b[0m\u001b[0m\n\u001b[1;32m      2\u001b[0m \u001b[0;34m\u001b[0m\u001b[0m\n\u001b[0;32m----> 3\u001b[0;31m \u001b[0maccuracy_score\u001b[0m\u001b[0;34m(\u001b[0m\u001b[0mX_train\u001b[0m\u001b[0;34m.\u001b[0m\u001b[0mreshape\u001b[0m\u001b[0;34m(\u001b[0m\u001b[0;34m-\u001b[0m\u001b[0;36m1\u001b[0m\u001b[0;34m)\u001b[0m\u001b[0;34m,\u001b[0m \u001b[0mrnn_vae\u001b[0m\u001b[0;34m(\u001b[0m\u001b[0mX_train\u001b[0m\u001b[0;34m)\u001b[0m\u001b[0;34m.\u001b[0m\u001b[0mnumpy\u001b[0m\u001b[0;34m(\u001b[0m\u001b[0;34m)\u001b[0m\u001b[0;34m.\u001b[0m\u001b[0margmax\u001b[0m\u001b[0;34m(\u001b[0m\u001b[0;34m-\u001b[0m\u001b[0;36m1\u001b[0m\u001b[0;34m)\u001b[0m\u001b[0;34m.\u001b[0m\u001b[0mreshape\u001b[0m\u001b[0;34m(\u001b[0m\u001b[0;34m-\u001b[0m\u001b[0;36m1\u001b[0m\u001b[0;34m)\u001b[0m\u001b[0;34m)\u001b[0m\u001b[0;34m\u001b[0m\u001b[0;34m\u001b[0m\u001b[0m\n\u001b[0m",
      "\u001b[0;31mNameError\u001b[0m: name 'rnn_vae' is not defined"
     ]
    }
   ],
   "source": [
    "from sklearn.metrics import accuracy_score\n",
    "\n",
    "accuracy_score(X_train.reshape(-1), rnn_vae(X_train).numpy().argmax(-1).reshape(-1))"
   ]
  },
  {
   "cell_type": "code",
   "execution_count": 134,
   "metadata": {},
   "outputs": [],
   "source": [
    "from models.vae.variationalautoencoders import CNNVAE\n",
    "\n",
    "encoder_filter_sizes = (512, 256, 128)\n",
    "encoder_dilation_rates = 2\n",
    "latent_dim = 128\n",
    "decoder_filter_sizes = encoder_filter_sizes[::-1]\n",
    "decoder_dilation_rates = 2\n",
    "decoder_dense_unit = latent_dim\n",
    "\n",
    "\n",
    "cnn_vae = CNNVAE(encoder_filter_sizes, latent_dim, decoder_filter_sizes, decoder_dense_unit, timesteps, vocab_size, embed_size=32)"
   ]
  },
  {
   "cell_type": "code",
   "execution_count": 135,
   "metadata": {},
   "outputs": [],
   "source": [
    "name = f\"{cnn_vae.encoder.name}_{cnn_vae.decoder.name}\"\n",
    "learning_rate = 5e-3\n",
    "epochs = 100\n",
    "batch_size = 32\n",
    "\n",
    "mc = ModelCheckpoint(f'Models/{name}.hdf5', monitor='val_loss')\n",
    "\n",
    "optimizer = Adam(learning_rate=learning_rate)"
   ]
  },
  {
   "cell_type": "code",
   "execution_count": 136,
   "metadata": {},
   "outputs": [],
   "source": [
    "cnn_vae.compile(optimizer=optimizer)"
   ]
  },
  {
   "cell_type": "code",
   "execution_count": 137,
   "metadata": {
    "scrolled": true
   },
   "outputs": [
    {
     "name": "stdout",
     "output_type": "stream",
     "text": [
      "Epoch 1/100\n",
      "111/111 [==============================] - 4s 20ms/step - loss: 158.4155 - reconstruction_loss: 139.0300 - kl_loss: 0.1501 - val_loss: 127.7146 - val_reconstruction_loss: 127.6812 - val_kl_loss: 0.0334\n",
      "Epoch 2/100\n",
      "111/111 [==============================] - 1s 13ms/step - loss: 128.6755 - reconstruction_loss: 127.8884 - kl_loss: 0.0183 - val_loss: 127.3618 - val_reconstruction_loss: 127.3561 - val_kl_loss: 0.0057\n",
      "Epoch 3/100\n",
      "111/111 [==============================] - 2s 14ms/step - loss: 127.5248 - reconstruction_loss: 127.5721 - kl_loss: 0.0047 - val_loss: 127.0273 - val_reconstruction_loss: 127.0241 - val_kl_loss: 0.0032\n",
      "Epoch 4/100\n",
      "111/111 [==============================] - 2s 15ms/step - loss: 127.2668 - reconstruction_loss: 127.5519 - kl_loss: 0.0020 - val_loss: 126.9109 - val_reconstruction_loss: 126.9086 - val_kl_loss: 0.0023\n",
      "Epoch 5/100\n",
      "111/111 [==============================] - 2s 14ms/step - loss: 127.0742 - reconstruction_loss: 127.4792 - kl_loss: 0.0016 - val_loss: 127.1970 - val_reconstruction_loss: 127.1953 - val_kl_loss: 0.0017\n",
      "Epoch 6/100\n",
      "111/111 [==============================] - 2s 14ms/step - loss: 127.4382 - reconstruction_loss: 127.4425 - kl_loss: 0.0017 - val_loss: 126.9641 - val_reconstruction_loss: 126.9620 - val_kl_loss: 0.0021\n",
      "Epoch 7/100\n",
      "111/111 [==============================] - 1s 13ms/step - loss: 127.6788 - reconstruction_loss: 127.4722 - kl_loss: 0.0013 - val_loss: 126.9724 - val_reconstruction_loss: 126.9712 - val_kl_loss: 0.0012\n",
      "Epoch 8/100\n",
      "111/111 [==============================] - 1s 13ms/step - loss: 127.2831 - reconstruction_loss: 127.3914 - kl_loss: 0.0017 - val_loss: 127.1060 - val_reconstruction_loss: 127.1003 - val_kl_loss: 0.0058\n",
      "Epoch 9/100\n",
      "111/111 [==============================] - 1s 13ms/step - loss: 127.2810 - reconstruction_loss: 127.4407 - kl_loss: 0.0021 - val_loss: 127.0183 - val_reconstruction_loss: 127.0166 - val_kl_loss: 0.0017\n",
      "Epoch 10/100\n",
      "111/111 [==============================] - 1s 13ms/step - loss: 126.7773 - reconstruction_loss: 127.4008 - kl_loss: 0.0018 - val_loss: 126.9673 - val_reconstruction_loss: 126.9654 - val_kl_loss: 0.0019\n",
      "Epoch 11/100\n",
      "111/111 [==============================] - 2s 14ms/step - loss: 127.2889 - reconstruction_loss: 127.3426 - kl_loss: 0.0019 - val_loss: 126.9517 - val_reconstruction_loss: 126.9495 - val_kl_loss: 0.0023\n",
      "Epoch 12/100\n",
      "111/111 [==============================] - 2s 14ms/step - loss: 127.8293 - reconstruction_loss: 127.4012 - kl_loss: 0.0019 - val_loss: 127.0976 - val_reconstruction_loss: 127.0959 - val_kl_loss: 0.0017\n",
      "Epoch 13/100\n",
      "111/111 [==============================] - 2s 15ms/step - loss: 126.7644 - reconstruction_loss: 127.3942 - kl_loss: 0.0029 - val_loss: 126.9496 - val_reconstruction_loss: 126.9479 - val_kl_loss: 0.0017\n",
      "Epoch 14/100\n",
      "111/111 [==============================] - 2s 14ms/step - loss: 126.7754 - reconstruction_loss: 127.3503 - kl_loss: 0.0020 - val_loss: 127.1919 - val_reconstruction_loss: 127.1889 - val_kl_loss: 0.0030\n",
      "Epoch 15/100\n",
      "111/111 [==============================] - 1s 13ms/step - loss: 127.4783 - reconstruction_loss: 127.4261 - kl_loss: 0.0027 - val_loss: 126.9505 - val_reconstruction_loss: 126.9481 - val_kl_loss: 0.0024\n",
      "Epoch 16/100\n",
      "111/111 [==============================] - 1s 13ms/step - loss: 127.1447 - reconstruction_loss: 127.3771 - kl_loss: 0.0024 - val_loss: 126.9971 - val_reconstruction_loss: 126.9952 - val_kl_loss: 0.0020\n",
      "Epoch 17/100\n",
      "111/111 [==============================] - 2s 14ms/step - loss: 126.9365 - reconstruction_loss: 127.3760 - kl_loss: 0.0021 - val_loss: 126.9062 - val_reconstruction_loss: 126.9032 - val_kl_loss: 0.0030\n",
      "Epoch 18/100\n",
      "111/111 [==============================] - 2s 15ms/step - loss: 127.2202 - reconstruction_loss: 127.3216 - kl_loss: 0.0032 - val_loss: 127.1090 - val_reconstruction_loss: 127.1068 - val_kl_loss: 0.0021\n",
      "Epoch 19/100\n",
      "111/111 [==============================] - 2s 14ms/step - loss: 127.6399 - reconstruction_loss: 127.3529 - kl_loss: 0.0024 - val_loss: 126.8376 - val_reconstruction_loss: 126.8355 - val_kl_loss: 0.0021\n",
      "Epoch 20/100\n",
      "111/111 [==============================] - 2s 14ms/step - loss: 127.2326 - reconstruction_loss: 127.3137 - kl_loss: 0.0026 - val_loss: 127.3257 - val_reconstruction_loss: 127.3211 - val_kl_loss: 0.0046\n",
      "Epoch 21/100\n",
      "111/111 [==============================] - 2s 14ms/step - loss: 127.2954 - reconstruction_loss: 127.4421 - kl_loss: 0.0042 - val_loss: 126.8755 - val_reconstruction_loss: 126.8706 - val_kl_loss: 0.0049\n",
      "Epoch 22/100\n",
      "111/111 [==============================] - 2s 14ms/step - loss: 127.9395 - reconstruction_loss: 127.3260 - kl_loss: 0.0037 - val_loss: 127.1153 - val_reconstruction_loss: 127.1128 - val_kl_loss: 0.0025\n",
      "Epoch 23/100\n",
      "  1/111 [..............................] - ETA: 1s - loss: 123.9300 - reconstruction_loss: 123.9276 - kl_loss: 0.0025"
     ]
    },
    {
     "ename": "KeyboardInterrupt",
     "evalue": "",
     "output_type": "error",
     "traceback": [
      "\u001b[0;31m---------------------------------------------------------------------------\u001b[0m",
      "\u001b[0;31mKeyboardInterrupt\u001b[0m                         Traceback (most recent call last)",
      "\u001b[0;32m<ipython-input-137-f2b8602091d4>\u001b[0m in \u001b[0;36m<module>\u001b[0;34m\u001b[0m\n\u001b[1;32m      4\u001b[0m                 \u001b[0mshuffle\u001b[0m\u001b[0;34m=\u001b[0m\u001b[0;32mTrue\u001b[0m\u001b[0;34m,\u001b[0m\u001b[0;34m\u001b[0m\u001b[0;34m\u001b[0m\u001b[0m\n\u001b[1;32m      5\u001b[0m                 \u001b[0mvalidation_data\u001b[0m\u001b[0;34m=\u001b[0m\u001b[0;34m(\u001b[0m\u001b[0mX_test\u001b[0m\u001b[0;34m,\u001b[0m \u001b[0mX_test\u001b[0m\u001b[0;34m)\u001b[0m\u001b[0;34m,\u001b[0m\u001b[0;34m\u001b[0m\u001b[0;34m\u001b[0m\u001b[0m\n\u001b[0;32m----> 6\u001b[0;31m                 callbacks=[mc])\n\u001b[0m",
      "\u001b[0;32m~/.local/lib/python3.7/site-packages/tensorflow/python/keras/engine/training.py\u001b[0m in \u001b[0;36mfit\u001b[0;34m(self, x, y, batch_size, epochs, verbose, callbacks, validation_split, validation_data, shuffle, class_weight, sample_weight, initial_epoch, steps_per_epoch, validation_steps, validation_batch_size, validation_freq, max_queue_size, workers, use_multiprocessing)\u001b[0m\n\u001b[1;32m   1098\u001b[0m                 _r=1):\n\u001b[1;32m   1099\u001b[0m               \u001b[0mcallbacks\u001b[0m\u001b[0;34m.\u001b[0m\u001b[0mon_train_batch_begin\u001b[0m\u001b[0;34m(\u001b[0m\u001b[0mstep\u001b[0m\u001b[0;34m)\u001b[0m\u001b[0;34m\u001b[0m\u001b[0;34m\u001b[0m\u001b[0m\n\u001b[0;32m-> 1100\u001b[0;31m               \u001b[0mtmp_logs\u001b[0m \u001b[0;34m=\u001b[0m \u001b[0mself\u001b[0m\u001b[0;34m.\u001b[0m\u001b[0mtrain_function\u001b[0m\u001b[0;34m(\u001b[0m\u001b[0miterator\u001b[0m\u001b[0;34m)\u001b[0m\u001b[0;34m\u001b[0m\u001b[0;34m\u001b[0m\u001b[0m\n\u001b[0m\u001b[1;32m   1101\u001b[0m               \u001b[0;32mif\u001b[0m \u001b[0mdata_handler\u001b[0m\u001b[0;34m.\u001b[0m\u001b[0mshould_sync\u001b[0m\u001b[0;34m:\u001b[0m\u001b[0;34m\u001b[0m\u001b[0;34m\u001b[0m\u001b[0m\n\u001b[1;32m   1102\u001b[0m                 \u001b[0mcontext\u001b[0m\u001b[0;34m.\u001b[0m\u001b[0masync_wait\u001b[0m\u001b[0;34m(\u001b[0m\u001b[0;34m)\u001b[0m\u001b[0;34m\u001b[0m\u001b[0;34m\u001b[0m\u001b[0m\n",
      "\u001b[0;32m~/.local/lib/python3.7/site-packages/tensorflow/python/eager/def_function.py\u001b[0m in \u001b[0;36m__call__\u001b[0;34m(self, *args, **kwds)\u001b[0m\n\u001b[1;32m    826\u001b[0m     \u001b[0mtracing_count\u001b[0m \u001b[0;34m=\u001b[0m \u001b[0mself\u001b[0m\u001b[0;34m.\u001b[0m\u001b[0mexperimental_get_tracing_count\u001b[0m\u001b[0;34m(\u001b[0m\u001b[0;34m)\u001b[0m\u001b[0;34m\u001b[0m\u001b[0;34m\u001b[0m\u001b[0m\n\u001b[1;32m    827\u001b[0m     \u001b[0;32mwith\u001b[0m \u001b[0mtrace\u001b[0m\u001b[0;34m.\u001b[0m\u001b[0mTrace\u001b[0m\u001b[0;34m(\u001b[0m\u001b[0mself\u001b[0m\u001b[0;34m.\u001b[0m\u001b[0m_name\u001b[0m\u001b[0;34m)\u001b[0m \u001b[0;32mas\u001b[0m \u001b[0mtm\u001b[0m\u001b[0;34m:\u001b[0m\u001b[0;34m\u001b[0m\u001b[0;34m\u001b[0m\u001b[0m\n\u001b[0;32m--> 828\u001b[0;31m       \u001b[0mresult\u001b[0m \u001b[0;34m=\u001b[0m \u001b[0mself\u001b[0m\u001b[0;34m.\u001b[0m\u001b[0m_call\u001b[0m\u001b[0;34m(\u001b[0m\u001b[0;34m*\u001b[0m\u001b[0margs\u001b[0m\u001b[0;34m,\u001b[0m \u001b[0;34m**\u001b[0m\u001b[0mkwds\u001b[0m\u001b[0;34m)\u001b[0m\u001b[0;34m\u001b[0m\u001b[0;34m\u001b[0m\u001b[0m\n\u001b[0m\u001b[1;32m    829\u001b[0m       \u001b[0mcompiler\u001b[0m \u001b[0;34m=\u001b[0m \u001b[0;34m\"xla\"\u001b[0m \u001b[0;32mif\u001b[0m \u001b[0mself\u001b[0m\u001b[0;34m.\u001b[0m\u001b[0m_experimental_compile\u001b[0m \u001b[0;32melse\u001b[0m \u001b[0;34m\"nonXla\"\u001b[0m\u001b[0;34m\u001b[0m\u001b[0;34m\u001b[0m\u001b[0m\n\u001b[1;32m    830\u001b[0m       \u001b[0mnew_tracing_count\u001b[0m \u001b[0;34m=\u001b[0m \u001b[0mself\u001b[0m\u001b[0;34m.\u001b[0m\u001b[0mexperimental_get_tracing_count\u001b[0m\u001b[0;34m(\u001b[0m\u001b[0;34m)\u001b[0m\u001b[0;34m\u001b[0m\u001b[0;34m\u001b[0m\u001b[0m\n",
      "\u001b[0;32m~/.local/lib/python3.7/site-packages/tensorflow/python/eager/def_function.py\u001b[0m in \u001b[0;36m_call\u001b[0;34m(self, *args, **kwds)\u001b[0m\n\u001b[1;32m    853\u001b[0m       \u001b[0;31m# In this case we have created variables on the first call, so we run the\u001b[0m\u001b[0;34m\u001b[0m\u001b[0;34m\u001b[0m\u001b[0;34m\u001b[0m\u001b[0m\n\u001b[1;32m    854\u001b[0m       \u001b[0;31m# defunned version which is guaranteed to never create variables.\u001b[0m\u001b[0;34m\u001b[0m\u001b[0;34m\u001b[0m\u001b[0;34m\u001b[0m\u001b[0m\n\u001b[0;32m--> 855\u001b[0;31m       \u001b[0;32mreturn\u001b[0m \u001b[0mself\u001b[0m\u001b[0;34m.\u001b[0m\u001b[0m_stateless_fn\u001b[0m\u001b[0;34m(\u001b[0m\u001b[0;34m*\u001b[0m\u001b[0margs\u001b[0m\u001b[0;34m,\u001b[0m \u001b[0;34m**\u001b[0m\u001b[0mkwds\u001b[0m\u001b[0;34m)\u001b[0m  \u001b[0;31m# pylint: disable=not-callable\u001b[0m\u001b[0;34m\u001b[0m\u001b[0;34m\u001b[0m\u001b[0m\n\u001b[0m\u001b[1;32m    856\u001b[0m     \u001b[0;32melif\u001b[0m \u001b[0mself\u001b[0m\u001b[0;34m.\u001b[0m\u001b[0m_stateful_fn\u001b[0m \u001b[0;32mis\u001b[0m \u001b[0;32mnot\u001b[0m \u001b[0;32mNone\u001b[0m\u001b[0;34m:\u001b[0m\u001b[0;34m\u001b[0m\u001b[0;34m\u001b[0m\u001b[0m\n\u001b[1;32m    857\u001b[0m       \u001b[0;31m# Release the lock early so that multiple threads can perform the call\u001b[0m\u001b[0;34m\u001b[0m\u001b[0;34m\u001b[0m\u001b[0;34m\u001b[0m\u001b[0m\n",
      "\u001b[0;32m~/.local/lib/python3.7/site-packages/tensorflow/python/eager/function.py\u001b[0m in \u001b[0;36m__call__\u001b[0;34m(self, *args, **kwargs)\u001b[0m\n\u001b[1;32m   2941\u001b[0m        filtered_flat_args) = self._maybe_define_function(args, kwargs)\n\u001b[1;32m   2942\u001b[0m     return graph_function._call_flat(\n\u001b[0;32m-> 2943\u001b[0;31m         filtered_flat_args, captured_inputs=graph_function.captured_inputs)  # pylint: disable=protected-access\n\u001b[0m\u001b[1;32m   2944\u001b[0m \u001b[0;34m\u001b[0m\u001b[0m\n\u001b[1;32m   2945\u001b[0m   \u001b[0;34m@\u001b[0m\u001b[0mproperty\u001b[0m\u001b[0;34m\u001b[0m\u001b[0;34m\u001b[0m\u001b[0m\n",
      "\u001b[0;32m~/.local/lib/python3.7/site-packages/tensorflow/python/eager/function.py\u001b[0m in \u001b[0;36m_call_flat\u001b[0;34m(self, args, captured_inputs, cancellation_manager)\u001b[0m\n\u001b[1;32m   1917\u001b[0m       \u001b[0;31m# No tape is watching; skip to running the function.\u001b[0m\u001b[0;34m\u001b[0m\u001b[0;34m\u001b[0m\u001b[0;34m\u001b[0m\u001b[0m\n\u001b[1;32m   1918\u001b[0m       return self._build_call_outputs(self._inference_function.call(\n\u001b[0;32m-> 1919\u001b[0;31m           ctx, args, cancellation_manager=cancellation_manager))\n\u001b[0m\u001b[1;32m   1920\u001b[0m     forward_backward = self._select_forward_and_backward_functions(\n\u001b[1;32m   1921\u001b[0m         \u001b[0margs\u001b[0m\u001b[0;34m,\u001b[0m\u001b[0;34m\u001b[0m\u001b[0;34m\u001b[0m\u001b[0m\n",
      "\u001b[0;32m~/.local/lib/python3.7/site-packages/tensorflow/python/eager/function.py\u001b[0m in \u001b[0;36mcall\u001b[0;34m(self, ctx, args, cancellation_manager)\u001b[0m\n\u001b[1;32m    558\u001b[0m               \u001b[0minputs\u001b[0m\u001b[0;34m=\u001b[0m\u001b[0margs\u001b[0m\u001b[0;34m,\u001b[0m\u001b[0;34m\u001b[0m\u001b[0;34m\u001b[0m\u001b[0m\n\u001b[1;32m    559\u001b[0m               \u001b[0mattrs\u001b[0m\u001b[0;34m=\u001b[0m\u001b[0mattrs\u001b[0m\u001b[0;34m,\u001b[0m\u001b[0;34m\u001b[0m\u001b[0;34m\u001b[0m\u001b[0m\n\u001b[0;32m--> 560\u001b[0;31m               ctx=ctx)\n\u001b[0m\u001b[1;32m    561\u001b[0m         \u001b[0;32melse\u001b[0m\u001b[0;34m:\u001b[0m\u001b[0;34m\u001b[0m\u001b[0;34m\u001b[0m\u001b[0m\n\u001b[1;32m    562\u001b[0m           outputs = execute.execute_with_cancellation(\n",
      "\u001b[0;32m~/.local/lib/python3.7/site-packages/tensorflow/python/eager/execute.py\u001b[0m in \u001b[0;36mquick_execute\u001b[0;34m(op_name, num_outputs, inputs, attrs, ctx, name)\u001b[0m\n\u001b[1;32m     58\u001b[0m     \u001b[0mctx\u001b[0m\u001b[0;34m.\u001b[0m\u001b[0mensure_initialized\u001b[0m\u001b[0;34m(\u001b[0m\u001b[0;34m)\u001b[0m\u001b[0;34m\u001b[0m\u001b[0;34m\u001b[0m\u001b[0m\n\u001b[1;32m     59\u001b[0m     tensors = pywrap_tfe.TFE_Py_Execute(ctx._handle, device_name, op_name,\n\u001b[0;32m---> 60\u001b[0;31m                                         inputs, attrs, num_outputs)\n\u001b[0m\u001b[1;32m     61\u001b[0m   \u001b[0;32mexcept\u001b[0m \u001b[0mcore\u001b[0m\u001b[0;34m.\u001b[0m\u001b[0m_NotOkStatusException\u001b[0m \u001b[0;32mas\u001b[0m \u001b[0me\u001b[0m\u001b[0;34m:\u001b[0m\u001b[0;34m\u001b[0m\u001b[0;34m\u001b[0m\u001b[0m\n\u001b[1;32m     62\u001b[0m     \u001b[0;32mif\u001b[0m \u001b[0mname\u001b[0m \u001b[0;32mis\u001b[0m \u001b[0;32mnot\u001b[0m \u001b[0;32mNone\u001b[0m\u001b[0;34m:\u001b[0m\u001b[0;34m\u001b[0m\u001b[0;34m\u001b[0m\u001b[0m\n",
      "\u001b[0;31mKeyboardInterrupt\u001b[0m: "
     ]
    }
   ],
   "source": [
    "hist = cnn_vae.fit(X_train, X_train,\n",
    "                epochs=epochs,\n",
    "                batch_size=batch_size,\n",
    "                shuffle=True,\n",
    "                validation_data=(X_test, X_test),\n",
    "                callbacks=[mc])"
   ]
  },
  {
   "cell_type": "code",
   "execution_count": 107,
   "metadata": {},
   "outputs": [
    {
     "data": {
      "image/png": "[encoded data removed]",
      "text/plain": [
       "<Figure size 1440x432 with 1 Axes>"
      ]
     },
     "metadata": {
      "needs_background": "light"
     },
     "output_type": "display_data"
    }
   ],
   "source": [
    "plot_loss_history(hist)"
   ]
  },
  {
   "cell_type": "code",
   "execution_count": 109,
   "metadata": {
    "scrolled": true
   },
   "outputs": [
    {
     "data": {
      "text/plain": [
       "array([[ 0, 11, 25, 25, 25, 11, 25, 25, 25, 12, 25, 25, 25, 12, 25, 13,\n",
       "        25, 25, 25, 25, 25, 12, 25, 25, 25, 12, 25, 25,  0, 12, 25, 13,\n",
       "        25, 12, 25, 25, 25, 12, 25, 25, 25, 12, 25, 25,  0, 12, 25, 25,\n",
       "        25, 25, 25, 25, 25, 12, 25, 25, 25, 12, 25, 25,  0, 25, 25, 12],\n",
       "       [ 0, 25, 25, 25, 25, 25, 25, 25, 25, 25, 25, 10, 25, 12, 25, 11,\n",
       "        25, 25, 25, 25, 25, 25, 25, 25, 25, 25, 25, 10, 25, 12, 25, 11,\n",
       "        25, 12, 25, 25, 25, 25, 25, 25, 25, 25, 25, 11, 25,  0, 25, 11,\n",
       "        25,  0, 25, 25,  0, 25, 25,  0, 25, 25, 25, 25, 25, 25, 25, 11],\n",
       "       [ 0, 25, 25, 25, 25, 25, 25, 25, 25, 11, 25, 25,  0, 12, 25, 25,\n",
       "        25, 25, 25, 25, 25, 25, 25, 25, 25, 11, 25, 25,  0, 12, 25, 25,\n",
       "        25, 11, 25, 25, 25, 25, 25, 25, 25, 11, 25, 25,  0, 12, 25, 25,\n",
       "        25, 25, 25,  0, 25, 25, 25, 25,  0, 25, 25, 25, 25,  0, 25, 11],\n",
       "       [ 0, 25, 25, 25, 25, 25, 25, 25, 25, 11, 25, 25,  0, 11, 25, 25,\n",
       "        25, 25, 25,  0, 25, 11, 25, 25, 25, 12, 25, 25,  0, 12, 25, 13,\n",
       "        25, 25, 25, 25, 25, 11, 25, 25, 25, 11, 25, 25,  0, 12, 25, 25,\n",
       "        25, 25, 25, 25, 25, 11, 25, 25, 25, 11, 25, 25, 25,  0, 25, 12],\n",
       "       [ 0, 25, 25, 25, 25, 12, 25, 25,  0, 12, 25, 25, 25, 12, 25, 25,\n",
       "        25, 25, 25, 25,  0, 12, 25, 25, 25, 12, 25, 25, 25, 12, 25, 25,\n",
       "        25, 12, 25, 25, 25, 12, 25, 25,  0, 12, 25, 25, 25, 12, 25, 25,\n",
       "        25, 25, 25, 25,  0, 12, 25, 25,  0, 12, 25,  0,  0,  0, 25, 11],\n",
       "       [ 0, 25, 25, 25, 25, 25, 25, 25,  0, 12, 25, 25,  0, 12, 25, 25,\n",
       "        25, 12, 12, 25, 25, 25, 25, 25, 25, 12, 25, 25,  0, 13, 25, 25,\n",
       "        25, 12, 12, 25, 25, 13, 25, 25, 25, 12, 25, 25, 25, 25, 25, 25,\n",
       "        25, 25, 12, 25, 25,  0, 25, 25, 25, 12, 25,  0,  0, 25, 25, 11],\n",
       "       [ 0, 25, 25, 25, 25, 25, 25, 25, 25, 12, 25, 25,  0, 12, 25, 25,\n",
       "        25, 25, 25, 25,  0, 12, 25, 25,  0, 12, 25, 25, 25, 12, 25, 25,\n",
       "        25, 25, 25, 25, 25, 12, 25, 25,  0, 12, 25, 25,  0, 12, 25, 25,\n",
       "        25, 12, 25, 25, 25, 12, 25, 25,  0, 25, 25, 25,  0, 25, 25, 11],\n",
       "       [ 0, 25, 25, 25, 25, 12, 25, 25, 25, 12, 25, 25,  0, 12, 25, 25,\n",
       "        25, 25, 25, 25, 25, 12, 25, 25, 25, 12, 25, 25,  0, 13, 25, 25,\n",
       "        25, 25, 25, 25, 25, 12, 25, 25,  0, 12, 25, 25,  0, 12, 25, 25,\n",
       "        25, 25, 25, 25, 25, 12, 25, 25,  0, 12, 25, 25,  0,  0, 25, 12],\n",
       "       [ 0, 25, 25, 25, 25, 11, 25, 25,  0, 12, 25, 25,  0, 12, 25, 25,\n",
       "        25, 25, 25, 25, 25, 11, 25, 25,  0, 12, 25, 25, 25, 12, 25, 25,\n",
       "        25, 12, 25, 25, 25, 11, 25, 25,  0, 12, 25, 25,  0, 12, 25, 25,\n",
       "        25, 12, 25, 25, 25, 11, 25, 25,  0, 11, 25, 25,  0, 25, 25, 11],\n",
       "       [ 0, 25, 25, 25, 25, 25, 25, 12, 25, 12, 25,  0, 25, 25, 25, 25,\n",
       "         0, 11, 25,  0, 25, 25, 25, 12, 25, 12, 25, 25, 25, 25, 25, 25,\n",
       "        25, 12, 25,  0, 25, 25, 25, 12, 25, 12, 25, 25, 25, 25, 25, 25,\n",
       "        25, 12, 25,  0, 25, 25,  0, 12, 25, 25, 25,  0, 25, 25, 25, 11]])"
      ]
     },
     "execution_count": 109,
     "metadata": {},
     "output_type": "execute_result"
    }
   ],
   "source": [
    "cnn_vae.sample(10)"
   ]
  },
  {
   "cell_type": "code",
   "execution_count": 65,
   "metadata": {},
   "outputs": [],
   "source": [
    "cnn_vae.save_samples(10)"
   ]
  },
  {
   "cell_type": "code",
   "execution_count": null,
   "metadata": {},
   "outputs": [],
   "source": []
  }
 ],
 "metadata": {
  "kernelspec": {
   "display_name": "Python 3",
   "language": "python",
   "name": "python3"
  }
 },
 "nbformat": 4,
 "nbformat_minor": 4
}
