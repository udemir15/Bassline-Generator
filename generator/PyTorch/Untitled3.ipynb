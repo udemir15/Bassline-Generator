{
 "cells": [
  {
   "cell_type": "code",
   "execution_count": 1,
   "metadata": {},
   "outputs": [
    {
     "name": "stderr",
     "output_type": "stream",
     "text": [
      "wandb: Currently logged in as: raraz15 (use `wandb login --relogin` to force relogin)\n"
     ]
    },
    {
     "name": "stdout",
     "output_type": "stream",
     "text": [
      "cuda\n"
     ]
    }
   ],
   "source": [
    "%load_ext autoreload\n",
    "%autoreload 2\n",
    "\n",
    "import os\n",
    "import datetime as dt\n",
    "\n",
    "import numpy as np\n",
    "import matplotlib.pyplot as plt\n",
    "\n",
    "import torch\n",
    "import torch.nn as nn\n",
    "\n",
    "import models\n",
    "import encoders\n",
    "import decoders\n",
    "from training import train, test, checkpoint, main_wandb, main_simple\n",
    "from dataloaders import load_data, make_loaders, append_SOS\n",
    "import utils\n",
    "\n",
    "import sys\n",
    "sys.path.insert(0, '/scratch/users/udemir15/ELEC491/bassline_transcription')\n",
    "from utilities import *\n",
    "\n",
    "from bassline_transcriber.transcription import NN_output_to_MIDI_file\n",
    "\n",
    "SEED = 27\n",
    "\n",
    "np.random.seed(SEED)\n",
    "torch.manual_seed(SEED)\n",
    "torch.cuda.manual_seed(SEED)\n",
    "torch.backends.cudnn.deterministic = True\n",
    "\n",
    "device = torch.device(\"cuda\" if torch.cuda.is_available() else \"cpu\")\n",
    "print(device)"
   ]
  },
  {
   "cell_type": "code",
   "execution_count": 10,
   "metadata": {
    "collapsed": true
   },
   "outputs": [
    {
     "ename": "FileNotFoundError",
     "evalue": "[Errno 2] File /scratch/users/udemir15/ELEC491/bassline_transcription/data/datasets/[28, 51]/sus/TechHouse_bassline_representations_4020_augmented_min_M8.csv does not exist: '/scratch/users/udemir15/ELEC491/bassline_transcription/data/datasets/[28, 51]/sus/TechHouse_bassline_representations_4020_augmented_min_M8.csv'",
     "output_type": "error",
     "traceback": [
      "\u001b[0;31m---------------------------------------------------------------------------\u001b[0m",
      "\u001b[0;31mFileNotFoundError\u001b[0m                         Traceback (most recent call last)",
      "\u001b[0;32m<ipython-input-10-85e2f1e6a17a>\u001b[0m in \u001b[0;36m<module>\u001b[0;34m\u001b[0m\n\u001b[1;32m      6\u001b[0m                'M': M}\n\u001b[1;32m      7\u001b[0m \u001b[0;34m\u001b[0m\u001b[0m\n\u001b[0;32m----> 8\u001b[0;31m \u001b[0mX\u001b[0m\u001b[0;34m,\u001b[0m \u001b[0mtitles\u001b[0m \u001b[0;34m=\u001b[0m \u001b[0mload_data\u001b[0m\u001b[0;34m(\u001b[0m\u001b[0mdata_params\u001b[0m\u001b[0;34m,\u001b[0m \u001b[0;32mTrue\u001b[0m\u001b[0;34m)\u001b[0m\u001b[0;34m\u001b[0m\u001b[0;34m\u001b[0m\u001b[0m\n\u001b[0m\u001b[1;32m      9\u001b[0m \u001b[0;34m\u001b[0m\u001b[0m\n\u001b[1;32m     10\u001b[0m \u001b[0mK\u001b[0m \u001b[0;34m=\u001b[0m \u001b[0mint\u001b[0m\u001b[0;34m(\u001b[0m\u001b[0mX\u001b[0m\u001b[0;34m.\u001b[0m\u001b[0mmax\u001b[0m\u001b[0;34m(\u001b[0m\u001b[0;34m)\u001b[0m\u001b[0;34m+\u001b[0m\u001b[0;36m1\u001b[0m\u001b[0;34m)\u001b[0m \u001b[0;31m# Number of classes, assumes consecutive [0,max] inclusive\u001b[0m\u001b[0;34m\u001b[0m\u001b[0;34m\u001b[0m\u001b[0m\n",
      "\u001b[0;32m/scratch/users/udemir15/ELEC491/Bassline-Generator/generator/PyTorch/dataloaders.py\u001b[0m in \u001b[0;36mload_data\u001b[0;34m(data_params, SOS)\u001b[0m\n\u001b[1;32m     14\u001b[0m     \u001b[0mdataset_dir\u001b[0m \u001b[0;34m=\u001b[0m \u001b[0mos\u001b[0m\u001b[0;34m.\u001b[0m\u001b[0mpath\u001b[0m\u001b[0;34m.\u001b[0m\u001b[0mjoin\u001b[0m\u001b[0;34m(\u001b[0m\u001b[0mdataset_path\u001b[0m\u001b[0;34m,\u001b[0m \u001b[0mdataset_name\u001b[0m\u001b[0;34m)\u001b[0m\u001b[0;34m\u001b[0m\u001b[0;34m\u001b[0m\u001b[0m\n\u001b[1;32m     15\u001b[0m \u001b[0;34m\u001b[0m\u001b[0m\n\u001b[0;32m---> 16\u001b[0;31m     \u001b[0mdf\u001b[0m \u001b[0;34m=\u001b[0m \u001b[0mpd\u001b[0m\u001b[0;34m.\u001b[0m\u001b[0mread_csv\u001b[0m\u001b[0;34m(\u001b[0m\u001b[0mdataset_dir\u001b[0m\u001b[0;34m,\u001b[0m \u001b[0mheader\u001b[0m\u001b[0;34m=\u001b[0m\u001b[0;32mNone\u001b[0m\u001b[0;34m)\u001b[0m\u001b[0;34m\u001b[0m\u001b[0;34m\u001b[0m\u001b[0m\n\u001b[0m\u001b[1;32m     17\u001b[0m \u001b[0;34m\u001b[0m\u001b[0m\n\u001b[1;32m     18\u001b[0m     \u001b[0mtitles\u001b[0m \u001b[0;34m=\u001b[0m \u001b[0mdf\u001b[0m\u001b[0;34m[\u001b[0m\u001b[0;36m0\u001b[0m\u001b[0;34m]\u001b[0m\u001b[0;34m.\u001b[0m\u001b[0mtolist\u001b[0m\u001b[0;34m(\u001b[0m\u001b[0;34m)\u001b[0m\u001b[0;34m\u001b[0m\u001b[0;34m\u001b[0m\u001b[0m\n",
      "\u001b[0;32m/kuacc/apps/anaconda/3.6/envs/root_env/lib/python3.7/site-packages/pandas/io/parsers.py\u001b[0m in \u001b[0;36mparser_f\u001b[0;34m(filepath_or_buffer, sep, delimiter, header, names, index_col, usecols, squeeze, prefix, mangle_dupe_cols, dtype, engine, converters, true_values, false_values, skipinitialspace, skiprows, skipfooter, nrows, na_values, keep_default_na, na_filter, verbose, skip_blank_lines, parse_dates, infer_datetime_format, keep_date_col, date_parser, dayfirst, cache_dates, iterator, chunksize, compression, thousands, decimal, lineterminator, quotechar, quoting, doublequote, escapechar, comment, encoding, dialect, error_bad_lines, warn_bad_lines, delim_whitespace, low_memory, memory_map, float_precision)\u001b[0m\n\u001b[1;32m    674\u001b[0m         )\n\u001b[1;32m    675\u001b[0m \u001b[0;34m\u001b[0m\u001b[0m\n\u001b[0;32m--> 676\u001b[0;31m         \u001b[0;32mreturn\u001b[0m \u001b[0m_read\u001b[0m\u001b[0;34m(\u001b[0m\u001b[0mfilepath_or_buffer\u001b[0m\u001b[0;34m,\u001b[0m \u001b[0mkwds\u001b[0m\u001b[0;34m)\u001b[0m\u001b[0;34m\u001b[0m\u001b[0;34m\u001b[0m\u001b[0m\n\u001b[0m\u001b[1;32m    677\u001b[0m \u001b[0;34m\u001b[0m\u001b[0m\n\u001b[1;32m    678\u001b[0m     \u001b[0mparser_f\u001b[0m\u001b[0;34m.\u001b[0m\u001b[0m__name__\u001b[0m \u001b[0;34m=\u001b[0m \u001b[0mname\u001b[0m\u001b[0;34m\u001b[0m\u001b[0;34m\u001b[0m\u001b[0m\n",
      "\u001b[0;32m/kuacc/apps/anaconda/3.6/envs/root_env/lib/python3.7/site-packages/pandas/io/parsers.py\u001b[0m in \u001b[0;36m_read\u001b[0;34m(filepath_or_buffer, kwds)\u001b[0m\n\u001b[1;32m    446\u001b[0m \u001b[0;34m\u001b[0m\u001b[0m\n\u001b[1;32m    447\u001b[0m     \u001b[0;31m# Create the parser.\u001b[0m\u001b[0;34m\u001b[0m\u001b[0;34m\u001b[0m\u001b[0;34m\u001b[0m\u001b[0m\n\u001b[0;32m--> 448\u001b[0;31m     \u001b[0mparser\u001b[0m \u001b[0;34m=\u001b[0m \u001b[0mTextFileReader\u001b[0m\u001b[0;34m(\u001b[0m\u001b[0mfp_or_buf\u001b[0m\u001b[0;34m,\u001b[0m \u001b[0;34m**\u001b[0m\u001b[0mkwds\u001b[0m\u001b[0;34m)\u001b[0m\u001b[0;34m\u001b[0m\u001b[0;34m\u001b[0m\u001b[0m\n\u001b[0m\u001b[1;32m    449\u001b[0m \u001b[0;34m\u001b[0m\u001b[0m\n\u001b[1;32m    450\u001b[0m     \u001b[0;32mif\u001b[0m \u001b[0mchunksize\u001b[0m \u001b[0;32mor\u001b[0m \u001b[0miterator\u001b[0m\u001b[0;34m:\u001b[0m\u001b[0;34m\u001b[0m\u001b[0;34m\u001b[0m\u001b[0m\n",
      "\u001b[0;32m/kuacc/apps/anaconda/3.6/envs/root_env/lib/python3.7/site-packages/pandas/io/parsers.py\u001b[0m in \u001b[0;36m__init__\u001b[0;34m(self, f, engine, **kwds)\u001b[0m\n\u001b[1;32m    878\u001b[0m             \u001b[0mself\u001b[0m\u001b[0;34m.\u001b[0m\u001b[0moptions\u001b[0m\u001b[0;34m[\u001b[0m\u001b[0;34m\"has_index_names\"\u001b[0m\u001b[0;34m]\u001b[0m \u001b[0;34m=\u001b[0m \u001b[0mkwds\u001b[0m\u001b[0;34m[\u001b[0m\u001b[0;34m\"has_index_names\"\u001b[0m\u001b[0;34m]\u001b[0m\u001b[0;34m\u001b[0m\u001b[0;34m\u001b[0m\u001b[0m\n\u001b[1;32m    879\u001b[0m \u001b[0;34m\u001b[0m\u001b[0m\n\u001b[0;32m--> 880\u001b[0;31m         \u001b[0mself\u001b[0m\u001b[0;34m.\u001b[0m\u001b[0m_make_engine\u001b[0m\u001b[0;34m(\u001b[0m\u001b[0mself\u001b[0m\u001b[0;34m.\u001b[0m\u001b[0mengine\u001b[0m\u001b[0;34m)\u001b[0m\u001b[0;34m\u001b[0m\u001b[0;34m\u001b[0m\u001b[0m\n\u001b[0m\u001b[1;32m    881\u001b[0m \u001b[0;34m\u001b[0m\u001b[0m\n\u001b[1;32m    882\u001b[0m     \u001b[0;32mdef\u001b[0m \u001b[0mclose\u001b[0m\u001b[0;34m(\u001b[0m\u001b[0mself\u001b[0m\u001b[0;34m)\u001b[0m\u001b[0;34m:\u001b[0m\u001b[0;34m\u001b[0m\u001b[0;34m\u001b[0m\u001b[0m\n",
      "\u001b[0;32m/kuacc/apps/anaconda/3.6/envs/root_env/lib/python3.7/site-packages/pandas/io/parsers.py\u001b[0m in \u001b[0;36m_make_engine\u001b[0;34m(self, engine)\u001b[0m\n\u001b[1;32m   1112\u001b[0m     \u001b[0;32mdef\u001b[0m \u001b[0m_make_engine\u001b[0m\u001b[0;34m(\u001b[0m\u001b[0mself\u001b[0m\u001b[0;34m,\u001b[0m \u001b[0mengine\u001b[0m\u001b[0;34m=\u001b[0m\u001b[0;34m\"c\"\u001b[0m\u001b[0;34m)\u001b[0m\u001b[0;34m:\u001b[0m\u001b[0;34m\u001b[0m\u001b[0;34m\u001b[0m\u001b[0m\n\u001b[1;32m   1113\u001b[0m         \u001b[0;32mif\u001b[0m \u001b[0mengine\u001b[0m \u001b[0;34m==\u001b[0m \u001b[0;34m\"c\"\u001b[0m\u001b[0;34m:\u001b[0m\u001b[0;34m\u001b[0m\u001b[0;34m\u001b[0m\u001b[0m\n\u001b[0;32m-> 1114\u001b[0;31m             \u001b[0mself\u001b[0m\u001b[0;34m.\u001b[0m\u001b[0m_engine\u001b[0m \u001b[0;34m=\u001b[0m \u001b[0mCParserWrapper\u001b[0m\u001b[0;34m(\u001b[0m\u001b[0mself\u001b[0m\u001b[0;34m.\u001b[0m\u001b[0mf\u001b[0m\u001b[0;34m,\u001b[0m \u001b[0;34m**\u001b[0m\u001b[0mself\u001b[0m\u001b[0;34m.\u001b[0m\u001b[0moptions\u001b[0m\u001b[0;34m)\u001b[0m\u001b[0;34m\u001b[0m\u001b[0;34m\u001b[0m\u001b[0m\n\u001b[0m\u001b[1;32m   1115\u001b[0m         \u001b[0;32melse\u001b[0m\u001b[0;34m:\u001b[0m\u001b[0;34m\u001b[0m\u001b[0;34m\u001b[0m\u001b[0m\n\u001b[1;32m   1116\u001b[0m             \u001b[0;32mif\u001b[0m \u001b[0mengine\u001b[0m \u001b[0;34m==\u001b[0m \u001b[0;34m\"python\"\u001b[0m\u001b[0;34m:\u001b[0m\u001b[0;34m\u001b[0m\u001b[0;34m\u001b[0m\u001b[0m\n",
      "\u001b[0;32m/kuacc/apps/anaconda/3.6/envs/root_env/lib/python3.7/site-packages/pandas/io/parsers.py\u001b[0m in \u001b[0;36m__init__\u001b[0;34m(self, src, **kwds)\u001b[0m\n\u001b[1;32m   1889\u001b[0m         \u001b[0mkwds\u001b[0m\u001b[0;34m[\u001b[0m\u001b[0;34m\"usecols\"\u001b[0m\u001b[0;34m]\u001b[0m \u001b[0;34m=\u001b[0m \u001b[0mself\u001b[0m\u001b[0;34m.\u001b[0m\u001b[0musecols\u001b[0m\u001b[0;34m\u001b[0m\u001b[0;34m\u001b[0m\u001b[0m\n\u001b[1;32m   1890\u001b[0m \u001b[0;34m\u001b[0m\u001b[0m\n\u001b[0;32m-> 1891\u001b[0;31m         \u001b[0mself\u001b[0m\u001b[0;34m.\u001b[0m\u001b[0m_reader\u001b[0m \u001b[0;34m=\u001b[0m \u001b[0mparsers\u001b[0m\u001b[0;34m.\u001b[0m\u001b[0mTextReader\u001b[0m\u001b[0;34m(\u001b[0m\u001b[0msrc\u001b[0m\u001b[0;34m,\u001b[0m \u001b[0;34m**\u001b[0m\u001b[0mkwds\u001b[0m\u001b[0;34m)\u001b[0m\u001b[0;34m\u001b[0m\u001b[0;34m\u001b[0m\u001b[0m\n\u001b[0m\u001b[1;32m   1892\u001b[0m         \u001b[0mself\u001b[0m\u001b[0;34m.\u001b[0m\u001b[0munnamed_cols\u001b[0m \u001b[0;34m=\u001b[0m \u001b[0mself\u001b[0m\u001b[0;34m.\u001b[0m\u001b[0m_reader\u001b[0m\u001b[0;34m.\u001b[0m\u001b[0munnamed_cols\u001b[0m\u001b[0;34m\u001b[0m\u001b[0;34m\u001b[0m\u001b[0m\n\u001b[1;32m   1893\u001b[0m \u001b[0;34m\u001b[0m\u001b[0m\n",
      "\u001b[0;32mpandas/_libs/parsers.pyx\u001b[0m in \u001b[0;36mpandas._libs.parsers.TextReader.__cinit__\u001b[0;34m()\u001b[0m\n",
      "\u001b[0;32mpandas/_libs/parsers.pyx\u001b[0m in \u001b[0;36mpandas._libs.parsers.TextReader._setup_parser_source\u001b[0;34m()\u001b[0m\n",
      "\u001b[0;31mFileNotFoundError\u001b[0m: [Errno 2] File /scratch/users/udemir15/ELEC491/bassline_transcription/data/datasets/[28, 51]/sus/TechHouse_bassline_representations_4020_augmented_min_M8.csv does not exist: '/scratch/users/udemir15/ELEC491/bassline_transcription/data/datasets/[28, 51]/sus/TechHouse_bassline_representations_4020_augmented_min_M8.csv'"
     ]
    }
   ],
   "source": [
    "M = 8\n",
    "\n",
    "data_params = {'dataset_path': '/scratch/users/udemir15/ELEC491/bassline_transcription/data/datasets/[28, 51]/sus',\n",
    "               'dataset_name': 'TechHouse_bassline_representations_4020',\n",
    "               'scale_type': 'min',\n",
    "               'M': M}\n",
    "\n",
    "X, titles = load_data(data_params, True)\n",
    "\n",
    "K = int(X.max()+1) # Number of classes, assumes consecutive [0,max] inclusive\n",
    "sequence_length = X.shape[1]\n",
    "\n",
    "print('\\nNumber of classes: {}\\nSequence Length: {}'.format(K, sequence_length))\n",
    "print('Number of data points: {}'.format(X.shape[0]))"
   ]
  },
  {
   "cell_type": "code",
   "execution_count": 11,
   "metadata": {},
   "outputs": [],
   "source": [
    "params = {\n",
    "    \"data\": {\n",
    "        \"dataset_path\": \"/scratch/users/udemir15/ELEC491/bassline_transcription/data/datasets/[28, 51]\",\n",
    "        \"dataset_name\": \"TechHouse_bassline_representations_4020_augmented\",\n",
    "        \"scale_type\": \"min\",\n",
    "        \"M\": 8\n",
    "    },\n",
    "    \"encoder\": {\n",
    "        \"embedding_size\": 12,\n",
    "        \"hidden_size\": 256,\n",
    "        \"output_size\": 64\n",
    "    },\n",
    "    \"training\": {\n",
    "        \"batch_size\": 128,\n",
    "        \"N_epochs\": 2000,\n",
    "        \"lr\": 0.0005,\n",
    "        \"teacher_forcing_ratio\": 0.75\n",
    "    }\n",
    "}"
   ]
  },
  {
   "cell_type": "code",
   "execution_count": 12,
   "metadata": {},
   "outputs": [],
   "source": [
    "encoder_params = params['encoder']\n",
    "encoder_params['input_size'] = 27\n",
    "decoder_params = {'output_size': 27,\n",
    "              'embedding_size': encoder_params['embedding_size'],\n",
    "              'hidden_size': encoder_params['output_size']}"
   ]
  },
  {
   "cell_type": "code",
   "execution_count": 16,
   "metadata": {},
   "outputs": [],
   "source": [
    "state_dict = load_state_dict(model_name)"
   ]
  },
  {
   "cell_type": "code",
   "execution_count": 8,
   "metadata": {},
   "outputs": [],
   "source": [
    "model_name = '08_06__21_03'\n",
    "model_path = os.path.join('model_checkpoints', model_name+'.pt')"
   ]
  },
  {
   "cell_type": "code",
   "execution_count": 14,
   "metadata": {},
   "outputs": [],
   "source": [
    "encoder = encoders.BidirectionalGRUEncoder(**encoder_params).to(device)\n",
    "decoder = decoders.GRUDecoderWithAttention(**decoder_params).to(device)\n",
    "\n",
    "model = models.Seq2SeqGRUWithAttention(encoder, decoder, device)"
   ]
  },
  {
   "cell_type": "code",
   "execution_count": 18,
   "metadata": {},
   "outputs": [
    {
     "data": {
      "text/plain": [
       "Seq2SeqGRUWithAttention(\n",
       "  (encoder): BidirectionalGRUEncoder(\n",
       "    (embedding): Embedding(27, 12)\n",
       "    (rnn): GRU(12, 256, batch_first=True, bidirectional=True)\n",
       "    (fc): Linear(in_features=512, out_features=64, bias=True)\n",
       "  )\n",
       "  (decoder): GRUDecoderWithAttention(\n",
       "    (attention): Attention(\n",
       "      (attn): Linear(in_features=91, out_features=64, bias=True)\n",
       "      (v): Linear(in_features=64, out_features=1, bias=False)\n",
       "    )\n",
       "    (embedding): Embedding(27, 12)\n",
       "    (rnn): GRU(39, 64, batch_first=True)\n",
       "    (fc_out): Linear(in_features=103, out_features=27, bias=True)\n",
       "  )\n",
       ")"
      ]
     },
     "execution_count": 18,
     "metadata": {},
     "output_type": "execute_result"
    }
   ],
   "source": [
    "model.load_state_dict(state_dict)\n",
    "model.eval()"
   ]
  },
  {
   "cell_type": "code",
   "execution_count": 22,
   "metadata": {},
   "outputs": [],
   "source": [
    "samples = model.sample(14)"
   ]
  },
  {
   "cell_type": "code",
   "execution_count": 23,
   "metadata": {
    "collapsed": true
   },
   "outputs": [
    {
     "data": {
      "text/plain": [
       "tensor([[14, 26, 14, 14, 14, 16,  1, 14,  1, 14, 14, 14, 14, 14,  1, 14, 14, 26,\n",
       "         14, 16, 14, 14,  1, 14,  1, 14, 14, 14, 14, 14, 26, 14, 14,  1, 16, 14,\n",
       "         14, 14,  1, 14, 26, 14, 14, 14, 14, 14,  1, 14, 14,  1, 16, 14, 26, 14,\n",
       "          1, 14, 16, 14, 14, 14, 14, 14,  1, 14],\n",
       "        [14, 26, 14, 14, 14, 16,  1, 14,  1, 14, 14, 14, 14, 14,  1, 14, 14, 26,\n",
       "         14, 16, 14, 14,  1, 14,  1, 14, 14, 14, 14, 14, 26, 14, 14,  1, 16, 14,\n",
       "         14, 14,  1, 14, 26, 14, 14, 14, 14, 14,  1, 14, 14,  1, 16, 14, 26, 14,\n",
       "          1, 14, 16, 14, 14, 14, 14, 14,  1, 14],\n",
       "        [14, 26, 14, 14, 14, 16,  1, 14,  1, 14, 14, 14, 14, 14,  1, 14, 14, 26,\n",
       "         14, 16, 14, 14,  1, 14,  1, 14, 14, 14, 14, 14, 26, 14, 14,  1, 16, 14,\n",
       "         14, 14,  1, 14, 26, 14, 14, 14, 14, 14,  1, 14, 14,  1, 16, 14, 26, 14,\n",
       "          1, 14, 16, 14, 14, 14, 14, 14,  1, 14],\n",
       "        [14, 26, 14, 14, 14, 16,  1, 14,  1, 14, 14, 14, 14, 14,  1, 14, 14, 26,\n",
       "         14, 16, 14, 14,  1, 14,  1, 14, 14, 14, 14, 14, 26, 14, 14,  1, 16, 14,\n",
       "         14, 14,  1, 14, 26, 14, 14, 14, 14, 14,  1, 14, 14,  1, 16, 14, 26, 14,\n",
       "          1, 14, 16, 14, 14, 14, 14, 14,  1, 14],\n",
       "        [14, 26, 14, 14, 14, 16,  1, 14,  1, 14, 14, 14, 14, 14,  1, 14, 14, 26,\n",
       "         14, 16, 14, 14,  1, 14,  1, 14, 14, 14, 14, 14, 26, 14, 14,  1, 16, 14,\n",
       "         14, 14,  1, 14, 26, 14, 14, 14, 14, 14,  1, 14, 14,  1, 16, 14, 26, 14,\n",
       "          1, 14, 16, 14, 14, 14, 14, 14,  1, 14],\n",
       "        [14, 26, 14, 14, 14, 16,  1, 14,  1, 14, 14, 14, 14, 14,  1, 14, 14, 26,\n",
       "         14, 16, 14, 14,  1, 14,  1, 14, 14, 14, 14, 14, 26, 14, 14,  1, 16, 14,\n",
       "         14, 14,  1, 14, 26, 14, 14, 14, 14, 14,  1, 14, 14,  1, 16, 14, 26, 14,\n",
       "          1, 14, 16, 14, 14, 14, 14, 14,  1, 14],\n",
       "        [14, 26, 14, 14, 14, 16,  1, 14,  1, 14, 14, 14, 14, 14,  1, 14, 14, 26,\n",
       "         14, 16, 14, 14,  1, 14,  1, 14, 14, 14, 14, 14, 26, 14, 14,  1, 16, 14,\n",
       "         14, 14,  1, 14, 26, 14, 14, 14, 14, 14,  1, 14, 14,  1, 16, 14, 26, 14,\n",
       "          1, 14, 16, 14, 14, 14, 14, 14,  1, 14],\n",
       "        [14, 26, 14, 14, 14, 16,  1, 14,  1, 14, 14, 14, 14, 14,  1, 14, 14, 26,\n",
       "         14, 16, 14, 14,  1, 14,  1, 14, 14, 14, 14, 14, 26, 14, 14,  1, 16, 14,\n",
       "         14, 14,  1, 14, 26, 14, 14, 14, 14, 14,  1, 14, 14,  1, 16, 14, 26, 14,\n",
       "          1, 14, 16, 14, 14, 14, 14, 14,  1, 14],\n",
       "        [14, 26, 14, 14, 14, 16,  1, 14,  1, 14, 14, 14, 14, 14,  1, 14, 14, 26,\n",
       "         14, 16, 14, 14,  1, 14,  1, 14, 14, 14, 14, 14, 26, 14, 14,  1, 16, 14,\n",
       "         14, 14,  1, 14, 26, 14, 14, 14, 14, 14,  1, 14, 14,  1, 16, 14, 26, 14,\n",
       "          1, 14, 16, 14, 14, 14, 14, 14,  1, 14],\n",
       "        [14, 26, 14, 14, 14, 16,  1, 14,  1, 14, 14, 14, 14, 14,  1, 14, 14, 26,\n",
       "         14, 16, 14, 14,  1, 14,  1, 14, 14, 14, 14, 14, 26, 14, 14,  1, 16, 14,\n",
       "         14, 14,  1, 14, 26, 14, 14, 14, 14, 14,  1, 14, 14,  1, 16, 14, 26, 14,\n",
       "          1, 14, 16, 14, 14, 14, 14, 14,  1, 14]], device='cuda:0')"
      ]
     },
     "execution_count": 23,
     "metadata": {},
     "output_type": "execute_result"
    }
   ],
   "source": [
    "samples"
   ]
  },
  {
   "cell_type": "code",
   "execution_count": 25,
   "metadata": {},
   "outputs": [],
   "source": [
    "#min_note = 28\n",
    "#sustain_code = None\n",
    "for i, sample in enumerate(samples.cpu().numpy()):\n",
    "    NN_output_to_MIDI_file(sample, '{}'.format(i), 'midi/seq2seq_att', M)\n",
    "                           #min_note=min_note,\n",
    "                           #sustain_code=sustain_code)"
   ]
  },
  {
   "cell_type": "code",
   "execution_count": null,
   "metadata": {},
   "outputs": [],
   "source": []
  }
 ],
 "metadata": {
  "kernelspec": {
   "display_name": "Python 3",
   "language": "python",
   "name": "python3"
  },
  "language_info": {
   "codemirror_mode": {
    "name": "ipython",
    "version": 3
   },
   "file_extension": ".py",
   "mimetype": "text/x-python",
   "name": "python",
   "nbconvert_exporter": "python",
   "pygments_lexer": "ipython3",
   "version": "3.7.6"
  }
 },
 "nbformat": 4,
 "nbformat_minor": 4
}
