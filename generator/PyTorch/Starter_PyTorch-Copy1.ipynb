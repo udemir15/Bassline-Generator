{
 "cells": [
  {
   "cell_type": "markdown",
   "metadata": {},
   "source": [
    "!pip install editdistance"
   ]
  },
  {
   "cell_type": "code",
   "execution_count": 1,
   "metadata": {},
   "outputs": [
    {
     "name": "stderr",
     "output_type": "stream",
     "text": [
      "wandb: Currently logged in as: raraz15 (use `wandb login --relogin` to force relogin)\n"
     ]
    },
    {
     "name": "stdout",
     "output_type": "stream",
     "text": [
      "cuda\n"
     ]
    }
   ],
   "source": [
    "%load_ext autoreload\n",
    "%autoreload 2\n",
    "\n",
    "import os\n",
    "import datetime as dt\n",
    "\n",
    "import numpy as np\n",
    "from tqdm import tqdm\n",
    "import matplotlib.pyplot as plt\n",
    "\n",
    "import torch\n",
    "import torch.nn as nn\n",
    "\n",
    "import models\n",
    "import encoders\n",
    "import decoders\n",
    "from training import train, test, checkpoint, main_wandb, main_simple\n",
    "from dataloaders import load_data, make_loaders, append_SOS\n",
    "\n",
    "\n",
    "SEED = 27\n",
    "\n",
    "np.random.seed(SEED)\n",
    "torch.manual_seed(SEED)\n",
    "torch.cuda.manual_seed(SEED)\n",
    "torch.backends.cudnn.deterministic = True\n",
    "\n",
    "device = torch.device(\"cuda\" if torch.cuda.is_available() else \"cpu\")\n",
    "print(device)"
   ]
  },
  {
   "cell_type": "code",
   "execution_count": 2,
   "metadata": {
    "scrolled": true
   },
   "outputs": [
    {
     "name": "stdout",
     "output_type": "stream",
     "text": [
      "Number of classes: 27\n",
      "Sequence Length: 65\n",
      "Number of data points: 4421\n"
     ]
    }
   ],
   "source": [
    "M = 8 \n",
    "\n",
    "data_params = {'dataset_path': '/scratch/users/udemir15/ELEC491/bassline_transcription/data/datasets/[28, 51]',\n",
    "               'dataset_name': 'TechHouse_bassline_representations',\n",
    "               'scale_type': 'min',\n",
    "               'M': M}\n",
    "\n",
    "X, titles = load_data(data_params)\n",
    "X = append_SOS(X)\n",
    "\n",
    "K = X.max()+1 # Number of classes, assumes consecutive [0,max] inclusive\n",
    "sequence_length = X.shape[1]\n",
    "\n",
    "print('Number of classes: {}\\nSequence Length: {}'.format(K, sequence_length))\n",
    "print('Number of data points: {}'.format(X.shape[0]))"
   ]
  },
  {
   "cell_type": "markdown",
   "metadata": {},
   "source": [
    "X = X[:8]"
   ]
  },
  {
   "cell_type": "markdown",
   "metadata": {},
   "source": [
    "frequencies = torch.tensor(np.unique(X, return_counts=True)).to(device)\n",
    "cross_entropy_weights = frequencies[1].max() / frequencies[1]\n",
    "cross_entropy_weights /= cross_entropy_weights.sum()\n",
    "print('Cross entropy weights:\\n{}\\n'.format(cross_entropy_weights))\n",
    "cross_entropy_weights = torch.FloatTensor(1 / (frequencies[1] / frequencies[1].max())).to(device)\n",
    "print(cross_entropy_weights)"
   ]
  },
  {
   "cell_type": "code",
   "execution_count": null,
   "metadata": {
    "scrolled": false
   },
   "outputs": [
    {
     "name": "stdout",
     "output_type": "stream",
     "text": [
      "Seq2Seq(\n",
      "  (encoder): Encoder(\n",
      "    (embedding): Embedding(27, 12)\n",
      "    (rnn): LSTM(12, 64, batch_first=True)\n",
      "  )\n",
      "  (decoder): Decoder(\n",
      "    (embedding): Embedding(27, 12)\n",
      "    (rnn): LSTM(12, 64, batch_first=True)\n",
      "    (fc_out): Linear(in_features=64, out_features=27, bias=True)\n",
      "  )\n",
      ")\n",
      "Number of parameters: 42339\n"
     ]
    },
    {
     "data": {
      "text/html": [
       "\n",
       "                Tracking run with wandb version 0.10.30<br/>\n",
       "                Syncing run <strong style=\"color:#cdcd00\">04_06__11_12</strong> to <a href=\"https://wandb.ai\" target=\"_blank\">Weights & Biases</a> <a href=\"https://docs.wandb.com/integrations/jupyter.html\" target=\"_blank\">(Documentation)</a>.<br/>\n",
       "                Project page: <a href=\"https://wandb.ai/nbg/PyTorch_Overfits\" target=\"_blank\">https://wandb.ai/nbg/PyTorch_Overfits</a><br/>\n",
       "                Run page: <a href=\"https://wandb.ai/nbg/PyTorch_Overfits/runs/2101ljat\" target=\"_blank\">https://wandb.ai/nbg/PyTorch_Overfits/runs/2101ljat</a><br/>\n",
       "                Run data is saved locally in <code>/scratch/users/udemir15/ELEC491/Bassline-Generator/generator/PyTorch/wandb/run-20210604_111217-2101ljat</code><br/><br/>\n",
       "            "
      ],
      "text/plain": [
       "<IPython.core.display.HTML object>"
      ]
     },
     "metadata": {},
     "output_type": "display_data"
    },
    {
     "name": "stderr",
     "output_type": "stream",
     "text": [
      "\r",
      "  0%|          | 0/500 [00:00<?, ?it/s]"
     ]
    },
    {
     "name": "stdout",
     "output_type": "stream",
     "text": [
      "\n",
      "Before Training:\n",
      "Test Loss: 3.2952, Test Accuracy: 0.0332, Test Distance: 60.77\n",
      "\n",
      "Sample:\n",
      "tensor([25, 10, 10, 10, 20, 20,  8, 13, 13, 13, 13, 13, 13,  1, 20, 16, 18,  4,\n",
      "        12, 16, 24, 16, 24, 16, 24, 16, 20, 16, 24, 16, 24, 16, 20, 16, 24, 16,\n",
      "        24, 16, 20, 16, 24, 16, 24, 16, 20, 16, 24, 16, 24, 16, 20, 16, 24, 16,\n",
      "        24, 16, 20, 16, 24, 16, 24, 16, 20, 16], device='cuda:0')\n",
      "\n"
     ]
    },
    {
     "name": "stderr",
     "output_type": "stream",
     "text": [
      "\r",
      "  0%|          | 1/500 [00:07<1:00:58,  7.33s/it]"
     ]
    },
    {
     "name": "stdout",
     "output_type": "stream",
     "text": [
      "Epoch: 0, train_loss: 2.295801, train_acc: 0.399, val_loss: 2.032781, val_acc: 2.033\n",
      "Sample:\n",
      "tensor([16, 22,  0,  2,  1, 26, 26, 26, 26, 26, 26, 26, 26, 26, 26, 26, 26, 26,\n",
      "        26, 26, 26, 26, 26, 26, 26, 26, 26, 26, 26, 26, 26, 26, 26, 26, 26, 26,\n",
      "        26, 26, 26, 26, 26, 26, 26, 26, 26, 26, 26, 26, 26, 26, 26, 26, 26, 26,\n",
      "        26, 26, 26, 26, 26, 26, 26, 26, 26, 26], device='cuda:0')\n"
     ]
    },
    {
     "name": "stderr",
     "output_type": "stream",
     "text": [
      "  2%|▏         | 9/500 [01:02<56:48,  6.94s/it]  "
     ]
    }
   ],
   "source": [
    "train_params = {'batch_size': 32,\n",
    "               'N_epochs': 500,\n",
    "               'teacher_forcing_ratio': 0.50,\n",
    "               'lr': 1e-3}\n",
    "\n",
    "encoder_params = {'input_size': K,\n",
    "                  'embedding_size': 12,\n",
    "                  'hidden_size': 64,\n",
    "                  'n_layers': 1}\n",
    "\n",
    "decoder_params = {'output_size': K,\n",
    "                  'embedding_size': encoder_params['embedding_size'],\n",
    "                  'hidden_size': encoder_params['hidden_size'],\n",
    "                  'n_layers': encoder_params['n_layers']}\n",
    "\n",
    "params = {'data_params': data_params,\n",
    "          'encoder_params': encoder_params,\n",
    "          'decoder_params':decoder_params, \n",
    "          'train_params':train_params}\n",
    "\n",
    "encoder = encoders.Encoder(**encoder_params)\n",
    "decoder = decoders.Decoder(**decoder_params)\n",
    "\n",
    "model = models.Seq2Seq(encoder, decoder, device, train_params['teacher_forcing_ratio']).to(device)\n",
    "\n",
    "print(model)\n",
    "print('Number of parameters: {}'.format(sum([parameter.numel() for parameter in model.parameters()])))\n",
    "\n",
    "criterion = nn.CrossEntropyLoss(reduction='mean')\n",
    "optimizer = torch.optim.Adam(model.parameters(), lr=train_params['lr'])\n",
    "\n",
    "train_loader, validation_loader, test_loader = make_loaders(X, train_params)\n",
    "\n",
    "main_wandb(model, criterion, optimizer, device, train_loader, validation_loader, test_loader, params)\n",
    "#main_simple(model, criterion, optimizer, device, train_loader, validation_loader, test_loader, params)"
   ]
  },
  {
   "cell_type": "code",
   "execution_count": null,
   "metadata": {},
   "outputs": [],
   "source": [
    "test_loss, test_acc = test(model, test_loader, criterion, device)\n",
    "samples = model.sample()\n",
    "\n",
    "for epoch in tqdm(range(train_params['N_epochs'])):\n",
    "\n",
    "    train_loss, train_acc = train(model, train_loader, optimizer, criterion, device)\n",
    "    validation_loss, validation_acc = test(model, validation_loader, criterion, device)\n",
    "    \n",
    "    model.decoder.update_teacher_forcing_ratio(decoder_params['teacher_forcing_ratio']/train_params['N_epochs'])\n",
    "    \n",
    "    if epoch+1 % 5:\n",
    "        print('Epoch: {}, train_loss: {:.6f}, acc: {:.3f}'.format(epoch+1, train_loss, train_acc))\n",
    "\n",
    "test_loss, test_acc = test(model, test_loader, criterion, device)\n",
    "print('Test Loss After Training: {:.6f}'.format(test_loss))"
   ]
  }
 ],
 "metadata": {
  "kernelspec": {
   "display_name": "Python 3",
   "language": "python",
   "name": "python3"
  },
  "language_info": {
   "codemirror_mode": {
    "name": "ipython",
    "version": 3
   },
   "file_extension": ".py",
   "mimetype": "text/x-python",
   "name": "python",
   "nbconvert_exporter": "python",
   "pygments_lexer": "ipython3",
   "version": "3.7.6"
  }
 },
 "nbformat": 4,
 "nbformat_minor": 5
}
