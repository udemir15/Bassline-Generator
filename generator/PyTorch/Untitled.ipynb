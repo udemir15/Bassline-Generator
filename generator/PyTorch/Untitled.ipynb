{
 "cells": [
  {
   "cell_type": "code",
   "execution_count": null,
   "metadata": {},
   "outputs": [],
   "source": []
  },
  {
   "cell_type": "code",
   "execution_count": null,
   "metadata": {},
   "outputs": [],
   "source": [
    "class VanillaAutoEncoder(nn.Module):\n",
    "    \n",
    "    def __init__(self, embedding, encoder, decoder, teacher_forcing_ratio=0.0):\n",
    "        \n",
    "        super().__init__()\n",
    "        \n",
    "        self.embedding = embedding\n",
    "        self.encoder = encoder\n",
    "        self.decoder = decoder\n",
    "                   \n",
    "    def forward(self, x):\n",
    "        \n",
    "        x_embed = self.embedding(x)\n",
    "                \n",
    "        y, (h, c) = self.encoder(x_embed)\n",
    "        \n",
    "        if teacher_forcing_ratio:\n",
    "            output_sequence = self.decoder(y, (h, c), x_embed)\n",
    "        else: \n",
    "            output_sequence = self.decoder(y, (h, c)) \n",
    "            \n",
    "        return output_sequence.permute(0,2,1) # for loss calculation\n",
    "    \n",
    "    \n",
    "    # DECODER INPUT????????\n",
    "    def sample(self ,x):        \n",
    "        x = torch.zeros((self.decoder.batch_size, self.decoder.input_size)).cuda()        \n",
    "        (h, c) = self.decoder.init_hidden_cell_states(random=True)    \n",
    "        sample = self.decoder(x, (h, c))        \n",
    "        return sample.argmax(dim=-1)"
   ]
  }
 ],
 "metadata": {
  "kernelspec": {
   "display_name": "Python 3",
   "language": "python",
   "name": "python3"
  },
  "language_info": {
   "codemirror_mode": {
    "name": "ipython",
    "version": 3
   },
   "file_extension": ".py",
   "mimetype": "text/x-python",
   "name": "python",
   "nbconvert_exporter": "python",
   "pygments_lexer": "ipython3",
   "version": "3.7.6"
  }
 },
 "nbformat": 4,
 "nbformat_minor": 4
}
