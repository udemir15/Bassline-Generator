{
 "cells": [
  {
   "cell_type": "code",
   "execution_count": 1,
   "metadata": {},
   "outputs": [
    {
     "name": "stdout",
     "output_type": "stream",
     "text": [
      "cuda\n"
     ]
    },
    {
     "name": "stderr",
     "output_type": "stream",
     "text": [
      "wandb: Currently logged in as: raraz15 (use `wandb login --relogin` to force relogin)\n"
     ]
    },
    {
     "data": {
      "text/plain": [
       "True"
      ]
     },
     "execution_count": 1,
     "metadata": {},
     "output_type": "execute_result"
    }
   ],
   "source": [
    "%load_ext autoreload\n",
    "%autoreload 2\n",
    "\n",
    "import os\n",
    "import datetime as dt\n",
    "\n",
    "import pandas as pd\n",
    "import numpy as np\n",
    "from tqdm import tqdm\n",
    "import matplotlib.pyplot as plt\n",
    "\n",
    "import torch\n",
    "import torch.nn as nn\n",
    "\n",
    "\n",
    "device = torch.device(\"cuda\" if torch.cuda.is_available() else \"cpu\")\n",
    "print(device)\n",
    "\n",
    "import models\n",
    "import encoders\n",
    "import decoders\n",
    "from training import train, test, checkpoint\n",
    "from dataloaders import load_data, create_loaders\n",
    "\n",
    "WANDB_API_KEY= '52c84ab3f3b5c1f999c7f5f389f5e423f46fc04a'\n",
    "import wandb\n",
    "wandb.login()"
   ]
  },
  {
   "cell_type": "code",
   "execution_count": 3,
   "metadata": {
    "scrolled": true
   },
   "outputs": [
    {
     "name": "stdout",
     "output_type": "stream",
     "text": [
      "Number of classes: 27\n",
      "Sequence Length: 65\n",
      "Number of data points: 3481\n"
     ]
    }
   ],
   "source": [
    "#dataset_path = '/projects/bassline_transcription/data/datasets'\n",
    "#dataset_path = '/scratch/users/udemir15/ELEC491/bassline_transcription/data/datasets'\n",
    "dataset_path = '/scratch/users/udemir15/ELEC491/bassline_transcription/data/datasets/[28, 51]'\n",
    "\n",
    "dataset_name = 'traxsource_0-5000_bassline_representations'\n",
    "M = 8 \n",
    "\n",
    "\n",
    "data_params = {'dataset_path': dataset_path,\n",
    "               'dataset_name': dataset_name,\n",
    "               'scale_type': 'min',\n",
    "               'M': M,\n",
    "               'batch_size': 64}\n",
    "\n",
    "X = load_data(data_params)\n",
    "\n",
    "X = append_SOS(X)\n",
    "\n",
    "frequencies = np.unique(X, return_counts=True)\n",
    "\n",
    "K = X.max()+1 # Number of classes, assumes consecutive\n",
    "sequence_length = X.shape[1]\n",
    "\n",
    "print('Number of classes: {}\\nSequence Length: {}'.format(K, sequence_length))\n",
    "print('Number of data points: {}'.format(X.shape[0]))"
   ]
  },
  {
   "cell_type": "markdown",
   "metadata": {},
   "source": [
    "cross_entropy_weights = torch.FloatTensor(1 / (frequencies[1] / frequencies[1].max())).to(device)\n",
    "print(cross_entropy_weights)"
   ]
  },
  {
   "cell_type": "code",
   "execution_count": 4,
   "metadata": {},
   "outputs": [],
   "source": [
    "embedding_params = {'num_embeddings': K,\n",
    "                    'embedding_size': 32}\n",
    "\n",
    "encoder_params = {'num_embeddings': embedding_params['num_embeddings'],\n",
    "                  'embedding_size': embedding_params['embedding_size'],\n",
    "                  'hidden_size': 256,\n",
    "                  'dropout': 0.0,  \n",
    "                  'num_layers': 1,              \n",
    "                  'batch_size': data_params['batch_size'],\n",
    "                  'device':device}\n",
    "\n",
    "decoder_params = {'num_embeddings': embedding_params['num_embeddings'],\n",
    "                  'embedding_size': embedding_params['embedding_size'],\n",
    "                  'hidden_size': encoder_params['hidden_size'],\n",
    "                 'num_layers': encoder_params['num_layers'], \n",
    "                 'dropout': 0.0,\n",
    "                 'batch_size': data_params['batch_size'],\n",
    "                 'sequence_length': sequence_length,\n",
    "                 'device':device,\n",
    "                 'teacher_forcing_ratio': 1.0}\n",
    "\n",
    "train_params = {'batch_size': data_params['batch_size'],\n",
    "                'N_epochs': 1000}\n",
    "\n",
    "all_params = {'embedding_params':embedding_params,\n",
    "              'encoder_params': encoder_params,\n",
    "              'decoder_params':decoder_params, \n",
    "              'train_params':train_params}"
   ]
  },
  {
   "cell_type": "code",
   "execution_count": 5,
   "metadata": {},
   "outputs": [
    {
     "name": "stdout",
     "output_type": "stream",
     "text": [
      "Seq2Seq(\n",
      "  (encoder): Seq2SeqEncoder(\n",
      "    (embedding): Embedding(27, 32)\n",
      "    (net): LSTMnetwork(\n",
      "      (lstm): LSTM(32, 256, batch_first=True, bidirectional=True)\n",
      "    )\n",
      "  )\n",
      "  (decoder): Seq2SeqDecoder(\n",
      "    (embedding): Embedding(27, 32)\n",
      "    (rnn): LSTMnetwork(\n",
      "      (lstm): LSTM(288, 256, batch_first=True)\n",
      "    )\n",
      "    (linear): Linear(in_features=544, out_features=27, bias=True)\n",
      "  )\n",
      ")\n",
      "Number of parameters: 1169467\n"
     ]
    }
   ],
   "source": [
    "encoder = encoders.Seq2SeqEncoder(**encoder_params).to(device)\n",
    "decoder = decoders.Seq2SeqDecoder(**decoder_params).to(device)\n",
    "model = models.Seq2Seq(encoder, decoder).to(device)\n",
    "\n",
    "print(model)\n",
    "print('Number of parameters: {}'.format(sum([parameter.numel() for parameter in model.parameters()])))\n",
    "\n",
    "criterion = nn.CrossEntropyLoss(reduction='mean') #, weight=cross_entropy_weights\n",
    "optimizer = torch.optim.Adam(model.parameters(), lr=1e-3)\n",
    "\n",
    "train_loader, validation_loader, test_loader = create_loaders(X, data_params)"
   ]
  },
  {
   "cell_type": "code",
   "execution_count": null,
   "metadata": {
    "scrolled": false
   },
   "outputs": [
    {
     "data": {
      "text/html": [
       "\n",
       "                Tracking run with wandb version 0.10.30<br/>\n",
       "                Syncing run <strong style=\"color:#cdcd00\">27_05__19_53</strong> to <a href=\"https://wandb.ai\" target=\"_blank\">Weights & Biases</a> <a href=\"https://docs.wandb.com/integrations/jupyter.html\" target=\"_blank\">(Documentation)</a>.<br/>\n",
       "                Project page: <a href=\"https://wandb.ai/nbg/PyTorch_experiments\" target=\"_blank\">https://wandb.ai/nbg/PyTorch_experiments</a><br/>\n",
       "                Run page: <a href=\"https://wandb.ai/nbg/PyTorch_experiments/runs/2ksxswfo\" target=\"_blank\">https://wandb.ai/nbg/PyTorch_experiments/runs/2ksxswfo</a><br/>\n",
       "                Run data is saved locally in <code>/scratch/users/udemir15/ELEC491/Bassline-Generator/generator/PyTorch/wandb/run-20210527_195333-2ksxswfo</code><br/><br/>\n",
       "            "
      ],
      "text/plain": [
       "<IPython.core.display.HTML object>"
      ]
     },
     "metadata": {},
     "output_type": "display_data"
    },
    {
     "name": "stderr",
     "output_type": "stream",
     "text": [
      "\r",
      "  0%|          | 0/1000 [00:00<?, ?it/s]"
     ]
    },
    {
     "name": "stdout",
     "output_type": "stream",
     "text": [
      "Test Loss Before Training: 3.248304\n",
      "Test Accuracy Before Training: 0.000\n",
      "Initial Sample:\n",
      "tensor([22,  2, 22,  3, 22,  3, 22,  3, 22,  3, 22,  3, 22,  3, 22,  3, 22,  3,\n",
      "        22,  3, 22,  3, 22,  3, 22,  3, 22,  3, 22,  3, 22,  3, 22,  3, 22,  3,\n",
      "        22,  3, 22,  3, 22,  3, 22,  3, 22,  3, 22,  3, 22,  3, 22,  3, 22,  3,\n",
      "        22,  3, 22,  3, 22,  3, 22,  3, 22,  3, 22], device='cuda:0')\n",
      "\n"
     ]
    },
    {
     "name": "stderr",
     "output_type": "stream",
     "text": [
      "\r",
      "  0%|          | 1/1000 [00:04<1:14:07,  4.45s/it]"
     ]
    },
    {
     "name": "stdout",
     "output_type": "stream",
     "text": [
      "Epoch: 0, train_loss: 1.363090, train_acc: 0.662,             val_loss: 0.582728, val_acc: 0.877\n",
      "Sample:\n",
      "tensor([0, 0, 0, 0, 0, 0, 0, 0, 0, 0, 0, 0, 0, 0, 0, 0, 0, 0, 0, 0, 0, 0, 0, 0,\n",
      "        0, 0, 0, 0, 0, 0, 0, 0, 0, 0, 0, 0, 0, 0, 0, 0, 0, 0, 0, 0, 0, 0, 0, 0,\n",
      "        0, 0, 0, 0, 0, 0, 0, 0, 0, 0, 0, 0, 0, 0, 0, 0, 0], device='cuda:0')\n"
     ]
    },
    {
     "name": "stderr",
     "output_type": "stream",
     "text": [
      "  3%|▎         | 26/1000 [01:40<1:00:05,  3.70s/it]"
     ]
    },
    {
     "name": "stdout",
     "output_type": "stream",
     "text": [
      "Epoch: 25, train_loss: 0.052030, train_acc: 0.989,             val_loss: 0.059534, val_acc: 0.986\n"
     ]
    },
    {
     "name": "stderr",
     "output_type": "stream",
     "text": [
      "  5%|▌         | 51/1000 [03:13<57:50,  3.66s/it]  "
     ]
    },
    {
     "name": "stdout",
     "output_type": "stream",
     "text": [
      "Epoch: 50, train_loss: 0.091722, train_acc: 0.976,             val_loss: 0.100201, val_acc: 0.977\n",
      "Sample:\n",
      "tensor([20, 20, 20, 20, 20, 20, 20, 20, 20, 20, 20, 20, 20, 20, 20, 20, 20, 20,\n",
      "        20, 20, 20, 20, 20, 20, 20, 20, 20, 20, 20, 20, 20, 20, 20, 20, 20, 20,\n",
      "        20, 20, 20, 20, 20, 20, 20, 20, 20, 20, 20, 20, 20, 20, 20, 20, 20, 20,\n",
      "        20, 20, 20, 20, 20, 20, 20, 20, 20, 20, 20], device='cuda:0')\n"
     ]
    },
    {
     "name": "stderr",
     "output_type": "stream",
     "text": [
      "  8%|▊         | 76/1000 [04:49<58:18,  3.79s/it]  "
     ]
    },
    {
     "name": "stdout",
     "output_type": "stream",
     "text": [
      "Epoch: 75, train_loss: 0.118969, train_acc: 0.968,             val_loss: 0.137317, val_acc: 0.963\n"
     ]
    },
    {
     "name": "stderr",
     "output_type": "stream",
     "text": [
      " 10%|█         | 101/1000 [06:22<54:57,  3.67s/it] "
     ]
    },
    {
     "name": "stdout",
     "output_type": "stream",
     "text": [
      "Epoch: 100, train_loss: 0.137892, train_acc: 0.960,             val_loss: 0.124108, val_acc: 0.965\n",
      "Sample:\n",
      "tensor([19, 19, 19, 19, 19, 19, 19, 19, 19, 19, 19, 19, 19, 19, 19, 19, 19, 19,\n",
      "        19, 19, 19, 19, 19, 19, 19, 19, 19, 19, 19, 19, 19, 19, 19, 19, 19, 19,\n",
      "        19, 19, 19, 19, 19, 19, 19, 19, 19, 19, 19, 19, 19, 19, 19, 19, 19, 19,\n",
      "        19, 19, 19, 19, 19, 19, 19, 19, 19, 19, 19], device='cuda:0')\n"
     ]
    },
    {
     "name": "stderr",
     "output_type": "stream",
     "text": [
      " 13%|█▎        | 126/1000 [07:58<57:04,  3.92s/it]"
     ]
    },
    {
     "name": "stdout",
     "output_type": "stream",
     "text": [
      "Epoch: 125, train_loss: 0.138533, train_acc: 0.959,             val_loss: 0.179749, val_acc: 0.949\n"
     ]
    },
    {
     "name": "stderr",
     "output_type": "stream",
     "text": [
      " 14%|█▍        | 140/1000 [08:52<56:05,  3.91s/it]"
     ]
    }
   ],
   "source": [
    "project_name = 'PyTorch_experiments'\n",
    "\n",
    "model_name = dt.datetime.strftime(dt.datetime.now(),\"%d_%m__%H_%M\")\n",
    "\n",
    "with wandb.init(project=project_name, name=model_name, config=all_params, entity='nbg'):\n",
    "\n",
    "    test_loss, test_acc = test(model, test_loader, criterion, device)\n",
    "    samples = model.sample()\n",
    "    print('Test Loss Before Training: {:.6f}'.format(test_loss))\n",
    "    print('Test Accuracy Before Training: {:.3f}'.format(test_acc))    \n",
    "    print('Initial Sample:\\n{}\\n'.format(samples[0]))    \n",
    "    wandb.log({'test_loss': test_loss, 'test_accuracy': test_acc, 'samples': samples})\n",
    "\n",
    "    for epoch in tqdm(range(train_params['N_epochs'])):\n",
    "\n",
    "        train_loss, train_acc = train(model, train_loader, optimizer, criterion, device)\n",
    "        validation_loss, validation_acc = test(model, validation_loader, criterion, device)\n",
    "        \n",
    "        model.decoder.update_teacher_forcing_ratio(decoder_params['teacher_forcing_ratio']/train_params['N_epochs'])       \n",
    "        \n",
    "        wandb.log({'train_loss': train_loss, 'train_accuracy': train_acc,\n",
    "                  'validation_loss': validation_loss, 'validation_acc': validation_acc})\n",
    "        \n",
    "        checkpoint(model_name, model, optimizer, validation_acc, epoch)\n",
    "\n",
    "        if not (epoch % 25):\n",
    "            print('Epoch: {}, train_loss: {:.6f}, train_acc: {:.3f}, \\\n",
    "            val_loss: {:.6f}, val_acc: {:.3f}'.format(epoch, train_loss, train_acc, validation_loss, validation_acc))\n",
    "            \n",
    "        if not (epoch % 50):\n",
    "            samples = model.sample()\n",
    "            print('Sample:\\n{}'.format(samples[0]))\n",
    "            wandb.log({'samples': samples})\n",
    "            \n",
    "    test_loss, test_acc = test(model, test_loader, criterion, device)\n",
    "    samples = model.sample()\n",
    "    print('\\nTest Loss After Training: {:.6f}'.format(test_loss))\n",
    "    print('Test Accuracy After Training: {:.3f}'.format(test_acc))\n",
    "    print('\\nFinal Sample:\\n{}'.format(samples[0]))\n",
    "    wandb.log({'test_loss': test_loss, 'test_accuracy': test_acc, 'samples': samples})    "
   ]
  },
  {
   "cell_type": "code",
   "execution_count": null,
   "metadata": {},
   "outputs": [],
   "source": []
  },
  {
   "cell_type": "code",
   "execution_count": null,
   "metadata": {},
   "outputs": [],
   "source": [
    "test_loss, test_acc = test(model, test_loader, criterion, device)\n",
    "samples = model.sample()\n",
    "print('Test Loss Before Training: {:.6f}'.format(test_loss))\n",
    "print('Test Accuracy Before Training: {:.3f}'.format(test_acc))    \n",
    "print('Initial Sample:\\n{}\\n'.format(samples[0]))    \n",
    "\n",
    "for epoch in tqdm(range(train_params['N_epochs'])):\n",
    "\n",
    "    train_loss, train_acc = train(model, train_loader, optimizer, criterion, device)\n",
    "    validation_loss, validation_acc = test(model, validation_loader, criterion, device)\n",
    "\n",
    "    model.decoder.update_teacher_forcing_ratio(decoder_params['teacher_forcing_ratio']/train_params['N_epochs'])       \n",
    "\n",
    "    checkpoint(model_name, model, optimizer, validation_acc, epoch)\n",
    "\n",
    "    if not (epoch % 25):\n",
    "        print('Epoch: {}, train_loss: {:.6f}, train_acc: {:.3f}, \\\n",
    "        val_loss: {:.6f}, val_acc: {:.3f}'.format(epoch, train_loss, train_acc, validation_loss, validation_acc))\n",
    "\n",
    "    if not (epoch % 50):\n",
    "        samples = model.sample()\n",
    "        print('Sample:\\n{}'.format(samples[0]))\n",
    "\n",
    "test_loss, test_acc = test(model, test_loader, criterion, device)\n",
    "samples = model.sample()\n",
    "print('\\nTest Loss After Training: {:.6f}'.format(test_loss))\n",
    "print('Test Accuracy After Training: {:.3f}'.format(test_acc))\n",
    "print('\\nFinal Sample:\\n{}'.format(samples[0])) "
   ]
  },
  {
   "cell_type": "code",
   "execution_count": null,
   "metadata": {},
   "outputs": [],
   "source": [
    "test_loss, test_acc = test(model, test_loader, criterion, device)\n",
    "samples = model.sample()\n",
    "\n",
    "for epoch in tqdm(range(train_params['N_epochs'])):\n",
    "\n",
    "    train_loss, train_acc = train(model, train_loader, optimizer, criterion, device)\n",
    "    validation_loss, validation_acc = test(model, validation_loader, criterion, device)\n",
    "    \n",
    "    model.decoder.update_teacher_forcing_ratio(decoder_params['teacher_forcing_ratio']/train_params['N_epochs'])\n",
    "    \n",
    "    if epoch+1 % 5:\n",
    "        print('Epoch: {}, train_loss: {:.6f}, acc: {:.3f}'.format(epoch+1, train_loss, train_acc))\n",
    "\n",
    "test_loss, test_acc = test(model, test_loader, criterion, device)\n",
    "print('Test Loss After Training: {:.6f}'.format(test_loss))"
   ]
  },
  {
   "cell_type": "markdown",
   "metadata": {},
   "source": [
    "embedding = nn.Embedding(**embedding_params)\n",
    "\n",
    "encoder = encoders.StackedBidirLSTMEncoder(**encoder_params).to(device)\n",
    "\n",
    "#decoder = decoders.StackedUnidirLSTMDecoder(**decoder_params).to(device)\n",
    "decoder = decoders.StackedUnidirLSTMDenseDecoder(**decoder_params).to(device)\n",
    "\n",
    "model = models.VanillaAutoEncoder(embedding, encoder, decoder).to(device)\n",
    "print(model)\n",
    "print('Number of parameters: {}'.format(sum([parameter.numel() for parameter in model.parameters()])))\n",
    "\n",
    "criterion = nn.CrossEntropyLoss(reduction='mean') #, weight=cross_entropy_weights\n",
    "optimizer = torch.optim.Adam(model.parameters(), lr=1e-3)"
   ]
  },
  {
   "cell_type": "code",
   "execution_count": null,
   "metadata": {},
   "outputs": [],
   "source": []
  },
  {
   "cell_type": "markdown",
   "metadata": {},
   "source": [
    "encoder_params = {'num_embeddings': K,\n",
    "                  'embedding_dim': 16, #??\n",
    "                  'hidden_size': 128,\n",
    "                  'dropout': 0,  \n",
    "                  'num_layers': 4,              \n",
    "                  'batch_size': data_params['batch_size'],\n",
    "                  'device':device}\n",
    "\n",
    "decoder_params = {'input_size': encoder_params['hidden_size'],\n",
    "                  'output_size': K,\n",
    "                 'num_layers': encoder_params['num_layers'], \n",
    "                 'dropout': 0,\n",
    "                 'batch_size': data_params['batch_size'],\n",
    "                 'sequence_length': sequence_length,\n",
    "                 'device':device}\n",
    "\n",
    "train_params = {'batch_size': data_params['batch_size'],\n",
    "                'N_epochs': 10}\n",
    "\n",
    "all_params = {'encoder_params': encoder_params, 'decoder_params':decoder_params, 'train_params':train_params}"
   ]
  },
  {
   "cell_type": "markdown",
   "metadata": {
    "scrolled": true
   },
   "source": [
    "embedding_params = {'num_embeddings': K,\n",
    "                    'embedding_dim': 32}\n",
    "\n",
    "encoder_params = {'input_size': embedding_params['embedding_dim'],\n",
    "                  'hidden_size': embedding_params['embedding_dim'],\n",
    "                  'dropout': 0.5,  \n",
    "                  'num_layers': 16,              \n",
    "                  'batch_size': data_params['batch_size'],\n",
    "                  'device':device}\n",
    "\n",
    "#StackedUnidirLSTMDenseDecoder / StackedUnidirectionalLSTMDecoder\n",
    "decoder_params = {'input_size': encoder_params['hidden_size'],\n",
    "                  'output_size': K,\n",
    "                 'num_layers': encoder_params['num_layers'], \n",
    "                 'dropout': 0.5,\n",
    "                 'batch_size': data_params['batch_size'],\n",
    "                 'sequence_length': sequence_length,\n",
    "                 'device':device,\n",
    "                 'teacher_forcing_ratio': 1.0}\n",
    "\n",
    "#StackedUnidirectionalLSTMDecoderwithEmbedding \n",
    "\"\"\"decoder_params = {'num_embeddings': K,\n",
    "                  'embedding_dim': 16,\n",
    "                  'hidden_size': 128,                  \n",
    "                  'num_layers': encoder_params['num_layers'], \n",
    "                  'dropout': 0.2,\n",
    "                  'batch_size': data_params['batch_size'],\n",
    "                  'sequence_length': sequence_length,\n",
    "                  'device':device}\"\"\"\n",
    "\n",
    "train_params = {'batch_size': data_params['batch_size'],\n",
    "                'N_epochs': 500}\n",
    "\n",
    "all_params = {'embedding_params':embedding_params,'encoder_params': encoder_params,\n",
    "              'decoder_params':decoder_params, 'train_params':train_params}"
   ]
  },
  {
   "cell_type": "markdown",
   "metadata": {},
   "source": [
    "encoder = encoders.StackedBidirLSTMEncoder(**encoder_params).to(device)\n",
    "\n",
    "decoder = decoders.StackedUnidirLSTMDecoderwithEmbedding(**decoder_params).to(device)\n",
    "\n",
    "model = models.AutoEncoder(encoder, decoder, device).to(device)\n",
    "print(model)\n",
    "print('Number of parameters: {}'.format(sum([parameter.numel() for parameter in model.parameters()])))\n",
    "\n",
    "criterion = nn.CrossEntropyLoss()\n",
    "optimizer = torch.optim.Adam(model.parameters(), lr=1e-3)"
   ]
  }
 ],
 "metadata": {
  "kernelspec": {
   "display_name": "Python 3",
   "language": "python",
   "name": "python3"
  },
  "language_info": {
   "codemirror_mode": {
    "name": "ipython",
    "version": 3
   },
   "file_extension": ".py",
   "mimetype": "text/x-python",
   "name": "python",
   "nbconvert_exporter": "python",
   "pygments_lexer": "ipython3",
   "version": "3.7.6"
  }
 },
 "nbformat": 4,
 "nbformat_minor": 5
}
