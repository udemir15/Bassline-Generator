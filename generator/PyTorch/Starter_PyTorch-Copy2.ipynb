{
 "cells": [
  {
   "cell_type": "markdown",
   "metadata": {},
   "source": [
    "!pip install editdistance"
   ]
  },
  {
   "cell_type": "code",
   "execution_count": 1,
   "metadata": {},
   "outputs": [
    {
     "name": "stderr",
     "output_type": "stream",
     "text": [
      "wandb: Currently logged in as: raraz15 (use `wandb login --relogin` to force relogin)\n"
     ]
    },
    {
     "name": "stdout",
     "output_type": "stream",
     "text": [
      "cuda\n"
     ]
    }
   ],
   "source": [
    "%load_ext autoreload\n",
    "%autoreload 2\n",
    "\n",
    "import os\n",
    "import datetime as dt\n",
    "\n",
    "import numpy as np\n",
    "from tqdm import tqdm\n",
    "import matplotlib.pyplot as plt\n",
    "\n",
    "import torch\n",
    "import torch.nn as nn\n",
    "\n",
    "import models\n",
    "import encoders\n",
    "import decoders\n",
    "from training import train, test, checkpoint, main_wandb, main_simple\n",
    "from dataloaders import load_data, make_loaders, append_SOS\n",
    "\n",
    "\n",
    "SEED = 27\n",
    "\n",
    "np.random.seed(SEED)\n",
    "torch.manual_seed(SEED)\n",
    "torch.cuda.manual_seed(SEED)\n",
    "torch.backends.cudnn.deterministic = True\n",
    "\n",
    "device = torch.device(\"cuda\" if torch.cuda.is_available() else \"cpu\")\n",
    "print(device)"
   ]
  },
  {
   "cell_type": "code",
   "execution_count": 2,
   "metadata": {
    "scrolled": true
   },
   "outputs": [
    {
     "name": "stdout",
     "output_type": "stream",
     "text": [
      "Number of classes: 27\n",
      "Sequence Length: 65\n",
      "Number of data points: 4421\n"
     ]
    }
   ],
   "source": [
    "M = 8 \n",
    "\n",
    "data_params = {'dataset_path': '/scratch/users/udemir15/ELEC491/bassline_transcription/data/datasets/[28, 51]',\n",
    "               'dataset_name': 'TechHouse_bassline_representations',\n",
    "               'scale_type': 'min',\n",
    "               'M': M}\n",
    "\n",
    "X, titles = load_data(data_params)\n",
    "X = append_SOS(X)\n",
    "\n",
    "K = X.max()+1 # Number of classes, assumes consecutive [0,max] inclusive\n",
    "sequence_length = X.shape[1]\n",
    "\n",
    "print('Number of classes: {}\\nSequence Length: {}'.format(K, sequence_length))\n",
    "print('Number of data points: {}'.format(X.shape[0]))"
   ]
  },
  {
   "cell_type": "markdown",
   "metadata": {},
   "source": [
    "X = X[:8]"
   ]
  },
  {
   "cell_type": "markdown",
   "metadata": {},
   "source": [
    "frequencies = torch.tensor(np.unique(X, return_counts=True)).to(device)\n",
    "cross_entropy_weights = frequencies[1].max() / frequencies[1]\n",
    "cross_entropy_weights /= cross_entropy_weights.sum()\n",
    "print('Cross entropy weights:\\n{}\\n'.format(cross_entropy_weights))\n",
    "cross_entropy_weights = torch.FloatTensor(1 / (frequencies[1] / frequencies[1].max())).to(device)\n",
    "print(cross_entropy_weights)"
   ]
  },
  {
   "cell_type": "code",
   "execution_count": null,
   "metadata": {
    "scrolled": false
   },
   "outputs": [
    {
     "name": "stdout",
     "output_type": "stream",
     "text": [
      "Seq2Seq(\n",
      "  (encoder): Encoder(\n",
      "    (embedding): Embedding(27, 12)\n",
      "    (rnn): LSTM(12, 128, num_layers=2, batch_first=True)\n",
      "  )\n",
      "  (decoder): Decoder(\n",
      "    (embedding): Embedding(27, 12)\n",
      "    (rnn): LSTM(12, 128, num_layers=2, batch_first=True)\n",
      "    (fc_out): Linear(in_features=128, out_features=27, bias=True)\n",
      "  )\n",
      ")\n",
      "Number of parameters: 413731\n"
     ]
    },
    {
     "data": {
      "text/html": [
       "\n",
       "                Tracking run with wandb version 0.10.30<br/>\n",
       "                Syncing run <strong style=\"color:#cdcd00\">04_06__11_16</strong> to <a href=\"https://wandb.ai\" target=\"_blank\">Weights & Biases</a> <a href=\"https://docs.wandb.com/integrations/jupyter.html\" target=\"_blank\">(Documentation)</a>.<br/>\n",
       "                Project page: <a href=\"https://wandb.ai/nbg/PyTorch_Overfits\" target=\"_blank\">https://wandb.ai/nbg/PyTorch_Overfits</a><br/>\n",
       "                Run page: <a href=\"https://wandb.ai/nbg/PyTorch_Overfits/runs/3tnzd5mx\" target=\"_blank\">https://wandb.ai/nbg/PyTorch_Overfits/runs/3tnzd5mx</a><br/>\n",
       "                Run data is saved locally in <code>/scratch/users/udemir15/ELEC491/Bassline-Generator/generator/PyTorch/wandb/run-20210604_111633-3tnzd5mx</code><br/><br/>\n",
       "            "
      ],
      "text/plain": [
       "<IPython.core.display.HTML object>"
      ]
     },
     "metadata": {},
     "output_type": "display_data"
    },
    {
     "name": "stderr",
     "output_type": "stream",
     "text": [
      "\r",
      "  0%|          | 0/500 [00:00<?, ?it/s]"
     ]
    },
    {
     "name": "stdout",
     "output_type": "stream",
     "text": [
      "\n",
      "Before Training:\n",
      "Test Loss: 3.2999, Test Accuracy: 0.0074, Test Distance: 63.48\n",
      "\n",
      "Sample:\n",
      "tensor([21, 21, 21,  4,  4,  4,  4, 18, 18, 18, 18, 18,  0, 18, 18, 18,  0, 23,\n",
      "        18, 18,  0, 23, 18, 18,  0, 23, 18, 18,  0, 23, 18, 18,  0, 23, 18, 18,\n",
      "         0, 23, 18, 18,  0, 23, 18, 18,  0, 23, 18, 18,  0, 23, 18, 18,  0, 23,\n",
      "        18, 18,  0, 23, 18, 18,  0, 23, 18, 18], device='cuda:0')\n",
      "\n"
     ]
    },
    {
     "name": "stderr",
     "output_type": "stream",
     "text": [
      "\r",
      "  0%|          | 1/500 [00:10<1:23:56, 10.09s/it]"
     ]
    },
    {
     "name": "stdout",
     "output_type": "stream",
     "text": [
      "Epoch: 0, train_loss: 2.167648, train_acc: 0.400, val_loss: 2.031269, val_acc: 2.031\n",
      "Sample:\n",
      "tensor([26, 26, 26, 26, 26, 26, 26, 26, 26, 26, 26, 26, 26, 26, 26, 26, 26, 26,\n",
      "        26, 26, 26, 26, 26, 26, 26, 26, 26, 26, 26, 26, 26, 26, 26, 26, 26, 26,\n",
      "        26, 26, 26, 26, 26, 26, 26, 26, 26, 26, 26, 26, 26, 26, 26, 26, 26, 26,\n",
      "        26, 26, 26, 26, 26, 26, 26, 26, 26, 26], device='cuda:0')\n"
     ]
    },
    {
     "name": "stderr",
     "output_type": "stream",
     "text": [
      "  5%|▌         | 26/500 [03:50<1:07:47,  8.58s/it]"
     ]
    },
    {
     "name": "stdout",
     "output_type": "stream",
     "text": [
      "Epoch: 25, train_loss: 1.311433, train_acc: 0.555, val_loss: 1.324432, val_acc: 1.324\n"
     ]
    },
    {
     "name": "stderr",
     "output_type": "stream",
     "text": [
      " 10%|█         | 51/500 [07:33<1:04:12,  8.58s/it]"
     ]
    },
    {
     "name": "stdout",
     "output_type": "stream",
     "text": [
      "Epoch: 50, train_loss: 0.951473, train_acc: 0.673, val_loss: 1.068439, val_acc: 1.068\n",
      "Sample:\n",
      "tensor([10, 15, 26,  1,  1, 26,  1, 26, 26, 26, 26, 26,  1, 17,  1,  1, 19,  1,\n",
      "         1,  1, 26,  1, 26, 26, 26, 26,  1,  1, 26, 26,  1, 26, 26, 26,  1,  1,\n",
      "        26, 26, 26,  1, 26, 26, 26,  1, 26, 26,  1, 26, 26, 26,  1, 26, 26, 26,\n",
      "         1, 26, 26, 26,  1, 26, 26, 26,  1, 26], device='cuda:0')\n"
     ]
    },
    {
     "name": "stderr",
     "output_type": "stream",
     "text": [
      " 15%|█▌        | 76/500 [11:11<1:02:16,  8.81s/it]"
     ]
    },
    {
     "name": "stdout",
     "output_type": "stream",
     "text": [
      "Epoch: 75, train_loss: 0.766994, train_acc: 0.738, val_loss: 1.092579, val_acc: 1.093\n"
     ]
    },
    {
     "name": "stderr",
     "output_type": "stream",
     "text": [
      " 20%|██        | 101/500 [14:51<57:32,  8.65s/it] "
     ]
    },
    {
     "name": "stdout",
     "output_type": "stream",
     "text": [
      "Epoch: 100, train_loss: 0.646974, train_acc: 0.779, val_loss: 1.163570, val_acc: 1.164\n",
      "Sample:\n",
      "tensor([10, 10,  1,  3,  1, 26,  3,  1,  3,  1, 26, 26, 12, 26, 26, 26, 18, 26,\n",
      "        26, 26, 26, 26, 26, 26, 26, 26, 26, 26, 26, 26, 26, 26, 26,  1, 19, 26,\n",
      "        26, 26, 26, 26, 26, 26, 26, 26, 26, 26, 26, 26, 26, 26, 26, 26, 26, 26,\n",
      "        26, 26, 19, 26, 26, 26, 26, 19, 26, 26], device='cuda:0')\n"
     ]
    },
    {
     "name": "stderr",
     "output_type": "stream",
     "text": [
      " 25%|██▌       | 126/500 [18:30<56:10,  9.01s/it]"
     ]
    },
    {
     "name": "stdout",
     "output_type": "stream",
     "text": [
      "Epoch: 125, train_loss: 0.560306, train_acc: 0.809, val_loss: 1.309920, val_acc: 1.310\n"
     ]
    },
    {
     "name": "stderr",
     "output_type": "stream",
     "text": [
      " 30%|███       | 151/500 [22:12<51:45,  8.90s/it]"
     ]
    },
    {
     "name": "stdout",
     "output_type": "stream",
     "text": [
      "Epoch: 150, train_loss: 0.471613, train_acc: 0.840, val_loss: 1.440838, val_acc: 1.441\n",
      "Sample:\n",
      "tensor([16,  1, 13,  1, 26, 26, 26, 13,  1, 10, 26,  1, 13,  1, 10,  1,  1, 15,\n",
      "        15,  2, 26,  1, 26, 16, 26, 10, 26, 21, 26,  1, 26, 16, 26, 26, 26, 19,\n",
      "        26, 19, 26, 22, 26, 19, 22, 26, 26,  1,  1, 19, 26, 26, 26,  9, 19, 19,\n",
      "        26, 22, 26, 19, 26, 26, 26, 19,  1, 19], device='cuda:0')\n"
     ]
    },
    {
     "name": "stderr",
     "output_type": "stream",
     "text": [
      " 32%|███▏      | 158/500 [23:15<51:21,  9.01s/it]"
     ]
    }
   ],
   "source": [
    "train_params = {'batch_size': 32,\n",
    "               'N_epochs': 500,\n",
    "               'teacher_forcing_ratio': 0.50,\n",
    "               'lr': 1e-3}\n",
    "\n",
    "encoder_params = {'input_size': K,\n",
    "                  'embedding_size': 12,\n",
    "                  'hidden_size': 128,\n",
    "                  'n_layers': 2}\n",
    "\n",
    "decoder_params = {'output_size': K,\n",
    "                  'embedding_size': encoder_params['embedding_size'],\n",
    "                  'hidden_size': encoder_params['hidden_size'],\n",
    "                  'n_layers': encoder_params['n_layers']}\n",
    "\n",
    "params = {'data_params': data_params,\n",
    "          'encoder_params': encoder_params,\n",
    "          'decoder_params':decoder_params, \n",
    "          'train_params':train_params}\n",
    "\n",
    "encoder = encoders.Encoder(**encoder_params)\n",
    "decoder = decoders.Decoder(**decoder_params)\n",
    "\n",
    "model = models.Seq2Seq(encoder, decoder, device, train_params['teacher_forcing_ratio']).to(device)\n",
    "\n",
    "print(model)\n",
    "print('Number of parameters: {}'.format(sum([parameter.numel() for parameter in model.parameters()])))\n",
    "\n",
    "criterion = nn.CrossEntropyLoss(reduction='mean')\n",
    "optimizer = torch.optim.Adam(model.parameters(), lr=train_params['lr'])\n",
    "\n",
    "train_loader, validation_loader, test_loader = make_loaders(X, train_params)\n",
    "\n",
    "main_wandb(model, criterion, optimizer, device, train_loader, validation_loader, test_loader, params)\n",
    "#main_simple(model, criterion, optimizer, device, train_loader, validation_loader, test_loader, params)"
   ]
  },
  {
   "cell_type": "code",
   "execution_count": null,
   "metadata": {},
   "outputs": [],
   "source": [
    "test_loss, test_acc = test(model, test_loader, criterion, device)\n",
    "samples = model.sample()\n",
    "\n",
    "for epoch in tqdm(range(train_params['N_epochs'])):\n",
    "\n",
    "    train_loss, train_acc = train(model, train_loader, optimizer, criterion, device)\n",
    "    validation_loss, validation_acc = test(model, validation_loader, criterion, device)\n",
    "    \n",
    "    model.decoder.update_teacher_forcing_ratio(decoder_params['teacher_forcing_ratio']/train_params['N_epochs'])\n",
    "    \n",
    "    if epoch+1 % 5:\n",
    "        print('Epoch: {}, train_loss: {:.6f}, acc: {:.3f}'.format(epoch+1, train_loss, train_acc))\n",
    "\n",
    "test_loss, test_acc = test(model, test_loader, criterion, device)\n",
    "print('Test Loss After Training: {:.6f}'.format(test_loss))"
   ]
  }
 ],
 "metadata": {
  "kernelspec": {
   "display_name": "Python 3",
   "language": "python",
   "name": "python3"
  },
  "language_info": {
   "codemirror_mode": {
    "name": "ipython",
    "version": 3
   },
   "file_extension": ".py",
   "mimetype": "text/x-python",
   "name": "python",
   "nbconvert_exporter": "python",
   "pygments_lexer": "ipython3",
   "version": "3.7.6"
  }
 },
 "nbformat": 4,
 "nbformat_minor": 5
}
