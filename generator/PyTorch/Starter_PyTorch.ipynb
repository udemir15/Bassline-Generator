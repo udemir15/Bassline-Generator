{
 "cells": [
  {
   "cell_type": "markdown",
   "metadata": {},
   "source": [
    "!pip install editdistance"
   ]
  },
  {
   "cell_type": "code",
   "execution_count": 1,
   "metadata": {},
   "outputs": [
    {
     "name": "stderr",
     "output_type": "stream",
     "text": [
      "wandb: Currently logged in as: raraz15 (use `wandb login --relogin` to force relogin)\n"
     ]
    },
    {
     "name": "stdout",
     "output_type": "stream",
     "text": [
      "cuda\n"
     ]
    }
   ],
   "source": [
    "%load_ext autoreload\n",
    "%autoreload 2\n",
    "\n",
    "import os\n",
    "import datetime as dt\n",
    "\n",
    "import numpy as np\n",
    "from tqdm import tqdm\n",
    "import matplotlib.pyplot as plt\n",
    "\n",
    "import torch\n",
    "import torch.nn as nn\n",
    "\n",
    "import models\n",
    "import encoders\n",
    "import decoders\n",
    "from training import train, test, checkpoint, main_wandb, main_simple\n",
    "from dataloaders import load_data, make_loaders, append_SOS\n",
    "\n",
    "\n",
    "SEED = 27\n",
    "\n",
    "np.random.seed(SEED)\n",
    "torch.manual_seed(SEED)\n",
    "torch.cuda.manual_seed(SEED)\n",
    "torch.backends.cudnn.deterministic = True\n",
    "\n",
    "device = torch.device(\"cuda\" if torch.cuda.is_available() else \"cpu\")\n",
    "print(device)"
   ]
  },
  {
   "cell_type": "code",
   "execution_count": 2,
   "metadata": {
    "scrolled": true
   },
   "outputs": [
    {
     "name": "stdout",
     "output_type": "stream",
     "text": [
      "Number of classes: 27\n",
      "Sequence Length: 65\n",
      "Number of data points: 4421\n"
     ]
    }
   ],
   "source": [
    "M = 8\n",
    "\n",
    "data_params = {'dataset_path': '/scratch/users/udemir15/ELEC491/bassline_transcription/data/datasets/[28, 51]',\n",
    "               'dataset_name': 'TechHouse_bassline_representations',\n",
    "               'scale_type': 'min',\n",
    "               'M': M}\n",
    "\n",
    "X, titles = load_data(data_params)\n",
    "X = append_SOS(X)\n",
    "\n",
    "K = X.max()+1 # Number of classes, assumes consecutive [0,max] inclusive\n",
    "sequence_length = X.shape[1]\n",
    "\n",
    "print('Number of classes: {}\\nSequence Length: {}'.format(K, sequence_length))\n",
    "print('Number of data points: {}'.format(X.shape[0]))"
   ]
  },
  {
   "cell_type": "code",
   "execution_count": null,
   "metadata": {},
   "outputs": [],
   "source": [
    "X.shape"
   ]
  },
  {
   "cell_type": "markdown",
   "metadata": {},
   "source": [
    "X = X[:8]"
   ]
  },
  {
   "cell_type": "markdown",
   "metadata": {},
   "source": [
    "frequencies = torch.tensor(np.unique(X, return_counts=True)).to(device)\n",
    "cross_entropy_weights = frequencies[1].max() / frequencies[1]\n",
    "cross_entropy_weights /= cross_entropy_weights.sum()\n",
    "print('Cross entropy weights:\\n{}\\n'.format(cross_entropy_weights))\n",
    "cross_entropy_weights = torch.FloatTensor(1 / (frequencies[1] / frequencies[1].max())).to(device)\n",
    "print(cross_entropy_weights)"
   ]
  },
  {
   "cell_type": "markdown",
   "metadata": {},
   "source": [
    "#encoder = encoders.LSTMEncoder(**encoder_params)\n",
    "#decoder = decoders.SimpleLSTMDecoder(**decoder_params)\n",
    "#model = models.Seq2SeqLSTM(encoder, decoder, device).to(device)\n",
    "\n",
    "encoder = encoders.GRUEncoder(**encoder_params)\n",
    "decoder = decoders.SimpleGRUDecoder(**decoder_params)\n",
    "model = models.Seq2SeqGRU(encoder, decoder, device).to(device)\n",
    "\n",
    "project_name = 'seq2seq_gru_simple'"
   ]
  },
  {
   "cell_type": "markdown",
   "metadata": {},
   "source": [
    "encoder = encoders.GRUEncoder(**encoder_params)\n",
    "decoder = decoders.GRUDecoder(**decoder_params)\n",
    "model = models.Seq2SeqGRU(encoder, decoder, device).to(device)\n",
    "\n",
    "project_name = 'seq2seq_gru'"
   ]
  },
  {
   "cell_type": "code",
   "execution_count": null,
   "metadata": {
    "scrolled": false
   },
   "outputs": [
    {
     "name": "stdout",
     "output_type": "stream",
     "text": [
      "Seq2SeqGRUWithAttention(\n",
      "  (encoder): BidirectionalGRUEncoder(\n",
      "    (embedding): Embedding(27, 12)\n",
      "    (rnn): GRU(12, 32, batch_first=True, bidirectional=True)\n",
      "    (fc): Linear(in_features=64, out_features=32, bias=True)\n",
      "  )\n",
      "  (decoder): GRUDecoderWithAttention(\n",
      "    (attention): Attention(\n",
      "      (attn): Linear(in_features=59, out_features=32, bias=True)\n",
      "      (v): Linear(in_features=32, out_features=1, bias=False)\n",
      "    )\n",
      "    (embedding): Embedding(27, 12)\n",
      "    (rnn): GRU(39, 32, batch_first=True)\n",
      "    (fc_out): Linear(in_features=71, out_features=27, bias=True)\n",
      "  )\n",
      ")\n",
      "Number of parameters: 22464\n",
      "\n"
     ]
    },
    {
     "data": {
      "text/html": [
       "\n",
       "                Tracking run with wandb version 0.10.30<br/>\n",
       "                Syncing run <strong style=\"color:#cdcd00\">06_06__02_07</strong> to <a href=\"https://wandb.ai\" target=\"_blank\">Weights & Biases</a> <a href=\"https://docs.wandb.com/integrations/jupyter.html\" target=\"_blank\">(Documentation)</a>.<br/>\n",
       "                Project page: <a href=\"https://wandb.ai/nbg/seq2seq_gru_attention\" target=\"_blank\">https://wandb.ai/nbg/seq2seq_gru_attention</a><br/>\n",
       "                Run page: <a href=\"https://wandb.ai/nbg/seq2seq_gru_attention/runs/21po2lrb\" target=\"_blank\">https://wandb.ai/nbg/seq2seq_gru_attention/runs/21po2lrb</a><br/>\n",
       "                Run data is saved locally in <code>/scratch/users/udemir15/ELEC491/Bassline-Generator/generator/PyTorch/wandb/run-20210606_020706-21po2lrb</code><br/><br/>\n",
       "            "
      ],
      "text/plain": [
       "<IPython.core.display.HTML object>"
      ]
     },
     "metadata": {},
     "output_type": "display_data"
    },
    {
     "name": "stderr",
     "output_type": "stream",
     "text": [
      "\r",
      "  0%|          | 0/150 [00:00<?, ?it/s]"
     ]
    },
    {
     "name": "stdout",
     "output_type": "stream",
     "text": [
      "\n",
      "Before Training:\n",
      "Test Loss: 3.2384, Test Accuracy: 0.0368\n",
      "\n",
      "Sample:\n",
      "tensor([25,  1, 11,  7, 22, 22, 22, 22, 22, 22, 22, 22, 22, 22, 22, 22, 22, 22,\n",
      "        22, 22, 22, 22, 22,  9, 22,  9, 22,  9, 22,  9, 22,  9, 22,  9, 22,  9,\n",
      "        22,  9, 22,  9, 22,  9, 22,  9, 22,  9, 22,  9, 22,  9, 22,  9, 22,  9,\n",
      "        22,  9, 22,  9, 22,  9, 22,  9, 22,  9], device='cuda:0')\n",
      "\n"
     ]
    },
    {
     "name": "stderr",
     "output_type": "stream",
     "text": [
      "\r",
      "  1%|          | 1/150 [00:16<40:43, 16.40s/it]"
     ]
    },
    {
     "name": "stdout",
     "output_type": "stream",
     "text": [
      "Epoch: 0, train_loss: 2.468158, val_loss: 2.133483\n",
      "Sample:\n",
      "tensor([ 1, 26, 26, 26, 26, 26, 26, 26, 26, 26, 26, 26, 26, 26, 26, 26, 26, 26,\n",
      "        26, 26, 26, 26, 26, 26, 26, 26, 26, 26, 26, 26, 26, 26, 26, 26, 26, 26,\n",
      "        26, 26, 26, 26, 26, 26, 26, 26, 26, 26, 26, 26, 26, 26, 26, 26, 26, 26,\n",
      "        26, 26, 26, 26, 26, 26, 26, 26, 26, 26], device='cuda:0')\n"
     ]
    },
    {
     "name": "stderr",
     "output_type": "stream",
     "text": [
      " 17%|█▋        | 26/150 [05:21<24:52, 12.04s/it]"
     ]
    },
    {
     "name": "stdout",
     "output_type": "stream",
     "text": [
      "Epoch: 25, train_loss: 1.615096, val_loss: 1.712160\n"
     ]
    },
    {
     "name": "stderr",
     "output_type": "stream",
     "text": [
      " 23%|██▎       | 35/150 [07:10<23:18, 12.16s/it]"
     ]
    }
   ],
   "source": [
    "train_params = {'batch_size': 32,\n",
    "               'N_epochs': 150,\n",
    "               'lr': 5e-4,\n",
    "               'teacher_forcing_ratio': 0.50}\n",
    "\n",
    "decoder_hidden_size = 32\n",
    "\n",
    "encoder_params = {'input_size': K,\n",
    "                  'embedding_size': 12,\n",
    "                  'hidden_size': 32,\n",
    "                  'output_size': decoder_hidden_size}\n",
    "\n",
    "decoder_params = {'output_size': K,\n",
    "                  'embedding_size': encoder_params['embedding_size'],\n",
    "                  #'encoder_hidden_size': encoder_params['hidden_size'],\n",
    "                  'hidden_size': decoder_hidden_size}\n",
    "\n",
    "params = {'data': data_params,\n",
    "          'encoder': encoder_params,\n",
    "          'decoder':decoder_params, \n",
    "          'training':train_params}\n",
    "\n",
    "project_name = 'seq2seq_gru_attention'\n",
    "\n",
    "encoder = encoders.BidirectionalGRUEncoder(**encoder_params).to(device)\n",
    "decoder = decoders.GRUDecoderWithAttention(**decoder_params).to(device)\n",
    "\n",
    "model = models.Seq2SeqGRUWithAttention(encoder, decoder, device)\n",
    "\n",
    "print(model)\n",
    "print('Number of parameters: {}\\n'.format(sum([parameter.numel() for parameter in model.parameters()])))\n",
    "\n",
    "criterion = nn.CrossEntropyLoss(reduction='mean')\n",
    "optimizer = torch.optim.Adam(model.parameters(), lr=train_params['lr'])\n",
    "\n",
    "train_loader, validation_loader, test_loader = make_loaders(X, train_params)\n",
    "\n",
    "main_wandb(model, criterion, optimizer, device, train_loader, validation_loader, test_loader, params, project_name)\n",
    "#main_simple(model, criterion, optimizer, device, train_loader, validation_loader, test_loader, params)"
   ]
  },
  {
   "cell_type": "code",
   "execution_count": null,
   "metadata": {},
   "outputs": [],
   "source": [
    "def display_attention(sentence, translation, attention):\n",
    "    \n",
    "    fig = plt.figure(figsize=(10,10))\n",
    "    ax = fig.add_subplot(111)\n",
    "    \n",
    "    attention = attention.squeeze(1).cpu().detach().numpy()\n",
    "    a\n",
    "    cax = ax.matshow(attention, cmap='bone')\n",
    "   \n",
    "    ax.tick_params(labelsize=15)\n",
    "    \n",
    "    #x_ticks = [''] + ['<sos>'] + [t.lower() for t in sentence] + ['<eos>']\n",
    "    #y_ticks = [''] + translation\n",
    "     \n",
    "    #ax.set_xticklabels(x_ticks, rotation=45)\n",
    "    #ax.set_yticklabels(y_ticks)\n",
    "\n",
    "    #ax.xaxis.set_major_locator(ticker.MultipleLocator(1))\n",
    "    #ax.yaxis.set_major_locator(ticker.MultipleLocator(1))\n",
    "\n",
    "    plt.show()\n",
    "    plt.close()"
   ]
  },
  {
   "cell_type": "code",
   "execution_count": null,
   "metadata": {},
   "outputs": [],
   "source": [
    "bassline = next(iter(train_loader))[0].to(device)"
   ]
  },
  {
   "cell_type": "code",
   "execution_count": null,
   "metadata": {},
   "outputs": [],
   "source": [
    "reconstruction, attention = reconstruct_bassline(model, bassline)"
   ]
  },
  {
   "cell_type": "code",
   "execution_count": null,
   "metadata": {},
   "outputs": [],
   "source": [
    "i=6\n",
    "display_attention(bassline[i], reconstruction[i], attention[i])"
   ]
  },
  {
   "cell_type": "code",
   "execution_count": null,
   "metadata": {},
   "outputs": [],
   "source": [
    "out, att = model(trg, trg, 0, True)"
   ]
  },
  {
   "cell_type": "code",
   "execution_count": null,
   "metadata": {},
   "outputs": [],
   "source": [
    "len(att)"
   ]
  },
  {
   "cell_type": "code",
   "execution_count": null,
   "metadata": {
    "scrolled": false
   },
   "outputs": [],
   "source": [
    "att[0].shape"
   ]
  },
  {
   "cell_type": "code",
   "execution_count": null,
   "metadata": {},
   "outputs": [],
   "source": [
    "test_loss, test_acc = test(model, test_loader, criterion, device)\n",
    "samples = model.sample()\n",
    "\n",
    "for epoch in tqdm(range(train_params['N_epochs'])):\n",
    "\n",
    "    train_loss, train_acc = train(model, train_loader, optimizer, criterion, device)\n",
    "    validation_loss, validation_acc = test(model, validation_loader, criterion, device)\n",
    "    \n",
    "    model.decoder.update_teacher_forcing_ratio(decoder_params['teacher_forcing_ratio']/train_params['N_epochs'])\n",
    "    \n",
    "    if epoch+1 % 5:\n",
    "        print('Epoch: {}, train_loss: {:.6f}, acc: {:.3f}'.format(epoch+1, train_loss, train_acc))\n",
    "\n",
    "test_loss, test_acc = test(model, test_loader, criterion, device)\n",
    "print('Test Loss After Training: {:.6f}'.format(test_loss))"
   ]
  },
  {
   "cell_type": "code",
   "execution_count": null,
   "metadata": {},
   "outputs": [],
   "source": []
  },
  {
   "cell_type": "code",
   "execution_count": null,
   "metadata": {},
   "outputs": [],
   "source": [
    "encoder_params = {'input_size': K,\n",
    "                  'embedding_size': 16,\n",
    "                  'hidden_size': 256,\n",
    "                  'n_layers': 1}\n",
    "\n",
    "train_params = {'batch_size': 32,\n",
    "               'N_epochs': 150,\n",
    "               'lr': 5e-4}"
   ]
  },
  {
   "cell_type": "code",
   "execution_count": null,
   "metadata": {},
   "outputs": [],
   "source": [
    "input_size  =K\n",
    "embedding_size = 12\n",
    "enc_hidden_size = 128\n",
    "dec_hidden_size = 100\n",
    "\n",
    "model = encoders.BidirectionalGRUEncoder(input_size, dec_hidden_size, embedding_size, enc_hidden_size)"
   ]
  },
  {
   "cell_type": "code",
   "execution_count": null,
   "metadata": {},
   "outputs": [],
   "source": [
    "train_loader, validation_loader, test_loader = make_loaders(X, train_params)\n",
    "\n",
    "batch = next(iter(train_loader))[0]"
   ]
  },
  {
   "cell_type": "code",
   "execution_count": null,
   "metadata": {},
   "outputs": [],
   "source": [
    "outputs, hidden = model(batch)"
   ]
  },
  {
   "cell_type": "code",
   "execution_count": null,
   "metadata": {},
   "outputs": [],
   "source": [
    "att = decoders.Attention(enc_hidden_size, dec_hidden_size)"
   ]
  }
 ],
 "metadata": {
  "kernelspec": {
   "display_name": "Python 3",
   "language": "python",
   "name": "python3"
  },
  "language_info": {
   "codemirror_mode": {
    "name": "ipython",
    "version": 3
   },
   "file_extension": ".py",
   "mimetype": "text/x-python",
   "name": "python",
   "nbconvert_exporter": "python",
   "pygments_lexer": "ipython3",
   "version": "3.7.6"
  }
 },
 "nbformat": 4,
 "nbformat_minor": 5
}
