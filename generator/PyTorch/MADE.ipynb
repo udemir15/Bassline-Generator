{
 "cells": [
  {
   "cell_type": "markdown",
   "metadata": {},
   "source": [
    "!pip install editdistance"
   ]
  },
  {
   "cell_type": "code",
   "execution_count": 1,
   "metadata": {},
   "outputs": [
    {
     "name": "stderr",
     "output_type": "stream",
     "text": [
      "wandb: Currently logged in as: raraz15 (use `wandb login --relogin` to force relogin)\n"
     ]
    },
    {
     "name": "stdout",
     "output_type": "stream",
     "text": [
      "cuda\n"
     ]
    }
   ],
   "source": [
    "%load_ext autoreload\n",
    "%autoreload 2\n",
    "\n",
    "import os\n",
    "import datetime as dt\n",
    "\n",
    "import numpy as np\n",
    "from tqdm import tqdm\n",
    "import matplotlib.pyplot as plt\n",
    "\n",
    "import torch\n",
    "import torch.nn as nn\n",
    "\n",
    "import models\n",
    "import encoders\n",
    "import decoders\n",
    "#from training import train, test, checkpoint, main_wandb, main_simple\n",
    "from dataloaders import load_data, make_loaders, append_SOS\n",
    "\n",
    "from MADE import MADE, main, main_wandb\n",
    "\n",
    "import sys\n",
    "sys.path.insert(0, '/scratch/users/udemir15/ELEC491/bassline_transcription')\n",
    "from utilities import *\n",
    "\n",
    "from bassline_transcriber.transcription import NN_output_to_MIDI_file\n",
    "\n",
    "from plotting import F0_related_stem\n",
    "\n",
    "from utilities import *\n",
    "\n",
    "SEED = 27\n",
    "\n",
    "np.random.seed(SEED)\n",
    "torch.manual_seed(SEED)\n",
    "torch.cuda.manual_seed(SEED)\n",
    "torch.backends.cudnn.deterministic = True\n",
    "\n",
    "device = torch.device(\"cuda\" if torch.cuda.is_available() else \"cpu\")\n",
    "print(device)"
   ]
  },
  {
   "cell_type": "code",
   "execution_count": 2,
   "metadata": {},
   "outputs": [],
   "source": [
    "directories = get_directories('/scratch/users/udemir15/ELEC491/bassline_transcription/data/directories.json')"
   ]
  },
  {
   "cell_type": "code",
   "execution_count": 38,
   "metadata": {
    "scrolled": true
   },
   "outputs": [
    {
     "name": "stdout",
     "output_type": "stream",
     "text": [
      "Number of classes: 2\n",
      "Sequence Length: 64\n",
      "Number of data points: 4521\n"
     ]
    }
   ],
   "source": [
    "M = 8\n",
    "\n",
    "data_params = {'dataset_path': '/scratch/users/udemir15/ELEC491/bassline_transcription/data/datasets/groove', #/single_octave/no_sus', #[28, 51]\n",
    "               'dataset_name': 'TechHouse_bassline_representations_4521', #4020\n",
    "               'scale_type': 'min',\n",
    "               'M': M}\n",
    "\n",
    "X, titles = load_data(data_params)\n",
    "#X = append_SOS(X)\n",
    "\n",
    "K = X.max()+1 # Number of classes, assumes consecutive [0,max] inclusive\n",
    "sequence_length = X.shape[1]\n",
    "\n",
    "print('Number of classes: {}\\nSequence Length: {}'.format(K, sequence_length))\n",
    "print('Number of data points: {}'.format(X.shape[0]))"
   ]
  },
  {
   "cell_type": "code",
   "execution_count": 39,
   "metadata": {
    "scrolled": false
   },
   "outputs": [
    {
     "data": {
      "text/html": [
       "\n",
       "                Tracking run with wandb version 0.10.30<br/>\n",
       "                Syncing run <strong style=\"color:#cdcd00\">10_06__16_00</strong> to <a href=\"https://wandb.ai\" target=\"_blank\">Weights & Biases</a> <a href=\"https://docs.wandb.com/integrations/jupyter.html\" target=\"_blank\">(Documentation)</a>.<br/>\n",
       "                Project page: <a href=\"https://wandb.ai/nbg/MADE\" target=\"_blank\">https://wandb.ai/nbg/MADE</a><br/>\n",
       "                Run page: <a href=\"https://wandb.ai/nbg/MADE/runs/15k5a8tp\" target=\"_blank\">https://wandb.ai/nbg/MADE/runs/15k5a8tp</a><br/>\n",
       "                Run data is saved locally in <code>/scratch/users/udemir15/ELEC491/Bassline-Generator/generator/PyTorch/wandb/run-20210610_160052-15k5a8tp</code><br/><br/>\n",
       "            "
      ],
      "text/plain": [
       "<IPython.core.display.HTML object>"
      ]
     },
     "metadata": {},
     "output_type": "display_data"
    },
    {
     "name": "stderr",
     "output_type": "stream",
     "text": [
      "  1%|          | 1/150 [00:00<01:37,  1.53it/s]"
     ]
    },
    {
     "name": "stdout",
     "output_type": "stream",
     "text": [
      "Epoch: 1, train_loss: 0.666494, validation_loss: 0.651881\n",
      "[1 1 0 1 1 1 0 1 1 0 1 1 0 1 0 1 1 0 1 1 0 0 1 1 1 0 1 1 0 1 0 1 0 1 1 1 1\n",
      " 1 0 1 1 1 0 1 1 1 1 1 0 1 1 1 1 0 0 1 0 1 0 1 0 1 0 1]\n"
     ]
    },
    {
     "name": "stderr",
     "output_type": "stream",
     "text": [
      " 17%|█▋        | 26/150 [00:07<00:33,  3.74it/s]"
     ]
    },
    {
     "name": "stdout",
     "output_type": "stream",
     "text": [
      "Epoch: 26, train_loss: 0.472170, validation_loss: 0.495786\n",
      "[0 0 1 1 1 0 0 1 1 1 1 1 1 0 0 1 0 0 0 1 1 0 0 1 0 0 0 0 1 0 0 1 1 0 0 1 1\n",
      " 0 0 1 1 0 0 0 1 0 0 1 1 1 0 1 1 0 0 1 1 0 0 0 0 1 0 1]\n"
     ]
    },
    {
     "name": "stderr",
     "output_type": "stream",
     "text": [
      " 34%|███▍      | 51/150 [00:13<00:24,  4.02it/s]"
     ]
    },
    {
     "name": "stdout",
     "output_type": "stream",
     "text": [
      "Epoch: 51, train_loss: 0.437023, validation_loss: 0.502323\n",
      "[1 1 0 0 1 1 0 1 0 1 1 0 1 1 0 1 0 1 1 0 1 1 0 1 1 1 1 0 1 1 0 1 1 1 1 0 1\n",
      " 1 0 1 0 1 1 0 1 1 1 1 1 1 1 0 1 1 0 1 0 1 1 0 1 1 0 1]\n"
     ]
    },
    {
     "name": "stderr",
     "output_type": "stream",
     "text": [
      " 51%|█████     | 76/150 [00:20<00:19,  3.78it/s]"
     ]
    },
    {
     "name": "stdout",
     "output_type": "stream",
     "text": [
      "Epoch: 76, train_loss: 0.402429, validation_loss: 0.537875\n",
      "[0 0 1 1 1 1 1 0 1 0 1 1 1 1 0 1 1 0 1 1 1 1 0 1 1 1 0 1 1 1 0 1 1 0 1 1 1\n",
      " 1 0 0 1 0 1 1 1 1 0 1 1 0 0 1 1 1 0 1 1 0 1 1 1 1 0 1]\n"
     ]
    },
    {
     "name": "stderr",
     "output_type": "stream",
     "text": [
      " 67%|██████▋   | 101/150 [00:27<00:15,  3.24it/s]"
     ]
    },
    {
     "name": "stdout",
     "output_type": "stream",
     "text": [
      "Epoch: 101, train_loss: 0.366426, validation_loss: 0.609473\n",
      "[0 0 0 1 0 0 1 0 0 0 1 0 0 1 1 1 0 1 1 1 0 0 1 0 0 1 1 0 0 0 1 1 0 1 1 1 0\n",
      " 1 0 0 0 1 1 0 0 1 1 1 0 1 1 1 0 1 1 1 0 1 1 0 0 1 1 1]\n"
     ]
    },
    {
     "name": "stderr",
     "output_type": "stream",
     "text": [
      " 84%|████████▍ | 126/150 [00:31<00:05,  4.75it/s]"
     ]
    },
    {
     "name": "stdout",
     "output_type": "stream",
     "text": [
      "Epoch: 126, train_loss: 0.336358, validation_loss: 0.729926\n",
      "[0 1 0 0 1 0 1 0 1 0 1 1 1 0 1 1 0 0 1 0 1 0 1 1 1 0 1 1 1 0 1 1 0 0 1 0 0\n",
      " 0 1 0 1 0 1 1 0 0 1 1 0 1 1 0 0 0 1 0 1 0 1 1 0 1 1 1]\n"
     ]
    },
    {
     "name": "stderr",
     "output_type": "stream",
     "text": [
      "100%|██████████| 150/150 [00:36<00:00,  4.14it/s]\n"
     ]
    },
    {
     "data": {
      "text/html": [
       "<br/>Waiting for W&B process to finish, PID 168941<br/>Program ended successfully."
      ],
      "text/plain": [
       "<IPython.core.display.HTML object>"
      ]
     },
     "metadata": {},
     "output_type": "display_data"
    },
    {
     "data": {
      "application/vnd.jupyter.widget-view+json": {
       "model_id": "",
       "version_major": 2,
       "version_minor": 0
      },
      "text/plain": [
       "VBox(children=(Label(value=' 0.00MB of 0.00MB uploaded (0.00MB deduped)\\r'), FloatProgress(value=1.0, max=1.0)…"
      ]
     },
     "metadata": {},
     "output_type": "display_data"
    },
    {
     "data": {
      "text/html": [
       "Find user logs for this run at: <code>/scratch/users/udemir15/ELEC491/Bassline-Generator/generator/PyTorch/wandb/run-20210610_160052-15k5a8tp/logs/debug.log</code>"
      ],
      "text/plain": [
       "<IPython.core.display.HTML object>"
      ]
     },
     "metadata": {},
     "output_type": "display_data"
    },
    {
     "data": {
      "text/html": [
       "Find internal logs for this run at: <code>/scratch/users/udemir15/ELEC491/Bassline-Generator/generator/PyTorch/wandb/run-20210610_160052-15k5a8tp/logs/debug-internal.log</code>"
      ],
      "text/plain": [
       "<IPython.core.display.HTML object>"
      ]
     },
     "metadata": {},
     "output_type": "display_data"
    },
    {
     "data": {
      "text/html": [
       "<h3>Run summary:</h3><br/><style>\n",
       "    table.wandb td:nth-child(1) { padding: 0 10px; text-align: right }\n",
       "    </style><table class=\"wandb\">\n",
       "<tr><td>train_loss</td><td>0.3131</td></tr><tr><td>validation_loss</td><td>0.85885</td></tr><tr><td>_runtime</td><td>48</td></tr><tr><td>_timestamp</td><td>1623330100</td></tr><tr><td>_step</td><td>155</td></tr></table>"
      ],
      "text/plain": [
       "<IPython.core.display.HTML object>"
      ]
     },
     "metadata": {},
     "output_type": "display_data"
    },
    {
     "data": {
      "text/html": [
       "<h3>Run history:</h3><br/><style>\n",
       "    table.wandb td:nth-child(1) { padding: 0 10px; text-align: right }\n",
       "    </style><table class=\"wandb\">\n",
       "<tr><td>train_loss</td><td>█▇▆▅▅▅▅▄▄▄▄▄▄▄▄▃▃▃▃▃▃▃▃▃▂▂▂▂▂▂▂▂▂▂▁▁▁▁▁▁</td></tr><tr><td>validation_loss</td><td>▃▃▂▁▁▁▁▁▁▁▁▁▁▁▁▁▁▁▂▂▂▂▂▂▃▃▃▃▄▄▄▅▅▆▆▆▆▇██</td></tr><tr><td>_runtime</td><td>▁▁▁▂▂▂▂▂▃▃▃▃▃▄▄▄▄▄▅▅▅▅▅▅▆▆▆▆▆▇▇▇▇▇▇▇████</td></tr><tr><td>_timestamp</td><td>▁▁▁▂▂▂▂▂▃▃▃▃▃▄▄▄▄▄▅▅▅▅▅▅▆▆▆▆▆▇▇▇▇▇▇▇████</td></tr><tr><td>_step</td><td>▁▁▁▁▂▂▂▂▂▃▃▃▃▃▃▄▄▄▄▄▅▅▅▅▅▅▆▆▆▆▆▇▇▇▇▇▇███</td></tr></table><br/>"
      ],
      "text/plain": [
       "<IPython.core.display.HTML object>"
      ]
     },
     "metadata": {},
     "output_type": "display_data"
    },
    {
     "data": {
      "text/html": [
       "Synced 6 W&B file(s), 1 media file(s), 0 artifact file(s) and 0 other file(s)"
      ],
      "text/plain": [
       "<IPython.core.display.HTML object>"
      ]
     },
     "metadata": {},
     "output_type": "display_data"
    },
    {
     "data": {
      "text/html": [
       "\n",
       "                    <br/>Synced <strong style=\"color:#cdcd00\">10_06__16_00</strong>: <a href=\"https://wandb.ai/nbg/MADE/runs/15k5a8tp\" target=\"_blank\">https://wandb.ai/nbg/MADE/runs/15k5a8tp</a><br/>\n",
       "                "
      ],
      "text/plain": [
       "<IPython.core.display.HTML object>"
      ]
     },
     "metadata": {},
     "output_type": "display_data"
    }
   ],
   "source": [
    "train_params = {'batch_size': 64,\n",
    "               'N_epochs': 150,\n",
    "               'lr': 1e-3}\n",
    "\n",
    "params = {'training': train_params, 'hidden_size': [512]*4, 'data': data_params}\n",
    "\n",
    "train_loader, validation_loader = make_loaders(X, train_params['batch_size'])\n",
    "\n",
    "model = MADE((X.shape[1],), K, params['hidden_size'], one_hot_input=True).cuda()\n",
    "optimizer = torch.optim.Adam(model.parameters(), lr=train_params['lr'])\n",
    "\n",
    "#best_model = main(model, optimizer, device, train_loader, validation_loader, train_params['N_epochs'], True)\n",
    "best_model = main_wandb(model, optimizer, device, train_loader, validation_loader, params, project='MADE',return_best=True)"
   ]
  },
  {
   "cell_type": "code",
   "execution_count": 29,
   "metadata": {
    "collapsed": true
   },
   "outputs": [
    {
     "name": "stdout",
     "output_type": "stream",
     "text": [
      "[[ 4  3  0  8  5  0  0  0  0  0  0 12  2  3  5 12  0 11  0  0  5  6  3  0\n",
      "   0  0  0  0  5  0  0  5 10  0  0  5  5  0  5  0  6  0  0  5  5  0  0  5\n",
      "   5  0  0  5  7  0  0  7  0  0  0  5  6  0  0  5]\n",
      " [ 0  0  0  9  0  0  0  4  0  0  0  1  1  0  9  4  0  0  7  0  0  2  0  4\n",
      "   0  0 11  0  0  0  8  0  0  0 11  1  0  0  5  0  7  0  0  1  1  1  1  1\n",
      "   0 11  0  1  0  0  0  0  8  0  0  1  1  0  0  8]\n",
      " [ 0  0  0  1  0  2  6  0  6  0  0  4  8  1  0  1 11  0  0  0  0  9  6  2\n",
      "   3  0 11  1  0 11  0  1  1  2  0  0  5  1  4  2  5  0 12  0  7  1  1  9\n",
      "   1  0  0 12 11  0  0  1  4  4  1  0  1  0  1  1]\n",
      " [10  0  4  9  4  4  3 12  0  0  4  8 11  0  3  1  0  0 10  3  9  1  0  4\n",
      "   0  4  6 11  6  0  3  0  0 10  0  4  0  3  3  5  1  4  3  9  7  4  1  0\n",
      "   4  0  2  3  3  3  0  0  3  3  0  0  5  0  6  4]\n",
      " [ 8  0  0  0  0  0  0  0  4  0 10  6  3  3  0  0  0  4  9  6 11  4  6  0\n",
      "   0  0  0 11  6  6  0 11  0  0  0  0  0  0  4  0  9  5  0  4  7  0  4  4\n",
      "  11  4  4  0  0  6  4  0  4  2  0  4  4  6  0 11]\n",
      " [ 0  0  0 11  0  0  1  0  0  8  9  8  0  3 11  1  0  1  0  8  0  4  0  1\n",
      "   0  8  0  1  0  6  0  9  0  0  0 12  0  9  0  0  0  8  0  8  0  9  0  0\n",
      "  10  0  0  0  0  8  0  0  0  8  1  0  0  0 11  9]\n",
      " [ 1  1  8  1 12  1  4 11  2  1  0  0  8  9  5 12  1  1  1  2  1  3  0  0\n",
      "   1  1  1  1  2  8  0  0 12  1  2  1  1  1  5  2  5  1 11  1  0 12  3  0\n",
      "   1  3  0  1  2  1  1  3  3  1  1  1  1  2  6  6]\n",
      " [ 4  0  1  9  6  8  1  1  1  1  3  4  3  0  0  2  0  0  0  2  0 11  1  1\n",
      "   9  0  3  6  3  0  1 12  2  0  3  5  5  1  1  1  1  3  3  3  0  2  0  1\n",
      "  12  0  5  5  3  0  7  1  9  4  0  2  5  5  6  3]\n",
      " [ 0  0  0  0  0 11  0  4  8  0  2  9  1  0  0  2  2  1  0  4  4 10  3  4\n",
      "   0  0  0  0  0 10  0  3  0  8  0  0  1  2 12  4  0  0  0  2  8  0  0  3\n",
      "   0  0 10  8  0  4  0  4  3  4  0  0  0  0  0  4]\n",
      " [11  1  1  1  0  0  0  0  0  0  0  0  0  0  1 11  0  1  1  1  0  0  0 12\n",
      "   0  1  0  0  0  0  0  4  0  1  0  1  0  0  0  9  0  1 12  1  0  5  0  4\n",
      "   0  1  0  1  0  0 11 11  1  1  0  0  0  0  2  1]]\n"
     ]
    }
   ],
   "source": [
    "samples = best_model.sample(10)\n",
    "print(samples)"
   ]
  },
  {
   "cell_type": "code",
   "execution_count": null,
   "metadata": {
    "scrolled": true
   },
   "outputs": [],
   "source": [
    "print_beat_matrix(s, 8)"
   ]
  },
  {
   "cell_type": "markdown",
   "metadata": {
    "scrolled": true
   },
   "source": [
    "bassline = samples[0]\n",
    "print_beat_matrix(bassline, M=8)\n",
    "print_transposed_beat_matrix(bassline, M=8)"
   ]
  },
  {
   "cell_type": "code",
   "execution_count": 40,
   "metadata": {
    "collapsed": true
   },
   "outputs": [
    {
     "name": "stdout",
     "output_type": "stream",
     "text": [
      "[[0 1 1 1 1 1 1 1 1 1 1 1 1 0 1 1 1 1 0 1 1 1 1 1 1 1 0 1 1 1 1 1 1 0 1 1\n",
      "  1 1 1 1 1 1 1 1 1 1 1 0 1 1 0 1 1 1 1 1 1 1 1 1 0 1 1 1]\n",
      " [0 1 0 0 0 1 0 1 1 1 0 1 1 0 1 1 1 0 0 1 0 1 1 1 1 0 0 1 0 0 1 1 1 0 0 0\n",
      "  0 0 1 1 1 0 0 0 1 0 0 0 1 0 0 1 0 1 1 0 1 0 0 0 0 1 1 1]\n",
      " [0 0 0 0 0 0 0 1 0 0 0 0 0 1 0 1 0 0 1 1 1 1 0 1 0 0 0 1 0 1 1 1 0 1 1 1\n",
      "  1 0 1 1 0 0 0 1 1 1 1 1 1 0 1 1 1 1 1 1 0 0 0 1 1 1 1 1]\n",
      " [1 0 0 1 0 1 0 1 0 1 1 1 0 0 1 0 0 1 1 1 0 1 1 1 0 0 1 0 0 0 1 1 1 1 1 0\n",
      "  0 0 1 1 0 0 1 1 1 0 1 1 1 1 1 0 0 1 1 1 0 0 1 0 1 0 0 1]\n",
      " [0 0 1 1 0 0 1 1 1 0 1 1 1 0 1 1 1 0 1 1 1 0 1 1 1 0 1 1 1 0 1 1 0 0 1 1\n",
      "  1 0 1 1 1 0 1 1 1 0 1 1 1 0 1 1 1 0 1 1 1 0 1 1 1 0 1 1]\n",
      " [0 0 1 0 1 0 0 1 1 0 1 0 0 1 1 1 1 0 1 0 1 1 0 1 1 0 1 0 0 1 1 1 0 1 1 0\n",
      "  1 1 0 1 1 0 1 0 0 1 1 1 0 1 1 0 1 1 0 1 1 0 1 0 0 1 1 1]\n",
      " [0 1 0 0 1 0 1 1 0 0 0 0 0 1 0 1 1 1 0 0 1 1 1 0 0 1 1 0 0 0 0 1 0 1 0 1\n",
      "  1 1 1 1 1 1 1 1 0 0 1 1 1 1 0 1 1 1 1 1 1 0 1 1 0 1 0 1]\n",
      " [0 1 1 0 0 1 1 0 0 1 1 0 0 1 0 1 0 1 0 0 0 1 1 1 0 1 1 0 1 1 1 1 0 1 0 0\n",
      "  0 1 1 1 0 0 1 0 1 1 0 1 0 1 0 0 0 1 1 0 0 1 1 0 1 1 1 1]\n",
      " [0 1 0 0 1 1 1 0 0 0 0 1 0 1 1 1 0 1 0 0 1 1 0 0 0 0 1 1 0 1 0 0 0 0 1 0\n",
      "  1 1 1 0 0 0 1 1 0 1 1 0 0 1 1 0 0 1 1 0 0 0 0 1 0 1 1 1]\n",
      " [0 1 1 1 0 0 0 1 0 1 0 1 1 0 0 1 0 0 1 1 0 1 0 1 0 1 0 1 1 1 0 1 0 1 1 1\n",
      "  0 0 0 1 0 1 0 1 1 0 0 1 0 0 1 1 0 0 0 1 0 1 1 1 1 1 0 1]]\n"
     ]
    }
   ],
   "source": [
    "samples = best_model.sample(10)\n",
    "print(samples)"
   ]
  },
  {
   "cell_type": "code",
   "execution_count": 42,
   "metadata": {
    "collapsed": true
   },
   "outputs": [
    {
     "data": {
      "text/plain": [
       "array([[0, 1, 1, 1, 1, 1, 1, 1, 1, 1, 1, 1, 1, 0, 1, 1, 1, 1, 0, 1, 1, 1,\n",
       "        1, 1, 1, 1, 0, 1, 1, 1, 1, 1, 1, 0, 1, 1, 1, 1, 1, 1, 1, 1, 1, 1,\n",
       "        1, 1, 1, 0, 1, 1, 0, 1, 1, 1, 1, 1, 1, 1, 1, 1, 0, 1, 1, 1],\n",
       "       [0, 1, 0, 0, 0, 1, 0, 1, 1, 1, 0, 1, 1, 0, 1, 1, 1, 0, 0, 1, 0, 1,\n",
       "        1, 1, 1, 0, 0, 1, 0, 0, 1, 1, 1, 0, 0, 0, 0, 0, 1, 1, 1, 0, 0, 0,\n",
       "        1, 0, 0, 0, 1, 0, 0, 1, 0, 1, 1, 0, 1, 0, 0, 0, 0, 1, 1, 1],\n",
       "       [0, 0, 0, 0, 0, 0, 0, 1, 0, 0, 0, 0, 0, 1, 0, 1, 0, 0, 1, 1, 1, 1,\n",
       "        0, 1, 0, 0, 0, 1, 0, 1, 1, 1, 0, 1, 1, 1, 1, 0, 1, 1, 0, 0, 0, 1,\n",
       "        1, 1, 1, 1, 1, 0, 1, 1, 1, 1, 1, 1, 0, 0, 0, 1, 1, 1, 1, 1],\n",
       "       [1, 0, 0, 1, 0, 1, 0, 1, 0, 1, 1, 1, 0, 0, 1, 0, 0, 1, 1, 1, 0, 1,\n",
       "        1, 1, 0, 0, 1, 0, 0, 0, 1, 1, 1, 1, 1, 0, 0, 0, 1, 1, 0, 0, 1, 1,\n",
       "        1, 0, 1, 1, 1, 1, 1, 0, 0, 1, 1, 1, 0, 0, 1, 0, 1, 0, 0, 1],\n",
       "       [0, 0, 1, 1, 0, 0, 1, 1, 1, 0, 1, 1, 1, 0, 1, 1, 1, 0, 1, 1, 1, 0,\n",
       "        1, 1, 1, 0, 1, 1, 1, 0, 1, 1, 0, 0, 1, 1, 1, 0, 1, 1, 1, 0, 1, 1,\n",
       "        1, 0, 1, 1, 1, 0, 1, 1, 1, 0, 1, 1, 1, 0, 1, 1, 1, 0, 1, 1],\n",
       "       [0, 0, 1, 0, 1, 0, 0, 1, 1, 0, 1, 0, 0, 1, 1, 1, 1, 0, 1, 0, 1, 1,\n",
       "        0, 1, 1, 0, 1, 0, 0, 1, 1, 1, 0, 1, 1, 0, 1, 1, 0, 1, 1, 0, 1, 0,\n",
       "        0, 1, 1, 1, 0, 1, 1, 0, 1, 1, 0, 1, 1, 0, 1, 0, 0, 1, 1, 1],\n",
       "       [0, 1, 0, 0, 1, 0, 1, 1, 0, 0, 0, 0, 0, 1, 0, 1, 1, 1, 0, 0, 1, 1,\n",
       "        1, 0, 0, 1, 1, 0, 0, 0, 0, 1, 0, 1, 0, 1, 1, 1, 1, 1, 1, 1, 1, 1,\n",
       "        0, 0, 1, 1, 1, 1, 0, 1, 1, 1, 1, 1, 1, 0, 1, 1, 0, 1, 0, 1],\n",
       "       [0, 1, 1, 0, 0, 1, 1, 0, 0, 1, 1, 0, 0, 1, 0, 1, 0, 1, 0, 0, 0, 1,\n",
       "        1, 1, 0, 1, 1, 0, 1, 1, 1, 1, 0, 1, 0, 0, 0, 1, 1, 1, 0, 0, 1, 0,\n",
       "        1, 1, 0, 1, 0, 1, 0, 0, 0, 1, 1, 0, 0, 1, 1, 0, 1, 1, 1, 1],\n",
       "       [0, 1, 0, 0, 1, 1, 1, 0, 0, 0, 0, 1, 0, 1, 1, 1, 0, 1, 0, 0, 1, 1,\n",
       "        0, 0, 0, 0, 1, 1, 0, 1, 0, 0, 0, 0, 1, 0, 1, 1, 1, 0, 0, 0, 1, 1,\n",
       "        0, 1, 1, 0, 0, 1, 1, 0, 0, 1, 1, 0, 0, 0, 0, 1, 0, 1, 1, 1],\n",
       "       [0, 1, 1, 1, 0, 0, 0, 1, 0, 1, 0, 1, 1, 0, 0, 1, 0, 0, 1, 1, 0, 1,\n",
       "        0, 1, 0, 1, 0, 1, 1, 1, 0, 1, 0, 1, 1, 1, 0, 0, 0, 1, 0, 1, 0, 1,\n",
       "        1, 0, 0, 1, 0, 0, 1, 1, 0, 0, 0, 1, 0, 1, 1, 1, 1, 1, 0, 1]])"
      ]
     },
     "execution_count": 42,
     "metadata": {},
     "output_type": "execute_result"
    }
   ],
   "source": [
    "samples"
   ]
  },
  {
   "cell_type": "code",
   "execution_count": 41,
   "metadata": {},
   "outputs": [],
   "source": [
    "min_note = 36\n",
    "sustain_code = None\n",
    "for i, sample in enumerate(samples):\n",
    "    NN_output_to_MIDI_file(sample, '{}'.format(i), 'midi/made/groove', M,\n",
    "                           min_note=min_note,\n",
    "                           sustain_code=sustain_code)"
   ]
  },
  {
   "cell_type": "markdown",
   "metadata": {},
   "source": [
    "## Bar Levehnsteign"
   ]
  },
  {
   "cell_type": "code",
   "execution_count": null,
   "metadata": {},
   "outputs": [],
   "source": [
    "import editdistance as ed"
   ]
  },
  {
   "cell_type": "code",
   "execution_count": null,
   "metadata": {},
   "outputs": [],
   "source": [
    "def measure_beat_distances(bassline):\n",
    "    \n",
    "    _bassline = bassline.reshape(-1, 4)\n",
    "    \n",
    "    distances = {}\n",
    "    for i, beat in enumerate(_bassline):\n",
    "        for j in range(i+1, 16):\n",
    "            distances['{}-{}'.format(i,j)] = (ed.eval(beat, _bassline[j,:]))\n",
    "    \n",
    "    return distances\n",
    "            \n",
    "def measure_bar_distances(bassline):\n",
    "    _bassline = bassline.reshape(-1, 16)\n",
    "    \n",
    "    distances = {}\n",
    "    for i, beat in enumerate(_bassline):\n",
    "        for j in range(i+1, 4):\n",
    "\n",
    "            distances['{}-{}'.format(i,j)] = (ed.eval(beat, _bassline[j,:]))   \n",
    "            \n",
    "    return distances\n",
    "\n",
    "def plot_distances(bar_distances, beat_distances):\n",
    "    \n",
    "    fig, ax = plt.subplots(nrows=2, figsize=(20,8), constrained_layout=True)\n",
    "    ax[0].set_title('Bar Distances')\n",
    "    ax[0].bar(bar_distances.keys(),bar_distances.values())\n",
    "    ax[0].tick_params(axis='x', rotation=90)\n",
    "    ax[1].bar(beat_distances.keys(),beat_distances.values())\n",
    "    ax[1].tick_params(axis='x', rotation=90)\n",
    "    ax[1].set_title('Beat Distances')\n",
    "    plt.show()    "
   ]
  },
  {
   "cell_type": "code",
   "execution_count": null,
   "metadata": {},
   "outputs": [],
   "source": [
    "bassline = bassline.reshape(4,4,4)\n",
    "bar_distances = measure_bar_distances(bassline)\n",
    "beat_distances = measure_beat_distances(bassline)"
   ]
  },
  {
   "cell_type": "code",
   "execution_count": null,
   "metadata": {},
   "outputs": [],
   "source": [
    "plot_distances(bar_distances, beat_distances)"
   ]
  },
  {
   "cell_type": "markdown",
   "metadata": {},
   "source": [
    "## On-Off"
   ]
  },
  {
   "cell_type": "code",
   "execution_count": null,
   "metadata": {},
   "outputs": [],
   "source": [
    "def replace_sustain(arr, cont_token):\n",
    "    for r in arr:\n",
    "        for idx, el in enumerate(r[1:]):\n",
    "            if el == cont_token:\n",
    "                r[idx + 1] = r[idx]"
   ]
  },
  {
   "cell_type": "code",
   "execution_count": null,
   "metadata": {},
   "outputs": [],
   "source": [
    "M = 8\n",
    "\n",
    "data_params = {'dataset_path': '/scratch/users/udemir15/ELEC491/bassline_transcription/data/datasets/[28, 51]',\n",
    "               'dataset_name': 'TechHouse_bassline_representations_4020',\n",
    "               'scale_type': 'min',\n",
    "               'M': M}\n",
    "\n",
    "X, titles = load_data(data_params)\n",
    "replace_sustain(X, 25)\n",
    "X[X!=0] = 1\n",
    "\n",
    "K = X.max()+1 # Number of classes, assumes consecutive [0,max] inclusive\n",
    "sequence_length = X.shape[1]\n",
    "\n",
    "print('Number of classes: {}\\nSequence Length: {}'.format(K, sequence_length))\n",
    "print('Number of data points: {}'.format(X.shape[0]))"
   ]
  },
  {
   "cell_type": "code",
   "execution_count": null,
   "metadata": {
    "scrolled": true
   },
   "outputs": [],
   "source": [
    "project_name = 'groove_MADE'\n",
    "\n",
    "train_params = {'batch_size': 16,\n",
    "               'N_epochs': 300,\n",
    "               'lr': 1e-3}\n",
    "\n",
    "params = {'training': train_params, 'hidden_size': [32]*2}\n",
    "\n",
    "train_loader, validation_loader = make_loaders(X, train_params['batch_size'])\n",
    "\n",
    "model = MADE((X.shape[1],), K, params['hidden_size'], one_hot_input=True).cuda()\n",
    "optimizer = torch.optim.Adam(model.parameters(), lr=train_params['lr'])\n",
    "\n",
    "#best_model = main(model, optimizer, device, train_loader, validation_loader, train_params['N_epochs'], True)\n",
    "best_model = main_wandb(model, optimizer, device, train_loader, validation_loader, params, project_name, True)"
   ]
  },
  {
   "cell_type": "code",
   "execution_count": null,
   "metadata": {},
   "outputs": [],
   "source": [
    "N=10\n",
    "\n",
    "sample = best_model.sample(N)\n",
    "\n",
    "sample[sample==1] = 15\n",
    "sample = sample.reshape(N,-1)\n",
    "\n",
    "put_sustain(sample.reshape(N,-1), 100)"
   ]
  },
  {
   "cell_type": "code",
   "execution_count": null,
   "metadata": {
    "scrolled": false
   },
   "outputs": [],
   "source": [
    "out_dir = 'midi/groove_made'\n",
    "os.makedirs(out_dir, exist_ok=True)\n",
    "\n",
    "for idx, s in enumerate(sample):\n",
    "    \n",
    "    NN_output_to_MIDI_file(s, 125, '{}'.format(idx), out_dir, M)\n",
    "    "
   ]
  },
  {
   "cell_type": "code",
   "execution_count": null,
   "metadata": {},
   "outputs": [],
   "source": [
    "print_beat_matrix(sample, M=8)\n",
    "print_transposed_beat_matrix(sample, M=8)"
   ]
  },
  {
   "cell_type": "code",
   "execution_count": null,
   "metadata": {},
   "outputs": [],
   "source": [
    "sample"
   ]
  },
  {
   "cell_type": "code",
   "execution_count": null,
   "metadata": {},
   "outputs": [],
   "source": [
    "bassline = sample[0].reshape(4,4,4)\n",
    "bar_distances = measure_bar_distances(bassline)\n",
    "beat_distances = measure_beat_distances(bassline)"
   ]
  },
  {
   "cell_type": "code",
   "execution_count": null,
   "metadata": {},
   "outputs": [],
   "source": [
    "plot_distances(bar_distances, beat_distances)"
   ]
  },
  {
   "cell_type": "code",
   "execution_count": null,
   "metadata": {},
   "outputs": [],
   "source": [
    "def put_sustain(arr, cont_token):\n",
    "    for r in arr:\n",
    "        for idx in range(len(r))[::-1][:-1]:\n",
    "            if r[idx] == r[idx - 1]:\n",
    "                r[idx] = cont_token"
   ]
  },
  {
   "cell_type": "code",
   "execution_count": null,
   "metadata": {},
   "outputs": [],
   "source": []
  },
  {
   "cell_type": "code",
   "execution_count": null,
   "metadata": {},
   "outputs": [],
   "source": [
    "from torch.utils.data import DataLoader\n",
    "from dataloaders import DataSet\n",
    "\n",
    "def make_loaders(x_train, x_val, batch_size=32):\n",
    "    train_set, validation_set = DataSet(x_train), DataSet(x_val)\n",
    "\n",
    "    train_loader = DataLoader(train_set, batch_size=batch_size, shuffle=False, drop_last=True)\n",
    "    validation_loader = DataLoader(validation_set, batch_size=batch_size, shuffle=True, drop_last=True)\n",
    "    \n",
    "    return train_loader, validation_loader"
   ]
  },
  {
   "cell_type": "code",
   "execution_count": null,
   "metadata": {},
   "outputs": [],
   "source": [
    "from sklearn.model_selection import KFold\n",
    "\n",
    "kfold = KFold(shuffle=True, random_state=42)"
   ]
  },
  {
   "cell_type": "code",
   "execution_count": null,
   "metadata": {
    "scrolled": true
   },
   "outputs": [],
   "source": [
    "import torch.nn.functional as F\n",
    "\n",
    "train_indices, val_indices = [], []\n",
    "train_losses, val_losses = [], []\n",
    "best_models = []\n",
    "\n",
    "for train_index, val_index in kfold.split(X, X):  \n",
    "    train_indices.append(train_index)\n",
    "    val_indices.append(val_index)\n",
    "\n",
    "    x_train_fold = X[train_index]\n",
    "    x_val_fold = X[val_index]\n",
    "    train_params = {'batch_size': 32,\n",
    "                   'N_epochs': 50,\n",
    "                   'lr': 1e-3}\n",
    "\n",
    "    train_loader, validation_loader = make_loaders(x_train_fold, x_val_fold, train_params['batch_size'])\n",
    "    model = MADE((X.shape[1], ), K, hidden_size=[512]*2, one_hot_input=True).cuda()\n",
    "    optimizer = torch.optim.Adam(model.parameters(), lr=train_params['lr'])\n",
    "\n",
    "    best_model = main(model, optimizer, device, train_loader, validation_loader, None, train_params['N_epochs'], True)\n",
    "    best_models.append(best_model)\n",
    "    \n",
    "    cat_cross = nn.CrossEntropyLoss()\n",
    "    train_fold_tensor = torch.tensor(x_train_fold).to(device)\n",
    "    val_fold_tensor = torch.tensor(x_val_fold).to(device)\n",
    "    train_losses.append(F.cross_entropy(best_model(train_fold_tensor), train_fold_tensor, reduction='none'))\n",
    "    val_losses.append(F.cross_entropy(best_model(val_fold_tensor), val_fold_tensor, reduction='none'))"
   ]
  },
  {
   "cell_type": "code",
   "execution_count": null,
   "metadata": {},
   "outputs": [],
   "source": [
    "losses_arr = []\n",
    "\n",
    "for train_index, train_loss, val_index, val_loss in zip(train_indices, train_losses, val_indices, val_losses):\n",
    "    losses_arr.append(val_loss.mean(dim=1).cpu().detach().numpy())\n",
    "\n",
    "losses_arr = np.concatenate(losses_arr)"
   ]
  },
  {
   "cell_type": "code",
   "execution_count": null,
   "metadata": {
    "scrolled": true
   },
   "outputs": [],
   "source": [
    "import matplotlib.pyplot as plt\n",
    "from scipy.stats import gaussian_kde\n",
    "\n",
    "def hist(x, binwidth=1, title='', ax=None, return_fig=False):\n",
    "    #fig = plt.figure(figsize=(30, 12))\n",
    "    lspace = np.arange(np.min(x), np.max(x) + binwidth, binwidth)\n",
    "    if ax is None:\n",
    "        plt.hist(x, bins=lspace, linewidth=1, histtype='bar', ec='black', density=True)\n",
    "        plt.title(title, fontdict={'fontsize':30})\n",
    "        plt.xlabel('Random Variable', fontdict={'fontsize':20})\n",
    "        plt.ylabel('Density', fontdict={'fontsize':20})\n",
    "        plt.xticks(np.arange(np.floor(np.min(x)), np.ceil(np.max(x)), 1), fontsize=20, rotation=0)\n",
    "        plt.yticks(fontsize=20)\n",
    "    else:\n",
    "        ax.hist(x, bins=lspace, linewidth=1, histtype='bar', ec='black', density=True)\n",
    "        kde = gaussian_kde(x)\n",
    "        ls = np.linspace(x.min(), x.max(), 1000)\n",
    "        pdf = kde(ls)\n",
    "        ax.plot(ls, pdf)\n",
    "    return fig if return_fig else None\n",
    "\n",
    "hist(losses_arr, binwidth=0.1)"
   ]
  },
  {
   "cell_type": "code",
   "execution_count": null,
   "metadata": {
    "scrolled": false
   },
   "outputs": [],
   "source": [
    "losses_argsorted = losses_arr.argsort()[::-1]\n",
    "\n",
    "losses_sorted_indices = np.concatenate(val_indices)[losses_argsorted]"
   ]
  },
  {
   "cell_type": "code",
   "execution_count": null,
   "metadata": {},
   "outputs": [],
   "source": [
    "songs = np.column_stack((np.array(titles)[losses_sorted_indices], losses_arr[losses_argsorted]))"
   ]
  },
  {
   "cell_type": "code",
   "execution_count": null,
   "metadata": {},
   "outputs": [],
   "source": [
    "songs"
   ]
  },
  {
   "cell_type": "code",
   "execution_count": null,
   "metadata": {},
   "outputs": [],
   "source": [
    "leftover_songs = np.array(titles)[losses_sorted_indices[:-400]]"
   ]
  },
  {
   "cell_type": "code",
   "execution_count": null,
   "metadata": {},
   "outputs": [],
   "source": [
    "leftover_songs = np.insert(leftover_songs[2:], 0, leftover_songs[0])"
   ]
  },
  {
   "cell_type": "code",
   "execution_count": null,
   "metadata": {},
   "outputs": [],
   "source": [
    "leftover_songs = leftover_songs.tolist()"
   ]
  },
  {
   "cell_type": "code",
   "execution_count": null,
   "metadata": {},
   "outputs": [],
   "source": [
    "with open('leftover_tracks.txt', 'w') as f:\n",
    "    f.writelines('\\n'.join(leftover_songs))"
   ]
  },
  {
   "cell_type": "code",
   "execution_count": null,
   "metadata": {},
   "outputs": [],
   "source": [
    "with open('leftover_tracks.txt', 'r') as f:\n",
    "    print(f.readlines())"
   ]
  },
  {
   "cell_type": "code",
   "execution_count": null,
   "metadata": {},
   "outputs": [],
   "source": [
    "removed_tracks = np.array(titles)[losses_sorted_indices[-400:]]\n",
    "removed_tracks = np.insert(removed_tracks, 0, np.array(titles)[losses_sorted_indices[1]])"
   ]
  },
  {
   "cell_type": "code",
   "execution_count": null,
   "metadata": {},
   "outputs": [],
   "source": [
    "removed_tracks = removed_tracks.tolist()"
   ]
  },
  {
   "cell_type": "code",
   "execution_count": null,
   "metadata": {
    "scrolled": true
   },
   "outputs": [],
   "source": [
    "with open('removed_tracks.txt', 'w') as f:\n",
    "    f.writelines('\\n'.join(removed_tracks))"
   ]
  },
  {
   "cell_type": "code",
   "execution_count": null,
   "metadata": {},
   "outputs": [],
   "source": [
    "with open('removed_tracks.txt', 'r') as f:\n",
    "    print(f.readlines())"
   ]
  },
  {
   "cell_type": "code",
   "execution_count": null,
   "metadata": {},
   "outputs": [],
   "source": [
    "idx = -1\n",
    "\n",
    "title = songs[idx,0]\n",
    "\n",
    "inspect_audio_outputs(title, directories)"
   ]
  },
  {
   "cell_type": "code",
   "execution_count": null,
   "metadata": {},
   "outputs": [],
   "source": [
    "song_representation = X[losses_sorted_indices[idx]]\n",
    "\n",
    "print_beat_matrix(song_representation, M=8)\n",
    "print_transposed_beat_matrix(song_representation, M=8)"
   ]
  },
  {
   "cell_type": "code",
   "execution_count": null,
   "metadata": {},
   "outputs": [],
   "source": [
    "from bassline_transcriber.transcription import unpack_repetitions\n",
    "\n",
    "f0_estimate = load_F0_estimate(title, directories)\n",
    "pitch_track = load_pitch_track(title, directories)\n",
    "quantized_pitch_track = load_quantized_pitch_track(title, directories)\n",
    "bassline_midi_number = unpack_repetitions(load_symbolic_representation(title, directories, M=8))\n",
    "F0_related_stem(title, f0_estimate, pitch_track, quantized_pitch_track, bassline_midi_number, M=8)"
   ]
  },
  {
   "cell_type": "code",
   "execution_count": null,
   "metadata": {},
   "outputs": [],
   "source": [
    "indices.append(idx)"
   ]
  },
  {
   "cell_type": "code",
   "execution_count": null,
   "metadata": {},
   "outputs": [],
   "source": [
    "indices"
   ]
  },
  {
   "cell_type": "code",
   "execution_count": null,
   "metadata": {},
   "outputs": [],
   "source": [
    "plt.bar(np.array(titles)[losses_sorted_indices], height=losses_arr[losses_argsorted])"
   ]
  },
  {
   "cell_type": "code",
   "execution_count": null,
   "metadata": {
    "scrolled": true
   },
   "outputs": [],
   "source": [
    "plt.hist(losses_arr[losses_argsorted], np.array(titles)[losses_sorted_indices])"
   ]
  },
  {
   "cell_type": "code",
   "execution_count": null,
   "metadata": {},
   "outputs": [],
   "source": [
    "bassline = model.sample(1)"
   ]
  },
  {
   "cell_type": "code",
   "execution_count": null,
   "metadata": {},
   "outputs": [],
   "source": [
    "print_beat_matrix(bassline, M)"
   ]
  },
  {
   "cell_type": "code",
   "execution_count": null,
   "metadata": {},
   "outputs": [],
   "source": [
    "bassline"
   ]
  },
  {
   "cell_type": "code",
   "execution_count": null,
   "metadata": {},
   "outputs": [],
   "source": [
    "bassline=bassline.reshape(64)"
   ]
  },
  {
   "cell_type": "code",
   "execution_count": null,
   "metadata": {},
   "outputs": [],
   "source": [
    "NN_output_to_MIDI_file(bassline, 125, 'made4', '.', \n",
    "                            8, M, middle_c='C3', tpb=960*16,\n",
    "                            min_note=28, silence_code=0, sustain_code=100, velocity=120)"
   ]
  },
  {
   "cell_type": "code",
   "execution_count": null,
   "metadata": {},
   "outputs": [],
   "source": [
    "X.shape"
   ]
  }
 ],
 "metadata": {
  "kernelspec": {
   "display_name": "Python 3",
   "language": "python",
   "name": "python3"
  },
  "language_info": {
   "codemirror_mode": {
    "name": "ipython",
    "version": 3
   },
   "file_extension": ".py",
   "mimetype": "text/x-python",
   "name": "python",
   "nbconvert_exporter": "python",
   "pygments_lexer": "ipython3",
   "version": "3.7.6"
  }
 },
 "nbformat": 4,
 "nbformat_minor": 5
}
